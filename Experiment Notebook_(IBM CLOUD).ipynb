





<!DOCTYPE html>
<html lang="en" data-color-mode="dark" data-light-theme="light" data-dark-theme="dark">
  <head>
    <meta charset="utf-8">
  <link rel="dns-prefetch" href="https://github.githubassets.com">
  <link rel="dns-prefetch" href="https://avatars.githubusercontent.com">
  <link rel="dns-prefetch" href="https://github-cloud.s3.amazonaws.com">
  <link rel="dns-prefetch" href="https://user-images.githubusercontent.com/">
  <link rel="preconnect" href="https://github.githubassets.com" crossorigin>
  <link rel="preconnect" href="https://avatars.githubusercontent.com">



  <link crossorigin="anonymous" media="all" integrity="sha512-+LlYCzoIINFSwdPG8+vqo6w8TBMZRoJRBASiCU48bzL3w5EvYcA2sb9hCNg0CTnuvvQrruwwAIfQVjZPw2dqGg==" rel="stylesheet" href="https://github.githubassets.com/assets/frameworks-f8b9580b3a0820d152c1d3c6f3ebeaa3.css" />
  
    <link crossorigin="anonymous" media="all" integrity="sha512-33HQeFC86zGNKWxAWytJAe2R+EaDTvW6lZG/7eM494AhegB7xjBuf7ASXrCzicENCz3Yd1p3+UxQf5be03jc6Q==" rel="stylesheet" href="https://github.githubassets.com/assets/behaviors-df71d07850bceb318d296c405b2b4901.css" />
    
    
    
    <link crossorigin="anonymous" media="all" integrity="sha512-doDqRrOy02f6jZKIAIjSWHlWLsmCkEqSmCCFUnsWKN1X8eJv+7HmvxJHtP0hDqe2zEHEq1cAE3ZGoLJQbX9uhw==" rel="stylesheet" href="https://github.githubassets.com/assets/github-7680ea46b3b2d367fa8d92880088d258.css" />

  <script crossorigin="anonymous" defer="defer" integrity="sha512-DHpNa+QkQaUCk1eji+SQGDsKa8B63teT5nbKT3/TQ38T2hEDfT9B9OddmUKcMnQ8GaECHElNcJkpGhIThksyXA==" type="application/javascript" src="https://github.githubassets.com/assets/environment-0c7a4d6b.js"></script>
    <script crossorigin="anonymous" defer="defer" integrity="sha512-TZkPQbHzKQlwW+kxvQa2+1+hzGJL1lEex6ZBgQWxichlceemjfbcbmDI4XwPdks5WtONvehmrLsDlAmHhAjgWg==" type="application/javascript" src="https://github.githubassets.com/assets/chunk-frameworks-4d990f41.js"></script>
    <script crossorigin="anonymous" defer="defer" integrity="sha512-6qMue0GSJQmTYeSKzxvH19z+4Z+HIpnHlIO8yLGUj5OqGN46W5tyuSikpQS19hD3D5AgfDctei8dAx0J1AfkEA==" type="application/javascript" src="https://github.githubassets.com/assets/chunk-vendor-eaa32e7b.js"></script>
  
  <script crossorigin="anonymous" defer="defer" integrity="sha512-BIaUJSd57TZ0RWFESjXi0urCUir4mUd2ceJjyJq2pKVVbTUSRi4AKR/s/o8+5KNxKOxzf9Q2k0oBncHbWl9wFw==" type="application/javascript" src="https://github.githubassets.com/assets/behaviors-04869425.js"></script>
  
    <script crossorigin="anonymous" defer="defer" integrity="sha512-v+hxrr/7LrDH9DTy8tzqdDqKoXOnyWGr12dO4VTOYorMfADgcOjIRDVoy0RyTsLIj5gKzBTOpiFDwkze7/n8Iw==" type="application/javascript" data-module-id="./chunk-access-groups.js" data-src="https://github.githubassets.com/assets/chunk-access-groups-bfe871ae.js"></script>
    <script crossorigin="anonymous" defer="defer" integrity="sha512-BUDbrXZbK9QorUrf0KoEbZAJhTnz+BqMm10bqZCK6w5Hwy7YaORQ4F4DXhLkAVTvaJhNhxxeXgmgJLP0TB7TOw==" type="application/javascript" data-module-id="./chunk-advanced.js" data-src="https://github.githubassets.com/assets/chunk-advanced-0540dbad.js"></script>
    <script crossorigin="anonymous" defer="defer" integrity="sha512-5tWKSr7mhAzSh4Sx5YRFgKftdGxKwHKnOGYw5DlxjHhkQVURYFU3Bk5IMOGMKuAiJTlC3OXYM3xzGcyjzuEFQQ==" type="application/javascript" data-module-id="./chunk-animate-on-scroll.js" data-src="https://github.githubassets.com/assets/chunk-animate-on-scroll-e6d58a4a.js"></script>
    <script crossorigin="anonymous" defer="defer" integrity="sha512-0MZorw3oXnKy5eeSwQ9xGrKU4hxQeCXxmyxhneIHNhDIqu8vWh8mHss9FlC75Xd/bPWxFDCvdOo57tnTR46nbA==" type="application/javascript" data-module-id="./chunk-codemirror.js" data-src="https://github.githubassets.com/assets/chunk-codemirror-d0c668af.js"></script>
    <script crossorigin="anonymous" defer="defer" integrity="sha512-M6W/sGLOuJXCIkw+doDl6zl7J9q2DmqdwftQCtyEiZM/UJNGRVQdyKwI/PAMxD12se/wCx3ZcyJs9nz0o0OSVw==" type="application/javascript" data-module-id="./chunk-color-modes.js" data-src="https://github.githubassets.com/assets/chunk-color-modes-33a5bfb0.js"></script>
    <script crossorigin="anonymous" defer="defer" integrity="sha512-71HZu1T5JWqRNF9wrm2NXZAqYVvzxZ8Dvor5U5l/LuEBbGCBX57Sny60Rj+qUZZAvEBGFlNsz179DEn2HFwgVA==" type="application/javascript" data-module-id="./chunk-confetti.js" data-src="https://github.githubassets.com/assets/chunk-confetti-ef51d9bb.js"></script>
    <script crossorigin="anonymous" defer="defer" integrity="sha512-P29U0lNmhUj353VrCWp6czdhNpMtF70xVKf4GBGFVKCoqGtxp0sywAM8/46+iC0kdFiRvM13EBvDnq6oyWRwiw==" type="application/javascript" data-module-id="./chunk-contributions-spider-graph.js" data-src="https://github.githubassets.com/assets/chunk-contributions-spider-graph-3f6f54d2.js"></script>
    <script crossorigin="anonymous" defer="defer" integrity="sha512-arflMFcVzVAYaP2n7m7gklPChWsVsCDtRPav2Cb6bqLeJf8pgbojWJ3EseKXILCIqfxl/v6arBduZ9SLmpMEZw==" type="application/javascript" data-module-id="./chunk-delayed-loading-element.js" data-src="https://github.githubassets.com/assets/chunk-delayed-loading-element-6ab7e530.js"></script>
    <script crossorigin="anonymous" defer="defer" integrity="sha512-6j/oSF+kbW+yetNPvI684VzAu9pzug6Vj2h+3u1LdCuRhR4jnuiHZfeQKls3nxcT/S3H+oIt7FtigE/aeoj+gg==" type="application/javascript" data-module-id="./chunk-drag-drop.js" data-src="https://github.githubassets.com/assets/chunk-drag-drop-ea3fe848.js"></script>
    <script crossorigin="anonymous" defer="defer" integrity="sha512-VSSd+Yzi2iMS+pibY6hD/WdypxAEdob5F2RMKxuKcAHS2EpFYJPeTXoVxt0NXg03tfj2dka2mEtHS+vjpYSaDw==" type="application/javascript" data-module-id="./chunk-edit-hook-secret-element.js" data-src="https://github.githubassets.com/assets/chunk-edit-hook-secret-element-55249df9.js"></script>
    <script crossorigin="anonymous" defer="defer" integrity="sha512-o98K7rYxxlUmQd7Y9Ckhc0akYwzL4lnMmiukRXrXuQUOuAaM/BuYRddD9a0oTZ052Y70W2Up4qMjeAsHLmRlKQ==" type="application/javascript" data-module-id="./chunk-edit.js" data-src="https://github.githubassets.com/assets/chunk-edit-a3df0aee.js"></script>
    <script crossorigin="anonymous" defer="defer" integrity="sha512-aiqMIGGZGo8AQMjcoImKPMTsZVVRl6htCSY7BpRmpGPG/AF+Wq+P/Oj/dthWQOIk9cCNMPEas7O2zAR6oqn0tA==" type="application/javascript" data-module-id="./chunk-emoji-picker-element.js" data-src="https://github.githubassets.com/assets/chunk-emoji-picker-element-6a2a8c20.js"></script>
    <script crossorigin="anonymous" defer="defer" integrity="sha512-qqRgtYe+VBe9oQvKTYSA9uVb3qCKhEMl3sHdsnP8AbVRfumjSOugTCEN1YLmnniNBMXb77ty2wddblbKSaQE1Q==" type="application/javascript" data-module-id="./chunk-failbot.js" data-src="https://github.githubassets.com/assets/chunk-failbot-aaa460b5.js"></script>
    <script crossorigin="anonymous" defer="defer" integrity="sha512-sy0KBzl3Hruew+orJ1/E4cyuUixtV0uS03SSHpYRzhAepWejugyPs3AwHpQ+Em5HaMfd1MPz/M4+xEaFbQc5gA==" type="application/javascript" data-module-id="./chunk-feature-callout-element.js" data-src="https://github.githubassets.com/assets/chunk-feature-callout-element-b32d0a07.js"></script>
    <script crossorigin="anonymous" defer="defer" integrity="sha512-h8LRqLfdvdK2/kSKj8JYy6jyBdlTywxL4lqwV6OVOd3SCPRgUJ4/r3KHFQZPuYw0G7AWWhJY/IoitYLvAWFe5Q==" type="application/javascript" data-module-id="./chunk-filter-input.js" data-src="https://github.githubassets.com/assets/chunk-filter-input-87c2d1a8.js"></script>
    <script crossorigin="anonymous" defer="defer" integrity="sha512-ZDEs2KxFQg2a+jrEHbGKTNtzB+AQK3msBhv/KXLFiX9sV8vJaa9+9lpIW/kWd9JKtpJ63vTC/wuOJo7QJTbKKg==" type="application/javascript" data-module-id="./chunk-get-repo-element.js" data-src="https://github.githubassets.com/assets/chunk-get-repo-element-64312cd8.js"></script>
    <script crossorigin="anonymous" defer="defer" integrity="sha512-Z1wcyOFQHzyMSPqp5DLKrobr3DN2Q6Dz31cfPtw4b2vPs9PX0PrxyDXHpTbIlcZ9qT1M1BNAypHKKw8Lp6Yx/Q==" type="application/javascript" data-module-id="./chunk-insights-graph.js" data-src="https://github.githubassets.com/assets/chunk-insights-graph-675c1cc8.js"></script>
    <script crossorigin="anonymous" defer="defer" integrity="sha512-hDiTAZNldjiUNPk5eNthz6zUVY57FFqFU+n2D7WRYygzCxbDtwO9ODKDsEXxYb8kAMI7gTC8/QR3dXtHVCVgcA==" type="application/javascript" data-module-id="./chunk-insights-query.js" data-src="https://github.githubassets.com/assets/chunk-insights-query-84389301.js"></script>
    <script crossorigin="anonymous" defer="defer" integrity="sha512-lmosGyye+/xONUQs9SwGN/a9fQvUSiAFk5HrL8eLHjeuOx9DX9TW5ckRKFD+6FM54vutFf/mBmNFW/0R3KJEBw==" type="application/javascript" data-module-id="./chunk-invitations.js" data-src="https://github.githubassets.com/assets/chunk-invitations-966a2c1b.js"></script>
    <script crossorigin="anonymous" defer="defer" integrity="sha512-4MxGQhsDODvZgLbu5arO6CapfnNvZ5fXMsZ47FiklUKRmHq4B3h8uTokSIWAOAxsvCMRrZr0DVZ0i0gm3RAnsg==" type="application/javascript" data-module-id="./chunk-jump-to.js" data-src="https://github.githubassets.com/assets/chunk-jump-to-e0cc4642.js"></script>
    <script crossorigin="anonymous" defer="defer" integrity="sha512-VtdawM/OSsu+d6v25ZY6UcQa/GGLAStSESjsqdEwx+ey88GNYGkQ24o+JFFo4lY+7wLMRf7aCrLxkA5SquBoNQ==" type="application/javascript" data-module-id="./chunk-launch-code-element.js" data-src="https://github.githubassets.com/assets/chunk-launch-code-element-56d75ac0.js"></script>
    <script crossorigin="anonymous" defer="defer" integrity="sha512-RR5Uk+KE9M/CsqLcmgReChS7ZDjm8gxcOnDYWWkMdeTsrpW/xDlJHQEgUfuEC6HJXfyPNcW+oBTHqMnucNYGTQ==" type="application/javascript" data-module-id="./chunk-line-chart.js" data-src="https://github.githubassets.com/assets/chunk-line-chart-451e5493.js"></script>
    <script crossorigin="anonymous" defer="defer" integrity="sha512-RduaLAviB2ygvRK/eX5iwzYO43ie7svrJ0rYJs06x7XqpRl/IK8PPBscBWM9Moo5Z86DK2iRLE2+aR7TJ5Uc2Q==" type="application/javascript" data-module-id="./chunk-metric-selection-element.js" data-src="https://github.githubassets.com/assets/chunk-metric-selection-element-45db9a2c.js"></script>
    <script crossorigin="anonymous" defer="defer" integrity="sha512-7hZ031ngiF36wGsfcoyyCWTqwYxjX+qeTLtCV7CJ+IO+wzkzCm1RoR3WzWczfWmwLNqr+Hu3kQOgkBaGn4ntWQ==" type="application/javascript" data-module-id="./chunk-notification-list-focus.js" data-src="https://github.githubassets.com/assets/chunk-notification-list-focus-ee1674df.js"></script>
    <script crossorigin="anonymous" defer="defer" integrity="sha512-lXms/3FsyhYHq7pNZ+JJS9Yb1BYm7cKqYOa62EMETXJiDT65V6ATRaz0sEsJRijGOhq1jwjzmaVwIis+j1KPUg==" type="application/javascript" data-module-id="./chunk-presence-avatars.js" data-src="https://github.githubassets.com/assets/chunk-presence-avatars-9579acff.js"></script>
    <script crossorigin="anonymous" defer="defer" integrity="sha512-ma0OOy3nj0c1cqBx0BkcmIFsLqcSZ+MIukQxyEFM/OWTzZpG+QMgOoWPAHZz43M6fyjAUG1jH6c/6LPiiKPCyw==" type="application/javascript" data-module-id="./chunk-profile-pins-element.js" data-src="https://github.githubassets.com/assets/chunk-profile-pins-element-99ad0e3b.js"></script>
    <script crossorigin="anonymous" defer="defer" integrity="sha512-hgoSKLTlL8I3IWr/TLONCU+N4kdCtdrHCrrud4NKhgRlLrTw0XUPhqBaDdZUiFSzDQRw/nFQ1kw2VeTm0g9+lA==" type="application/javascript" data-module-id="./chunk-profile.js" data-src="https://github.githubassets.com/assets/chunk-profile-860a1228.js"></script>
    <script crossorigin="anonymous" defer="defer" integrity="sha512-W/CGm7ARGkQrOSmTAUvHx6XJH3sPfyUEY2kRDWT84K5WU9i2fNXvLxdipvaaMTQbR6AjSSxrQOBj6lR1kzgB0Q==" type="application/javascript" data-module-id="./chunk-readme-toc-element.js" data-src="https://github.githubassets.com/assets/chunk-readme-toc-element-5bf0869b.js"></script>
    <script crossorigin="anonymous" defer="defer" integrity="sha512-/Xj0UUoF3jbbyPG8kYIU32SSIcbwjCsMEcrzD8TehuXuB+/GOxxNw9427dwVYGqGkuNvhGi2m5cbSMNZI6BROA==" type="application/javascript" data-module-id="./chunk-ref-selector.js" data-src="https://github.githubassets.com/assets/chunk-ref-selector-fd78f451.js"></script>
    <script crossorigin="anonymous" defer="defer" integrity="sha512-D/MxBjtRPjes6DvnYGi2dEH7AQEnLvSvTODabEkSo+1zP6SSEZpb8oF52kFWERA97t1L19fF/P3bn4pgIsMPuA==" type="application/javascript" data-module-id="./chunk-responsive-underlinenav.js" data-src="https://github.githubassets.com/assets/chunk-responsive-underlinenav-0ff33106.js"></script>
    <script crossorigin="anonymous" defer="defer" integrity="sha512-SWy36S28Js+/YzsvYgmp+IEdC0qtMcBf6sYhXTEcj1aFPCLPOTOnOKqzFiNyH2oNVDd+u5Qi8eqYINSIu28LFQ==" type="application/javascript" data-module-id="./chunk-runner-groups.js" data-src="https://github.githubassets.com/assets/chunk-runner-groups-496cb7e9.js"></script>
    <script crossorigin="anonymous" defer="defer" integrity="sha512-SVdK0K69PnQ4FChdpl650OR+vplYWXqddxNkEGKhQf6tkehqvKkFEg5LQSZgCVKt2tfc9CnWJlmKCwbTTipEjg==" type="application/javascript" data-module-id="./chunk-series-table.js" data-src="https://github.githubassets.com/assets/chunk-series-table-49574ad0.js"></script>
    <script crossorigin="anonymous" defer="defer" integrity="sha512-tk76eoSLUqXSVZ8ANzPprrOImFIV1zQ/VBV+WzG8ZjZpVPH8cLkMH/ur5HJB1lxx9/yo+V2wjDF96t4qfUwZLA==" type="application/javascript" data-module-id="./chunk-severity-calculator-element.js" data-src="https://github.githubassets.com/assets/chunk-severity-calculator-element-b64efa7a.js"></script>
    <script crossorigin="anonymous" defer="defer" integrity="sha512-j7Pb1H+2Xt4YIKSrJLLXxl/NNkkpW//5PLTpu58JGD8pqRPODDjJKqjO6YPZd++BB4VJubHPjzvuMXhW/9jcqA==" type="application/javascript" data-module-id="./chunk-sortable-behavior.js" data-src="https://github.githubassets.com/assets/chunk-sortable-behavior-8fb3dbd4.js"></script>
    <script crossorigin="anonymous" defer="defer" integrity="sha512-nKa3UdA2O7Ve4Jn24gaB20yUfJvS7wlnd8Q8C+iWD8i2tXLgaKemDWkLeexeQdrs+an98FCl5fOiy0J+izn+tQ==" type="application/javascript" data-module-id="./chunk-three.module.js" data-src="https://github.githubassets.com/assets/chunk-three.module-9ca6b751.js"></script>
    <script crossorigin="anonymous" defer="defer" integrity="sha512-WK8VXw3lfUQ/VRW0zlgKPhcMUqH0uTnB/KzePUPdZhCm/HpxfXXHKTGvj5C0Oex7+zbIM2ECzULbtTCT4ug3yg==" type="application/javascript" data-module-id="./chunk-toast.js" data-src="https://github.githubassets.com/assets/chunk-toast-58af155f.js"></script>
    <script crossorigin="anonymous" defer="defer" integrity="sha512-1vSZvwpr106s8wjSNFNFGVmFT2E4YjI2N8k6JqiSb28GGYMkEJUhveotmvB00Z4bQZM61ZgvWcXax1U3M48gLQ==" type="application/javascript" data-module-id="./chunk-tweetsodium.js" data-src="https://github.githubassets.com/assets/chunk-tweetsodium-d6f499bf.js"></script>
    <script crossorigin="anonymous" defer="defer" integrity="sha512-fvcOOYapCxPkDRQWz2WQzrqL6rRhX88yHWF87fb9Xny2Fq4lri0ONaVFL7XDSTiTyu4OTp+8WoyfMVpgGUaaVg==" type="application/javascript" data-module-id="./chunk-unveil.js" data-src="https://github.githubassets.com/assets/chunk-unveil-7ef70e39.js"></script>
    <script crossorigin="anonymous" defer="defer" integrity="sha512-UOFNW/xcxynplVfC8Y3fQdFFiasmugYUUHU4N90G8sqBZGL1yR37yjVakxV8/FV5deBALx9OQMBoiba/3OHGDA==" type="application/javascript" data-module-id="./chunk-user-status-submit.js" data-src="https://github.githubassets.com/assets/chunk-user-status-submit-50e14d5b.js"></script>
    <script crossorigin="anonymous" defer="defer" integrity="sha512-cKu/+X7gT+WVH4sXKt0g3G77bfQfcgwurRObM+dt8XylPm9eEWI+/aWKhVab6VsYuvvuI5BTriKXhXfJwaSXdQ==" type="application/javascript" data-module-id="./chunk-webgl-warp.js" data-src="https://github.githubassets.com/assets/chunk-webgl-warp-70abbff9.js"></script>
  
  <script crossorigin="anonymous" defer="defer" integrity="sha512-Mgtna7Em9zv9+Ci4+hIOnqXPpHy2iqclBJW8n9zQc+0kPlO3H3frshrkxCCYvBDkrTdrhmjZ7tm6aiTSdqffzw==" type="application/javascript" src="https://github.githubassets.com/assets/diffs-320b676b.js"></script>

  <meta name="viewport" content="width=device-width">
  
  <title>Add files via upload · smartinternz02/SI-GuidedProject-4420-1626416812@3f3aa00</title>
    <meta name="description" content="Contribute to smartinternz02/SI-GuidedProject-4420-1626416812 development by creating an account on GitHub.">
    <link rel="search" type="application/opensearchdescription+xml" href="/opensearch.xml" title="GitHub">
  <link rel="fluid-icon" href="https://github.com/fluidicon.png" title="GitHub">
  <meta property="fb:app_id" content="1401488693436528">
  <meta name="apple-itunes-app" content="app-id=1477376905" />
    <meta name="twitter:image:src" content="https://opengraph.githubassets.com/310c7f6b6e96443e4418549b6cdb5569343e9247c04099e7ee9cafe261da4bf1/smartinternz02/SI-GuidedProject-4420-1626416812/commit/3f3aa00e1cb7c24d92154106977a766106c2adc7" /><meta name="twitter:site" content="@github" /><meta name="twitter:card" content="summary_large_image" /><meta name="twitter:title" content="Add files via upload · smartinternz02/SI-GuidedProject-4420-1626416812@3f3aa00" /><meta name="twitter:description" content="" />
    <meta property="og:image" content="https://opengraph.githubassets.com/310c7f6b6e96443e4418549b6cdb5569343e9247c04099e7ee9cafe261da4bf1/smartinternz02/SI-GuidedProject-4420-1626416812/commit/3f3aa00e1cb7c24d92154106977a766106c2adc7" /><meta property="og:image:width" content="1200" /><meta property="og:image:height" content="600" /><meta property="og:site_name" content="GitHub" /><meta property="og:type" content="object" /><meta property="og:title" content="Add files via upload · smartinternz02/SI-GuidedProject-4420-1626416812@3f3aa00" /><meta property="og:url" content="/smartinternz02/SI-GuidedProject-4420-1626416812/commit/3f3aa00e1cb7c24d92154106977a766106c2adc7" /><meta property="og:updated_time" content="1628867482" />



    

  <link rel="assets" href="https://github.githubassets.com/">
    <link rel="shared-web-socket" href="wss://alive.github.com/_sockets/u/75787429/ws?session=eyJ2IjoiVjMiLCJ1Ijo3NTc4NzQyOSwicyI6NzMzMjE3NTYyLCJjIjo5ODYzMjAwNTIsInQiOjE2MjkyOTkzMzJ9--338ae4da5fb6cc28652b45133e43ee8c66b9d5d643759d1854a0ef2188ada7aa" data-refresh-url="/_alive" data-session-id="9f080a985fc215889ad34420267557a402c642f6864b99a2cccbe5707add72ac">
    <link rel="shared-web-socket-src" href="/socket-worker-3f088aa2.js">
  <link rel="sudo-modal" href="/sessions/sudo_modal">

  <meta name="request-id" content="DC94:019F:41F66:47DA1:611D2217" data-pjax-transient="true" /><meta name="html-safe-nonce" content="1cda301a225c66634ce48c7d2bd417dc7d5a79dfc2daa5a9dca04ec8bc4bedf0" data-pjax-transient="true" /><meta name="visitor-payload" content="eyJyZWZlcnJlciI6Imh0dHBzOi8vZ2l0aHViLmNvbS9zbWFydGludGVybnowMi9TSS1HdWlkZWRQcm9qZWN0LTQ0MjAtMTYyNjQxNjgxMiIsInJlcXVlc3RfaWQiOiJEQzk0OjAxOUY6NDFGNjY6NDdEQTE6NjExRDIyMTciLCJ2aXNpdG9yX2lkIjoiODgwMzk0NDgwODE2NDczNjgwNCIsInJlZ2lvbl9lZGdlIjoiYXAtc291dGgtMSIsInJlZ2lvbl9yZW5kZXIiOiJpYWQifQ==" data-pjax-transient="true" /><meta name="visitor-hmac" content="c1e6b337aca9c0311d2048dac06d57284b79bf35737e13bf9cf4cff7be6cfe7e" data-pjax-transient="true" />

    <meta name="hovercard-subject-tag" content="repository:386533370" data-pjax-transient>


  <meta name="github-keyboard-shortcuts" content="repository,commits" data-pjax-transient="true" />

  

  <meta name="selected-link" value="repo_commits" data-pjax-transient>

    <meta name="google-site-verification" content="c1kuD-K2HIVF635lypcsWPoD4kilo5-jA_wBFyT4uMY">
  <meta name="google-site-verification" content="KT5gs8h0wvaagLKAVWq8bbeNwnZZK1r1XQysX3xurLU">
  <meta name="google-site-verification" content="ZzhVyEFwb7w3e0-uOTltm8Jsck2F5StVihD0exw2fsA">
  <meta name="google-site-verification" content="GXs5KoUUkNCoaAZn7wPN-t01Pywp9M3sEjnt_3_ZWPc">

  <meta name="octolytics-host" content="collector.githubapp.com" /><meta name="octolytics-app-id" content="github" /><meta name="octolytics-event-url" content="https://collector.githubapp.com/github-external/browser_event" /><meta name="octolytics-actor-id" content="75787429" /><meta name="octolytics-actor-login" content="KRP000921" /><meta name="octolytics-actor-hash" content="c5f397f108ec347c05a0c7862677c755d3d258f712da638020cc46598615e6d0" />

  <meta name="analytics-location" content="/&lt;user-name&gt;/&lt;repo-name&gt;/commit/show" data-pjax-transient="true" />

  






  

      <meta name="hostname" content="github.com">
    <meta name="user-login" content="KRP000921">


      <meta name="expected-hostname" content="github.com">

      <meta name="js-proxy-site-detection-payload" content="ODU0NDUwNWJlOTlkM2YxYmFmOWRhMTIwZTIwYzJiMDZmYjljMjRlYjc1ZjM1YTA2MTE1ZTM0ZmIxMzliODdmOHx7InJlbW90ZV9hZGRyZXNzIjoiMTc1LjEwMS4xMzAuMjEwIiwicmVxdWVzdF9pZCI6IkRDOTQ6MDE5Rjo0MUY2Njo0N0RBMTo2MTFEMjIxNyIsInRpbWVzdGFtcCI6MTYyOTI5OTMzMiwiaG9zdCI6ImdpdGh1Yi5jb20ifQ==">

    <meta name="enabled-features" content="MARKETPLACE_PENDING_INSTALLATIONS,GITHUB_TOKEN_PERMISSION">

  <meta http-equiv="x-pjax-version" content="186eafad2120a506e14d2a4e98f4f655744a919fc7cb5a0fc99d3d81e36c8395">
  

      <link href="/smartinternz02/SI-GuidedProject-4420-1626416812/commit/3f3aa00e1cb7c24d92154106977a766106c2adc7.diff" rel="alternate" type="text/plain+diff" data-pjax-transient="true" />
  <link href="/smartinternz02/SI-GuidedProject-4420-1626416812/commit/3f3aa00e1cb7c24d92154106977a766106c2adc7.patch" rel="alternate" type="text/plain+patch" data-pjax-transient="true" />

  <meta name="diff-view" content="unified" data-pjax-transient>

  <meta name="go-import" content="github.com/smartinternz02/SI-GuidedProject-4420-1626416812 git https://github.com/smartinternz02/SI-GuidedProject-4420-1626416812.git">

  <meta name="octolytics-dimension-user_id" content="71809156" /><meta name="octolytics-dimension-user_login" content="smartinternz02" /><meta name="octolytics-dimension-repository_id" content="386533370" /><meta name="octolytics-dimension-repository_nwo" content="smartinternz02/SI-GuidedProject-4420-1626416812" /><meta name="octolytics-dimension-repository_public" content="true" /><meta name="octolytics-dimension-repository_is_fork" content="false" /><meta name="octolytics-dimension-repository_network_root_id" content="386533370" /><meta name="octolytics-dimension-repository_network_root_nwo" content="smartinternz02/SI-GuidedProject-4420-1626416812" />





  <meta name="browser-stats-url" content="https://api.github.com/_private/browser/stats">

  <meta name="browser-errors-url" content="https://api.github.com/_private/browser/errors">

  <meta name="browser-optimizely-client-errors-url" content="https://api.github.com/_private/browser/optimizely_client/errors">

  <link rel="mask-icon" href="https://github.githubassets.com/pinned-octocat.svg" color="#000000">
  <link rel="alternate icon" class="js-site-favicon" type="image/png" href="https://github.githubassets.com/favicons/favicon.png">
  <link rel="icon" class="js-site-favicon" type="image/svg+xml" href="https://github.githubassets.com/favicons/favicon.svg">

<meta name="theme-color" content="#1e2327">
<meta name="color-scheme" content="dark light" />


  <link rel="manifest" href="/manifest.json" crossOrigin="use-credentials">

<meta name="enabled-homepage-translation-languages" content="">

  </head>

  <body class="logged-in env-production page-responsive" style="word-wrap: break-word;">
    

    <div class="position-relative js-header-wrapper ">
      <a href="#start-of-content" class="p-3 color-bg-info-inverse color-text-white show-on-focus js-skip-to-content">Skip to content</a>
      <span data-view-component="true" class="progress-pjax-loader js-pjax-loader-bar Progress position-fixed width-full">
    <span style="background-color: #79b8ff;width: 0%;" data-view-component="true" class="Progress-item progress-pjax-loader-bar"></span>
</span>      
      


        
            <header class="Header js-details-container Details px-3 px-md-4 px-lg-5 flex-wrap flex-md-nowrap" role="banner" >
    <div class="Header-item mt-n1 mb-n1  d-none d-md-flex">
      <a
  class="Header-link "
  href="https://github.com/"
  data-hotkey="g d"
  aria-label="Homepage "
  data-hydro-click="{&quot;event_type&quot;:&quot;analytics.event&quot;,&quot;payload&quot;:{&quot;category&quot;:&quot;Header&quot;,&quot;action&quot;:&quot;go to dashboard&quot;,&quot;label&quot;:&quot;icon:logo&quot;,&quot;originating_url&quot;:&quot;https://github.com/smartinternz02/SI-GuidedProject-4420-1626416812/commit/3f3aa00e1cb7c24d92154106977a766106c2adc7&quot;,&quot;user_id&quot;:75787429}}" data-hydro-click-hmac="dc03c3491fa7cc9b19e4b20dcc7e78e6dbdfbcf412792da67152f8aec3f7ac83"
>
  <svg height="32" aria-hidden="true" viewBox="0 0 16 16" version="1.1" width="32" data-view-component="true" class="octicon octicon-mark-github v-align-middle">
    <path fill-rule="evenodd" d="M8 0C3.58 0 0 3.58 0 8c0 3.54 2.29 6.53 5.47 7.59.4.07.55-.17.55-.38 0-.19-.01-.82-.01-1.49-2.01.37-2.53-.49-2.69-.94-.09-.23-.48-.94-.82-1.13-.28-.15-.68-.52-.01-.53.63-.01 1.08.58 1.23.82.72 1.21 1.87.87 2.33.66.07-.52.28-.87.51-1.07-1.78-.2-3.64-.89-3.64-3.95 0-.87.31-1.59.82-2.15-.08-.2-.36-1.02.08-2.12 0 0 .67-.21 2.2.82.64-.18 1.32-.27 2-.27.68 0 1.36.09 2 .27 1.53-1.04 2.2-.82 2.2-.82.44 1.1.16 1.92.08 2.12.51.56.82 1.27.82 2.15 0 3.07-1.87 3.75-3.65 3.95.29.25.54.73.54 1.48 0 1.07-.01 1.93-.01 2.2 0 .21.15.46.55.38A8.013 8.013 0 0016 8c0-4.42-3.58-8-8-8z"></path>
</svg>
</a>

    </div>

    <div class="Header-item d-md-none">
      <button class="Header-link btn-link js-details-target" type="button" aria-label="Toggle navigation" aria-expanded="false">
        <svg aria-hidden="true" height="24" viewBox="0 0 16 16" version="1.1" width="24" data-view-component="true" class="octicon octicon-three-bars">
    <path fill-rule="evenodd" d="M1 2.75A.75.75 0 011.75 2h12.5a.75.75 0 110 1.5H1.75A.75.75 0 011 2.75zm0 5A.75.75 0 011.75 7h12.5a.75.75 0 110 1.5H1.75A.75.75 0 011 7.75zM1.75 12a.75.75 0 100 1.5h12.5a.75.75 0 100-1.5H1.75z"></path>
</svg>
      </button>
    </div>

    <div class="Header-item Header-item--full flex-column flex-md-row width-full flex-order-2 flex-md-order-none mr-0 mr-md-3 mt-3 mt-md-0 Details-content--hidden-not-important d-md-flex">
          



<div class="header-search flex-auto js-site-search position-relative flex-self-stretch flex-md-self-auto mb-3 mb-md-0 mr-0 mr-md-3 scoped-search site-scoped-search js-jump-to"
>
  <div class="position-relative">
    <!-- '"` --><!-- </textarea></xmp> --></option></form><form class="js-site-search-form" role="search" aria-label="Site" data-scope-type="Repository" data-scope-id="386533370" data-scoped-search-url="/smartinternz02/SI-GuidedProject-4420-1626416812/search" data-owner-scoped-search-url="/users/smartinternz02/search" data-unscoped-search-url="/search" action="/smartinternz02/SI-GuidedProject-4420-1626416812/search" accept-charset="UTF-8" method="get">
      <label class="form-control input-sm header-search-wrapper p-0 js-chromeless-input-container header-search-wrapper-jump-to position-relative d-flex flex-justify-between flex-items-center">
        <input type="text"
          class="form-control input-sm header-search-input jump-to-field js-jump-to-field js-site-search-focus js-site-search-field is-clearable"
          data-hotkey=s,/
          name="q"
          data-test-selector="nav-search-input"
          placeholder="Search or jump to…"
          data-unscoped-placeholder="Search or jump to…"
          data-scoped-placeholder="Search or jump to…"
          autocapitalize="off"
          role="combobox"
          aria-haspopup="listbox"
          aria-expanded="false"
          aria-autocomplete="list"
          aria-controls="jump-to-results"
          aria-label="Search or jump to…"
          data-jump-to-suggestions-path="/_graphql/GetSuggestedNavigationDestinations"
          spellcheck="false"
          autocomplete="off"
        >
        <input type="hidden" value="0YAF8dcCjXWL4RdjhX7uETdPFhNtrsS/l5P8JPHNezQhBbNPip3mE+Z1WCoWHVdgfB7KOpSabFhonaLk9IUm7Q==" data-csrf="true" class="js-data-jump-to-suggestions-path-csrf" />
        <input type="hidden" class="js-site-search-type-field" name="type" >
            <svg xmlns="http://www.w3.org/2000/svg" width="22" height="20" class="mr-1 header-search-key-slash"><path fill="none" stroke="#979A9C" opacity=".4" d="M3.5.5h12c1.7 0 3 1.3 3 3v13c0 1.7-1.3 3-3 3h-12c-1.7 0-3-1.3-3-3v-13c0-1.7 1.3-3 3-3z"></path><path fill="#979A9C" d="M11.8 6L8 15.1h-.9L10.8 6h1z"></path></svg>


          <div class="Box position-absolute overflow-hidden d-none jump-to-suggestions js-jump-to-suggestions-container">
            
<ul class="d-none js-jump-to-suggestions-template-container">
  

<li class="d-flex flex-justify-start flex-items-center p-0 f5 navigation-item js-navigation-item js-jump-to-suggestion" role="option">
  <a tabindex="-1" class="no-underline d-flex flex-auto flex-items-center jump-to-suggestions-path js-jump-to-suggestion-path js-navigation-open p-2" href="" data-item-type="suggestion">
    <div class="jump-to-octicon js-jump-to-octicon flex-shrink-0 mr-2 text-center d-none">
      <svg height="16" width="16" class="octicon octicon-repo flex-shrink-0 js-jump-to-octicon-repo d-none" title="Repository" aria-label="Repository" viewBox="0 0 16 16" version="1.1" role="img"><path fill-rule="evenodd" d="M2 2.5A2.5 2.5 0 014.5 0h8.75a.75.75 0 01.75.75v12.5a.75.75 0 01-.75.75h-2.5a.75.75 0 110-1.5h1.75v-2h-8a1 1 0 00-.714 1.7.75.75 0 01-1.072 1.05A2.495 2.495 0 012 11.5v-9zm10.5-1V9h-8c-.356 0-.694.074-1 .208V2.5a1 1 0 011-1h8zM5 12.25v3.25a.25.25 0 00.4.2l1.45-1.087a.25.25 0 01.3 0L8.6 15.7a.25.25 0 00.4-.2v-3.25a.25.25 0 00-.25-.25h-3.5a.25.25 0 00-.25.25z"></path></svg>
      <svg height="16" width="16" class="octicon octicon-project flex-shrink-0 js-jump-to-octicon-project d-none" title="Project" aria-label="Project" viewBox="0 0 16 16" version="1.1" role="img"><path fill-rule="evenodd" d="M1.75 0A1.75 1.75 0 000 1.75v12.5C0 15.216.784 16 1.75 16h12.5A1.75 1.75 0 0016 14.25V1.75A1.75 1.75 0 0014.25 0H1.75zM1.5 1.75a.25.25 0 01.25-.25h12.5a.25.25 0 01.25.25v12.5a.25.25 0 01-.25.25H1.75a.25.25 0 01-.25-.25V1.75zM11.75 3a.75.75 0 00-.75.75v7.5a.75.75 0 001.5 0v-7.5a.75.75 0 00-.75-.75zm-8.25.75a.75.75 0 011.5 0v5.5a.75.75 0 01-1.5 0v-5.5zM8 3a.75.75 0 00-.75.75v3.5a.75.75 0 001.5 0v-3.5A.75.75 0 008 3z"></path></svg>
      <svg height="16" width="16" class="octicon octicon-search flex-shrink-0 js-jump-to-octicon-search d-none" title="Search" aria-label="Search" viewBox="0 0 16 16" version="1.1" role="img"><path fill-rule="evenodd" d="M11.5 7a4.499 4.499 0 11-8.998 0A4.499 4.499 0 0111.5 7zm-.82 4.74a6 6 0 111.06-1.06l3.04 3.04a.75.75 0 11-1.06 1.06l-3.04-3.04z"></path></svg>
    </div>

    <img class="avatar mr-2 flex-shrink-0 js-jump-to-suggestion-avatar d-none" alt="" aria-label="Team" src="" width="28" height="28">

    <div class="jump-to-suggestion-name js-jump-to-suggestion-name flex-auto overflow-hidden text-left no-wrap css-truncate css-truncate-target">
    </div>

    <div class="border rounded-1 flex-shrink-0 color-bg-tertiary px-1 color-text-tertiary ml-1 f6 d-none js-jump-to-badge-search">
      <span class="js-jump-to-badge-search-text-default d-none" aria-label="in this repository">
        In this repository
      </span>
      <span class="js-jump-to-badge-search-text-global d-none" aria-label="in all of GitHub">
        All GitHub
      </span>
      <span aria-hidden="true" class="d-inline-block ml-1 v-align-middle">↵</span>
    </div>

    <div aria-hidden="true" class="border rounded-1 flex-shrink-0 color-bg-tertiary px-1 color-text-tertiary ml-1 f6 d-none d-on-nav-focus js-jump-to-badge-jump">
      Jump to
      <span class="d-inline-block ml-1 v-align-middle">↵</span>
    </div>
  </a>
</li>

</ul>

<ul class="d-none js-jump-to-no-results-template-container">
  <li class="d-flex flex-justify-center flex-items-center f5 d-none js-jump-to-suggestion p-2">
    <span class="color-text-secondary">No suggested jump to results</span>
  </li>
</ul>

<ul id="jump-to-results" role="listbox" class="p-0 m-0 js-navigation-container jump-to-suggestions-results-container js-jump-to-suggestions-results-container">
  

<li class="d-flex flex-justify-start flex-items-center p-0 f5 navigation-item js-navigation-item js-jump-to-scoped-search d-none" role="option">
  <a tabindex="-1" class="no-underline d-flex flex-auto flex-items-center jump-to-suggestions-path js-jump-to-suggestion-path js-navigation-open p-2" href="" data-item-type="scoped_search">
    <div class="jump-to-octicon js-jump-to-octicon flex-shrink-0 mr-2 text-center d-none">
      <svg height="16" width="16" class="octicon octicon-repo flex-shrink-0 js-jump-to-octicon-repo d-none" title="Repository" aria-label="Repository" viewBox="0 0 16 16" version="1.1" role="img"><path fill-rule="evenodd" d="M2 2.5A2.5 2.5 0 014.5 0h8.75a.75.75 0 01.75.75v12.5a.75.75 0 01-.75.75h-2.5a.75.75 0 110-1.5h1.75v-2h-8a1 1 0 00-.714 1.7.75.75 0 01-1.072 1.05A2.495 2.495 0 012 11.5v-9zm10.5-1V9h-8c-.356 0-.694.074-1 .208V2.5a1 1 0 011-1h8zM5 12.25v3.25a.25.25 0 00.4.2l1.45-1.087a.25.25 0 01.3 0L8.6 15.7a.25.25 0 00.4-.2v-3.25a.25.25 0 00-.25-.25h-3.5a.25.25 0 00-.25.25z"></path></svg>
      <svg height="16" width="16" class="octicon octicon-project flex-shrink-0 js-jump-to-octicon-project d-none" title="Project" aria-label="Project" viewBox="0 0 16 16" version="1.1" role="img"><path fill-rule="evenodd" d="M1.75 0A1.75 1.75 0 000 1.75v12.5C0 15.216.784 16 1.75 16h12.5A1.75 1.75 0 0016 14.25V1.75A1.75 1.75 0 0014.25 0H1.75zM1.5 1.75a.25.25 0 01.25-.25h12.5a.25.25 0 01.25.25v12.5a.25.25 0 01-.25.25H1.75a.25.25 0 01-.25-.25V1.75zM11.75 3a.75.75 0 00-.75.75v7.5a.75.75 0 001.5 0v-7.5a.75.75 0 00-.75-.75zm-8.25.75a.75.75 0 011.5 0v5.5a.75.75 0 01-1.5 0v-5.5zM8 3a.75.75 0 00-.75.75v3.5a.75.75 0 001.5 0v-3.5A.75.75 0 008 3z"></path></svg>
      <svg height="16" width="16" class="octicon octicon-search flex-shrink-0 js-jump-to-octicon-search d-none" title="Search" aria-label="Search" viewBox="0 0 16 16" version="1.1" role="img"><path fill-rule="evenodd" d="M11.5 7a4.499 4.499 0 11-8.998 0A4.499 4.499 0 0111.5 7zm-.82 4.74a6 6 0 111.06-1.06l3.04 3.04a.75.75 0 11-1.06 1.06l-3.04-3.04z"></path></svg>
    </div>

    <img class="avatar mr-2 flex-shrink-0 js-jump-to-suggestion-avatar d-none" alt="" aria-label="Team" src="" width="28" height="28">

    <div class="jump-to-suggestion-name js-jump-to-suggestion-name flex-auto overflow-hidden text-left no-wrap css-truncate css-truncate-target">
    </div>

    <div class="border rounded-1 flex-shrink-0 color-bg-tertiary px-1 color-text-tertiary ml-1 f6 d-none js-jump-to-badge-search">
      <span class="js-jump-to-badge-search-text-default d-none" aria-label="in this repository">
        In this repository
      </span>
      <span class="js-jump-to-badge-search-text-global d-none" aria-label="in all of GitHub">
        All GitHub
      </span>
      <span aria-hidden="true" class="d-inline-block ml-1 v-align-middle">↵</span>
    </div>

    <div aria-hidden="true" class="border rounded-1 flex-shrink-0 color-bg-tertiary px-1 color-text-tertiary ml-1 f6 d-none d-on-nav-focus js-jump-to-badge-jump">
      Jump to
      <span class="d-inline-block ml-1 v-align-middle">↵</span>
    </div>
  </a>
</li>

  

<li class="d-flex flex-justify-start flex-items-center p-0 f5 navigation-item js-navigation-item js-jump-to-owner-scoped-search d-none" role="option">
  <a tabindex="-1" class="no-underline d-flex flex-auto flex-items-center jump-to-suggestions-path js-jump-to-suggestion-path js-navigation-open p-2" href="" data-item-type="owner_scoped_search">
    <div class="jump-to-octicon js-jump-to-octicon flex-shrink-0 mr-2 text-center d-none">
      <svg height="16" width="16" class="octicon octicon-repo flex-shrink-0 js-jump-to-octicon-repo d-none" title="Repository" aria-label="Repository" viewBox="0 0 16 16" version="1.1" role="img"><path fill-rule="evenodd" d="M2 2.5A2.5 2.5 0 014.5 0h8.75a.75.75 0 01.75.75v12.5a.75.75 0 01-.75.75h-2.5a.75.75 0 110-1.5h1.75v-2h-8a1 1 0 00-.714 1.7.75.75 0 01-1.072 1.05A2.495 2.495 0 012 11.5v-9zm10.5-1V9h-8c-.356 0-.694.074-1 .208V2.5a1 1 0 011-1h8zM5 12.25v3.25a.25.25 0 00.4.2l1.45-1.087a.25.25 0 01.3 0L8.6 15.7a.25.25 0 00.4-.2v-3.25a.25.25 0 00-.25-.25h-3.5a.25.25 0 00-.25.25z"></path></svg>
      <svg height="16" width="16" class="octicon octicon-project flex-shrink-0 js-jump-to-octicon-project d-none" title="Project" aria-label="Project" viewBox="0 0 16 16" version="1.1" role="img"><path fill-rule="evenodd" d="M1.75 0A1.75 1.75 0 000 1.75v12.5C0 15.216.784 16 1.75 16h12.5A1.75 1.75 0 0016 14.25V1.75A1.75 1.75 0 0014.25 0H1.75zM1.5 1.75a.25.25 0 01.25-.25h12.5a.25.25 0 01.25.25v12.5a.25.25 0 01-.25.25H1.75a.25.25 0 01-.25-.25V1.75zM11.75 3a.75.75 0 00-.75.75v7.5a.75.75 0 001.5 0v-7.5a.75.75 0 00-.75-.75zm-8.25.75a.75.75 0 011.5 0v5.5a.75.75 0 01-1.5 0v-5.5zM8 3a.75.75 0 00-.75.75v3.5a.75.75 0 001.5 0v-3.5A.75.75 0 008 3z"></path></svg>
      <svg height="16" width="16" class="octicon octicon-search flex-shrink-0 js-jump-to-octicon-search d-none" title="Search" aria-label="Search" viewBox="0 0 16 16" version="1.1" role="img"><path fill-rule="evenodd" d="M11.5 7a4.499 4.499 0 11-8.998 0A4.499 4.499 0 0111.5 7zm-.82 4.74a6 6 0 111.06-1.06l3.04 3.04a.75.75 0 11-1.06 1.06l-3.04-3.04z"></path></svg>
    </div>

    <img class="avatar mr-2 flex-shrink-0 js-jump-to-suggestion-avatar d-none" alt="" aria-label="Team" src="" width="28" height="28">

    <div class="jump-to-suggestion-name js-jump-to-suggestion-name flex-auto overflow-hidden text-left no-wrap css-truncate css-truncate-target">
    </div>

    <div class="border rounded-1 flex-shrink-0 color-bg-tertiary px-1 color-text-tertiary ml-1 f6 d-none js-jump-to-badge-search">
      <span class="js-jump-to-badge-search-text-default d-none" aria-label="in this user">
        In this user
      </span>
      <span class="js-jump-to-badge-search-text-global d-none" aria-label="in all of GitHub">
        All GitHub
      </span>
      <span aria-hidden="true" class="d-inline-block ml-1 v-align-middle">↵</span>
    </div>

    <div aria-hidden="true" class="border rounded-1 flex-shrink-0 color-bg-tertiary px-1 color-text-tertiary ml-1 f6 d-none d-on-nav-focus js-jump-to-badge-jump">
      Jump to
      <span class="d-inline-block ml-1 v-align-middle">↵</span>
    </div>
  </a>
</li>

  

<li class="d-flex flex-justify-start flex-items-center p-0 f5 navigation-item js-navigation-item js-jump-to-global-search d-none" role="option">
  <a tabindex="-1" class="no-underline d-flex flex-auto flex-items-center jump-to-suggestions-path js-jump-to-suggestion-path js-navigation-open p-2" href="" data-item-type="global_search">
    <div class="jump-to-octicon js-jump-to-octicon flex-shrink-0 mr-2 text-center d-none">
      <svg height="16" width="16" class="octicon octicon-repo flex-shrink-0 js-jump-to-octicon-repo d-none" title="Repository" aria-label="Repository" viewBox="0 0 16 16" version="1.1" role="img"><path fill-rule="evenodd" d="M2 2.5A2.5 2.5 0 014.5 0h8.75a.75.75 0 01.75.75v12.5a.75.75 0 01-.75.75h-2.5a.75.75 0 110-1.5h1.75v-2h-8a1 1 0 00-.714 1.7.75.75 0 01-1.072 1.05A2.495 2.495 0 012 11.5v-9zm10.5-1V9h-8c-.356 0-.694.074-1 .208V2.5a1 1 0 011-1h8zM5 12.25v3.25a.25.25 0 00.4.2l1.45-1.087a.25.25 0 01.3 0L8.6 15.7a.25.25 0 00.4-.2v-3.25a.25.25 0 00-.25-.25h-3.5a.25.25 0 00-.25.25z"></path></svg>
      <svg height="16" width="16" class="octicon octicon-project flex-shrink-0 js-jump-to-octicon-project d-none" title="Project" aria-label="Project" viewBox="0 0 16 16" version="1.1" role="img"><path fill-rule="evenodd" d="M1.75 0A1.75 1.75 0 000 1.75v12.5C0 15.216.784 16 1.75 16h12.5A1.75 1.75 0 0016 14.25V1.75A1.75 1.75 0 0014.25 0H1.75zM1.5 1.75a.25.25 0 01.25-.25h12.5a.25.25 0 01.25.25v12.5a.25.25 0 01-.25.25H1.75a.25.25 0 01-.25-.25V1.75zM11.75 3a.75.75 0 00-.75.75v7.5a.75.75 0 001.5 0v-7.5a.75.75 0 00-.75-.75zm-8.25.75a.75.75 0 011.5 0v5.5a.75.75 0 01-1.5 0v-5.5zM8 3a.75.75 0 00-.75.75v3.5a.75.75 0 001.5 0v-3.5A.75.75 0 008 3z"></path></svg>
      <svg height="16" width="16" class="octicon octicon-search flex-shrink-0 js-jump-to-octicon-search d-none" title="Search" aria-label="Search" viewBox="0 0 16 16" version="1.1" role="img"><path fill-rule="evenodd" d="M11.5 7a4.499 4.499 0 11-8.998 0A4.499 4.499 0 0111.5 7zm-.82 4.74a6 6 0 111.06-1.06l3.04 3.04a.75.75 0 11-1.06 1.06l-3.04-3.04z"></path></svg>
    </div>

    <img class="avatar mr-2 flex-shrink-0 js-jump-to-suggestion-avatar d-none" alt="" aria-label="Team" src="" width="28" height="28">

    <div class="jump-to-suggestion-name js-jump-to-suggestion-name flex-auto overflow-hidden text-left no-wrap css-truncate css-truncate-target">
    </div>

    <div class="border rounded-1 flex-shrink-0 color-bg-tertiary px-1 color-text-tertiary ml-1 f6 d-none js-jump-to-badge-search">
      <span class="js-jump-to-badge-search-text-default d-none" aria-label="in this repository">
        In this repository
      </span>
      <span class="js-jump-to-badge-search-text-global d-none" aria-label="in all of GitHub">
        All GitHub
      </span>
      <span aria-hidden="true" class="d-inline-block ml-1 v-align-middle">↵</span>
    </div>

    <div aria-hidden="true" class="border rounded-1 flex-shrink-0 color-bg-tertiary px-1 color-text-tertiary ml-1 f6 d-none d-on-nav-focus js-jump-to-badge-jump">
      Jump to
      <span class="d-inline-block ml-1 v-align-middle">↵</span>
    </div>
  </a>
</li>


    <li class="d-flex flex-justify-center flex-items-center p-0 f5 js-jump-to-suggestion">
      <svg style="box-sizing: content-box; color: var(--color-icon-primary);" width="32" height="32" viewBox="0 0 16 16" fill="none" data-view-component="true" class="m-3 anim-rotate">
  <circle cx="8" cy="8" r="7" stroke="currentColor" stroke-opacity="0.25" stroke-width="2" vector-effect="non-scaling-stroke" />
  <path d="M15 8a7.002 7.002 0 00-7-7" stroke="currentColor" stroke-width="2" stroke-linecap="round" vector-effect="non-scaling-stroke" />
</svg>
    </li>
</ul>

          </div>
      </label>
</form>  </div>
</div>

        <nav class="d-flex flex-column flex-md-row flex-self-stretch flex-md-self-auto" aria-label="Global">
      <a class="Header-link py-md-3 d-block d-md-none py-2 border-top border-md-top-0 border-white-fade" data-ga-click="Header, click, Nav menu - item:dashboard:user" aria-label="Dashboard" href="/dashboard">
        Dashboard
</a>
    <a class="js-selected-navigation-item Header-link mt-md-n3 mb-md-n3 py-2 py-md-3 mr-0 mr-md-3 border-top border-md-top-0 border-white-fade" data-hotkey="g p" data-ga-click="Header, click, Nav menu - item:pulls context:user" aria-label="Pull requests you created" data-selected-links="/pulls /pulls/assigned /pulls/mentioned /pulls" href="/pulls">
        Pull<span class="d-inline d-md-none d-lg-inline"> request</span>s
</a>
    <a class="js-selected-navigation-item Header-link mt-md-n3 mb-md-n3 py-2 py-md-3 mr-0 mr-md-3 border-top border-md-top-0 border-white-fade" data-hotkey="g i" data-ga-click="Header, click, Nav menu - item:issues context:user" aria-label="Issues you created" data-selected-links="/issues /issues/assigned /issues/mentioned /issues" href="/issues">
      Issues
</a>
      <div class="d-flex position-relative">
        <a class="js-selected-navigation-item Header-link flex-auto mt-md-n3 mb-md-n3 py-2 py-md-3 mr-0 mr-md-3 border-top border-md-top-0 border-white-fade" data-ga-click="Header, click, Nav menu - item:marketplace context:user" data-octo-click="marketplace_click" data-octo-dimensions="location:nav_bar" data-selected-links=" /marketplace" href="/marketplace">
          Marketplace
</a>      </div>

    <a class="js-selected-navigation-item Header-link mt-md-n3 mb-md-n3 py-2 py-md-3 mr-0 mr-md-3 border-top border-md-top-0 border-white-fade" data-ga-click="Header, click, Nav menu - item:explore" data-selected-links="/explore /trending /trending/developers /integrations /integrations/feature/code /integrations/feature/collaborate /integrations/feature/ship showcases showcases_search showcases_landing /explore" href="/explore">
      Explore
</a>
    <a class="js-selected-navigation-item Header-link d-block d-md-none py-2 py-md-3 border-top border-md-top-0 border-white-fade" data-ga-click="Header, click, Nav menu - item:workspaces context:user" data-selected-links="/codespaces /codespaces" href="/codespaces">
      Codespaces
</a>
      <a class="js-selected-navigation-item Header-link d-block d-md-none py-2 py-md-3 border-top border-md-top-0 border-white-fade" data-ga-click="Header, click, Nav menu - item:Sponsors" data-hydro-click="{&quot;event_type&quot;:&quot;sponsors.button_click&quot;,&quot;payload&quot;:{&quot;button&quot;:&quot;HEADER_SPONSORS_DASHBOARD&quot;,&quot;sponsorable_login&quot;:&quot;KRP000921&quot;,&quot;originating_url&quot;:&quot;https://github.com/smartinternz02/SI-GuidedProject-4420-1626416812/commit/3f3aa00e1cb7c24d92154106977a766106c2adc7&quot;,&quot;user_id&quot;:75787429}}" data-hydro-click-hmac="a3f39b2340d2b320e33a0653842622f1f7e6c384acea4644e118ce171a7097a1" data-selected-links=" /sponsors/accounts" href="/sponsors/accounts">Sponsors</a>

    <a class="Header-link d-block d-md-none mr-0 mr-md-3 py-2 py-md-3 border-top border-md-top-0 border-white-fade" href="/settings/profile">
      Settings
</a>
    <a class="Header-link d-block d-md-none mr-0 mr-md-3 py-2 py-md-3 border-top border-md-top-0 border-white-fade" href="/KRP000921">
      <img class="avatar avatar-user" loading="lazy" decoding="async" src="https://avatars.githubusercontent.com/u/75787429?s=40&amp;v=4" width="20" height="20" alt="@KRP000921" />
      KRP000921
</a>
    <!-- '"` --><!-- </textarea></xmp> --></option></form><form action="/logout" accept-charset="UTF-8" method="post"><input type="hidden" name="authenticity_token" value="z1tcPk8qovzF5bR9ltzgaed8vdVCcW9ZrXJxBlsTKp5h3KVIxHqWSm0CrFgRf/8kigjICC+qdoQt2BdRNnmUgw==" />
      <button
        type="submit"
        class="Header-link mr-0 mr-md-3 py-2 py-md-3 border-top border-md-top-0 border-white-fade d-md-none btn-link d-block width-full text-left"
        style="padding-left: 2px;"
        data-hydro-click="{&quot;event_type&quot;:&quot;analytics.event&quot;,&quot;payload&quot;:{&quot;category&quot;:&quot;Header&quot;,&quot;action&quot;:&quot;sign out&quot;,&quot;label&quot;:&quot;icon:logout&quot;,&quot;originating_url&quot;:&quot;https://github.com/smartinternz02/SI-GuidedProject-4420-1626416812/commit/3f3aa00e1cb7c24d92154106977a766106c2adc7&quot;,&quot;user_id&quot;:75787429}}" data-hydro-click-hmac="8b2136d7bdc505f4e6c29ad6ea578e51c23a5bf1af805987250a25dd8b182ea9"
      >
        <svg aria-hidden="true" height="16" viewBox="0 0 16 16" version="1.1" width="16" data-view-component="true" class="octicon octicon-sign-out v-align-middle">
    <path fill-rule="evenodd" d="M2 2.75C2 1.784 2.784 1 3.75 1h2.5a.75.75 0 010 1.5h-2.5a.25.25 0 00-.25.25v10.5c0 .138.112.25.25.25h2.5a.75.75 0 010 1.5h-2.5A1.75 1.75 0 012 13.25V2.75zm10.44 4.5H6.75a.75.75 0 000 1.5h5.69l-1.97 1.97a.75.75 0 101.06 1.06l3.25-3.25a.75.75 0 000-1.06l-3.25-3.25a.75.75 0 10-1.06 1.06l1.97 1.97z"></path>
</svg>
        Sign out
      </button>
</form></nav>

    </div>

    <div class="Header-item Header-item--full flex-justify-center d-md-none position-relative">
        <a
  class="Header-link "
  href="https://github.com/"
  data-hotkey="g d"
  aria-label="Homepage "
  data-hydro-click="{&quot;event_type&quot;:&quot;analytics.event&quot;,&quot;payload&quot;:{&quot;category&quot;:&quot;Header&quot;,&quot;action&quot;:&quot;go to dashboard&quot;,&quot;label&quot;:&quot;icon:logo&quot;,&quot;originating_url&quot;:&quot;https://github.com/smartinternz02/SI-GuidedProject-4420-1626416812/commit/3f3aa00e1cb7c24d92154106977a766106c2adc7&quot;,&quot;user_id&quot;:75787429}}" data-hydro-click-hmac="dc03c3491fa7cc9b19e4b20dcc7e78e6dbdfbcf412792da67152f8aec3f7ac83"
>
  <svg height="32" aria-hidden="true" viewBox="0 0 16 16" version="1.1" width="32" data-view-component="true" class="octicon octicon-mark-github v-align-middle">
    <path fill-rule="evenodd" d="M8 0C3.58 0 0 3.58 0 8c0 3.54 2.29 6.53 5.47 7.59.4.07.55-.17.55-.38 0-.19-.01-.82-.01-1.49-2.01.37-2.53-.49-2.69-.94-.09-.23-.48-.94-.82-1.13-.28-.15-.68-.52-.01-.53.63-.01 1.08.58 1.23.82.72 1.21 1.87.87 2.33.66.07-.52.28-.87.51-1.07-1.78-.2-3.64-.89-3.64-3.95 0-.87.31-1.59.82-2.15-.08-.2-.36-1.02.08-2.12 0 0 .67-.21 2.2.82.64-.18 1.32-.27 2-.27.68 0 1.36.09 2 .27 1.53-1.04 2.2-.82 2.2-.82.44 1.1.16 1.92.08 2.12.51.56.82 1.27.82 2.15 0 3.07-1.87 3.75-3.65 3.95.29.25.54.73.54 1.48 0 1.07-.01 1.93-.01 2.2 0 .21.15.46.55.38A8.013 8.013 0 0016 8c0-4.42-3.58-8-8-8z"></path>
</svg>
</a>

    </div>


    <div class="Header-item mr-0 mr-md-3 flex-order-1 flex-md-order-none">
        


      <notification-indicator
        class="js-socket-channel"
        data-test-selector="notifications-indicator"
        data-channel="eyJjIjoibm90aWZpY2F0aW9uLWNoYW5nZWQ6NzU3ODc0MjkiLCJ0IjoxNjI5Mjk5MzMyfQ==--f28b7f4b7d4f52542e4bb3bbc8d334a050c4058ad654cb24f6a4f65c97279ad3">
        <a href="/notifications"
          class="Header-link notification-indicator position-relative tooltipped tooltipped-sw"
          
          aria-label="You have no unread notifications"
          data-hotkey="g n"
          data-ga-click="Header, go to notifications, icon:read"
          data-target="notification-indicator.link">
          <span class="mail-status  " data-target="notification-indicator.modifier"></span>
          <svg aria-hidden="true" height="16" viewBox="0 0 16 16" version="1.1" width="16" data-view-component="true" class="octicon octicon-bell">
    <path d="M8 16a2 2 0 001.985-1.75c.017-.137-.097-.25-.235-.25h-3.5c-.138 0-.252.113-.235.25A2 2 0 008 16z"></path><path fill-rule="evenodd" d="M8 1.5A3.5 3.5 0 004.5 5v2.947c0 .346-.102.683-.294.97l-1.703 2.556a.018.018 0 00-.003.01l.001.006c0 .002.002.004.004.006a.017.017 0 00.006.004l.007.001h10.964l.007-.001a.016.016 0 00.006-.004.016.016 0 00.004-.006l.001-.007a.017.017 0 00-.003-.01l-1.703-2.554a1.75 1.75 0 01-.294-.97V5A3.5 3.5 0 008 1.5zM3 5a5 5 0 0110 0v2.947c0 .05.015.098.042.139l1.703 2.555A1.518 1.518 0 0113.482 13H2.518a1.518 1.518 0 01-1.263-2.36l1.703-2.554A.25.25 0 003 7.947V5z"></path>
</svg>
        </a>
      </notification-indicator>

    </div>


    <div class="Header-item position-relative d-none d-md-flex">
        <details class="details-overlay details-reset">
  <summary
    class="Header-link"
    aria-label="Create new…"
    data-hydro-click="{&quot;event_type&quot;:&quot;analytics.event&quot;,&quot;payload&quot;:{&quot;category&quot;:&quot;Header&quot;,&quot;action&quot;:&quot;create new&quot;,&quot;label&quot;:&quot;icon:add&quot;,&quot;originating_url&quot;:&quot;https://github.com/smartinternz02/SI-GuidedProject-4420-1626416812/commit/3f3aa00e1cb7c24d92154106977a766106c2adc7&quot;,&quot;user_id&quot;:75787429}}" data-hydro-click-hmac="ae0b439dff65963d79d285eae966db5af21eeef1e63c06cbf441c45e1d143eca"
  >
      <svg aria-hidden="true" height="16" viewBox="0 0 16 16" version="1.1" width="16" data-view-component="true" class="octicon octicon-plus">
    <path fill-rule="evenodd" d="M7.75 2a.75.75 0 01.75.75V7h4.25a.75.75 0 110 1.5H8.5v4.25a.75.75 0 11-1.5 0V8.5H2.75a.75.75 0 010-1.5H7V2.75A.75.75 0 017.75 2z"></path>
</svg> <span class="dropdown-caret"></span>
  </summary>
  <details-menu class="dropdown-menu dropdown-menu-sw">
    
<a role="menuitem" class="dropdown-item" href="/new" data-ga-click="Header, create new repository">
  New repository
</a>

  <a role="menuitem" class="dropdown-item" href="/new/import" data-ga-click="Header, import a repository">
    Import repository
  </a>

<a role="menuitem" class="dropdown-item" href="https://gist.github.com/" data-ga-click="Header, create new gist">
  New gist
</a>

  <a role="menuitem" class="dropdown-item" href="/organizations/new" data-ga-click="Header, create new organization">
    New organization
  </a>



  </details-menu>
</details>

    </div>

    <div class="Header-item position-relative mr-0 d-none d-md-flex">
        
  <details class="details-overlay details-reset js-feature-preview-indicator-container" data-feature-preview-indicator-src="/users/KRP000921/feature_preview/indicator_check">

  <summary
    class="Header-link"
    aria-label="View profile and more"
    data-hydro-click="{&quot;event_type&quot;:&quot;analytics.event&quot;,&quot;payload&quot;:{&quot;category&quot;:&quot;Header&quot;,&quot;action&quot;:&quot;show menu&quot;,&quot;label&quot;:&quot;icon:avatar&quot;,&quot;originating_url&quot;:&quot;https://github.com/smartinternz02/SI-GuidedProject-4420-1626416812/commit/3f3aa00e1cb7c24d92154106977a766106c2adc7&quot;,&quot;user_id&quot;:75787429}}" data-hydro-click-hmac="3fe4b7d73b4d1e4640b160fb2537c6d15e5b96611a1b27d510bbeb953a0a28ac"
  >
    <img src="https://avatars.githubusercontent.com/u/75787429?s=60&amp;v=4" alt="@KRP000921" size="20" height="20" width="20" data-view-component="true" class="avatar-user avatar avatar-small"></img>
      <span class="feature-preview-indicator js-feature-preview-indicator" style="top: 1px;" hidden></span>
    <span class="dropdown-caret"></span>
  </summary>
  <details-menu class="dropdown-menu dropdown-menu-sw" style="width: 180px" 
      src="/users/75787429/menu" preload>
      <include-fragment>
        <p class="text-center mt-3" data-hide-on-error>
          <svg style="box-sizing: content-box; color: var(--color-icon-primary);" width="32" height="32" viewBox="0 0 16 16" fill="none" data-view-component="true" class="anim-rotate">
  <circle cx="8" cy="8" r="7" stroke="currentColor" stroke-opacity="0.25" stroke-width="2" vector-effect="non-scaling-stroke" />
  <path d="M15 8a7.002 7.002 0 00-7-7" stroke="currentColor" stroke-width="2" stroke-linecap="round" vector-effect="non-scaling-stroke" />
</svg>
        </p>
        <p class="ml-1 mb-2 mt-2 color-text-primary" data-show-on-error>
          <svg aria-hidden="true" height="16" viewBox="0 0 16 16" version="1.1" width="16" data-view-component="true" class="octicon octicon-alert">
    <path fill-rule="evenodd" d="M8.22 1.754a.25.25 0 00-.44 0L1.698 13.132a.25.25 0 00.22.368h12.164a.25.25 0 00.22-.368L8.22 1.754zm-1.763-.707c.659-1.234 2.427-1.234 3.086 0l6.082 11.378A1.75 1.75 0 0114.082 15H1.918a1.75 1.75 0 01-1.543-2.575L6.457 1.047zM9 11a1 1 0 11-2 0 1 1 0 012 0zm-.25-5.25a.75.75 0 00-1.5 0v2.5a.75.75 0 001.5 0v-2.5z"></path>
</svg>
          Sorry, something went wrong.
        </p>
      </include-fragment>
  </details-menu>
</details>

    </div>
</header>

            
    </div>

  <div id="start-of-content" class="show-on-focus"></div>






    <div data-pjax-replace id="js-flash-container">


  <template class="js-flash-template">
    <div class="flash flash-full  {{ className }}">
  <div class=" px-2" >
    <button class="flash-close js-flash-close" type="button" aria-label="Dismiss this message">
      <svg aria-hidden="true" height="16" viewBox="0 0 16 16" version="1.1" width="16" data-view-component="true" class="octicon octicon-x">
    <path fill-rule="evenodd" d="M3.72 3.72a.75.75 0 011.06 0L8 6.94l3.22-3.22a.75.75 0 111.06 1.06L9.06 8l3.22 3.22a.75.75 0 11-1.06 1.06L8 9.06l-3.22 3.22a.75.75 0 01-1.06-1.06L6.94 8 3.72 4.78a.75.75 0 010-1.06z"></path>
</svg>
    </button>
    
      <div>{{ message }}</div>

  </div>
</div>
  </template>
</div>


    

  <include-fragment class="js-notification-shelf-include-fragment" data-base-src="https://github.com/notifications/beta/shelf"></include-fragment>




  <div
    class="application-main "
    data-commit-hovercards-enabled
    data-discussion-hovercards-enabled
    data-issue-and-pr-hovercards-enabled
  >
        <div itemscope itemtype="http://schema.org/SoftwareSourceCode" class="">
    <main id="js-repo-pjax-container" data-pjax-container >
      
    




  


  <div id="repository-container-header" class="hx_page-header-bg pt-3 hide-full-screen mb-5" data-pjax-replace>

      <div class="d-flex mb-3 px-3 px-md-4 px-lg-5">

        <div class="flex-auto min-width-0 width-fit mr-3">
            <h1 class=" d-flex flex-wrap flex-items-center break-word f3 text-normal">
    <svg class="octicon octicon-repo color-text-secondary mr-2" viewBox="0 0 16 16" version="1.1" width="16" height="16" aria-hidden="true"><path fill-rule="evenodd" d="M2 2.5A2.5 2.5 0 014.5 0h8.75a.75.75 0 01.75.75v12.5a.75.75 0 01-.75.75h-2.5a.75.75 0 110-1.5h1.75v-2h-8a1 1 0 00-.714 1.7.75.75 0 01-1.072 1.05A2.495 2.495 0 012 11.5v-9zm10.5-1V9h-8c-.356 0-.694.074-1 .208V2.5a1 1 0 011-1h8zM5 12.25v3.25a.25.25 0 00.4.2l1.45-1.087a.25.25 0 01.3 0L8.6 15.7a.25.25 0 00.4-.2v-3.25a.25.25 0 00-.25-.25h-3.5a.25.25 0 00-.25.25z"></path></svg>
  <span class="author flex-self-stretch" itemprop="author">
    <a class="url fn" rel="author" data-hovercard-type="user" data-hovercard-url="/users/smartinternz02/hovercard" data-octo-click="hovercard-link-click" data-octo-dimensions="link_type:self" href="/smartinternz02">smartinternz02</a>
  </span>
  <span class="mx-1 flex-self-stretch color-text-secondary">/</span>
  <strong itemprop="name" class="mr-2 flex-self-stretch">
    <a data-pjax="#js-repo-pjax-container" href="/smartinternz02/SI-GuidedProject-4420-1626416812">SI-GuidedProject-4420-1626416812</a>
  </strong>
  
</h1>


        </div>

          <ul class="pagehead-actions flex-shrink-0 d-none d-md-inline" style="padding: 2px 0;">

  <li>
        <notifications-list-subscription-form class="f5 position-relative d-flex">
      <details
        class="details-reset details-overlay f5 position-relative"
        data-target="notifications-list-subscription-form.details"
        data-action="toggle:notifications-list-subscription-form#detailsToggled"
      >

      <summary class="btn btn-sm rounded-right-0" data-hydro-click="{&quot;event_type&quot;:&quot;repository.click&quot;,&quot;payload&quot;:{&quot;target&quot;:&quot;WATCH_BUTTON&quot;,&quot;repository_id&quot;:386533370,&quot;originating_url&quot;:&quot;https://github.com/smartinternz02/SI-GuidedProject-4420-1626416812/commit/3f3aa00e1cb7c24d92154106977a766106c2adc7&quot;,&quot;user_id&quot;:75787429}}" data-hydro-click-hmac="365f8befe8ac3d833f57ad50f21b47ec630c7333eba9936d007be2b696269e55" data-ga-click="Repository, click Watch settings, action:commit#show" aria-label="Notifications settings">
          <span data-menu-button>
            <span
              hidden
              
              data-target="notifications-list-subscription-form.unwatchButtonCopy"
            >
              <svg aria-hidden="true" height="16" viewBox="0 0 16 16" version="1.1" width="16" data-view-component="true" class="octicon octicon-eye">
    <path fill-rule="evenodd" d="M1.679 7.932c.412-.621 1.242-1.75 2.366-2.717C5.175 4.242 6.527 3.5 8 3.5c1.473 0 2.824.742 3.955 1.715 1.124.967 1.954 2.096 2.366 2.717a.119.119 0 010 .136c-.412.621-1.242 1.75-2.366 2.717C10.825 11.758 9.473 12.5 8 12.5c-1.473 0-2.824-.742-3.955-1.715C2.92 9.818 2.09 8.69 1.679 8.068a.119.119 0 010-.136zM8 2c-1.981 0-3.67.992-4.933 2.078C1.797 5.169.88 6.423.43 7.1a1.619 1.619 0 000 1.798c.45.678 1.367 1.932 2.637 3.024C4.329 13.008 6.019 14 8 14c1.981 0 3.67-.992 4.933-2.078 1.27-1.091 2.187-2.345 2.637-3.023a1.619 1.619 0 000-1.798c-.45-.678-1.367-1.932-2.637-3.023C11.671 2.992 9.981 2 8 2zm0 8a2 2 0 100-4 2 2 0 000 4z"></path>
</svg>
              Unwatch
            </span>
            <span
              hidden
              
              data-target="notifications-list-subscription-form.stopIgnoringButtonCopy"
            >
              <svg aria-hidden="true" height="16" viewBox="0 0 16 16" version="1.1" width="16" data-view-component="true" class="octicon octicon-bell-slash">
    <path fill-rule="evenodd" d="M8 1.5c-.997 0-1.895.416-2.534 1.086A.75.75 0 014.38 1.55 5 5 0 0113 5v2.373a.75.75 0 01-1.5 0V5A3.5 3.5 0 008 1.5zM4.182 4.31L1.19 2.143a.75.75 0 10-.88 1.214L3 5.305v2.642a.25.25 0 01-.042.139L1.255 10.64A1.518 1.518 0 002.518 13h11.108l1.184.857a.75.75 0 10.88-1.214l-1.375-.996a1.196 1.196 0 00-.013-.01L4.198 4.321a.733.733 0 00-.016-.011zm7.373 7.19L4.5 6.391v1.556c0 .346-.102.683-.294.97l-1.703 2.556a.018.018 0 00-.003.01.015.015 0 00.005.012.017.017 0 00.006.004l.007.001h9.037zM8 16a2 2 0 001.985-1.75c.017-.137-.097-.25-.235-.25h-3.5c-.138 0-.252.113-.235.25A2 2 0 008 16z"></path>
</svg>
              Stop ignoring
            </span>
            <span
              
              
              data-target="notifications-list-subscription-form.watchButtonCopy"
            >
              <svg aria-hidden="true" height="16" viewBox="0 0 16 16" version="1.1" width="16" data-view-component="true" class="octicon octicon-eye">
    <path fill-rule="evenodd" d="M1.679 7.932c.412-.621 1.242-1.75 2.366-2.717C5.175 4.242 6.527 3.5 8 3.5c1.473 0 2.824.742 3.955 1.715 1.124.967 1.954 2.096 2.366 2.717a.119.119 0 010 .136c-.412.621-1.242 1.75-2.366 2.717C10.825 11.758 9.473 12.5 8 12.5c-1.473 0-2.824-.742-3.955-1.715C2.92 9.818 2.09 8.69 1.679 8.068a.119.119 0 010-.136zM8 2c-1.981 0-3.67.992-4.933 2.078C1.797 5.169.88 6.423.43 7.1a1.619 1.619 0 000 1.798c.45.678 1.367 1.932 2.637 3.024C4.329 13.008 6.019 14 8 14c1.981 0 3.67-.992 4.933-2.078 1.27-1.091 2.187-2.345 2.637-3.023a1.619 1.619 0 000-1.798c-.45-.678-1.367-1.932-2.637-3.023C11.671 2.992 9.981 2 8 2zm0 8a2 2 0 100-4 2 2 0 000 4z"></path>
</svg>
              Watch
            </span>
          </span>
          <span class="dropdown-caret"></span>
</summary>
        <details-menu
          class="SelectMenu  "
          role="menu"
          data-target="notifications-list-subscription-form.menu"
          
        >
          <div class="SelectMenu-modal notifications-component-menu-modal">
            <header class="SelectMenu-header">
              <h3 class="SelectMenu-title">Notifications</h3>
              <button class="SelectMenu-closeButton" type="button" aria-label="Close menu" data-action="click:notifications-list-subscription-form#closeMenu">
                <svg aria-hidden="true" height="16" viewBox="0 0 16 16" version="1.1" width="16" data-view-component="true" class="octicon octicon-x">
    <path fill-rule="evenodd" d="M3.72 3.72a.75.75 0 011.06 0L8 6.94l3.22-3.22a.75.75 0 111.06 1.06L9.06 8l3.22 3.22a.75.75 0 11-1.06 1.06L8 9.06l-3.22 3.22a.75.75 0 01-1.06-1.06L6.94 8 3.72 4.78a.75.75 0 010-1.06z"></path>
</svg>
              </button>
            </header>

            <div class="SelectMenu-list">
              <form data-target="notifications-list-subscription-form.form" data-action="submit:notifications-list-subscription-form#submitForm" action="/notifications/subscribe" accept-charset="UTF-8" method="post"><input type="hidden" name="authenticity_token" value="LtBTVyLA183kH5bY2laeln/0+knqVb7zc2wUkeKtA6JI4EguTqYOesx0MOAdotU4WwRWKTwKMz+M982Zubopbg==" />

                <input type="hidden" name="repository_id" value="386533370">

                <button
                  type="submit"
                  name="do"
                  value="included"
                  class="SelectMenu-item flex-items-start"
                  role="menuitemradio"
                  aria-checked="true"
                  data-targets="notifications-list-subscription-form.subscriptionButtons"
                  
                >
                  <span class="f5">
                    <svg aria-hidden="true" height="16" viewBox="0 0 16 16" version="1.1" width="16" data-view-component="true" class="octicon octicon-check SelectMenu-icon SelectMenu-icon--check">
    <path fill-rule="evenodd" d="M13.78 4.22a.75.75 0 010 1.06l-7.25 7.25a.75.75 0 01-1.06 0L2.22 9.28a.75.75 0 011.06-1.06L6 10.94l6.72-6.72a.75.75 0 011.06 0z"></path>
</svg>
                  </span>
                  <div>
                    <div class="f5 text-bold">
                      Participating and @mentions
                    </div>
                    <div class="text-small color-text-secondary text-normal pb-1">
                      Only receive notifications from this repository when participating or @mentioned.
                    </div>
                  </div>
                </button>

                <button
                  type="submit"
                  name="do"
                  value="subscribed"
                  class="SelectMenu-item flex-items-start"
                  role="menuitemradio"
                  aria-checked="false"
                  data-targets="notifications-list-subscription-form.subscriptionButtons"
                >
                  <span class="f5">
                    <svg aria-hidden="true" height="16" viewBox="0 0 16 16" version="1.1" width="16" data-view-component="true" class="octicon octicon-check SelectMenu-icon SelectMenu-icon--check">
    <path fill-rule="evenodd" d="M13.78 4.22a.75.75 0 010 1.06l-7.25 7.25a.75.75 0 01-1.06 0L2.22 9.28a.75.75 0 011.06-1.06L6 10.94l6.72-6.72a.75.75 0 011.06 0z"></path>
</svg>
                  </span>
                  <div>
                    <div class="f5 text-bold">
                      All Activity
                    </div>
                    <div class="text-small color-text-secondary text-normal pb-1">
                      Notified of all notifications on this repository.
                    </div>
                  </div>
                </button>

                <button
                  type="submit"
                  name="do"
                  value="ignore"
                  class="SelectMenu-item flex-items-start"
                  role="menuitemradio"
                  aria-checked="false"
                  data-targets="notifications-list-subscription-form.subscriptionButtons"
                >
                  <span class="f5">
                    <svg aria-hidden="true" height="16" viewBox="0 0 16 16" version="1.1" width="16" data-view-component="true" class="octicon octicon-check SelectMenu-icon SelectMenu-icon--check">
    <path fill-rule="evenodd" d="M13.78 4.22a.75.75 0 010 1.06l-7.25 7.25a.75.75 0 01-1.06 0L2.22 9.28a.75.75 0 011.06-1.06L6 10.94l6.72-6.72a.75.75 0 011.06 0z"></path>
</svg>
                  </span>
                  <div>
                    <div class="f5 text-bold">
                      Ignore
                    </div>
                    <div class="text-small color-text-secondary text-normal pb-1">
                      Never be notified.
                    </div>
                  </div>
                </button>
</form>
              <button
                class="SelectMenu-item flex-items-start pr-3"
                type="button"
                role="menuitemradio"
                data-target="notifications-list-subscription-form.customButton"
                data-action="click:notifications-list-subscription-form#openCustomDialog"
                aria-haspopup="true"
                aria-checked="false"
                
              >
                <span class="f5">
                  <svg aria-hidden="true" height="16" viewBox="0 0 16 16" version="1.1" width="16" data-view-component="true" class="octicon octicon-check SelectMenu-icon SelectMenu-icon--check">
    <path fill-rule="evenodd" d="M13.78 4.22a.75.75 0 010 1.06l-7.25 7.25a.75.75 0 01-1.06 0L2.22 9.28a.75.75 0 011.06-1.06L6 10.94l6.72-6.72a.75.75 0 011.06 0z"></path>
</svg>
                </span>
                <div>
                  <div class="d-flex flex-items-start flex-justify-between">
                    <div class="f5 text-bold">Custom</div>
                    <div class="f5 pr-1">
                      <svg aria-hidden="true" height="16" viewBox="0 0 16 16" version="1.1" width="16" data-view-component="true" class="octicon octicon-arrow-right">
    <path fill-rule="evenodd" d="M8.22 2.97a.75.75 0 011.06 0l4.25 4.25a.75.75 0 010 1.06l-4.25 4.25a.75.75 0 01-1.06-1.06l2.97-2.97H3.75a.75.75 0 010-1.5h7.44L8.22 4.03a.75.75 0 010-1.06z"></path>
</svg>
                    </div>
                  </div>
                  <div class="text-small color-text-secondary text-normal pb-1">
                    Select events you want to be notified of in addition to participating and @mentions.
                  </div>
                </div>
              </button>

                <div class="px-3 py-2 d-flex color-bg-secondary flex-items-center">
                  <span class="f5">
                    <svg aria-hidden="true" height="16" viewBox="0 0 16 16" version="1.1" width="16" data-view-component="true" class="octicon octicon-device-mobile SelectMenu-icon SelectMenu-icon--device-mobile">
    <path fill-rule="evenodd" d="M3.75 0A1.75 1.75 0 002 1.75v12.5c0 .966.784 1.75 1.75 1.75h8.5A1.75 1.75 0 0014 14.25V1.75A1.75 1.75 0 0012.25 0h-8.5zM3.5 1.75a.25.25 0 01.25-.25h8.5a.25.25 0 01.25.25v12.5a.25.25 0 01-.25.25h-8.5a.25.25 0 01-.25-.25V1.75zM8 13a1 1 0 100-2 1 1 0 000 2z"></path>
</svg>
                  </span>
                  <span className="text-small color-text-secondary text-normal pb-1">
                    Get push notifications on <a target="_blank" rel="noopener noreferrer" href="https://apps.apple.com/app/apple-store/id1477376905?ct=watch-dropdown&amp;mt=8&amp;pt=524675">iOS</a> or <a target="_blank" rel="noopener noreferrer" href="https://play.google.com/store/apps/details?id=com.github.android&amp;utm_campaign=watch-dropdown">Android</a>.
                  </span>
                </div>
            </div>
          </div>
        </details-menu>

        <details-dialog class="notifications-component-dialog " data-target="notifications-list-subscription-form.customDialog" hidden>
          <div class="SelectMenu-modal notifications-component-dialog-modal overflow-visible">
            <form data-target="notifications-list-subscription-form.customform" data-action="submit:notifications-list-subscription-form#submitCustomForm" action="/notifications/subscribe" accept-charset="UTF-8" method="post"><input type="hidden" name="authenticity_token" value="hHrw9mv5vpX0nWttONdKdoxTTYGoYA9PjCIgvfnVBfPiSuuPB59nItz2zVX/IwHYqKPh4X4/goNzufm1osIvPw==" />

              <input type="hidden" name="repository_id" value="386533370">

              <header class="d-sm-none SelectMenu-header pb-0 border-bottom-0 px-2 px-sm-3">
                <h1 class="f3 SelectMenu-title d-inline-flex">
                  <button
                    class="color-bg-primary border-0 px-2 py-0 m-0 Link--secondary f5"
                    aria-label="Return to menu"
                    type="button"
                    data-action="click:notifications-list-subscription-form#closeCustomDialog"
                  >
                    <svg aria-hidden="true" height="16" viewBox="0 0 16 16" version="1.1" width="16" data-view-component="true" class="octicon octicon-arrow-left">
    <path fill-rule="evenodd" d="M7.78 12.53a.75.75 0 01-1.06 0L2.47 8.28a.75.75 0 010-1.06l4.25-4.25a.75.75 0 011.06 1.06L4.81 7h7.44a.75.75 0 010 1.5H4.81l2.97 2.97a.75.75 0 010 1.06z"></path>
</svg>
                  </button>
                  Custom
                </h1>
              </header>

              <header class="d-none d-sm-flex flex-items-start pt-1">
                <button
                  class="border-0 px-2 pt-1 m-0 Link--secondary f5"
                  style="background-color: transparent;"
                  aria-label="Return to menu"
                  type="button"
                  data-action="click:notifications-list-subscription-form#closeCustomDialog"
                >
                  <svg style="position: relative; left: 2px; top: 1px" aria-hidden="true" height="16" viewBox="0 0 16 16" version="1.1" width="16" data-view-component="true" class="octicon octicon-arrow-left">
    <path fill-rule="evenodd" d="M7.78 12.53a.75.75 0 01-1.06 0L2.47 8.28a.75.75 0 010-1.06l4.25-4.25a.75.75 0 011.06 1.06L4.81 7h7.44a.75.75 0 010 1.5H4.81l2.97 2.97a.75.75 0 010 1.06z"></path>
</svg>
                </button>

                <h1 class="pt-1 pr-4 pb-0 pl-0 f5 text-bold">
                  Custom
                </h1>
              </header>

              <fieldset>
                <legend>
                  <div class="text-small color-text-secondary pt-0 pr-3 pb-3 pl-6 pl-sm-5 border-bottom mb-3">
                    Select events you want to be notified of in addition to participating and @mentions.
                  </div>
                </legend>
                  <div class="form-checkbox mr-3 ml-6 ml-sm-5 mb-2 mt-0">
                    <label class="f5 text-normal">
                      <input
                        type="checkbox"
                        name="thread_types[]"
                        value="Issue"
                        data-targets="notifications-list-subscription-form.threadTypeCheckboxes"
                        data-action="change:notifications-list-subscription-form#threadTypeCheckboxesUpdated"
                        
                      >
                      Issues
                    </label>

                  </div>
                  <div class="form-checkbox mr-3 ml-6 ml-sm-5 mb-2 mt-0">
                    <label class="f5 text-normal">
                      <input
                        type="checkbox"
                        name="thread_types[]"
                        value="PullRequest"
                        data-targets="notifications-list-subscription-form.threadTypeCheckboxes"
                        data-action="change:notifications-list-subscription-form#threadTypeCheckboxesUpdated"
                        
                      >
                      Pull requests
                    </label>

                  </div>
                  <div class="form-checkbox mr-3 ml-6 ml-sm-5 mb-2 mt-0">
                    <label class="f5 text-normal">
                      <input
                        type="checkbox"
                        name="thread_types[]"
                        value="Release"
                        data-targets="notifications-list-subscription-form.threadTypeCheckboxes"
                        data-action="change:notifications-list-subscription-form#threadTypeCheckboxesUpdated"
                        
                      >
                      Releases
                    </label>

                  </div>
                  <div class="form-checkbox mr-3 ml-6 ml-sm-5 mb-2 mt-0">
                    <label class="f5 text-normal">
                      <input
                        type="checkbox"
                        name="thread_types[]"
                        value="Discussion"
                        data-targets="notifications-list-subscription-form.threadTypeCheckboxes"
                        data-action="change:notifications-list-subscription-form#threadTypeCheckboxesUpdated"
                        
                      >
                      Discussions
                    </label>

                      <span
                        class="tooltipped tooltipped-nw mr-2 p-1 float-right"
                        
                        aria-label="Discussions are not enabled for this repo">
                        <svg aria-hidden="true" height="16" viewBox="0 0 16 16" version="1.1" width="16" data-view-component="true" class="octicon octicon-info color-icon-secondary">
    <path fill-rule="evenodd" d="M8 1.5a6.5 6.5 0 100 13 6.5 6.5 0 000-13zM0 8a8 8 0 1116 0A8 8 0 010 8zm6.5-.25A.75.75 0 017.25 7h1a.75.75 0 01.75.75v2.75h.25a.75.75 0 010 1.5h-2a.75.75 0 010-1.5h.25v-2h-.25a.75.75 0 01-.75-.75zM8 6a1 1 0 100-2 1 1 0 000 2z"></path>
</svg>
                      </span>
                  </div>
                  <div class="form-checkbox mr-3 ml-6 ml-sm-5 mb-2 mt-0">
                    <label class="f5 text-normal">
                      <input
                        type="checkbox"
                        name="thread_types[]"
                        value="SecurityAlert"
                        data-targets="notifications-list-subscription-form.threadTypeCheckboxes"
                        data-action="change:notifications-list-subscription-form#threadTypeCheckboxesUpdated"
                        
                      >
                      Security alerts
                    </label>

                  </div>
              </fieldset>
              <div class="pt-2 pb-3 px-3 d-flex flex-justify-start flex-row-reverse">
                <button
                  type="submit"
                  name="do"
                  value="custom"
                  class="btn btn-sm btn-primary ml-2"
                  data-target="notifications-list-subscription-form.customSubmit"
                  disabled
                >Apply</button>

                <button data-action="click:notifications-list-subscription-form#resetForm" data-close-dialog="" type="button" data-view-component="true" class="btn-sm btn">
  
  Cancel
  

</button>
              </div>
</form>          </div>
        </details-dialog>
        <div class="notifications-component-dialog-overlay"></div>
      </details>
        <a class="social-count"
          href="/smartinternz02/SI-GuidedProject-4420-1626416812/watchers"
          aria-label="1 user is watching this repository"
          data-target="notifications-list-subscription-form.socialCount"
        >
          1
        </a>
    </notifications-list-subscription-form>



  </li>

  <li>
        <div class="d-block js-toggler-container js-social-container starring-container ">
    <form class="starred js-social-form" action="/smartinternz02/SI-GuidedProject-4420-1626416812/unstar" accept-charset="UTF-8" method="post"><input type="hidden" name="authenticity_token" value="LyDuKQW7Yf5+WruV8C/UGnthvDr6qMCVRFziNbyZLn24+ljouWxcRzNXeSpE+fMMis0xRFbqXkJSgU4F6EnHUg==" />
      <input type="hidden" name="context" value="repository">
      <button type="submit" class="btn btn-sm btn-with-count  js-toggler-target" aria-label="Unstar this repository" title="Unstar smartinternz02/SI-GuidedProject-4420-1626416812" data-hydro-click="{&quot;event_type&quot;:&quot;repository.click&quot;,&quot;payload&quot;:{&quot;target&quot;:&quot;UNSTAR_BUTTON&quot;,&quot;repository_id&quot;:386533370,&quot;originating_url&quot;:&quot;https://github.com/smartinternz02/SI-GuidedProject-4420-1626416812/commit/3f3aa00e1cb7c24d92154106977a766106c2adc7&quot;,&quot;user_id&quot;:75787429}}" data-hydro-click-hmac="fba919b72a9d1e73a24cb1f8946bd3f45a61a1988f343f358207b57679e9a7ea" data-ga-click="Repository, click unstar button, action:commit#show; text:Unstar">        <svg aria-hidden="true" height="16" viewBox="0 0 16 16" version="1.1" width="16" data-view-component="true" class="octicon octicon-star-fill mr-1">
    <path fill-rule="evenodd" d="M8 .25a.75.75 0 01.673.418l1.882 3.815 4.21.612a.75.75 0 01.416 1.279l-3.046 2.97.719 4.192a.75.75 0 01-1.088.791L8 12.347l-3.766 1.98a.75.75 0 01-1.088-.79l.72-4.194L.818 6.374a.75.75 0 01.416-1.28l4.21-.611L7.327.668A.75.75 0 018 .25z"></path>
</svg>
        <span data-view-component="true">
          Unstar
</span></button>        <a class="social-count js-social-count" href="/smartinternz02/SI-GuidedProject-4420-1626416812/stargazers"
           aria-label="0 users starred this repository">
           0
        </a>
</form>
    <form class="unstarred js-social-form" action="/smartinternz02/SI-GuidedProject-4420-1626416812/star" accept-charset="UTF-8" method="post"><input type="hidden" name="authenticity_token" value="5GXCJIbMe5oa6IHEdmUt2+zOQ9SoYO3BSN0NOpS7ivGQOErEuwtGhjJRNzsS/2qMCJ1zBYpBxmAQ5pB1htS2IQ==" />
      <input type="hidden" name="context" value="repository">
      <button type="submit" class="btn btn-sm btn-with-count  js-toggler-target" aria-label="Unstar this repository" title="Star smartinternz02/SI-GuidedProject-4420-1626416812" data-hydro-click="{&quot;event_type&quot;:&quot;repository.click&quot;,&quot;payload&quot;:{&quot;target&quot;:&quot;STAR_BUTTON&quot;,&quot;repository_id&quot;:386533370,&quot;originating_url&quot;:&quot;https://github.com/smartinternz02/SI-GuidedProject-4420-1626416812/commit/3f3aa00e1cb7c24d92154106977a766106c2adc7&quot;,&quot;user_id&quot;:75787429}}" data-hydro-click-hmac="366a5094a69f986b766524f5434d2c0c78a19f3f3feb71f6bc6485bd0120ec27" data-ga-click="Repository, click star button, action:commit#show; text:Star">        <svg aria-hidden="true" height="16" viewBox="0 0 16 16" version="1.1" width="16" data-view-component="true" class="octicon octicon-star mr-1">
    <path fill-rule="evenodd" d="M8 .25a.75.75 0 01.673.418l1.882 3.815 4.21.612a.75.75 0 01.416 1.279l-3.046 2.97.719 4.192a.75.75 0 01-1.088.791L8 12.347l-3.766 1.98a.75.75 0 01-1.088-.79l.72-4.194L.818 6.374a.75.75 0 01.416-1.28l4.21-.611L7.327.668A.75.75 0 018 .25zm0 2.445L6.615 5.5a.75.75 0 01-.564.41l-3.097.45 2.24 2.184a.75.75 0 01.216.664l-.528 3.084 2.769-1.456a.75.75 0 01.698 0l2.77 1.456-.53-3.084a.75.75 0 01.216-.664l2.24-2.183-3.096-.45a.75.75 0 01-.564-.41L8 2.694v.001z"></path>
</svg>
        <span data-view-component="true">
          Star
</span></button>        <a class="social-count js-social-count" href="/smartinternz02/SI-GuidedProject-4420-1626416812/stargazers"
           aria-label="0 users starred this repository">
          0
        </a>
</form>  </div>

  </li>

  <li>
            <!-- '"` --><!-- </textarea></xmp> --></option></form><form class="btn-with-count" action="/smartinternz02/SI-GuidedProject-4420-1626416812/fork" accept-charset="UTF-8" method="post"><input type="hidden" name="authenticity_token" value="QA1sMiBQfi7OXuVBHkK4gxcA+GCict3TVk3YvtLP/xyaFcJnSAyQ3A0AnSigg2TiSt/dinIgUBebTfsICErDAQ==" />
              <button class="btn btn-sm btn-with-count" data-hydro-click="{&quot;event_type&quot;:&quot;repository.click&quot;,&quot;payload&quot;:{&quot;target&quot;:&quot;FORK_BUTTON&quot;,&quot;repository_id&quot;:386533370,&quot;originating_url&quot;:&quot;https://github.com/smartinternz02/SI-GuidedProject-4420-1626416812/commit/3f3aa00e1cb7c24d92154106977a766106c2adc7&quot;,&quot;user_id&quot;:75787429}}" data-hydro-click-hmac="5eb7a55cd0577c1669683304651e480e97a32dad03b8c527e8716c2128de1d77" data-ga-click="Repository, show fork modal, action:commit#show; text:Fork" type="submit" title="Fork your own copy of smartinternz02/SI-GuidedProject-4420-1626416812 to your account" aria-label="Fork your own copy of smartinternz02/SI-GuidedProject-4420-1626416812 to your account">                <svg aria-hidden="true" height="16" viewBox="0 0 16 16" version="1.1" width="16" data-view-component="true" class="octicon octicon-repo-forked">
    <path fill-rule="evenodd" d="M5 3.25a.75.75 0 11-1.5 0 .75.75 0 011.5 0zm0 2.122a2.25 2.25 0 10-1.5 0v.878A2.25 2.25 0 005.75 8.5h1.5v2.128a2.251 2.251 0 101.5 0V8.5h1.5a2.25 2.25 0 002.25-2.25v-.878a2.25 2.25 0 10-1.5 0v.878a.75.75 0 01-.75.75h-4.5A.75.75 0 015 6.25v-.878zm3.75 7.378a.75.75 0 11-1.5 0 .75.75 0 011.5 0zm3-8.75a.75.75 0 100-1.5.75.75 0 000 1.5z"></path>
</svg>
                Fork
</button></form>
      <a href="/smartinternz02/SI-GuidedProject-4420-1626416812/network/members" class="social-count"
         aria-label="0 users forked this repository">
        0
      </a>
  </li>
</ul>

      </div>

      <div id="responsive-meta-container" data-pjax-replace>
</div>


        

  <nav data-pjax="#js-repo-pjax-container" aria-label="Repository" data-view-component="true" class="js-repo-nav js-sidenav-container-pjax js-responsive-underlinenav overflow-hidden UnderlineNav px-3 px-md-4 px-lg-5">

    <ul data-view-component="true" class="UnderlineNav-body list-style-none">
        <li data-view-component="true" class="d-flex">
  <a id="code-tab" href="/smartinternz02/SI-GuidedProject-4420-1626416812" data-tab-item="i0code-tab" data-selected-links="repo_source repo_downloads repo_commits repo_releases repo_tags repo_branches repo_packages repo_deployments /smartinternz02/SI-GuidedProject-4420-1626416812" data-hotkey="g c" data-ga-click="Repository, Navigation click, Code tab" data-pjax="#repo-content-pjax-container" aria-current="page" data-view-component="true" class="UnderlineNav-item hx_underlinenav-item no-wrap js-responsive-underlinenav-item js-selected-navigation-item selected">
    
                  <svg aria-hidden="true" height="16" viewBox="0 0 16 16" version="1.1" width="16" data-view-component="true" class="octicon octicon-code UnderlineNav-octicon d-none d-sm-inline">
    <path fill-rule="evenodd" d="M4.72 3.22a.75.75 0 011.06 1.06L2.06 8l3.72 3.72a.75.75 0 11-1.06 1.06L.47 8.53a.75.75 0 010-1.06l4.25-4.25zm6.56 0a.75.75 0 10-1.06 1.06L13.94 8l-3.72 3.72a.75.75 0 101.06 1.06l4.25-4.25a.75.75 0 000-1.06l-4.25-4.25z"></path>
</svg>
          <span data-content="Code">Code</span>
            <span title="Not available" data-view-component="true" class="Counter"></span>

    
</a></li>
        <li data-view-component="true" class="d-flex">
  <a id="issues-tab" href="/smartinternz02/SI-GuidedProject-4420-1626416812/issues" data-tab-item="i1issues-tab" data-selected-links="repo_issues repo_labels repo_milestones /smartinternz02/SI-GuidedProject-4420-1626416812/issues" data-hotkey="g i" data-ga-click="Repository, Navigation click, Issues tab" data-pjax="#repo-content-pjax-container" data-view-component="true" class="UnderlineNav-item hx_underlinenav-item no-wrap js-responsive-underlinenav-item js-selected-navigation-item">
    
                  <svg aria-hidden="true" height="16" viewBox="0 0 16 16" version="1.1" width="16" data-view-component="true" class="octicon octicon-issue-opened UnderlineNav-octicon d-none d-sm-inline">
    <path d="M8 9.5a1.5 1.5 0 100-3 1.5 1.5 0 000 3z"></path><path fill-rule="evenodd" d="M8 0a8 8 0 100 16A8 8 0 008 0zM1.5 8a6.5 6.5 0 1113 0 6.5 6.5 0 01-13 0z"></path>
</svg>
          <span data-content="Issues">Issues</span>
            <span title="0" hidden="hidden" data-view-component="true" class="Counter">0</span>

    
</a></li>
        <li data-view-component="true" class="d-flex">
  <a id="pull-requests-tab" href="/smartinternz02/SI-GuidedProject-4420-1626416812/pulls" data-tab-item="i2pull-requests-tab" data-selected-links="repo_pulls checks /smartinternz02/SI-GuidedProject-4420-1626416812/pulls" data-hotkey="g p" data-ga-click="Repository, Navigation click, Pull requests tab" data-pjax="#repo-content-pjax-container" data-view-component="true" class="UnderlineNav-item hx_underlinenav-item no-wrap js-responsive-underlinenav-item js-selected-navigation-item">
    
                  <svg aria-hidden="true" height="16" viewBox="0 0 16 16" version="1.1" width="16" data-view-component="true" class="octicon octicon-git-pull-request UnderlineNav-octicon d-none d-sm-inline">
    <path fill-rule="evenodd" d="M7.177 3.073L9.573.677A.25.25 0 0110 .854v4.792a.25.25 0 01-.427.177L7.177 3.427a.25.25 0 010-.354zM3.75 2.5a.75.75 0 100 1.5.75.75 0 000-1.5zm-2.25.75a2.25 2.25 0 113 2.122v5.256a2.251 2.251 0 11-1.5 0V5.372A2.25 2.25 0 011.5 3.25zM11 2.5h-1V4h1a1 1 0 011 1v5.628a2.251 2.251 0 101.5 0V5A2.5 2.5 0 0011 2.5zm1 10.25a.75.75 0 111.5 0 .75.75 0 01-1.5 0zM3.75 12a.75.75 0 100 1.5.75.75 0 000-1.5z"></path>
</svg>
          <span data-content="Pull requests">Pull requests</span>
            <span title="0" hidden="hidden" data-view-component="true" class="Counter">0</span>

    
</a></li>
        <li data-view-component="true" class="d-flex">
  <a id="actions-tab" href="/smartinternz02/SI-GuidedProject-4420-1626416812/actions" data-tab-item="i3actions-tab" data-selected-links="repo_actions /smartinternz02/SI-GuidedProject-4420-1626416812/actions" data-hotkey="g a" data-ga-click="Repository, Navigation click, Actions tab" data-pjax="#repo-content-pjax-container" data-view-component="true" class="UnderlineNav-item hx_underlinenav-item no-wrap js-responsive-underlinenav-item js-selected-navigation-item">
    
                  <svg aria-hidden="true" height="16" viewBox="0 0 16 16" version="1.1" width="16" data-view-component="true" class="octicon octicon-play UnderlineNav-octicon d-none d-sm-inline">
    <path fill-rule="evenodd" d="M1.5 8a6.5 6.5 0 1113 0 6.5 6.5 0 01-13 0zM8 0a8 8 0 100 16A8 8 0 008 0zM6.379 5.227A.25.25 0 006 5.442v5.117a.25.25 0 00.379.214l4.264-2.559a.25.25 0 000-.428L6.379 5.227z"></path>
</svg>
          <span data-content="Actions">Actions</span>
            <span title="Not available" data-view-component="true" class="Counter"></span>

    
</a></li>
        <li data-view-component="true" class="d-flex">
  <a id="projects-tab" href="/smartinternz02/SI-GuidedProject-4420-1626416812/projects" data-tab-item="i4projects-tab" data-selected-links="repo_projects new_repo_project repo_project /smartinternz02/SI-GuidedProject-4420-1626416812/projects" data-hotkey="g b" data-ga-click="Repository, Navigation click, Projects tab" data-view-component="true" class="UnderlineNav-item hx_underlinenav-item no-wrap js-responsive-underlinenav-item js-selected-navigation-item">
    
                  <svg aria-hidden="true" height="16" viewBox="0 0 16 16" version="1.1" width="16" data-view-component="true" class="octicon octicon-project UnderlineNav-octicon d-none d-sm-inline">
    <path fill-rule="evenodd" d="M1.75 0A1.75 1.75 0 000 1.75v12.5C0 15.216.784 16 1.75 16h12.5A1.75 1.75 0 0016 14.25V1.75A1.75 1.75 0 0014.25 0H1.75zM1.5 1.75a.25.25 0 01.25-.25h12.5a.25.25 0 01.25.25v12.5a.25.25 0 01-.25.25H1.75a.25.25 0 01-.25-.25V1.75zM11.75 3a.75.75 0 00-.75.75v7.5a.75.75 0 001.5 0v-7.5a.75.75 0 00-.75-.75zm-8.25.75a.75.75 0 011.5 0v5.5a.75.75 0 01-1.5 0v-5.5zM8 3a.75.75 0 00-.75.75v3.5a.75.75 0 001.5 0v-3.5A.75.75 0 008 3z"></path>
</svg>
          <span data-content="Projects">Projects</span>
            <span title="0" hidden="hidden" data-view-component="true" class="Counter">0</span>

    
</a></li>
        <li data-view-component="true" class="d-flex">
  <a id="wiki-tab" href="/smartinternz02/SI-GuidedProject-4420-1626416812/wiki" data-tab-item="i5wiki-tab" data-selected-links="repo_wiki /smartinternz02/SI-GuidedProject-4420-1626416812/wiki" data-hotkey="g w" data-ga-click="Repository, Navigation click, Wikis tab" data-view-component="true" class="UnderlineNav-item hx_underlinenav-item no-wrap js-responsive-underlinenav-item js-selected-navigation-item">
    
                  <svg aria-hidden="true" height="16" viewBox="0 0 16 16" version="1.1" width="16" data-view-component="true" class="octicon octicon-book UnderlineNav-octicon d-none d-sm-inline">
    <path fill-rule="evenodd" d="M0 1.75A.75.75 0 01.75 1h4.253c1.227 0 2.317.59 3 1.501A3.744 3.744 0 0111.006 1h4.245a.75.75 0 01.75.75v10.5a.75.75 0 01-.75.75h-4.507a2.25 2.25 0 00-1.591.659l-.622.621a.75.75 0 01-1.06 0l-.622-.621A2.25 2.25 0 005.258 13H.75a.75.75 0 01-.75-.75V1.75zm8.755 3a2.25 2.25 0 012.25-2.25H14.5v9h-3.757c-.71 0-1.4.201-1.992.572l.004-7.322zm-1.504 7.324l.004-5.073-.002-2.253A2.25 2.25 0 005.003 2.5H1.5v9h3.757a3.75 3.75 0 011.994.574z"></path>
</svg>
          <span data-content="Wiki">Wiki</span>
            <span title="Not available" data-view-component="true" class="Counter"></span>

    
</a></li>
        <li data-view-component="true" class="d-flex">
  <a id="security-tab" href="/smartinternz02/SI-GuidedProject-4420-1626416812/security" data-tab-item="i6security-tab" data-selected-links="security overview alerts policy token_scanning code_scanning /smartinternz02/SI-GuidedProject-4420-1626416812/security" data-hotkey="g s" data-ga-click="Repository, Navigation click, Security tab" data-view-component="true" class="UnderlineNav-item hx_underlinenav-item no-wrap js-responsive-underlinenav-item js-selected-navigation-item">
    
                  <svg aria-hidden="true" height="16" viewBox="0 0 16 16" version="1.1" width="16" data-view-component="true" class="octicon octicon-shield UnderlineNav-octicon d-none d-sm-inline">
    <path fill-rule="evenodd" d="M7.467.133a1.75 1.75 0 011.066 0l5.25 1.68A1.75 1.75 0 0115 3.48V7c0 1.566-.32 3.182-1.303 4.682-.983 1.498-2.585 2.813-5.032 3.855a1.7 1.7 0 01-1.33 0c-2.447-1.042-4.049-2.357-5.032-3.855C1.32 10.182 1 8.566 1 7V3.48a1.75 1.75 0 011.217-1.667l5.25-1.68zm.61 1.429a.25.25 0 00-.153 0l-5.25 1.68a.25.25 0 00-.174.238V7c0 1.358.275 2.666 1.057 3.86.784 1.194 2.121 2.34 4.366 3.297a.2.2 0 00.154 0c2.245-.956 3.582-2.104 4.366-3.298C13.225 9.666 13.5 8.36 13.5 7V3.48a.25.25 0 00-.174-.237l-5.25-1.68zM9 10.5a1 1 0 11-2 0 1 1 0 012 0zm-.25-5.75a.75.75 0 10-1.5 0v3a.75.75 0 001.5 0v-3z"></path>
</svg>
          <span data-content="Security">Security</span>
            <include-fragment src="/smartinternz02/SI-GuidedProject-4420-1626416812/security/overall-count" accept="text/fragment+html"></include-fragment>

    
</a></li>
        <li data-view-component="true" class="d-flex">
  <a id="insights-tab" href="/smartinternz02/SI-GuidedProject-4420-1626416812/pulse" data-tab-item="i7insights-tab" data-selected-links="repo_graphs repo_contributors dependency_graph dependabot_updates pulse people community /smartinternz02/SI-GuidedProject-4420-1626416812/pulse" data-ga-click="Repository, Navigation click, Insights tab" data-view-component="true" class="UnderlineNav-item hx_underlinenav-item no-wrap js-responsive-underlinenav-item js-selected-navigation-item">
    
                  <svg aria-hidden="true" height="16" viewBox="0 0 16 16" version="1.1" width="16" data-view-component="true" class="octicon octicon-graph UnderlineNav-octicon d-none d-sm-inline">
    <path fill-rule="evenodd" d="M1.5 1.75a.75.75 0 00-1.5 0v12.5c0 .414.336.75.75.75h14.5a.75.75 0 000-1.5H1.5V1.75zm14.28 2.53a.75.75 0 00-1.06-1.06L10 7.94 7.53 5.47a.75.75 0 00-1.06 0L3.22 8.72a.75.75 0 001.06 1.06L7 7.06l2.47 2.47a.75.75 0 001.06 0l5.25-5.25z"></path>
</svg>
          <span data-content="Insights">Insights</span>
            <span title="Not available" data-view-component="true" class="Counter"></span>

    
</a></li>
</ul>
      <div style="visibility:hidden;" data-view-component="true" class="UnderlineNav-actions  js-responsive-underlinenav-overflow position-absolute pr-3 pr-md-4 pr-lg-5 right-0">      <details data-view-component="true" class="details-overlay details-reset position-relative">
  <summary role="button" data-view-component="true">          <div class="UnderlineNav-item mr-0 border-0">
            <svg aria-hidden="true" height="16" viewBox="0 0 16 16" version="1.1" width="16" data-view-component="true" class="octicon octicon-kebab-horizontal">
    <path d="M8 9a1.5 1.5 0 100-3 1.5 1.5 0 000 3zM1.5 9a1.5 1.5 0 100-3 1.5 1.5 0 000 3zm13 0a1.5 1.5 0 100-3 1.5 1.5 0 000 3z"></path>
</svg>
            <span class="sr-only">More</span>
          </div>
</summary>
  <div data-view-component="true">          <details-menu role="menu" data-view-component="true" class="dropdown-menu dropdown-menu-sw">
  
            <ul>
                <li data-menu-item="i0code-tab" hidden>
                  <a role="menuitem" class="js-selected-navigation-item selected dropdown-item" aria-current="page" data-selected-links="repo_source repo_downloads repo_commits repo_releases repo_tags repo_branches repo_packages repo_deployments /smartinternz02/SI-GuidedProject-4420-1626416812" href="/smartinternz02/SI-GuidedProject-4420-1626416812">
                    Code
</a>                </li>
                <li data-menu-item="i1issues-tab" hidden>
                  <a role="menuitem" class="js-selected-navigation-item dropdown-item" data-selected-links="repo_issues repo_labels repo_milestones /smartinternz02/SI-GuidedProject-4420-1626416812/issues" href="/smartinternz02/SI-GuidedProject-4420-1626416812/issues">
                    Issues
</a>                </li>
                <li data-menu-item="i2pull-requests-tab" hidden>
                  <a role="menuitem" class="js-selected-navigation-item dropdown-item" data-selected-links="repo_pulls checks /smartinternz02/SI-GuidedProject-4420-1626416812/pulls" href="/smartinternz02/SI-GuidedProject-4420-1626416812/pulls">
                    Pull requests
</a>                </li>
                <li data-menu-item="i3actions-tab" hidden>
                  <a role="menuitem" class="js-selected-navigation-item dropdown-item" data-selected-links="repo_actions /smartinternz02/SI-GuidedProject-4420-1626416812/actions" href="/smartinternz02/SI-GuidedProject-4420-1626416812/actions">
                    Actions
</a>                </li>
                <li data-menu-item="i4projects-tab" hidden>
                  <a role="menuitem" class="js-selected-navigation-item dropdown-item" data-selected-links="repo_projects new_repo_project repo_project /smartinternz02/SI-GuidedProject-4420-1626416812/projects" href="/smartinternz02/SI-GuidedProject-4420-1626416812/projects">
                    Projects
</a>                </li>
                <li data-menu-item="i5wiki-tab" hidden>
                  <a role="menuitem" class="js-selected-navigation-item dropdown-item" data-selected-links="repo_wiki /smartinternz02/SI-GuidedProject-4420-1626416812/wiki" href="/smartinternz02/SI-GuidedProject-4420-1626416812/wiki">
                    Wiki
</a>                </li>
                <li data-menu-item="i6security-tab" hidden>
                  <a role="menuitem" class="js-selected-navigation-item dropdown-item" data-selected-links="security overview alerts policy token_scanning code_scanning /smartinternz02/SI-GuidedProject-4420-1626416812/security" href="/smartinternz02/SI-GuidedProject-4420-1626416812/security">
                    Security
</a>                </li>
                <li data-menu-item="i7insights-tab" hidden>
                  <a role="menuitem" class="js-selected-navigation-item dropdown-item" data-selected-links="repo_graphs repo_contributors dependency_graph dependabot_updates pulse people community /smartinternz02/SI-GuidedProject-4420-1626416812/pulse" href="/smartinternz02/SI-GuidedProject-4420-1626416812/pulse">
                    Insights
</a>                </li>
            </ul>

</details-menu></div>
</details></div>
</nav>

  </div>


<div class="container-xl clearfix new-discussion-timeline px-3 px-md-4 px-lg-5">
  <div id="repo-content-pjax-container" class="repository-content " >

    


    
      

  <a href="/smartinternz02/SI-GuidedProject-4420-1626416812/commit/3f3aa00e1cb7c24d92154106977a766106c2adc7" class="d-none js-permalink-shortcut" data-hotkey="y">Permalink</a>




<div id="spoof-warning" class="mt-0 pb-3" hidden aria-hidden>
  <div class="flash mt-0 flash-warn clearfix">
    <svg aria-hidden="true" height="16" viewBox="0 0 16 16" version="1.1" width="16" data-view-component="true" class="octicon octicon-alert float-left mt-1">
    <path fill-rule="evenodd" d="M8.22 1.754a.25.25 0 00-.44 0L1.698 13.132a.25.25 0 00.22.368h12.164a.25.25 0 00.22-.368L8.22 1.754zm-1.763-.707c.659-1.234 2.427-1.234 3.086 0l6.082 11.378A1.75 1.75 0 0114.082 15H1.918a1.75 1.75 0 01-1.543-2.575L6.457 1.047zM9 11a1 1 0 11-2 0 1 1 0 012 0zm-.25-5.25a.75.75 0 00-1.5 0v2.5a.75.75 0 001.5 0v-2.5z"></path>
</svg>

      <div class="overflow-hidden">This commit does not belong to any branch on this repository, and may belong to a fork outside of the repository.</div>
  </div>
</div>

<div class="commit full-commit mt-0 px-2 pt-2 ">
  <a href="/smartinternz02/SI-GuidedProject-4420-1626416812/tree/3f3aa00e1cb7c24d92154106977a766106c2adc7" class="btn btn-outline float-right" title="Browse the repository at this point in the history" rel="nofollow">Browse files</a>

    <span class="mr-1 mt-1 float-left">
    </span>

    <div class="commit-title markdown-title">
      Add files via upload
    </div>


  <div class="commit-branches pb-2">
  <include-fragment src="/smartinternz02/SI-GuidedProject-4420-1626416812/branch_commits/3f3aa00e1cb7c24d92154106977a766106c2adc7" id="async-branches-list">
    <svg aria-hidden="true" height="16" viewBox="0 0 16 16" version="1.1" width="16" data-view-component="true" class="octicon octicon-git-branch">
    <path fill-rule="evenodd" d="M11.75 2.5a.75.75 0 100 1.5.75.75 0 000-1.5zm-2.25.75a2.25 2.25 0 113 2.122V6A2.5 2.5 0 0110 8.5H6a1 1 0 00-1 1v1.128a2.251 2.251 0 11-1.5 0V5.372a2.25 2.25 0 111.5 0v1.836A2.492 2.492 0 016 7h4a1 1 0 001-1v-.628A2.25 2.25 0 019.5 3.25zM4.25 12a.75.75 0 100 1.5.75.75 0 000-1.5zM3.5 3.25a.75.75 0 111.5 0 .75.75 0 01-1.5 0z"></path>
</svg>
    <ul class="branches-list">
      <li class="loading">Loading branch information<span class="AnimatedEllipsis"></span></li>
    </ul>
</include-fragment></div>


  <div class="commit-meta p-2 d-flex flex-wrap">
    
<div class="AvatarStack flex-self-start  " >
  <div class="AvatarStack-body" aria-label="anveshmula" >
      <a class="avatar avatar-user" style="width:20px;height:20px;" data-skip-pjax="true" data-test-selector="commits-avatar-stack-avatar-link" data-hovercard-type="user" data-hovercard-url="/users/anveshmula/hovercard" data-octo-click="hovercard-link-click" data-octo-dimensions="link_type:self" href="/anveshmula">
        <img data-test-selector="commits-avatar-stack-avatar-image" src="https://avatars.githubusercontent.com/u/87192605?s=40&amp;v=4" width="20" height="20" alt="@anveshmula" class=" avatar-user" />
</a>  </div>
</div>

    <div class="flex-self-start no-wrap mr-md-4 mr-0">
      
      <a href="/smartinternz02/SI-GuidedProject-4420-1626416812/commits?author=anveshmula"
     class="commit-author user-mention"
     title="View all commits by anveshmula">anveshmula</a>


  committed
  <relative-time datetime="2021-08-13T15:11:22Z" class="no-wrap">Aug 13, 2021</relative-time>

      <div class="d-none d-md-inline-block">
          
<batch-deferred-content class="d-inline-block" data-url="/commits/badges">
  <input type="hidden" value="6ycdqeFtyixiopM/I/ppfoQUhRAvmC7XUCi4x9l+b75tfkO4TH0JwNY9jPgBXf6hHyxMErYxzEFRUAQf+Vy3sA==" data-csrf="true" />

    <input type="hidden" name="id" value="MDY6Q29tbWl0Mzg2NTMzMzcwOjNmM2FhMDBlMWNiN2MyNGQ5MjE1NDEwNjk3N2E3NjYxMDZjMmFkYzc=" data-targets="batch-deferred-content.inputs" />
    <input type="hidden" name="badge_size" value="medium" data-targets="batch-deferred-content.inputs" />
    <input type="hidden" name="dropdown_direction" value="s" data-targets="batch-deferred-content.inputs" />

  

    <span class="Skeleton d-inline-block mr-1" style="width:75px; height:14px; margin-top:5px;"></span>

</batch-deferred-content>
      </div>
    </div>
    <div class="flex-auto no-wrap text-lg-right text-left overflow-x-auto">
      <span class="sha-block ml-0" data-pjax>
        0 parents
      </span>
      <span class="sha-block">commit <span class="sha user-select-contain">3f3aa00e1cb7c24d92154106977a766106c2adc7</span></span>
    </div>
  </div>
</div>


  

      <table style="display: none">
    <tbody id="js-inline-comments-single-container-template">
      <tr class="inline-comments js-inline-comments-container">
        <td class="line-comments js-line-comments js-quote-selection-container p-0 p-sm-2" data-quote-markdown=".js-comment-body" colspan="3">
          <div class="js-line-comments">
            <div class="comment-holder js-comments-holder">
            </div>
            
<div class="inline-comment-form-container js-inline-comment-form-container review-comment-form-container">
    <div class="f6 pb-2 d-flex flex-justify-between js-multi-line-preview" hidden>
        <div class="f6 color-text-secondary">
      Commenting on lines

    <span class="js-multi-line-preview-start ">
      
    </span> to <span class="js-multi-line-preview-end ">
      
    </span>

  </div>

    </div>

  <div class="inline-comment-form border-md border-0 p-md-0 p-2 ">
      <!-- '"` --><!-- </textarea></xmp> --></option></form><form class="js-inline-comment-form" action="/smartinternz02/SI-GuidedProject-4420-1626416812/commit_comment/create" accept-charset="UTF-8" method="post"><input type="hidden" name="authenticity_token" value="BcmhjTbrT+2kRPev6W4542a6t4anLpsxw3KeEeu0omteU/ZbYciLZ0JHljNT9CBWnbk4pxAIZUpcGI82rjU28w==" />
        <input type="text" name="required_field_3934" hidden="hidden" class="form-control" /><input type="hidden" name="timestamp" value="1629299331946" class="form-control" /><input type="hidden" name="timestamp_secret" value="af4ba163853ee5d6b63f29bea301f55e6c0915c5737897ef92666e30802f63be" class="form-control" />
        <input type="hidden" name="comment_context" value="diff">
        <input type="hidden" name="position" value="">

          <input type="hidden" name="commit_id" value="3f3aa00e1cb7c24d92154106977a766106c2adc7">



        <tab-container class="js-previewable-comment-form previewable-comment-form write-selected" data-preview-url="/preview?markdown_unsupported=false&amp;repository=386533370&amp;subject=3f3aa00e1cb7c24d92154106977a766106c2adc7&amp;subject_type=Commit">
  <input type="hidden" value="C57SxCtPIRdde5q57FdyUAuY50gflMU0fSyW00Zmgy99PXihgXJHJkh4yuI5/23mCAmdqrJEpqct6IhNEwSUBg==" data-csrf="true" class="js-data-preview-url-csrf" />
  <div
    class="comment-form-head tabnav d-flex flex-justify-between mb-2 p-0 tabnav--responsive flex-column border-bottom-0 mb-0 mb-lg-2 flex-items-stretch border-lg-bottom color-border-primary flex-lg-items-center flex-lg-row"
  >
      <div
        class="tabnav-tabs mx-0 mx-md-2 mt-0 mt-md-2 no-wrap d-flex flex-auto d-md-block"
        role="tablist"
      >
        <button
          type="button"
          class="btn-link tabnav-tab write-tab js-write-tab px-3 px-sm-6 px-md-3 flex-1 flex-md-auto"
          role="tab"
          aria-selected="true"
        >
          Write
        </button>
        <button
          type="button"
          class="btn-link tabnav-tab preview-tab js-preview-tab flex-1 flex-md-auto"
          role="tab"
        >
          Preview
        </button>
      </div>
    <markdown-toolbar role="toolbar" aria-label="Composition" for="r722293 new_inline_comment_diff_${anchor}_${position}" data-view-component="true" class="js-details-container Details toolbar-commenting no-wrap border-md-top border-lg-top-0 d-flex px-2 pt-2 pt-lg-0 flex-items-start flex-wrap">
    <div class="d-block d-md-none flex-auto">
      <button data-md-button tabindex="-1" type="button" aria-label="Toggle text tools" aria-expanded="false" class="js-details-target btn-link toolbar-item no-underline py-2 mr-1">
        <svg aria-hidden="true" height="16" viewBox="0 0 16 16" version="1.1" width="16" data-view-component="true" class="octicon octicon-typography">
    <path fill-rule="evenodd" d="M6.21 8.5L4.574 3.594 2.857 8.5H6.21zm.5 1.5l.829 2.487a.75.75 0 001.423-.474L5.735 2.332a1.216 1.216 0 00-2.302-.018l-3.39 9.688a.75.75 0 001.415.496L2.332 10H6.71zm3.13-4.358C10.53 4.374 11.87 4 13 4c1.5 0 3 .939 3 2.601v5.649a.75.75 0 01-1.448.275C13.995 12.82 13.3 13 12.5 13c-.77 0-1.514-.231-2.078-.709-.577-.488-.922-1.199-.922-2.041 0-.694.265-1.411.887-1.944C11 7.78 11.88 7.5 13 7.5h1.5v-.899c0-.54-.5-1.101-1.5-1.101-.869 0-1.528.282-1.84.858a.75.75 0 11-1.32-.716zM14.5 9H13c-.881 0-1.375.22-1.637.444-.253.217-.363.5-.363.806 0 .408.155.697.39.896.249.21.63.354 1.11.354.732 0 1.26-.209 1.588-.449.35-.257.412-.495.412-.551V9z"></path>
</svg>
        <svg aria-hidden="true" height="16" viewBox="0 0 16 16" version="1.1" width="16" data-view-component="true" class="octicon octicon-chevron-up Details-content--shown">
    <path fill-rule="evenodd" d="M3.22 9.78a.75.75 0 010-1.06l4.25-4.25a.75.75 0 011.06 0l4.25 4.25a.75.75 0 01-1.06 1.06L8 6.06 4.28 9.78a.75.75 0 01-1.06 0z"></path>
</svg>
        <svg aria-hidden="true" height="16" viewBox="0 0 16 16" version="1.1" width="16" data-view-component="true" class="octicon octicon-chevron-down Details-content--hidden">
    <path fill-rule="evenodd" d="M12.78 6.22a.75.75 0 010 1.06l-4.25 4.25a.75.75 0 01-1.06 0L3.22 7.28a.75.75 0 011.06-1.06L8 9.94l3.72-3.72a.75.75 0 011.06 0z"></path>
</svg>
      </button>
    </div>

  
    <div class="flex-nowrap d-none d-md-inline-block mr-3">
      <md-header tabindex="-1" class="toolbar-item tooltipped tooltipped-sw mx-1" aria-label="Add header text" data-ga-click="Markdown Toolbar, click, header">
        <!-- BEGIN vendor/gems/2.7.1/ruby/2.7.0/gems/primer_view_components-0.0.51/app/components/primer/octicon_component.rb --><svg aria-hidden="true" height="16" viewBox="0 0 16 16" version="1.1" width="16" data-view-component="true" class="octicon octicon-heading">
    <path fill-rule="evenodd" d="M3.75 2a.75.75 0 01.75.75V7h7V2.75a.75.75 0 011.5 0v10.5a.75.75 0 01-1.5 0V8.5h-7v4.75a.75.75 0 01-1.5 0V2.75A.75.75 0 013.75 2z"></path>
</svg><!-- END vendor/gems/2.7.1/ruby/2.7.0/gems/primer_view_components-0.0.51/app/components/primer/octicon_component.rb -->
      </md-header>

      <md-bold tabindex="-1" class="toolbar-item tooltipped tooltipped-sw mx-1 js-modifier-label-key" aria-label="Add bold text <ctrl+b>" data-ga-click="Markdown Toolbar, click, bold">
        <!-- BEGIN vendor/gems/2.7.1/ruby/2.7.0/gems/primer_view_components-0.0.51/app/components/primer/octicon_component.rb --><svg aria-hidden="true" height="16" viewBox="0 0 16 16" version="1.1" width="16" data-view-component="true" class="octicon octicon-bold">
    <path fill-rule="evenodd" d="M4 2a1 1 0 00-1 1v10a1 1 0 001 1h5.5a3.5 3.5 0 001.852-6.47A3.5 3.5 0 008.5 2H4zm4.5 5a1.5 1.5 0 100-3H5v3h3.5zM5 9v3h4.5a1.5 1.5 0 000-3H5z"></path>
</svg><!-- END vendor/gems/2.7.1/ruby/2.7.0/gems/primer_view_components-0.0.51/app/components/primer/octicon_component.rb -->
      </md-bold>

      <md-italic tabindex="-1" class="toolbar-item tooltipped tooltipped-sw mx-1 js-modifier-label-key" aria-label="Add italic text <ctrl+i>" data-ga-click="Markdown Toolbar, click, italic">
        <!-- BEGIN vendor/gems/2.7.1/ruby/2.7.0/gems/primer_view_components-0.0.51/app/components/primer/octicon_component.rb --><svg aria-hidden="true" height="16" viewBox="0 0 16 16" version="1.1" width="16" data-view-component="true" class="octicon octicon-italic">
    <path fill-rule="evenodd" d="M6 2.75A.75.75 0 016.75 2h6.5a.75.75 0 010 1.5h-2.505l-3.858 9H9.25a.75.75 0 010 1.5h-6.5a.75.75 0 010-1.5h2.505l3.858-9H6.75A.75.75 0 016 2.75z"></path>
</svg><!-- END vendor/gems/2.7.1/ruby/2.7.0/gems/primer_view_components-0.0.51/app/components/primer/octicon_component.rb -->
      </md-italic>
    </div>

    <div class="d-flex d-md-inline-block mr-0 mr-md-3">
      <md-quote tabindex="-1" class="toolbar-item tooltipped tooltipped-sw p-2 p-md-1 mx-1" aria-label="Insert a quote" data-ga-click="Markdown Toolbar, click, quote">
        <!-- BEGIN vendor/gems/2.7.1/ruby/2.7.0/gems/primer_view_components-0.0.51/app/components/primer/octicon_component.rb --><svg aria-hidden="true" height="16" viewBox="0 0 16 16" version="1.1" width="16" data-view-component="true" class="octicon octicon-quote">
    <path fill-rule="evenodd" d="M1.75 2.5a.75.75 0 000 1.5h10.5a.75.75 0 000-1.5H1.75zm4 5a.75.75 0 000 1.5h8.5a.75.75 0 000-1.5h-8.5zm0 5a.75.75 0 000 1.5h8.5a.75.75 0 000-1.5h-8.5zM2.5 7.75a.75.75 0 00-1.5 0v6a.75.75 0 001.5 0v-6z"></path>
</svg><!-- END vendor/gems/2.7.1/ruby/2.7.0/gems/primer_view_components-0.0.51/app/components/primer/octicon_component.rb -->
      </md-quote>

      <md-code tabindex="-1" class="toolbar-item tooltipped tooltipped-sw js-modifier-label-key p-2 p-md-1 mx-1" aria-label="Insert code <ctrl+e>" data-ga-click="Markdown Toolbar, click, code">
        <!-- BEGIN vendor/gems/2.7.1/ruby/2.7.0/gems/primer_view_components-0.0.51/app/components/primer/octicon_component.rb --><svg aria-hidden="true" height="16" viewBox="0 0 16 16" version="1.1" width="16" data-view-component="true" class="octicon octicon-code">
    <path fill-rule="evenodd" d="M4.72 3.22a.75.75 0 011.06 1.06L2.06 8l3.72 3.72a.75.75 0 11-1.06 1.06L.47 8.53a.75.75 0 010-1.06l4.25-4.25zm6.56 0a.75.75 0 10-1.06 1.06L13.94 8l-3.72 3.72a.75.75 0 101.06 1.06l4.25-4.25a.75.75 0 000-1.06l-4.25-4.25z"></path>
</svg><!-- END vendor/gems/2.7.1/ruby/2.7.0/gems/primer_view_components-0.0.51/app/components/primer/octicon_component.rb -->
      </md-code>

        <button type="button" data-md-button tabindex="-1" class="toolbar-item text-center menu-target p-2 mx-1 d-md-none js-markdown-link-button" aria-label="Add a link" data-ga-click="Markdown Toolbar, click, saved reply">
          <!-- BEGIN vendor/gems/2.7.1/ruby/2.7.0/gems/primer_view_components-0.0.51/app/components/primer/octicon_component.rb --><svg aria-hidden="true" height="16" viewBox="0 0 16 16" version="1.1" width="16" data-view-component="true" class="octicon octicon-link">
    <path fill-rule="evenodd" d="M7.775 3.275a.75.75 0 001.06 1.06l1.25-1.25a2 2 0 112.83 2.83l-2.5 2.5a2 2 0 01-2.83 0 .75.75 0 00-1.06 1.06 3.5 3.5 0 004.95 0l2.5-2.5a3.5 3.5 0 00-4.95-4.95l-1.25 1.25zm-4.69 9.64a2 2 0 010-2.83l2.5-2.5a2 2 0 012.83 0 .75.75 0 001.06-1.06 3.5 3.5 0 00-4.95 0l-2.5 2.5a3.5 3.5 0 004.95 4.95l1.25-1.25a.75.75 0 00-1.06-1.06l-1.25 1.25a2 2 0 01-2.83 0z"></path>
</svg><!-- END vendor/gems/2.7.1/ruby/2.7.0/gems/primer_view_components-0.0.51/app/components/primer/octicon_component.rb -->
        </button>
    <template class="js-markdown-link-dialog">
      <div class="Box-header">
        <h3 class="Box-title">Insert Link</h3>
      </div>
      <div class="Box-body overflow-auto">
        <div>
          <label class="d-block mb-1" for="js-dialog-link-text">Link Text</label>
          <input type="text" class="mb-3 form-control input-block" id="js-dialog-link-text" autofocus>
        </div>
        <div>
          <label class="d-block mb-1" for="js-dialog-link-href">URL</label>
          <input type="url" class="mb-3 form-control input-block" id="js-dialog-link-href">
        </div>
        <div class="pt-3 border-top">
          <button
            type="button"
            class="btn btn-primary btn-block js-markdown-link-insert"
            data-close-dialog
            data-for-textarea="r722293 new_inline_comment_diff_${anchor}_${position}"
          >
            Add
          </button>
        </div>
      </div>
    </template>

    <md-link tabindex="-1" class="toolbar-item tooltipped tooltipped-sw p-2 p-md-1 d-none d-md-block mx-1 js-modifier-label-key" aria-label="Add a link <ctrl+k>" data-ga-click="Markdown Toolbar, click, link">
      <!-- BEGIN vendor/gems/2.7.1/ruby/2.7.0/gems/primer_view_components-0.0.51/app/components/primer/octicon_component.rb --><svg aria-hidden="true" height="16" viewBox="0 0 16 16" version="1.1" width="16" data-view-component="true" class="octicon octicon-link">
    <path fill-rule="evenodd" d="M7.775 3.275a.75.75 0 001.06 1.06l1.25-1.25a2 2 0 112.83 2.83l-2.5 2.5a2 2 0 01-2.83 0 .75.75 0 00-1.06 1.06 3.5 3.5 0 004.95 0l2.5-2.5a3.5 3.5 0 00-4.95-4.95l-1.25 1.25zm-4.69 9.64a2 2 0 010-2.83l2.5-2.5a2 2 0 012.83 0 .75.75 0 001.06-1.06 3.5 3.5 0 00-4.95 0l-2.5 2.5a3.5 3.5 0 004.95 4.95l1.25-1.25a.75.75 0 00-1.06-1.06l-1.25 1.25a2 2 0 01-2.83 0z"></path>
</svg><!-- END vendor/gems/2.7.1/ruby/2.7.0/gems/primer_view_components-0.0.51/app/components/primer/octicon_component.rb -->
    </md-link>
    </div>

  <div class="d-none d-md-inline-block mr-3">
      <md-unordered-list tabindex="-1" class="toolbar-item tooltipped tooltipped-sw mx-1" aria-label="Add a bulleted list" data-ga-click="Markdown Toolbar, click, unordered list">
        <!-- BEGIN vendor/gems/2.7.1/ruby/2.7.0/gems/primer_view_components-0.0.51/app/components/primer/octicon_component.rb --><svg aria-hidden="true" height="16" viewBox="0 0 16 16" version="1.1" width="16" data-view-component="true" class="octicon octicon-list-unordered">
    <path fill-rule="evenodd" d="M2 4a1 1 0 100-2 1 1 0 000 2zm3.75-1.5a.75.75 0 000 1.5h8.5a.75.75 0 000-1.5h-8.5zm0 5a.75.75 0 000 1.5h8.5a.75.75 0 000-1.5h-8.5zm0 5a.75.75 0 000 1.5h8.5a.75.75 0 000-1.5h-8.5zM3 8a1 1 0 11-2 0 1 1 0 012 0zm-1 6a1 1 0 100-2 1 1 0 000 2z"></path>
</svg><!-- END vendor/gems/2.7.1/ruby/2.7.0/gems/primer_view_components-0.0.51/app/components/primer/octicon_component.rb -->
      </md-unordered-list>

      <md-ordered-list tabindex="-1" class="toolbar-item tooltipped tooltipped-sw mx-1" aria-label="Add a numbered list" data-ga-click="Markdown Toolbar, click, ordered list">
        <!-- BEGIN vendor/gems/2.7.1/ruby/2.7.0/gems/primer_view_components-0.0.51/app/components/primer/octicon_component.rb --><svg aria-hidden="true" height="16" viewBox="0 0 16 16" version="1.1" width="16" data-view-component="true" class="octicon octicon-list-ordered">
    <path fill-rule="evenodd" d="M2.003 2.5a.5.5 0 00-.723-.447l-1.003.5a.5.5 0 00.446.895l.28-.14V6H.5a.5.5 0 000 1h2.006a.5.5 0 100-1h-.503V2.5zM5 3.25a.75.75 0 01.75-.75h8.5a.75.75 0 010 1.5h-8.5A.75.75 0 015 3.25zm0 5a.75.75 0 01.75-.75h8.5a.75.75 0 010 1.5h-8.5A.75.75 0 015 8.25zm0 5a.75.75 0 01.75-.75h8.5a.75.75 0 010 1.5h-8.5a.75.75 0 01-.75-.75zM.924 10.32l.003-.004a.851.851 0 01.144-.153A.66.66 0 011.5 10c.195 0 .306.068.374.146a.57.57 0 01.128.376c0 .453-.269.682-.8 1.078l-.035.025C.692 11.98 0 12.495 0 13.5a.5.5 0 00.5.5h2.003a.5.5 0 000-1H1.146c.132-.197.351-.372.654-.597l.047-.035c.47-.35 1.156-.858 1.156-1.845 0-.365-.118-.744-.377-1.038-.268-.303-.658-.484-1.126-.484-.48 0-.84.202-1.068.392a1.858 1.858 0 00-.348.384l-.007.011-.002.004-.001.002-.001.001a.5.5 0 00.851.525zM.5 10.055l-.427-.26.427.26z"></path>
</svg><!-- END vendor/gems/2.7.1/ruby/2.7.0/gems/primer_view_components-0.0.51/app/components/primer/octicon_component.rb -->
      </md-ordered-list>

      <md-task-list tabindex="-1" class="toolbar-item tooltipped tooltipped-sw mx-1" aria-label="Add a task list" data-ga-click="Markdown Toolbar, click, task list">
        <!-- BEGIN vendor/gems/2.7.1/ruby/2.7.0/gems/primer_view_components-0.0.51/app/components/primer/octicon_component.rb --><svg aria-hidden="true" height="16" viewBox="0 0 16 16" version="1.1" width="16" data-view-component="true" class="octicon octicon-tasklist">
    <path fill-rule="evenodd" d="M2.5 2.75a.25.25 0 01.25-.25h10.5a.25.25 0 01.25.25v10.5a.25.25 0 01-.25.25H2.75a.25.25 0 01-.25-.25V2.75zM2.75 1A1.75 1.75 0 001 2.75v10.5c0 .966.784 1.75 1.75 1.75h10.5A1.75 1.75 0 0015 13.25V2.75A1.75 1.75 0 0013.25 1H2.75zm9.03 5.28a.75.75 0 00-1.06-1.06L6.75 9.19 5.28 7.72a.75.75 0 00-1.06 1.06l2 2a.75.75 0 001.06 0l4.5-4.5z"></path>
</svg><!-- END vendor/gems/2.7.1/ruby/2.7.0/gems/primer_view_components-0.0.51/app/components/primer/octicon_component.rb -->
      </md-task-list>
      </div>

          <div  class="d-flex d-xs-inline-block">
          <md-mention tabindex="-1" class="flex-auto text-center toolbar-item tooltipped tooltipped-sw p-2 p-md-1 mx-1" aria-label="Directly mention a user or team" data-ga-click="Markdown Toolbar, click, mention">
            <svg aria-hidden="true" height="16" viewBox="0 0 16 16" version="1.1" width="16" data-view-component="true" class="octicon octicon-mention">
    <path fill-rule="evenodd" d="M4.75 2.37a6.5 6.5 0 006.5 11.26.75.75 0 01.75 1.298 8 8 0 113.994-7.273.754.754 0 01.006.095v1.5a2.75 2.75 0 01-5.072 1.475A4 4 0 1112 8v1.25a1.25 1.25 0 002.5 0V7.867a6.5 6.5 0 00-9.75-5.496V2.37zM10.5 8a2.5 2.5 0 10-5 0 2.5 2.5 0 005 0z"></path>
</svg>
          </md-mention>

          <label for="fc-r722293 new_inline_comment_diff_${anchor}_${position}" data-md-button tabindex="-1"  class="d-block d-md-none btn-link flex-auto text-center toolbar-item tooltipped tooltipped-sw p-2 mx-1" aria-label="Attach an image or video">
            <svg aria-hidden="true" height="16" viewBox="0 0 16 16" version="1.1" width="16" data-view-component="true" class="octicon octicon-image">
    <path fill-rule="evenodd" d="M1.75 2.5a.25.25 0 00-.25.25v10.5c0 .138.112.25.25.25h.94a.76.76 0 01.03-.03l6.077-6.078a1.75 1.75 0 012.412-.06L14.5 10.31V2.75a.25.25 0 00-.25-.25H1.75zm12.5 11H4.81l5.048-5.047a.25.25 0 01.344-.009l4.298 3.889v.917a.25.25 0 01-.25.25zm1.75-.25V2.75A1.75 1.75 0 0014.25 1H1.75A1.75 1.75 0 000 2.75v10.5C0 14.216.784 15 1.75 15h12.5A1.75 1.75 0 0016 13.25zM5.5 6a.5.5 0 11-1 0 .5.5 0 011 0zM7 6a2 2 0 11-4 0 2 2 0 014 0z"></path>
</svg>
          </label>

          <md-ref tabindex="-1" class="flex-auto text-center toolbar-item tooltipped tooltipped-sw p-2 p-md-1 mx-1" aria-label="Reference an issue, pull request, or discussion" data-ga-click="Markdown Toolbar, click, reference">
            <svg aria-hidden="true" height="16" viewBox="0 0 16 16" version="1.1" width="16" data-view-component="true" class="octicon octicon-cross-reference">
    <path fill-rule="evenodd" d="M16 1.25v4.146a.25.25 0 01-.427.177L14.03 4.03l-3.75 3.75a.75.75 0 11-1.06-1.06l3.75-3.75-1.543-1.543A.25.25 0 0111.604 1h4.146a.25.25 0 01.25.25zM2.75 3.5a.25.25 0 00-.25.25v7.5c0 .138.112.25.25.25h2a.75.75 0 01.75.75v2.19l2.72-2.72a.75.75 0 01.53-.22h4.5a.25.25 0 00.25-.25v-2.5a.75.75 0 111.5 0v2.5A1.75 1.75 0 0113.25 13H9.06l-2.573 2.573A1.457 1.457 0 014 14.543V13H2.75A1.75 1.75 0 011 11.25v-7.5C1 2.784 1.784 2 2.75 2h5.5a.75.75 0 010 1.5h-5.5z"></path>
</svg>
          </md-ref>

          <details class="details-reset details-overlay flex-auto toolbar-item select-menu select-menu-modal-right js-saved-reply-container hx_rsm" tabindex="-1">
  <summary data-md-button tabindex="-1" class="text-center tooltipped tooltipped-sw menu-target py-2 p-md-1 hx_rsm-trigger ml-1" aria-label="Insert a reply" data-ga-click="Markdown Toolbar, click, saved reply">
    <svg aria-hidden="true" height="16" viewBox="0 0 16 16" version="1.1" width="16" data-view-component="true" class="octicon octicon-reply">
    <path fill-rule="evenodd" d="M6.78 1.97a.75.75 0 010 1.06L3.81 6h6.44A4.75 4.75 0 0115 10.75v2.5a.75.75 0 01-1.5 0v-2.5a3.25 3.25 0 00-3.25-3.25H3.81l2.97 2.97a.75.75 0 11-1.06 1.06L1.47 7.28a.75.75 0 010-1.06l4.25-4.25a.75.75 0 011.06 0z"></path>
</svg>
    <span class="dropdown-caret hide-sm"></span>
  </summary>

  <details-menu
    style="z-index: 99;"
    class="select-menu-modal position-absolute right-0 js-saved-reply-menu hx_rsm-modal"
    data-menu-input="r722293 new_inline_comment_diff_${anchor}_${position}_saved_reply_id"
    src="/settings/replies?context=none" preload>
    <div class="select-menu-header d-flex">
      <span class="select-menu-title flex-auto">Select a reply</span>
      <code><span class="border rounded p-1 mr-2">ctrl .</span></code>
    </div>

    <include-fragment role="menuitem" aria-label="Loading">
      <svg style="box-sizing: content-box; color: var(--color-icon-primary);" width="32" height="32" viewBox="0 0 16 16" fill="none" data-view-component="true" class="my-6 mx-auto d-block anim-rotate">
  <circle cx="8" cy="8" r="7" stroke="currentColor" stroke-opacity="0.25" stroke-width="2" vector-effect="non-scaling-stroke" />
  <path d="M15 8a7.002 7.002 0 00-7-7" stroke="currentColor" stroke-width="2" stroke-linecap="round" vector-effect="non-scaling-stroke" />
</svg>
    </include-fragment>

  </details-menu>
</details>


      </div>


        <div class="Details-content--hidden d-block d-md-none width-full">
          <md-header tabindex="-1" class="toolbar-item tooltipped tooltipped-sw py-2 pr-2 pl-1 mr-1" aria-label="Add header text" data-ga-click="Markdown Toolbar, click, header">
            <!-- BEGIN vendor/gems/2.7.1/ruby/2.7.0/gems/primer_view_components-0.0.51/app/components/primer/octicon_component.rb --><svg aria-hidden="true" height="16" viewBox="0 0 16 16" version="1.1" width="16" data-view-component="true" class="octicon octicon-heading">
    <path fill-rule="evenodd" d="M3.75 2a.75.75 0 01.75.75V7h7V2.75a.75.75 0 011.5 0v10.5a.75.75 0 01-1.5 0V8.5h-7v4.75a.75.75 0 01-1.5 0V2.75A.75.75 0 013.75 2z"></path>
</svg><!-- END vendor/gems/2.7.1/ruby/2.7.0/gems/primer_view_components-0.0.51/app/components/primer/octicon_component.rb -->
          </md-header>

          <md-bold tabindex="-1" class="toolbar-item tooltipped tooltipped-sw p-2 mx-1 js-modifier-label-key" aria-label="Add bold text <ctrl+b>" data-ga-click="Markdown Toolbar, click, bold">
            <!-- BEGIN vendor/gems/2.7.1/ruby/2.7.0/gems/primer_view_components-0.0.51/app/components/primer/octicon_component.rb --><svg aria-hidden="true" height="16" viewBox="0 0 16 16" version="1.1" width="16" data-view-component="true" class="octicon octicon-bold">
    <path fill-rule="evenodd" d="M4 2a1 1 0 00-1 1v10a1 1 0 001 1h5.5a3.5 3.5 0 001.852-6.47A3.5 3.5 0 008.5 2H4zm4.5 5a1.5 1.5 0 100-3H5v3h3.5zM5 9v3h4.5a1.5 1.5 0 000-3H5z"></path>
</svg><!-- END vendor/gems/2.7.1/ruby/2.7.0/gems/primer_view_components-0.0.51/app/components/primer/octicon_component.rb -->
          </md-bold>

          <md-italic tabindex="-1" class="toolbar-item tooltipped tooltipped-sw p-2 mx-1 js-modifier-label-key" aria-label="Add italic text <ctrl+i>" data-ga-click="Markdown Toolbar, click, italic">
            <!-- BEGIN vendor/gems/2.7.1/ruby/2.7.0/gems/primer_view_components-0.0.51/app/components/primer/octicon_component.rb --><svg aria-hidden="true" height="16" viewBox="0 0 16 16" version="1.1" width="16" data-view-component="true" class="octicon octicon-italic">
    <path fill-rule="evenodd" d="M6 2.75A.75.75 0 016.75 2h6.5a.75.75 0 010 1.5h-2.505l-3.858 9H9.25a.75.75 0 010 1.5h-6.5a.75.75 0 010-1.5h2.505l3.858-9H6.75A.75.75 0 016 2.75z"></path>
</svg><!-- END vendor/gems/2.7.1/ruby/2.7.0/gems/primer_view_components-0.0.51/app/components/primer/octicon_component.rb -->
          </md-italic>

          <md-unordered-list tabindex="-1" class="toolbar-item tooltipped tooltipped-sw p-2 mx-1" aria-label="Add a bulleted list" data-ga-click="Markdown Toolbar, click, unordered list">
            <!-- BEGIN vendor/gems/2.7.1/ruby/2.7.0/gems/primer_view_components-0.0.51/app/components/primer/octicon_component.rb --><svg aria-hidden="true" height="16" viewBox="0 0 16 16" version="1.1" width="16" data-view-component="true" class="octicon octicon-list-unordered">
    <path fill-rule="evenodd" d="M2 4a1 1 0 100-2 1 1 0 000 2zm3.75-1.5a.75.75 0 000 1.5h8.5a.75.75 0 000-1.5h-8.5zm0 5a.75.75 0 000 1.5h8.5a.75.75 0 000-1.5h-8.5zm0 5a.75.75 0 000 1.5h8.5a.75.75 0 000-1.5h-8.5zM3 8a1 1 0 11-2 0 1 1 0 012 0zm-1 6a1 1 0 100-2 1 1 0 000 2z"></path>
</svg><!-- END vendor/gems/2.7.1/ruby/2.7.0/gems/primer_view_components-0.0.51/app/components/primer/octicon_component.rb -->
          </md-unordered-list>

          <md-ordered-list tabindex="-1" class="toolbar-item tooltipped tooltipped-sw p-2 mx-1" aria-label="Add a numbered list" data-ga-click="Markdown Toolbar, click, ordered list">
            <!-- BEGIN vendor/gems/2.7.1/ruby/2.7.0/gems/primer_view_components-0.0.51/app/components/primer/octicon_component.rb --><svg aria-hidden="true" height="16" viewBox="0 0 16 16" version="1.1" width="16" data-view-component="true" class="octicon octicon-list-ordered">
    <path fill-rule="evenodd" d="M2.003 2.5a.5.5 0 00-.723-.447l-1.003.5a.5.5 0 00.446.895l.28-.14V6H.5a.5.5 0 000 1h2.006a.5.5 0 100-1h-.503V2.5zM5 3.25a.75.75 0 01.75-.75h8.5a.75.75 0 010 1.5h-8.5A.75.75 0 015 3.25zm0 5a.75.75 0 01.75-.75h8.5a.75.75 0 010 1.5h-8.5A.75.75 0 015 8.25zm0 5a.75.75 0 01.75-.75h8.5a.75.75 0 010 1.5h-8.5a.75.75 0 01-.75-.75zM.924 10.32l.003-.004a.851.851 0 01.144-.153A.66.66 0 011.5 10c.195 0 .306.068.374.146a.57.57 0 01.128.376c0 .453-.269.682-.8 1.078l-.035.025C.692 11.98 0 12.495 0 13.5a.5.5 0 00.5.5h2.003a.5.5 0 000-1H1.146c.132-.197.351-.372.654-.597l.047-.035c.47-.35 1.156-.858 1.156-1.845 0-.365-.118-.744-.377-1.038-.268-.303-.658-.484-1.126-.484-.48 0-.84.202-1.068.392a1.858 1.858 0 00-.348.384l-.007.011-.002.004-.001.002-.001.001a.5.5 0 00.851.525zM.5 10.055l-.427-.26.427.26z"></path>
</svg><!-- END vendor/gems/2.7.1/ruby/2.7.0/gems/primer_view_components-0.0.51/app/components/primer/octicon_component.rb -->
          </md-ordered-list>

          <md-task-list tabindex="-1" class="toolbar-item tooltipped tooltipped-sw p-2 mx-1" aria-label="Add a task list" data-ga-click="Markdown Toolbar, click, task list">
            <!-- BEGIN vendor/gems/2.7.1/ruby/2.7.0/gems/primer_view_components-0.0.51/app/components/primer/octicon_component.rb --><svg aria-hidden="true" height="16" viewBox="0 0 16 16" version="1.1" width="16" data-view-component="true" class="octicon octicon-tasklist">
    <path fill-rule="evenodd" d="M2.5 2.75a.25.25 0 01.25-.25h10.5a.25.25 0 01.25.25v10.5a.25.25 0 01-.25.25H2.75a.25.25 0 01-.25-.25V2.75zM2.75 1A1.75 1.75 0 001 2.75v10.5c0 .966.784 1.75 1.75 1.75h10.5A1.75 1.75 0 0015 13.25V2.75A1.75 1.75 0 0013.25 1H2.75zm9.03 5.28a.75.75 0 00-1.06-1.06L6.75 9.19 5.28 7.72a.75.75 0 00-1.06 1.06l2 2a.75.75 0 001.06 0l4.5-4.5z"></path>
</svg><!-- END vendor/gems/2.7.1/ruby/2.7.0/gems/primer_view_components-0.0.51/app/components/primer/octicon_component.rb -->
          </md-task-list>
        </div>
</markdown-toolbar>
  </div>

  <div class="comment-form-error js-comment-form-error" role="alert" hidden>
    There was an error creating your Commit.
  </div>


  <file-attachment class="js-upload-markdown-image is-default" input="fc-r722293 new_inline_comment_diff_${anchor}_${position}" role="tabpanel" data-tab-container-no-tabstop="true" data-upload-repository-id="386533370" data-upload-policy-url="/upload/policies/assets"><input type="hidden" value="xbaR07Lb+JOPIqyumaXbkC5VSkkalS+K+Ese/4zreT9C6CFgeKANAj5MR59Mwz/1HbKDd2GeqhmLfygaG9Rskg==" data-csrf="true" class="js-data-upload-policy-url-csrf" />
    <div class="write-content js-write-bucket tooltipped tooltipped-ne tooltipped-no-delay tooltipped-align-left-1 hide-reaction-suggestion upload-enabled mx-0 mt-2 mb-2 mx-md-2 hx_sm-hide-drag-drop js-reaction-suggestion" data-reaction-markup="Would you like to leave a reaction instead?">
        <input
          type="hidden"
          name="saved_reply_id"
          id="r722293 new_inline_comment_diff_${anchor}_${position}_saved_reply_id"
          class="js-resettable-field"
          value=""
          data-reset-value=""
        >

      <text-expander
        keys=": @ #"
          data-issue-url="/suggestions/commit/3f3aa00e1cb7c24d92154106977a766106c2adc7?issue_suggester=1&amp;repository=SI-GuidedProject-4420-1626416812&amp;user_id=smartinternz02"
          data-mention-url="/suggestions/commit/3f3aa00e1cb7c24d92154106977a766106c2adc7?mention_suggester=1&amp;repository=SI-GuidedProject-4420-1626416812&amp;user_id=smartinternz02"
          multiword="#"
        data-emoji-url="/autocomplete/emoji"
      >
          
          <textarea name="comment[body]"
                    id="r722293 new_inline_comment_diff_${anchor}_${position}"
                    
                    placeholder="Leave a comment"
                      aria-label="Comment body"
                    data-required-trimmed="Text field is empty"
                    class="form-control input-contrast comment-form-textarea js-comment-field js-paste-markdown js-task-list-field js-quick-submit js-session-resumable js-saved-reply-shortcut-comment-field"
                    required></textarea>

      </text-expander>
        
  <label class="text-normal drag-and-drop hx_drag-and-drop position-relative d-flex flex-justify-between">
    <input accept=".gif,.jpeg,.jpg,.mov,.mp4,.png,.csv,.docx,.fodg,.fodp,.fods,.fodt,.gz,.log,.md,.odf,.odg,.odp,.ods,.odt,.pdf,.pptx,.txt,.xls,.xlsx,.zip" type="file"
      multiple
      class="manual-file-chooser manual-file-chooser-transparent top-0 right-0 bottom-0 left-0 width-full ml-0 form-control rounded-top-0"
        id="fc-r722293 new_inline_comment_diff_${anchor}_${position}"
      >
    <span class="color-bg-secondary position-absolute top-0 left-0 rounded-bottom-2 width-full height-full" style="pointer-events: none;"></span>
    <span class="position-relative pr-2" style="pointer-events: none;">
      <span class="default">
        Attach files by dragging &amp; dropping, selecting or pasting them.
      </span>
      <span class="loading">
        <svg style="box-sizing: content-box; color: var(--color-icon-primary);" width="16" height="16" viewBox="0 0 16 16" fill="none" data-view-component="true" class="v-align-text-bottom mr-1 anim-rotate">
  <circle cx="8" cy="8" r="7" stroke="currentColor" stroke-opacity="0.25" stroke-width="2" vector-effect="non-scaling-stroke" />
  <path d="M15 8a7.002 7.002 0 00-7-7" stroke="currentColor" stroke-width="2" stroke-linecap="round" vector-effect="non-scaling-stroke" />
</svg>
            <span class="js-file-upload-loading-text" data-file-upload-message="Uploading your files…">
              Uploading your files…
            </span>
      </span>
      <span class="error bad-file">
        We don’t support that file type.
        <span class="drag-and-drop-error-info">
          <span class="btn-link">Try again</span> with a
          GIF, JPEG, JPG, MOV, MP4, PNG, CSV, DOCX, FODG, FODP, FODS, FODT, GZ, LOG, MD, ODF, ODG, ODP, ODS, ODT, PDF, PPTX, TXT, XLS, XLSX or ZIP.
        </span>
      </span>
      <span class="error bad-permissions">
        Attaching documents requires write permission to this repository.
        <span class="drag-and-drop-error-info">
          <span class="btn-link">Try again</span> with a GIF, JPEG, JPG, MOV, MP4, PNG, CSV, DOCX, FODG, FODP, FODS, FODT, GZ, LOG, MD, ODF, ODG, ODP, ODS, ODT, PDF, PPTX, TXT, XLS, XLSX or ZIP.
        </span>
      </span>
      <span class="error repository-required">
        We don’t support that file type.
        <span class="drag-and-drop-error-info">
          <span class="btn-link">Try again</span> with a GIF, JPEG, JPG, MOV, MP4, PNG, CSV, DOCX, FODG, FODP, FODS, FODT, GZ, LOG, MD, ODF, ODG, ODP, ODS, ODT, PDF, PPTX, TXT, XLS, XLSX or ZIP.
        </span>
      </span>
      <span class="error too-big js-upload-too-big">
      </span>
      <span class="error empty">
        This file is empty.
        <span class="drag-and-drop-error-info">
          <span class="btn-link">Try again</span> with a file that’s not empty.
        </span>
      </span>
      <span class="error hidden-file">
        This file is hidden.
        <span class="drag-and-drop-error-info">
          <span class="btn-link">Try again</span> with another file.
        </span>
      </span>
      <span class="error failed-request">
        Something went really wrong, and we can’t process that file.
        <span class="drag-and-drop-error-info">
          <span class="btn-link">Try again.</span>
        </span>
      </span>
    </span>
    <span class="tooltipped tooltipped-nw" aria-label="Styling with Markdown is supported">
      <a
        class="Link--muted position-relative d-inline"
        href="https://guides.github.com/features/mastering-markdown/"
        target="_blank"
        data-ga-click="Markdown Toolbar, click, help"
        aria-label="Learn about styling with Markdown"
        
      >
        <svg aria-hidden="true" height="16" viewBox="0 0 16 16" version="1.1" width="16" data-view-component="true" class="octicon octicon-markdown v-align-bottom">
    <path fill-rule="evenodd" d="M14.85 3H1.15C.52 3 0 3.52 0 4.15v7.69C0 12.48.52 13 1.15 13h13.69c.64 0 1.15-.52 1.15-1.15v-7.7C16 3.52 15.48 3 14.85 3zM9 11H7V8L5.5 9.92 4 8v3H2V5h2l1.5 2L7 5h2v6zm2.99.5L9.5 8H11V5h2v3h1.5l-2.51 3.5z"></path>
</svg>
      </a>
    </span>
  </label>

    </div>
</file-attachment>
  <div
    role="tabpanel"
    class="js-preview-panel overflow-auto border-bottom mx-0 my-3 mx-md-2 mb-md-2"
    hidden
  >
    <input type="hidden" name="path" value="" class="js-path">
    <input type="hidden" name="line" value="" class="js-line-number">
    <input type="hidden" name="start_line" value="" class="js-start-line-number">
    <input type="hidden" name="preview_side" value="" class="js-side">
    <input type="hidden" name="preview_start_side" value="" class="js-start-side">
    <input type="hidden" name="start_commit_oid" value="false" class="js-start-commit-oid">
    <input type="hidden" name="end_commit_oid" value="false" class="js-end-commit-oid">
    <input type="hidden" name="base_commit_oid" value="false" class="js-base-commit-oid">
    <input type="hidden" name="comment_id" value="" class="js-comment-id">
    <div class="comment js-suggested-changes-container" data-thread-side="">
  <div class="comment-body markdown-body js-preview-body" data-skip-sizing style="max-height:50vh;">
    <p>Nothing to preview</p>
  </div>
</div>

  </div>


  <div class="comment-form-error mb-2 js-comment-update-error" hidden></div>
</tab-container>


        <div class="form-actions float-md-right float-none px-md-2 px-0">
          <div class="position-relative float-md-right float-none ml-md-1 ml-0">

            <button name="single_comment" type="submit" value="1" class="btn review-simple-reply-button js-quick-submit-alternative mr-md-1 mr-0 width-full width-md-auto mb-md-0 mb-2" data-disable-invalid data-disable-with>
              Add single comment
            </button>
          </div>

          <button class="btn js-hide-inline-comment-form float-md-right float-none width-full width-md-auto" data-confirm-cancel-text="Are you sure you want to discard your unsaved changes?" type="button">Cancel</button>
        </div>
</form>  </div>
</div>

          </div>
        </td>
      </tr>
    </tbody>
  </table>


    <a name="diff-stat"></a>
    <div id="toc" class="details-collapse table-of-contents js-details-container Details">
  <div class="BtnGroup float-right ml-2" data-ga-load="Diff, view, Viewed Unified Diff">
  <a class="btn btn-sm BtnGroup-item selected"
    aria-current="true"
    href="https://github.com/smartinternz02/SI-GuidedProject-4420-1626416812/commit/3f3aa00e1cb7c24d92154106977a766106c2adc7?branch=3f3aa00e1cb7c24d92154106977a766106c2adc7&amp;diff=unified">
    Unified
  </a>
  <a class="btn btn-sm BtnGroup-item"
    
    href="https://github.com/smartinternz02/SI-GuidedProject-4420-1626416812/commit/3f3aa00e1cb7c24d92154106977a766106c2adc7?branch=3f3aa00e1cb7c24d92154106977a766106c2adc7&amp;diff=split">
    Split
  </a>
</div>


  <div class="toc-diff-stats">
    <svg aria-hidden="true" height="16" viewBox="0 0 16 16" version="1.1" width="16" data-view-component="true" class="octicon octicon-file-diff">
    <path fill-rule="evenodd" d="M2.75 1.5a.25.25 0 00-.25.25v12.5c0 .138.112.25.25.25h10.5a.25.25 0 00.25-.25V4.664a.25.25 0 00-.073-.177l-2.914-2.914a.25.25 0 00-.177-.073H2.75zM1 1.75C1 .784 1.784 0 2.75 0h7.586c.464 0 .909.184 1.237.513l2.914 2.914c.329.328.513.773.513 1.237v9.586A1.75 1.75 0 0113.25 16H2.75A1.75 1.75 0 011 14.25V1.75zm7 1.5a.75.75 0 01.75.75v1.5h1.5a.75.75 0 010 1.5h-1.5v1.5a.75.75 0 01-1.5 0V7h-1.5a.75.75 0 010-1.5h1.5V4A.75.75 0 018 3.25zm-3 8a.75.75 0 01.75-.75h4.5a.75.75 0 010 1.5h-4.5a.75.75 0 01-.75-.75z"></path>
</svg>
    Showing
    <button type="button" class="btn-link js-details-target" aria-expanded="false">
      16 changed files
    </button>
    with
    <strong>3,926 additions</strong>
    and <strong>0 deletions</strong>.
  </div>

  <ol class="content collapse js-transitionable">
    <li>
      <span class="diffstat float-right">
          <span class="color-text-success">
            +145
          </span>
          <span class="color-text-danger">
            −0
          </span>
          <a href="#diff-05ec04f9dc9cabd71a0d6907792b0c3b184520e17d87138f9a9956b37bcc5717" class="tooltipped tooltipped-s" aria-label="145 lines changed">
            <span class="diffstat-block-added"></span><span class="diffstat-block-added"></span><span class="diffstat-block-added"></span><span class="diffstat-block-added"></span><span class="diffstat-block-added"></span>
          </a>
      </span>
      <svg title="added" class="octicon octicon-diff-added" viewBox="0 0 16 16" version="1.1" width="16" height="16" aria-hidden="true"><path fill-rule="evenodd" d="M13.25 2.5H2.75a.25.25 0 00-.25.25v10.5c0 .138.112.25.25.25h10.5a.25.25 0 00.25-.25V2.75a.25.25 0 00-.25-.25zM2.75 1h10.5c.966 0 1.75.784 1.75 1.75v10.5A1.75 1.75 0 0113.25 15H2.75A1.75 1.75 0 011 13.25V2.75C1 1.784 1.784 1 2.75 1zM8 4a.75.75 0 01.75.75v2.5h2.5a.75.75 0 010 1.5h-2.5v2.5a.75.75 0 01-1.5 0v-2.5h-2.5a.75.75 0 010-1.5h2.5v-2.5A.75.75 0 018 4z"></path></svg>
      <a href="#diff-05ec04f9dc9cabd71a0d6907792b0c3b184520e17d87138f9a9956b37bcc5717">AirPassengers.csv</a>
    </li>
    <li>
      <span class="diffstat float-right">
          <a href="#diff-580e5f9310d2727f0b3b081caf02de46e22c9f047f54a3f5efa5ccbe55ba37c6" class="tooltipped tooltipped-w" aria-label="Binary file added">
            BIN
            <span class="diffstat-block-added"></span><span class="diffstat-block-added"></span><span class="diffstat-block-added"></span><span class="diffstat-block-added"></span><span class="diffstat-block-added"></span>
          </a>
      </span>
      <svg title="added" class="octicon octicon-diff-added" viewBox="0 0 16 16" version="1.1" width="16" height="16" aria-hidden="true"><path fill-rule="evenodd" d="M13.25 2.5H2.75a.25.25 0 00-.25.25v10.5c0 .138.112.25.25.25h10.5a.25.25 0 00.25-.25V2.75a.25.25 0 00-.25-.25zM2.75 1h10.5c.966 0 1.75.784 1.75 1.75v10.5A1.75 1.75 0 0113.25 15H2.75A1.75 1.75 0 011 13.25V2.75C1 1.784 1.784 1 2.75 1zM8 4a.75.75 0 01.75.75v2.5h2.5a.75.75 0 010 1.5h-2.5v2.5a.75.75 0 01-1.5 0v-2.5h-2.5a.75.75 0 010-1.5h2.5v-2.5A.75.75 0 018 4z"></path></svg>
      <a href="#diff-580e5f9310d2727f0b3b081caf02de46e22c9f047f54a3f5efa5ccbe55ba37c6">Demonstration.mp4</a>
    </li>
    <li>
      <span class="diffstat float-right">
          <a href="#diff-d90c32369ca7df6fd634f19820ae4e8e61214cda92d76b0584c015049259e737" class="tooltipped tooltipped-w" aria-label="Binary file added">
            BIN
            <span class="diffstat-block-added"></span><span class="diffstat-block-added"></span><span class="diffstat-block-added"></span><span class="diffstat-block-added"></span><span class="diffstat-block-added"></span>
          </a>
      </span>
      <svg title="added" class="octicon octicon-diff-added" viewBox="0 0 16 16" version="1.1" width="16" height="16" aria-hidden="true"><path fill-rule="evenodd" d="M13.25 2.5H2.75a.25.25 0 00-.25.25v10.5c0 .138.112.25.25.25h10.5a.25.25 0 00.25-.25V2.75a.25.25 0 00-.25-.25zM2.75 1h10.5c.966 0 1.75.784 1.75 1.75v10.5A1.75 1.75 0 0113.25 15H2.75A1.75 1.75 0 011 13.25V2.75C1 1.784 1.784 1 2.75 1zM8 4a.75.75 0 01.75.75v2.5h2.5a.75.75 0 010 1.5h-2.5v2.5a.75.75 0 01-1.5 0v-2.5h-2.5a.75.75 0 010-1.5h2.5v-2.5A.75.75 0 018 4z"></path></svg>
      <a href="#diff-d90c32369ca7df6fd634f19820ae4e8e61214cda92d76b0584c015049259e737">Feedback.mp4</a>
    </li>
    <li>
      <span class="diffstat float-right">
          <span class="color-text-success">
            +2,666
          </span>
          <span class="color-text-danger">
            −0
          </span>
          <a href="#diff-5b43d6a5ebf65b02555772b564dd09f47f9c208701d1e245c476106b6cb6b14a" class="tooltipped tooltipped-s" aria-label="2,666 lines changed">
            <span class="diffstat-block-added"></span><span class="diffstat-block-added"></span><span class="diffstat-block-added"></span><span class="diffstat-block-added"></span><span class="diffstat-block-added"></span>
          </a>
      </span>
      <svg title="added" class="octicon octicon-diff-added" viewBox="0 0 16 16" version="1.1" width="16" height="16" aria-hidden="true"><path fill-rule="evenodd" d="M13.25 2.5H2.75a.25.25 0 00-.25.25v10.5c0 .138.112.25.25.25h10.5a.25.25 0 00.25-.25V2.75a.25.25 0 00-.25-.25zM2.75 1h10.5c.966 0 1.75.784 1.75 1.75v10.5A1.75 1.75 0 0113.25 15H2.75A1.75 1.75 0 011 13.25V2.75C1 1.784 1.784 1 2.75 1zM8 4a.75.75 0 01.75.75v2.5h2.5a.75.75 0 010 1.5h-2.5v2.5a.75.75 0 01-1.5 0v-2.5h-2.5a.75.75 0 010-1.5h2.5v-2.5A.75.75 0 018 4z"></path></svg>
      <a href="#diff-5b43d6a5ebf65b02555772b564dd09f47f9c208701d1e245c476106b6cb6b14a">Predicting Airline Maintenance.ipynb</a>
    </li>
    <li>
      <span class="diffstat float-right">
          <a href="#diff-a34ac8b9bcdb6508c1846e96034646d54e9cf5ab9e04811d5474765b97788d7d" class="tooltipped tooltipped-w" aria-label="Binary file added">
            BIN
            <span class="diffstat-block-added"></span><span class="diffstat-block-added"></span><span class="diffstat-block-added"></span><span class="diffstat-block-added"></span><span class="diffstat-block-added"></span>
          </a>
      </span>
      <svg title="added" class="octicon octicon-diff-added" viewBox="0 0 16 16" version="1.1" width="16" height="16" aria-hidden="true"><path fill-rule="evenodd" d="M13.25 2.5H2.75a.25.25 0 00-.25.25v10.5c0 .138.112.25.25.25h10.5a.25.25 0 00.25-.25V2.75a.25.25 0 00-.25-.25zM2.75 1h10.5c.966 0 1.75.784 1.75 1.75v10.5A1.75 1.75 0 0113.25 15H2.75A1.75 1.75 0 011 13.25V2.75C1 1.784 1.784 1 2.75 1zM8 4a.75.75 0 01.75.75v2.5h2.5a.75.75 0 010 1.5h-2.5v2.5a.75.75 0 01-1.5 0v-2.5h-2.5a.75.75 0 010-1.5h2.5v-2.5A.75.75 0 018 4z"></path></svg>
      <a href="#diff-a34ac8b9bcdb6508c1846e96034646d54e9cf5ab9e04811d5474765b97788d7d">Project PPT.pptx</a>
    </li>
    <li>
      <span class="diffstat float-right">
          <a href="#diff-46faf2ddbcf4a96b41d0bfe0f3268ac279c1c289c58c9bf6841ad09c47c23d05" class="tooltipped tooltipped-w" aria-label="Binary file added">
            BIN
            <span class="diffstat-block-added"></span><span class="diffstat-block-added"></span><span class="diffstat-block-added"></span><span class="diffstat-block-added"></span><span class="diffstat-block-added"></span>
          </a>
      </span>
      <svg title="added" class="octicon octicon-diff-added" viewBox="0 0 16 16" version="1.1" width="16" height="16" aria-hidden="true"><path fill-rule="evenodd" d="M13.25 2.5H2.75a.25.25 0 00-.25.25v10.5c0 .138.112.25.25.25h10.5a.25.25 0 00.25-.25V2.75a.25.25 0 00-.25-.25zM2.75 1h10.5c.966 0 1.75.784 1.75 1.75v10.5A1.75 1.75 0 0113.25 15H2.75A1.75 1.75 0 011 13.25V2.75C1 1.784 1.784 1 2.75 1zM8 4a.75.75 0 01.75.75v2.5h2.5a.75.75 0 010 1.5h-2.5v2.5a.75.75 0 01-1.5 0v-2.5h-2.5a.75.75 0 010-1.5h2.5v-2.5A.75.75 0 018 4z"></path></svg>
      <a href="#diff-46faf2ddbcf4a96b41d0bfe0f3268ac279c1c289c58c9bf6841ad09c47c23d05">air.jpg</a>
    </li>
    <li>
      <span class="diffstat float-right">
          <a href="#diff-a0800da7a7634a0458d5f3987335909598557f267897e6bc6ab4ee8915924a3c" class="tooltipped tooltipped-w" aria-label="Binary file added">
            BIN
            <span class="diffstat-block-added"></span><span class="diffstat-block-added"></span><span class="diffstat-block-added"></span><span class="diffstat-block-added"></span><span class="diffstat-block-added"></span>
          </a>
      </span>
      <svg title="added" class="octicon octicon-diff-added" viewBox="0 0 16 16" version="1.1" width="16" height="16" aria-hidden="true"><path fill-rule="evenodd" d="M13.25 2.5H2.75a.25.25 0 00-.25.25v10.5c0 .138.112.25.25.25h10.5a.25.25 0 00.25-.25V2.75a.25.25 0 00-.25-.25zM2.75 1h10.5c.966 0 1.75.784 1.75 1.75v10.5A1.75 1.75 0 0113.25 15H2.75A1.75 1.75 0 011 13.25V2.75C1 1.784 1.784 1 2.75 1zM8 4a.75.75 0 01.75.75v2.5h2.5a.75.75 0 010 1.5h-2.5v2.5a.75.75 0 01-1.5 0v-2.5h-2.5a.75.75 0 010-1.5h2.5v-2.5A.75.75 0 018 4z"></path></svg>
      <a href="#diff-a0800da7a7634a0458d5f3987335909598557f267897e6bc6ab4ee8915924a3c">airline4-copy.h5</a>
    </li>
    <li>
      <span class="diffstat float-right">
          <a href="#diff-acfbdaf219756b63d407a89e142f4783ab6695cef292ca0c2e1897c479cedb59" class="tooltipped tooltipped-w" aria-label="Binary file added">
            BIN
            <span class="diffstat-block-added"></span><span class="diffstat-block-added"></span><span class="diffstat-block-added"></span><span class="diffstat-block-added"></span><span class="diffstat-block-added"></span>
          </a>
      </span>
      <svg title="added" class="octicon octicon-diff-added" viewBox="0 0 16 16" version="1.1" width="16" height="16" aria-hidden="true"><path fill-rule="evenodd" d="M13.25 2.5H2.75a.25.25 0 00-.25.25v10.5c0 .138.112.25.25.25h10.5a.25.25 0 00.25-.25V2.75a.25.25 0 00-.25-.25zM2.75 1h10.5c.966 0 1.75.784 1.75 1.75v10.5A1.75 1.75 0 0113.25 15H2.75A1.75 1.75 0 011 13.25V2.75C1 1.784 1.784 1 2.75 1zM8 4a.75.75 0 01.75.75v2.5h2.5a.75.75 0 010 1.5h-2.5v2.5a.75.75 0 01-1.5 0v-2.5h-2.5a.75.75 0 010-1.5h2.5v-2.5A.75.75 0 018 4z"></path></svg>
      <a href="#diff-acfbdaf219756b63d407a89e142f4783ab6695cef292ca0c2e1897c479cedb59">airline4-copy1.h5</a>
    </li>
    <li>
      <span class="diffstat float-right">
          <span class="color-text-success">
            +43
          </span>
          <span class="color-text-danger">
            −0
          </span>
          <a href="#diff-568470d013cd12e4f388206520da39ab9a4e4c3c6b95846cbc281abc1ba3c959" class="tooltipped tooltipped-s" aria-label="43 lines changed">
            <span class="diffstat-block-added"></span><span class="diffstat-block-added"></span><span class="diffstat-block-added"></span><span class="diffstat-block-added"></span><span class="diffstat-block-added"></span>
          </a>
      </span>
      <svg title="added" class="octicon octicon-diff-added" viewBox="0 0 16 16" version="1.1" width="16" height="16" aria-hidden="true"><path fill-rule="evenodd" d="M13.25 2.5H2.75a.25.25 0 00-.25.25v10.5c0 .138.112.25.25.25h10.5a.25.25 0 00.25-.25V2.75a.25.25 0 00-.25-.25zM2.75 1h10.5c.966 0 1.75.784 1.75 1.75v10.5A1.75 1.75 0 0113.25 15H2.75A1.75 1.75 0 011 13.25V2.75C1 1.784 1.784 1 2.75 1zM8 4a.75.75 0 01.75.75v2.5h2.5a.75.75 0 010 1.5h-2.5v2.5a.75.75 0 01-1.5 0v-2.5h-2.5a.75.75 0 010-1.5h2.5v-2.5A.75.75 0 018 4z"></path></svg>
      <a href="#diff-568470d013cd12e4f388206520da39ab9a4e4c3c6b95846cbc281abc1ba3c959">app.py</a>
    </li>
    <li>
      <span class="diffstat float-right">
          <a href="#diff-259ead830218d2ec456f72c43bcaeb5b8921e90d688dfd77cbfc8ddafb87c4c6" class="tooltipped tooltipped-w" aria-label="Binary file added">
            BIN
            <span class="diffstat-block-added"></span><span class="diffstat-block-added"></span><span class="diffstat-block-added"></span><span class="diffstat-block-added"></span><span class="diffstat-block-added"></span>
          </a>
      </span>
      <svg title="added" class="octicon octicon-diff-added" viewBox="0 0 16 16" version="1.1" width="16" height="16" aria-hidden="true"><path fill-rule="evenodd" d="M13.25 2.5H2.75a.25.25 0 00-.25.25v10.5c0 .138.112.25.25.25h10.5a.25.25 0 00.25-.25V2.75a.25.25 0 00-.25-.25zM2.75 1h10.5c.966 0 1.75.784 1.75 1.75v10.5A1.75 1.75 0 0113.25 15H2.75A1.75 1.75 0 011 13.25V2.75C1 1.784 1.784 1 2.75 1zM8 4a.75.75 0 01.75.75v2.5h2.5a.75.75 0 010 1.5h-2.5v2.5a.75.75 0 01-1.5 0v-2.5h-2.5a.75.75 0 010-1.5h2.5v-2.5A.75.75 0 018 4z"></path></svg>
      <a href="#diff-259ead830218d2ec456f72c43bcaeb5b8921e90d688dfd77cbfc8ddafb87c4c6">box_plot.png</a>
    </li>
    <li>
      <span class="diffstat float-right">
          <span class="color-text-success">
            +789
          </span>
          <span class="color-text-danger">
            −0
          </span>
          <a href="#diff-a1305ce417d241c56a55f29886a9dc201c5ab9072592759d0b493127a6bc7c95" class="tooltipped tooltipped-s" aria-label="789 lines changed">
            <span class="diffstat-block-added"></span><span class="diffstat-block-added"></span><span class="diffstat-block-added"></span><span class="diffstat-block-added"></span><span class="diffstat-block-added"></span>
          </a>
      </span>
      <svg title="added" class="octicon octicon-diff-added" viewBox="0 0 16 16" version="1.1" width="16" height="16" aria-hidden="true"><path fill-rule="evenodd" d="M13.25 2.5H2.75a.25.25 0 00-.25.25v10.5c0 .138.112.25.25.25h10.5a.25.25 0 00.25-.25V2.75a.25.25 0 00-.25-.25zM2.75 1h10.5c.966 0 1.75.784 1.75 1.75v10.5A1.75 1.75 0 0113.25 15H2.75A1.75 1.75 0 011 13.25V2.75C1 1.784 1.784 1 2.75 1zM8 4a.75.75 0 01.75.75v2.5h2.5a.75.75 0 010 1.5h-2.5v2.5a.75.75 0 01-1.5 0v-2.5h-2.5a.75.75 0 010-1.5h2.5v-2.5A.75.75 0 018 4z"></path></svg>
      <a href="#diff-a1305ce417d241c56a55f29886a9dc201c5ab9072592759d0b493127a6bc7c95">experiment notebook_IBMCLOUD.ipynb</a>
    </li>
    <li>
      <span class="diffstat float-right">
          <span class="color-text-success">
            +69
          </span>
          <span class="color-text-danger">
            −0
          </span>
          <a href="#diff-0eb547304658805aad788d320f10bf1f292797b5e6d745a3bf617584da017051" class="tooltipped tooltipped-s" aria-label="69 lines changed">
            <span class="diffstat-block-added"></span><span class="diffstat-block-added"></span><span class="diffstat-block-added"></span><span class="diffstat-block-added"></span><span class="diffstat-block-added"></span>
          </a>
      </span>
      <svg title="added" class="octicon octicon-diff-added" viewBox="0 0 16 16" version="1.1" width="16" height="16" aria-hidden="true"><path fill-rule="evenodd" d="M13.25 2.5H2.75a.25.25 0 00-.25.25v10.5c0 .138.112.25.25.25h10.5a.25.25 0 00.25-.25V2.75a.25.25 0 00-.25-.25zM2.75 1h10.5c.966 0 1.75.784 1.75 1.75v10.5A1.75 1.75 0 0113.25 15H2.75A1.75 1.75 0 011 13.25V2.75C1 1.784 1.784 1 2.75 1zM8 4a.75.75 0 01.75.75v2.5h2.5a.75.75 0 010 1.5h-2.5v2.5a.75.75 0 01-1.5 0v-2.5h-2.5a.75.75 0 010-1.5h2.5v-2.5A.75.75 0 018 4z"></path></svg>
      <a href="#diff-0eb547304658805aad788d320f10bf1f292797b5e6d745a3bf617584da017051">index.html</a>
    </li>
    <li>
      <span class="diffstat float-right">
          <span class="color-text-success">
            +182
          </span>
          <span class="color-text-danger">
            −0
          </span>
          <a href="#diff-d4678ece457c106e1f45d9909734fad4db007d80ee32815f771591944e29d789" class="tooltipped tooltipped-s" aria-label="182 lines changed">
            <span class="diffstat-block-added"></span><span class="diffstat-block-added"></span><span class="diffstat-block-added"></span><span class="diffstat-block-added"></span><span class="diffstat-block-added"></span>
          </a>
      </span>
      <svg title="added" class="octicon octicon-diff-added" viewBox="0 0 16 16" version="1.1" width="16" height="16" aria-hidden="true"><path fill-rule="evenodd" d="M13.25 2.5H2.75a.25.25 0 00-.25.25v10.5c0 .138.112.25.25.25h10.5a.25.25 0 00.25-.25V2.75a.25.25 0 00-.25-.25zM2.75 1h10.5c.966 0 1.75.784 1.75 1.75v10.5A1.75 1.75 0 0113.25 15H2.75A1.75 1.75 0 011 13.25V2.75C1 1.784 1.784 1 2.75 1zM8 4a.75.75 0 01.75.75v2.5h2.5a.75.75 0 010 1.5h-2.5v2.5a.75.75 0 01-1.5 0v-2.5h-2.5a.75.75 0 010-1.5h2.5v-2.5A.75.75 0 018 4z"></path></svg>
      <a href="#diff-d4678ece457c106e1f45d9909734fad4db007d80ee32815f771591944e29d789">index2.html</a>
    </li>
    <li>
      <span class="diffstat float-right">
          <a href="#diff-47b7ba1e8c20ea3f2f99b3faa54cfb214c13ac55e92be17c40298629146fd773" class="tooltipped tooltipped-w" aria-label="Binary file added">
            BIN
            <span class="diffstat-block-added"></span><span class="diffstat-block-added"></span><span class="diffstat-block-added"></span><span class="diffstat-block-added"></span><span class="diffstat-block-added"></span>
          </a>
      </span>
      <svg title="added" class="octicon octicon-diff-added" viewBox="0 0 16 16" version="1.1" width="16" height="16" aria-hidden="true"><path fill-rule="evenodd" d="M13.25 2.5H2.75a.25.25 0 00-.25.25v10.5c0 .138.112.25.25.25h10.5a.25.25 0 00.25-.25V2.75a.25.25 0 00-.25-.25zM2.75 1h10.5c.966 0 1.75.784 1.75 1.75v10.5A1.75 1.75 0 0113.25 15H2.75A1.75 1.75 0 011 13.25V2.75C1 1.784 1.784 1 2.75 1zM8 4a.75.75 0 01.75.75v2.5h2.5a.75.75 0 010 1.5h-2.5v2.5a.75.75 0 01-1.5 0v-2.5h-2.5a.75.75 0 010-1.5h2.5v-2.5A.75.75 0 018 4z"></path></svg>
      <a href="#diff-47b7ba1e8c20ea3f2f99b3faa54cfb214c13ac55e92be17c40298629146fd773">line_plot.png</a>
    </li>
    <li>
      <span class="diffstat float-right">
          <a href="#diff-d5fd5e91312a040dc63e0e3f5f74c1ee521e62a4c0436eaa700a112d70058aaf" class="tooltipped tooltipped-w" aria-label="Binary file added">
            BIN
            <span class="diffstat-block-added"></span><span class="diffstat-block-added"></span><span class="diffstat-block-added"></span><span class="diffstat-block-added"></span><span class="diffstat-block-added"></span>
          </a>
      </span>
      <svg title="added" class="octicon octicon-diff-added" viewBox="0 0 16 16" version="1.1" width="16" height="16" aria-hidden="true"><path fill-rule="evenodd" d="M13.25 2.5H2.75a.25.25 0 00-.25.25v10.5c0 .138.112.25.25.25h10.5a.25.25 0 00.25-.25V2.75a.25.25 0 00-.25-.25zM2.75 1h10.5c.966 0 1.75.784 1.75 1.75v10.5A1.75 1.75 0 0113.25 15H2.75A1.75 1.75 0 011 13.25V2.75C1 1.784 1.784 1 2.75 1zM8 4a.75.75 0 01.75.75v2.5h2.5a.75.75 0 010 1.5h-2.5v2.5a.75.75 0 01-1.5 0v-2.5h-2.5a.75.75 0 010-1.5h2.5v-2.5A.75.75 0 018 4z"></path></svg>
      <a href="#diff-d5fd5e91312a040dc63e0e3f5f74c1ee521e62a4c0436eaa700a112d70058aaf">scatter_plot.png</a>
    </li>
    <li>
      <span class="diffstat float-right">
          <span class="color-text-success">
            +32
          </span>
          <span class="color-text-danger">
            −0
          </span>
          <a href="#diff-b78be019f1dc6d57753ea900c3805b114cd53ab7c0db836cc081836df1b99b7a" class="tooltipped tooltipped-s" aria-label="32 lines changed">
            <span class="diffstat-block-added"></span><span class="diffstat-block-added"></span><span class="diffstat-block-added"></span><span class="diffstat-block-added"></span><span class="diffstat-block-added"></span>
          </a>
      </span>
      <svg title="added" class="octicon octicon-diff-added" viewBox="0 0 16 16" version="1.1" width="16" height="16" aria-hidden="true"><path fill-rule="evenodd" d="M13.25 2.5H2.75a.25.25 0 00-.25.25v10.5c0 .138.112.25.25.25h10.5a.25.25 0 00.25-.25V2.75a.25.25 0 00-.25-.25zM2.75 1h10.5c.966 0 1.75.784 1.75 1.75v10.5A1.75 1.75 0 0113.25 15H2.75A1.75 1.75 0 011 13.25V2.75C1 1.784 1.784 1 2.75 1zM8 4a.75.75 0 01.75.75v2.5h2.5a.75.75 0 010 1.5h-2.5v2.5a.75.75 0 01-1.5 0v-2.5h-2.5a.75.75 0 010-1.5h2.5v-2.5A.75.75 0 018 4z"></path></svg>
      <a href="#diff-b78be019f1dc6d57753ea900c3805b114cd53ab7c0db836cc081836df1b99b7a">style.css</a>
    </li>
  </ol>
</div>

  
<div id="files" class="diff-view commentable js-diff-container">

  <div class="js-diff-progressive-container">
    
<div id="diff-05ec04f9dc9cabd71a0d6907792b0c3b184520e17d87138f9a9956b37bcc5717"
     data-details-container-group="file"
     class="file js-file js-details-container js-targetable-element Details
              Details--on open
             
             
             
             
             
              show-inline-notes
           "
          data-file-type=".csv"
          data-file-deleted="false"
      >
  <div class="file-header d-flex flex-md-row flex-column flex-md-items-center file-header--expandable js-file-header "
    data-path="AirPassengers.csv"
    data-short-path="05ec04f"
    data-anchor="diff-05ec04f9dc9cabd71a0d6907792b0c3b184520e17d87138f9a9956b37bcc5717"
    data-file-type=".csv"
    data-file-deleted="false"
    >
    <div class="file-info flex-auto min-width-0 mb-md-0 mb-2">
      <button type="button" class="btn-octicon js-details-target" aria-label="Toggle diff contents" aria-expanded="true" style="width: 22px;">
  <svg aria-hidden="true" height="16" viewBox="0 0 16 16" version="1.1" width="16" data-view-component="true" class="octicon octicon-chevron-down Details-content--hidden">
    <path fill-rule="evenodd" d="M12.78 6.22a.75.75 0 010 1.06l-4.25 4.25a.75.75 0 01-1.06 0L3.22 7.28a.75.75 0 011.06-1.06L8 9.94l3.72-3.72a.75.75 0 011.06 0z"></path>
</svg>
  <svg aria-hidden="true" height="16" viewBox="0 0 16 16" version="1.1" width="16" data-view-component="true" class="octicon octicon-chevron-right Details-content--shown">
    <path fill-rule="evenodd" d="M6.22 3.22a.75.75 0 011.06 0l4.25 4.25a.75.75 0 010 1.06l-4.25 4.25a.75.75 0 01-1.06-1.06L9.94 8 6.22 4.28a.75.75 0 010-1.06z"></path>
</svg>
</button>




        <span class="diffstat tooltipped tooltipped-e" aria-label="145 changes: 145 additions &amp; 0 deletions">145 <span class="diffstat-block-added"></span><span class="diffstat-block-added"></span><span class="diffstat-block-added"></span><span class="diffstat-block-added"></span><span class="diffstat-block-added"></span></span>

      
<a title="AirPassengers.csv" class="Link--primary" href="#diff-05ec04f9dc9cabd71a0d6907792b0c3b184520e17d87138f9a9956b37bcc5717">AirPassengers.csv</a>

<clipboard-copy
  value="AirPassengers.csv"
  data-copy-feedback="Copied!"
  aria-label="Copy"
  class="js-clipboard-copy zeroclipboard-link color-text-secondary Link--onHover"
  >
  <svg aria-hidden="true" height="16" viewBox="0 0 16 16" version="1.1" width="16" data-view-component="true" class="octicon octicon-paste js-clipboard-clippy-icon d-inline-block mx-1">
    <path fill-rule="evenodd" d="M5.75 1a.75.75 0 00-.75.75v3c0 .414.336.75.75.75h4.5a.75.75 0 00.75-.75v-3a.75.75 0 00-.75-.75h-4.5zm.75 3V2.5h3V4h-3zm-2.874-.467a.75.75 0 00-.752-1.298A1.75 1.75 0 002 3.75v9.5c0 .966.784 1.75 1.75 1.75h8.5A1.75 1.75 0 0014 13.25v-9.5a1.75 1.75 0 00-.874-1.515.75.75 0 10-.752 1.298.25.25 0 01.126.217v9.5a.25.25 0 01-.25.25h-8.5a.25.25 0 01-.25-.25v-9.5a.25.25 0 01.126-.217z"></path>
</svg>
  <svg class="octicon octicon-check js-clipboard-check-icon mx-1 d-inline-block d-none color-text-success" viewBox="0 0 16 16" version="1.1" width="16" height="16" aria-hidden="true"><path fill-rule="evenodd" d="M13.78 4.22a.75.75 0 010 1.06l-7.25 7.25a.75.75 0 01-1.06 0L2.22 9.28a.75.75 0 011.06-1.06L6 10.94l6.72-6.72a.75.75 0 011.06 0z"></path></svg>
</clipboard-copy>


      
    </div>

    <div class="file-actions pt-0 mb-md-0 mb-2 ml-md-2 flex-shrink-0 flex-md-justify-end">
      <div class="d-flex flex-justify-end">










        <details class="js-file-header-dropdown dropdown details-overlay details-reset pr-2 pl-2">
          <summary class="height-full">
            <div class="height-full d-flex flex-items-center Link--secondary">
              <svg aria-label="Show options" role="img" height="16" viewBox="0 0 16 16" version="1.1" width="16" data-view-component="true" class="octicon octicon-kebab-horizontal">
    <path d="M8 9a1.5 1.5 0 100-3 1.5 1.5 0 000 3zM1.5 9a1.5 1.5 0 100-3 1.5 1.5 0 000 3zm13 0a1.5 1.5 0 100-3 1.5 1.5 0 000 3z"></path>
</svg>
            </div>
          </summary>
          <details-menu class="dropdown-menu dropdown-menu-sw show-more-popover color-text-primary position-absolute f5" style="width:185px; z-index:99; right: -4px;">
                          <label role="menuitemradio" class="dropdown-item btn-link text-normal d-block pl-5" tabindex="0" aria-checked="true">
              <span class="position-absolute ml-n4"><svg aria-hidden="true" height="16" viewBox="0 0 16 16" version="1.1" width="16" data-view-component="true" class="octicon octicon-check">
    <path fill-rule="evenodd" d="M13.78 4.22a.75.75 0 010 1.06l-7.25 7.25a.75.75 0 01-1.06 0L2.22 9.28a.75.75 0 011.06-1.06L6 10.94l6.72-6.72a.75.75 0 011.06 0z"></path>
</svg></span>
              <input type="checkbox" checked class="d-none js-toggle-file-notes">
              Show comments
            </label>

                        <div role="none" class="dropdown-divider"></div>

                                <button type="button" disabled role="menuitem" class="pl-5 dropdown-item btn-link" aria-label="You must be signed in and have push access to make changes.">
      Edit file
    </button>


                              <button type="button" disabled role="menuitem" class="pl-5 dropdown-item btn-link" aria-label="You must be signed in and have push access to delete this file.">
    Delete file
  </button>


                        <div role="none" class="dropdown-divider"></div>

              

              
          </details-menu>
        </details>
      </div>
    </div>
  </div>
  <div class="js-file-content Details-content--hidden"
    data-hydro-view="{&quot;event_type&quot;:&quot;pull_request.select_diff_range&quot;,&quot;payload&quot;:{&quot;actor_id&quot;:75787429,&quot;pull_request_id&quot;:null,&quot;repository_id&quot;:null,&quot;diff_type&quot;:&quot;UNIFIED&quot;,&quot;whitespace_ignored&quot;:false,&quot;originating_url&quot;:&quot;https://github.com/smartinternz02/SI-GuidedProject-4420-1626416812/commit/3f3aa00e1cb7c24d92154106977a766106c2adc7&quot;,&quot;user_id&quot;:75787429}}" data-hydro-view-hmac="a28b376e56956f3c13c4d452c558991237c7506dc7115a7558edfecfb4e66dea">
        <div class="data highlight js-blob-wrapper " style="overflow-x: auto">
          <table class="diff-table js-diff-table tab-size  " data-tab-size="8" data-diff-anchor="diff-05ec04f9dc9cabd71a0d6907792b0c3b184520e17d87138f9a9956b37bcc5717" data-paste-markdown-skip>

                
      <tr data-position="0">
    <td id="diff-05ec04f9dc9cabd71a0d6907792b0c3b184520e17d87138f9a9956b37bcc5717HL0" class="blob-num blob-num-hunk non-expandable" data-line-number="..."></td>
    <td id="diff-05ec04f9dc9cabd71a0d6907792b0c3b184520e17d87138f9a9956b37bcc5717HR1" class="blob-num blob-num-hunk non-expandable" data-line-number="..."></td>
    <td class="blob-code blob-code-inner blob-code-hunk">@@ -0,0 +1,145 @@</td>
  </tr>

    <tr data-hunk="ef544bcaf162b7cec0c0c0a85cdbc97381121e64954f3f1a8a88d1f6b419dd31">
    <td class="blob-num blob-num-addition empty-cell"></td>

    <td id="diff-05ec04f9dc9cabd71a0d6907792b0c3b184520e17d87138f9a9956b37bcc5717R1" data-line-number="1"
        class="blob-num blob-num-addition js-linkable-line-number"></td>

  <td class="blob-code blob-code-addition">
      <button class="btn-link add-line-comment js-add-line-comment js-add-single-line-comment"
        data-path="AirPassengers.csv"
        data-anchor="diff-05ec04f9dc9cabd71a0d6907792b0c3b184520e17d87138f9a9956b37bcc5717"
        data-position="1"
        data-side="right"
        data-line="1"
        data-original-line="+Month,#Passengers"
        type="button"
        aria-label="Add line comment">
        <svg aria-hidden="true" height="16" viewBox="0 0 16 16" version="1.1" width="16" data-view-component="true" class="octicon octicon-plus">
    <path fill-rule="evenodd" d="M7.75 2a.75.75 0 01.75.75V7h4.25a.75.75 0 110 1.5H8.5v4.25a.75.75 0 11-1.5 0V8.5H2.75a.75.75 0 010-1.5H7V2.75A.75.75 0 017.75 2z"></path>
</svg>
      </button>
    <span class='blob-code-inner blob-code-marker' data-code-marker="+">Month,#Passengers</span></td>
</tr>



    <tr data-hunk="ef544bcaf162b7cec0c0c0a85cdbc97381121e64954f3f1a8a88d1f6b419dd31">
    <td class="blob-num blob-num-addition empty-cell"></td>

    <td id="diff-05ec04f9dc9cabd71a0d6907792b0c3b184520e17d87138f9a9956b37bcc5717R2" data-line-number="2"
        class="blob-num blob-num-addition js-linkable-line-number"></td>

  <td class="blob-code blob-code-addition">
      <button class="btn-link add-line-comment js-add-line-comment js-add-single-line-comment"
        data-path="AirPassengers.csv"
        data-anchor="diff-05ec04f9dc9cabd71a0d6907792b0c3b184520e17d87138f9a9956b37bcc5717"
        data-position="2"
        data-side="right"
        data-line="2"
        data-original-line="+1949-01,112"
        type="button"
        aria-label="Add line comment">
        <svg aria-hidden="true" height="16" viewBox="0 0 16 16" version="1.1" width="16" data-view-component="true" class="octicon octicon-plus">
    <path fill-rule="evenodd" d="M7.75 2a.75.75 0 01.75.75V7h4.25a.75.75 0 110 1.5H8.5v4.25a.75.75 0 11-1.5 0V8.5H2.75a.75.75 0 010-1.5H7V2.75A.75.75 0 017.75 2z"></path>
</svg>
      </button>
    <span class='blob-code-inner blob-code-marker' data-code-marker="+">1949-01,112</span></td>
</tr>



    <tr data-hunk="ef544bcaf162b7cec0c0c0a85cdbc97381121e64954f3f1a8a88d1f6b419dd31">
    <td class="blob-num blob-num-addition empty-cell"></td>

    <td id="diff-05ec04f9dc9cabd71a0d6907792b0c3b184520e17d87138f9a9956b37bcc5717R3" data-line-number="3"
        class="blob-num blob-num-addition js-linkable-line-number"></td>

  <td class="blob-code blob-code-addition">
      <button class="btn-link add-line-comment js-add-line-comment js-add-single-line-comment"
        data-path="AirPassengers.csv"
        data-anchor="diff-05ec04f9dc9cabd71a0d6907792b0c3b184520e17d87138f9a9956b37bcc5717"
        data-position="3"
        data-side="right"
        data-line="3"
        data-original-line="+1949-02,118"
        type="button"
        aria-label="Add line comment">
        <svg aria-hidden="true" height="16" viewBox="0 0 16 16" version="1.1" width="16" data-view-component="true" class="octicon octicon-plus">
    <path fill-rule="evenodd" d="M7.75 2a.75.75 0 01.75.75V7h4.25a.75.75 0 110 1.5H8.5v4.25a.75.75 0 11-1.5 0V8.5H2.75a.75.75 0 010-1.5H7V2.75A.75.75 0 017.75 2z"></path>
</svg>
      </button>
    <span class='blob-code-inner blob-code-marker' data-code-marker="+">1949-02,118</span></td>
</tr>



    <tr data-hunk="ef544bcaf162b7cec0c0c0a85cdbc97381121e64954f3f1a8a88d1f6b419dd31">
    <td class="blob-num blob-num-addition empty-cell"></td>

    <td id="diff-05ec04f9dc9cabd71a0d6907792b0c3b184520e17d87138f9a9956b37bcc5717R4" data-line-number="4"
        class="blob-num blob-num-addition js-linkable-line-number"></td>

  <td class="blob-code blob-code-addition">
      <button class="btn-link add-line-comment js-add-line-comment js-add-single-line-comment"
        data-path="AirPassengers.csv"
        data-anchor="diff-05ec04f9dc9cabd71a0d6907792b0c3b184520e17d87138f9a9956b37bcc5717"
        data-position="4"
        data-side="right"
        data-line="4"
        data-original-line="+1949-03,132"
        type="button"
        aria-label="Add line comment">
        <svg aria-hidden="true" height="16" viewBox="0 0 16 16" version="1.1" width="16" data-view-component="true" class="octicon octicon-plus">
    <path fill-rule="evenodd" d="M7.75 2a.75.75 0 01.75.75V7h4.25a.75.75 0 110 1.5H8.5v4.25a.75.75 0 11-1.5 0V8.5H2.75a.75.75 0 010-1.5H7V2.75A.75.75 0 017.75 2z"></path>
</svg>
      </button>
    <span class='blob-code-inner blob-code-marker' data-code-marker="+">1949-03,132</span></td>
</tr>



    <tr data-hunk="ef544bcaf162b7cec0c0c0a85cdbc97381121e64954f3f1a8a88d1f6b419dd31">
    <td class="blob-num blob-num-addition empty-cell"></td>

    <td id="diff-05ec04f9dc9cabd71a0d6907792b0c3b184520e17d87138f9a9956b37bcc5717R5" data-line-number="5"
        class="blob-num blob-num-addition js-linkable-line-number"></td>

  <td class="blob-code blob-code-addition">
      <button class="btn-link add-line-comment js-add-line-comment js-add-single-line-comment"
        data-path="AirPassengers.csv"
        data-anchor="diff-05ec04f9dc9cabd71a0d6907792b0c3b184520e17d87138f9a9956b37bcc5717"
        data-position="5"
        data-side="right"
        data-line="5"
        data-original-line="+1949-04,129"
        type="button"
        aria-label="Add line comment">
        <svg aria-hidden="true" height="16" viewBox="0 0 16 16" version="1.1" width="16" data-view-component="true" class="octicon octicon-plus">
    <path fill-rule="evenodd" d="M7.75 2a.75.75 0 01.75.75V7h4.25a.75.75 0 110 1.5H8.5v4.25a.75.75 0 11-1.5 0V8.5H2.75a.75.75 0 010-1.5H7V2.75A.75.75 0 017.75 2z"></path>
</svg>
      </button>
    <span class='blob-code-inner blob-code-marker' data-code-marker="+">1949-04,129</span></td>
</tr>



    <tr data-hunk="ef544bcaf162b7cec0c0c0a85cdbc97381121e64954f3f1a8a88d1f6b419dd31">
    <td class="blob-num blob-num-addition empty-cell"></td>

    <td id="diff-05ec04f9dc9cabd71a0d6907792b0c3b184520e17d87138f9a9956b37bcc5717R6" data-line-number="6"
        class="blob-num blob-num-addition js-linkable-line-number"></td>

  <td class="blob-code blob-code-addition">
      <button class="btn-link add-line-comment js-add-line-comment js-add-single-line-comment"
        data-path="AirPassengers.csv"
        data-anchor="diff-05ec04f9dc9cabd71a0d6907792b0c3b184520e17d87138f9a9956b37bcc5717"
        data-position="6"
        data-side="right"
        data-line="6"
        data-original-line="+1949-05,121"
        type="button"
        aria-label="Add line comment">
        <svg aria-hidden="true" height="16" viewBox="0 0 16 16" version="1.1" width="16" data-view-component="true" class="octicon octicon-plus">
    <path fill-rule="evenodd" d="M7.75 2a.75.75 0 01.75.75V7h4.25a.75.75 0 110 1.5H8.5v4.25a.75.75 0 11-1.5 0V8.5H2.75a.75.75 0 010-1.5H7V2.75A.75.75 0 017.75 2z"></path>
</svg>
      </button>
    <span class='blob-code-inner blob-code-marker' data-code-marker="+">1949-05,121</span></td>
</tr>



    <tr data-hunk="ef544bcaf162b7cec0c0c0a85cdbc97381121e64954f3f1a8a88d1f6b419dd31">
    <td class="blob-num blob-num-addition empty-cell"></td>

    <td id="diff-05ec04f9dc9cabd71a0d6907792b0c3b184520e17d87138f9a9956b37bcc5717R7" data-line-number="7"
        class="blob-num blob-num-addition js-linkable-line-number"></td>

  <td class="blob-code blob-code-addition">
      <button class="btn-link add-line-comment js-add-line-comment js-add-single-line-comment"
        data-path="AirPassengers.csv"
        data-anchor="diff-05ec04f9dc9cabd71a0d6907792b0c3b184520e17d87138f9a9956b37bcc5717"
        data-position="7"
        data-side="right"
        data-line="7"
        data-original-line="+1949-06,135"
        type="button"
        aria-label="Add line comment">
        <svg aria-hidden="true" height="16" viewBox="0 0 16 16" version="1.1" width="16" data-view-component="true" class="octicon octicon-plus">
    <path fill-rule="evenodd" d="M7.75 2a.75.75 0 01.75.75V7h4.25a.75.75 0 110 1.5H8.5v4.25a.75.75 0 11-1.5 0V8.5H2.75a.75.75 0 010-1.5H7V2.75A.75.75 0 017.75 2z"></path>
</svg>
      </button>
    <span class='blob-code-inner blob-code-marker' data-code-marker="+">1949-06,135</span></td>
</tr>



    <tr data-hunk="ef544bcaf162b7cec0c0c0a85cdbc97381121e64954f3f1a8a88d1f6b419dd31">
    <td class="blob-num blob-num-addition empty-cell"></td>

    <td id="diff-05ec04f9dc9cabd71a0d6907792b0c3b184520e17d87138f9a9956b37bcc5717R8" data-line-number="8"
        class="blob-num blob-num-addition js-linkable-line-number"></td>

  <td class="blob-code blob-code-addition">
      <button class="btn-link add-line-comment js-add-line-comment js-add-single-line-comment"
        data-path="AirPassengers.csv"
        data-anchor="diff-05ec04f9dc9cabd71a0d6907792b0c3b184520e17d87138f9a9956b37bcc5717"
        data-position="8"
        data-side="right"
        data-line="8"
        data-original-line="+1949-07,148"
        type="button"
        aria-label="Add line comment">
        <svg aria-hidden="true" height="16" viewBox="0 0 16 16" version="1.1" width="16" data-view-component="true" class="octicon octicon-plus">
    <path fill-rule="evenodd" d="M7.75 2a.75.75 0 01.75.75V7h4.25a.75.75 0 110 1.5H8.5v4.25a.75.75 0 11-1.5 0V8.5H2.75a.75.75 0 010-1.5H7V2.75A.75.75 0 017.75 2z"></path>
</svg>
      </button>
    <span class='blob-code-inner blob-code-marker' data-code-marker="+">1949-07,148</span></td>
</tr>



    <tr data-hunk="ef544bcaf162b7cec0c0c0a85cdbc97381121e64954f3f1a8a88d1f6b419dd31">
    <td class="blob-num blob-num-addition empty-cell"></td>

    <td id="diff-05ec04f9dc9cabd71a0d6907792b0c3b184520e17d87138f9a9956b37bcc5717R9" data-line-number="9"
        class="blob-num blob-num-addition js-linkable-line-number"></td>

  <td class="blob-code blob-code-addition">
      <button class="btn-link add-line-comment js-add-line-comment js-add-single-line-comment"
        data-path="AirPassengers.csv"
        data-anchor="diff-05ec04f9dc9cabd71a0d6907792b0c3b184520e17d87138f9a9956b37bcc5717"
        data-position="9"
        data-side="right"
        data-line="9"
        data-original-line="+1949-08,148"
        type="button"
        aria-label="Add line comment">
        <svg aria-hidden="true" height="16" viewBox="0 0 16 16" version="1.1" width="16" data-view-component="true" class="octicon octicon-plus">
    <path fill-rule="evenodd" d="M7.75 2a.75.75 0 01.75.75V7h4.25a.75.75 0 110 1.5H8.5v4.25a.75.75 0 11-1.5 0V8.5H2.75a.75.75 0 010-1.5H7V2.75A.75.75 0 017.75 2z"></path>
</svg>
      </button>
    <span class='blob-code-inner blob-code-marker' data-code-marker="+">1949-08,148</span></td>
</tr>



    <tr data-hunk="ef544bcaf162b7cec0c0c0a85cdbc97381121e64954f3f1a8a88d1f6b419dd31">
    <td class="blob-num blob-num-addition empty-cell"></td>

    <td id="diff-05ec04f9dc9cabd71a0d6907792b0c3b184520e17d87138f9a9956b37bcc5717R10" data-line-number="10"
        class="blob-num blob-num-addition js-linkable-line-number"></td>

  <td class="blob-code blob-code-addition">
      <button class="btn-link add-line-comment js-add-line-comment js-add-single-line-comment"
        data-path="AirPassengers.csv"
        data-anchor="diff-05ec04f9dc9cabd71a0d6907792b0c3b184520e17d87138f9a9956b37bcc5717"
        data-position="10"
        data-side="right"
        data-line="10"
        data-original-line="+1949-09,136"
        type="button"
        aria-label="Add line comment">
        <svg aria-hidden="true" height="16" viewBox="0 0 16 16" version="1.1" width="16" data-view-component="true" class="octicon octicon-plus">
    <path fill-rule="evenodd" d="M7.75 2a.75.75 0 01.75.75V7h4.25a.75.75 0 110 1.5H8.5v4.25a.75.75 0 11-1.5 0V8.5H2.75a.75.75 0 010-1.5H7V2.75A.75.75 0 017.75 2z"></path>
</svg>
      </button>
    <span class='blob-code-inner blob-code-marker' data-code-marker="+">1949-09,136</span></td>
</tr>



    <tr data-hunk="ef544bcaf162b7cec0c0c0a85cdbc97381121e64954f3f1a8a88d1f6b419dd31">
    <td class="blob-num blob-num-addition empty-cell"></td>

    <td id="diff-05ec04f9dc9cabd71a0d6907792b0c3b184520e17d87138f9a9956b37bcc5717R11" data-line-number="11"
        class="blob-num blob-num-addition js-linkable-line-number"></td>

  <td class="blob-code blob-code-addition">
      <button class="btn-link add-line-comment js-add-line-comment js-add-single-line-comment"
        data-path="AirPassengers.csv"
        data-anchor="diff-05ec04f9dc9cabd71a0d6907792b0c3b184520e17d87138f9a9956b37bcc5717"
        data-position="11"
        data-side="right"
        data-line="11"
        data-original-line="+1949-10,119"
        type="button"
        aria-label="Add line comment">
        <svg aria-hidden="true" height="16" viewBox="0 0 16 16" version="1.1" width="16" data-view-component="true" class="octicon octicon-plus">
    <path fill-rule="evenodd" d="M7.75 2a.75.75 0 01.75.75V7h4.25a.75.75 0 110 1.5H8.5v4.25a.75.75 0 11-1.5 0V8.5H2.75a.75.75 0 010-1.5H7V2.75A.75.75 0 017.75 2z"></path>
</svg>
      </button>
    <span class='blob-code-inner blob-code-marker' data-code-marker="+">1949-10,119</span></td>
</tr>



    <tr data-hunk="ef544bcaf162b7cec0c0c0a85cdbc97381121e64954f3f1a8a88d1f6b419dd31">
    <td class="blob-num blob-num-addition empty-cell"></td>

    <td id="diff-05ec04f9dc9cabd71a0d6907792b0c3b184520e17d87138f9a9956b37bcc5717R12" data-line-number="12"
        class="blob-num blob-num-addition js-linkable-line-number"></td>

  <td class="blob-code blob-code-addition">
      <button class="btn-link add-line-comment js-add-line-comment js-add-single-line-comment"
        data-path="AirPassengers.csv"
        data-anchor="diff-05ec04f9dc9cabd71a0d6907792b0c3b184520e17d87138f9a9956b37bcc5717"
        data-position="12"
        data-side="right"
        data-line="12"
        data-original-line="+1949-11,104"
        type="button"
        aria-label="Add line comment">
        <svg aria-hidden="true" height="16" viewBox="0 0 16 16" version="1.1" width="16" data-view-component="true" class="octicon octicon-plus">
    <path fill-rule="evenodd" d="M7.75 2a.75.75 0 01.75.75V7h4.25a.75.75 0 110 1.5H8.5v4.25a.75.75 0 11-1.5 0V8.5H2.75a.75.75 0 010-1.5H7V2.75A.75.75 0 017.75 2z"></path>
</svg>
      </button>
    <span class='blob-code-inner blob-code-marker' data-code-marker="+">1949-11,104</span></td>
</tr>



    <tr data-hunk="ef544bcaf162b7cec0c0c0a85cdbc97381121e64954f3f1a8a88d1f6b419dd31">
    <td class="blob-num blob-num-addition empty-cell"></td>

    <td id="diff-05ec04f9dc9cabd71a0d6907792b0c3b184520e17d87138f9a9956b37bcc5717R13" data-line-number="13"
        class="blob-num blob-num-addition js-linkable-line-number"></td>

  <td class="blob-code blob-code-addition">
      <button class="btn-link add-line-comment js-add-line-comment js-add-single-line-comment"
        data-path="AirPassengers.csv"
        data-anchor="diff-05ec04f9dc9cabd71a0d6907792b0c3b184520e17d87138f9a9956b37bcc5717"
        data-position="13"
        data-side="right"
        data-line="13"
        data-original-line="+1949-12,118"
        type="button"
        aria-label="Add line comment">
        <svg aria-hidden="true" height="16" viewBox="0 0 16 16" version="1.1" width="16" data-view-component="true" class="octicon octicon-plus">
    <path fill-rule="evenodd" d="M7.75 2a.75.75 0 01.75.75V7h4.25a.75.75 0 110 1.5H8.5v4.25a.75.75 0 11-1.5 0V8.5H2.75a.75.75 0 010-1.5H7V2.75A.75.75 0 017.75 2z"></path>
</svg>
      </button>
    <span class='blob-code-inner blob-code-marker' data-code-marker="+">1949-12,118</span></td>
</tr>



    <tr data-hunk="ef544bcaf162b7cec0c0c0a85cdbc97381121e64954f3f1a8a88d1f6b419dd31">
    <td class="blob-num blob-num-addition empty-cell"></td>

    <td id="diff-05ec04f9dc9cabd71a0d6907792b0c3b184520e17d87138f9a9956b37bcc5717R14" data-line-number="14"
        class="blob-num blob-num-addition js-linkable-line-number"></td>

  <td class="blob-code blob-code-addition">
      <button class="btn-link add-line-comment js-add-line-comment js-add-single-line-comment"
        data-path="AirPassengers.csv"
        data-anchor="diff-05ec04f9dc9cabd71a0d6907792b0c3b184520e17d87138f9a9956b37bcc5717"
        data-position="14"
        data-side="right"
        data-line="14"
        data-original-line="+1950-01,115"
        type="button"
        aria-label="Add line comment">
        <svg aria-hidden="true" height="16" viewBox="0 0 16 16" version="1.1" width="16" data-view-component="true" class="octicon octicon-plus">
    <path fill-rule="evenodd" d="M7.75 2a.75.75 0 01.75.75V7h4.25a.75.75 0 110 1.5H8.5v4.25a.75.75 0 11-1.5 0V8.5H2.75a.75.75 0 010-1.5H7V2.75A.75.75 0 017.75 2z"></path>
</svg>
      </button>
    <span class='blob-code-inner blob-code-marker' data-code-marker="+">1950-01,115</span></td>
</tr>



    <tr data-hunk="ef544bcaf162b7cec0c0c0a85cdbc97381121e64954f3f1a8a88d1f6b419dd31">
    <td class="blob-num blob-num-addition empty-cell"></td>

    <td id="diff-05ec04f9dc9cabd71a0d6907792b0c3b184520e17d87138f9a9956b37bcc5717R15" data-line-number="15"
        class="blob-num blob-num-addition js-linkable-line-number"></td>

  <td class="blob-code blob-code-addition">
      <button class="btn-link add-line-comment js-add-line-comment js-add-single-line-comment"
        data-path="AirPassengers.csv"
        data-anchor="diff-05ec04f9dc9cabd71a0d6907792b0c3b184520e17d87138f9a9956b37bcc5717"
        data-position="15"
        data-side="right"
        data-line="15"
        data-original-line="+1950-02,126"
        type="button"
        aria-label="Add line comment">
        <svg aria-hidden="true" height="16" viewBox="0 0 16 16" version="1.1" width="16" data-view-component="true" class="octicon octicon-plus">
    <path fill-rule="evenodd" d="M7.75 2a.75.75 0 01.75.75V7h4.25a.75.75 0 110 1.5H8.5v4.25a.75.75 0 11-1.5 0V8.5H2.75a.75.75 0 010-1.5H7V2.75A.75.75 0 017.75 2z"></path>
</svg>
      </button>
    <span class='blob-code-inner blob-code-marker' data-code-marker="+">1950-02,126</span></td>
</tr>



    <tr data-hunk="ef544bcaf162b7cec0c0c0a85cdbc97381121e64954f3f1a8a88d1f6b419dd31">
    <td class="blob-num blob-num-addition empty-cell"></td>

    <td id="diff-05ec04f9dc9cabd71a0d6907792b0c3b184520e17d87138f9a9956b37bcc5717R16" data-line-number="16"
        class="blob-num blob-num-addition js-linkable-line-number"></td>

  <td class="blob-code blob-code-addition">
      <button class="btn-link add-line-comment js-add-line-comment js-add-single-line-comment"
        data-path="AirPassengers.csv"
        data-anchor="diff-05ec04f9dc9cabd71a0d6907792b0c3b184520e17d87138f9a9956b37bcc5717"
        data-position="16"
        data-side="right"
        data-line="16"
        data-original-line="+1950-03,141"
        type="button"
        aria-label="Add line comment">
        <svg aria-hidden="true" height="16" viewBox="0 0 16 16" version="1.1" width="16" data-view-component="true" class="octicon octicon-plus">
    <path fill-rule="evenodd" d="M7.75 2a.75.75 0 01.75.75V7h4.25a.75.75 0 110 1.5H8.5v4.25a.75.75 0 11-1.5 0V8.5H2.75a.75.75 0 010-1.5H7V2.75A.75.75 0 017.75 2z"></path>
</svg>
      </button>
    <span class='blob-code-inner blob-code-marker' data-code-marker="+">1950-03,141</span></td>
</tr>



    <tr data-hunk="ef544bcaf162b7cec0c0c0a85cdbc97381121e64954f3f1a8a88d1f6b419dd31">
    <td class="blob-num blob-num-addition empty-cell"></td>

    <td id="diff-05ec04f9dc9cabd71a0d6907792b0c3b184520e17d87138f9a9956b37bcc5717R17" data-line-number="17"
        class="blob-num blob-num-addition js-linkable-line-number"></td>

  <td class="blob-code blob-code-addition">
      <button class="btn-link add-line-comment js-add-line-comment js-add-single-line-comment"
        data-path="AirPassengers.csv"
        data-anchor="diff-05ec04f9dc9cabd71a0d6907792b0c3b184520e17d87138f9a9956b37bcc5717"
        data-position="17"
        data-side="right"
        data-line="17"
        data-original-line="+1950-04,135"
        type="button"
        aria-label="Add line comment">
        <svg aria-hidden="true" height="16" viewBox="0 0 16 16" version="1.1" width="16" data-view-component="true" class="octicon octicon-plus">
    <path fill-rule="evenodd" d="M7.75 2a.75.75 0 01.75.75V7h4.25a.75.75 0 110 1.5H8.5v4.25a.75.75 0 11-1.5 0V8.5H2.75a.75.75 0 010-1.5H7V2.75A.75.75 0 017.75 2z"></path>
</svg>
      </button>
    <span class='blob-code-inner blob-code-marker' data-code-marker="+">1950-04,135</span></td>
</tr>



    <tr data-hunk="ef544bcaf162b7cec0c0c0a85cdbc97381121e64954f3f1a8a88d1f6b419dd31">
    <td class="blob-num blob-num-addition empty-cell"></td>

    <td id="diff-05ec04f9dc9cabd71a0d6907792b0c3b184520e17d87138f9a9956b37bcc5717R18" data-line-number="18"
        class="blob-num blob-num-addition js-linkable-line-number"></td>

  <td class="blob-code blob-code-addition">
      <button class="btn-link add-line-comment js-add-line-comment js-add-single-line-comment"
        data-path="AirPassengers.csv"
        data-anchor="diff-05ec04f9dc9cabd71a0d6907792b0c3b184520e17d87138f9a9956b37bcc5717"
        data-position="18"
        data-side="right"
        data-line="18"
        data-original-line="+1950-05,125"
        type="button"
        aria-label="Add line comment">
        <svg aria-hidden="true" height="16" viewBox="0 0 16 16" version="1.1" width="16" data-view-component="true" class="octicon octicon-plus">
    <path fill-rule="evenodd" d="M7.75 2a.75.75 0 01.75.75V7h4.25a.75.75 0 110 1.5H8.5v4.25a.75.75 0 11-1.5 0V8.5H2.75a.75.75 0 010-1.5H7V2.75A.75.75 0 017.75 2z"></path>
</svg>
      </button>
    <span class='blob-code-inner blob-code-marker' data-code-marker="+">1950-05,125</span></td>
</tr>



    <tr data-hunk="ef544bcaf162b7cec0c0c0a85cdbc97381121e64954f3f1a8a88d1f6b419dd31">
    <td class="blob-num blob-num-addition empty-cell"></td>

    <td id="diff-05ec04f9dc9cabd71a0d6907792b0c3b184520e17d87138f9a9956b37bcc5717R19" data-line-number="19"
        class="blob-num blob-num-addition js-linkable-line-number"></td>

  <td class="blob-code blob-code-addition">
      <button class="btn-link add-line-comment js-add-line-comment js-add-single-line-comment"
        data-path="AirPassengers.csv"
        data-anchor="diff-05ec04f9dc9cabd71a0d6907792b0c3b184520e17d87138f9a9956b37bcc5717"
        data-position="19"
        data-side="right"
        data-line="19"
        data-original-line="+1950-06,149"
        type="button"
        aria-label="Add line comment">
        <svg aria-hidden="true" height="16" viewBox="0 0 16 16" version="1.1" width="16" data-view-component="true" class="octicon octicon-plus">
    <path fill-rule="evenodd" d="M7.75 2a.75.75 0 01.75.75V7h4.25a.75.75 0 110 1.5H8.5v4.25a.75.75 0 11-1.5 0V8.5H2.75a.75.75 0 010-1.5H7V2.75A.75.75 0 017.75 2z"></path>
</svg>
      </button>
    <span class='blob-code-inner blob-code-marker' data-code-marker="+">1950-06,149</span></td>
</tr>



    <tr data-hunk="ef544bcaf162b7cec0c0c0a85cdbc97381121e64954f3f1a8a88d1f6b419dd31">
    <td class="blob-num blob-num-addition empty-cell"></td>

    <td id="diff-05ec04f9dc9cabd71a0d6907792b0c3b184520e17d87138f9a9956b37bcc5717R20" data-line-number="20"
        class="blob-num blob-num-addition js-linkable-line-number"></td>

  <td class="blob-code blob-code-addition">
      <button class="btn-link add-line-comment js-add-line-comment js-add-single-line-comment"
        data-path="AirPassengers.csv"
        data-anchor="diff-05ec04f9dc9cabd71a0d6907792b0c3b184520e17d87138f9a9956b37bcc5717"
        data-position="20"
        data-side="right"
        data-line="20"
        data-original-line="+1950-07,170"
        type="button"
        aria-label="Add line comment">
        <svg aria-hidden="true" height="16" viewBox="0 0 16 16" version="1.1" width="16" data-view-component="true" class="octicon octicon-plus">
    <path fill-rule="evenodd" d="M7.75 2a.75.75 0 01.75.75V7h4.25a.75.75 0 110 1.5H8.5v4.25a.75.75 0 11-1.5 0V8.5H2.75a.75.75 0 010-1.5H7V2.75A.75.75 0 017.75 2z"></path>
</svg>
      </button>
    <span class='blob-code-inner blob-code-marker' data-code-marker="+">1950-07,170</span></td>
</tr>



    <tr data-hunk="ef544bcaf162b7cec0c0c0a85cdbc97381121e64954f3f1a8a88d1f6b419dd31">
    <td class="blob-num blob-num-addition empty-cell"></td>

    <td id="diff-05ec04f9dc9cabd71a0d6907792b0c3b184520e17d87138f9a9956b37bcc5717R21" data-line-number="21"
        class="blob-num blob-num-addition js-linkable-line-number"></td>

  <td class="blob-code blob-code-addition">
      <button class="btn-link add-line-comment js-add-line-comment js-add-single-line-comment"
        data-path="AirPassengers.csv"
        data-anchor="diff-05ec04f9dc9cabd71a0d6907792b0c3b184520e17d87138f9a9956b37bcc5717"
        data-position="21"
        data-side="right"
        data-line="21"
        data-original-line="+1950-08,170"
        type="button"
        aria-label="Add line comment">
        <svg aria-hidden="true" height="16" viewBox="0 0 16 16" version="1.1" width="16" data-view-component="true" class="octicon octicon-plus">
    <path fill-rule="evenodd" d="M7.75 2a.75.75 0 01.75.75V7h4.25a.75.75 0 110 1.5H8.5v4.25a.75.75 0 11-1.5 0V8.5H2.75a.75.75 0 010-1.5H7V2.75A.75.75 0 017.75 2z"></path>
</svg>
      </button>
    <span class='blob-code-inner blob-code-marker' data-code-marker="+">1950-08,170</span></td>
</tr>



    <tr data-hunk="ef544bcaf162b7cec0c0c0a85cdbc97381121e64954f3f1a8a88d1f6b419dd31">
    <td class="blob-num blob-num-addition empty-cell"></td>

    <td id="diff-05ec04f9dc9cabd71a0d6907792b0c3b184520e17d87138f9a9956b37bcc5717R22" data-line-number="22"
        class="blob-num blob-num-addition js-linkable-line-number"></td>

  <td class="blob-code blob-code-addition">
      <button class="btn-link add-line-comment js-add-line-comment js-add-single-line-comment"
        data-path="AirPassengers.csv"
        data-anchor="diff-05ec04f9dc9cabd71a0d6907792b0c3b184520e17d87138f9a9956b37bcc5717"
        data-position="22"
        data-side="right"
        data-line="22"
        data-original-line="+1950-09,158"
        type="button"
        aria-label="Add line comment">
        <svg aria-hidden="true" height="16" viewBox="0 0 16 16" version="1.1" width="16" data-view-component="true" class="octicon octicon-plus">
    <path fill-rule="evenodd" d="M7.75 2a.75.75 0 01.75.75V7h4.25a.75.75 0 110 1.5H8.5v4.25a.75.75 0 11-1.5 0V8.5H2.75a.75.75 0 010-1.5H7V2.75A.75.75 0 017.75 2z"></path>
</svg>
      </button>
    <span class='blob-code-inner blob-code-marker' data-code-marker="+">1950-09,158</span></td>
</tr>



    <tr data-hunk="ef544bcaf162b7cec0c0c0a85cdbc97381121e64954f3f1a8a88d1f6b419dd31">
    <td class="blob-num blob-num-addition empty-cell"></td>

    <td id="diff-05ec04f9dc9cabd71a0d6907792b0c3b184520e17d87138f9a9956b37bcc5717R23" data-line-number="23"
        class="blob-num blob-num-addition js-linkable-line-number"></td>

  <td class="blob-code blob-code-addition">
      <button class="btn-link add-line-comment js-add-line-comment js-add-single-line-comment"
        data-path="AirPassengers.csv"
        data-anchor="diff-05ec04f9dc9cabd71a0d6907792b0c3b184520e17d87138f9a9956b37bcc5717"
        data-position="23"
        data-side="right"
        data-line="23"
        data-original-line="+1950-10,133"
        type="button"
        aria-label="Add line comment">
        <svg aria-hidden="true" height="16" viewBox="0 0 16 16" version="1.1" width="16" data-view-component="true" class="octicon octicon-plus">
    <path fill-rule="evenodd" d="M7.75 2a.75.75 0 01.75.75V7h4.25a.75.75 0 110 1.5H8.5v4.25a.75.75 0 11-1.5 0V8.5H2.75a.75.75 0 010-1.5H7V2.75A.75.75 0 017.75 2z"></path>
</svg>
      </button>
    <span class='blob-code-inner blob-code-marker' data-code-marker="+">1950-10,133</span></td>
</tr>



    <tr data-hunk="ef544bcaf162b7cec0c0c0a85cdbc97381121e64954f3f1a8a88d1f6b419dd31">
    <td class="blob-num blob-num-addition empty-cell"></td>

    <td id="diff-05ec04f9dc9cabd71a0d6907792b0c3b184520e17d87138f9a9956b37bcc5717R24" data-line-number="24"
        class="blob-num blob-num-addition js-linkable-line-number"></td>

  <td class="blob-code blob-code-addition">
      <button class="btn-link add-line-comment js-add-line-comment js-add-single-line-comment"
        data-path="AirPassengers.csv"
        data-anchor="diff-05ec04f9dc9cabd71a0d6907792b0c3b184520e17d87138f9a9956b37bcc5717"
        data-position="24"
        data-side="right"
        data-line="24"
        data-original-line="+1950-11,114"
        type="button"
        aria-label="Add line comment">
        <svg aria-hidden="true" height="16" viewBox="0 0 16 16" version="1.1" width="16" data-view-component="true" class="octicon octicon-plus">
    <path fill-rule="evenodd" d="M7.75 2a.75.75 0 01.75.75V7h4.25a.75.75 0 110 1.5H8.5v4.25a.75.75 0 11-1.5 0V8.5H2.75a.75.75 0 010-1.5H7V2.75A.75.75 0 017.75 2z"></path>
</svg>
      </button>
    <span class='blob-code-inner blob-code-marker' data-code-marker="+">1950-11,114</span></td>
</tr>



    <tr data-hunk="ef544bcaf162b7cec0c0c0a85cdbc97381121e64954f3f1a8a88d1f6b419dd31">
    <td class="blob-num blob-num-addition empty-cell"></td>

    <td id="diff-05ec04f9dc9cabd71a0d6907792b0c3b184520e17d87138f9a9956b37bcc5717R25" data-line-number="25"
        class="blob-num blob-num-addition js-linkable-line-number"></td>

  <td class="blob-code blob-code-addition">
      <button class="btn-link add-line-comment js-add-line-comment js-add-single-line-comment"
        data-path="AirPassengers.csv"
        data-anchor="diff-05ec04f9dc9cabd71a0d6907792b0c3b184520e17d87138f9a9956b37bcc5717"
        data-position="25"
        data-side="right"
        data-line="25"
        data-original-line="+1950-12,140"
        type="button"
        aria-label="Add line comment">
        <svg aria-hidden="true" height="16" viewBox="0 0 16 16" version="1.1" width="16" data-view-component="true" class="octicon octicon-plus">
    <path fill-rule="evenodd" d="M7.75 2a.75.75 0 01.75.75V7h4.25a.75.75 0 110 1.5H8.5v4.25a.75.75 0 11-1.5 0V8.5H2.75a.75.75 0 010-1.5H7V2.75A.75.75 0 017.75 2z"></path>
</svg>
      </button>
    <span class='blob-code-inner blob-code-marker' data-code-marker="+">1950-12,140</span></td>
</tr>



    <tr data-hunk="ef544bcaf162b7cec0c0c0a85cdbc97381121e64954f3f1a8a88d1f6b419dd31">
    <td class="blob-num blob-num-addition empty-cell"></td>

    <td id="diff-05ec04f9dc9cabd71a0d6907792b0c3b184520e17d87138f9a9956b37bcc5717R26" data-line-number="26"
        class="blob-num blob-num-addition js-linkable-line-number"></td>

  <td class="blob-code blob-code-addition">
      <button class="btn-link add-line-comment js-add-line-comment js-add-single-line-comment"
        data-path="AirPassengers.csv"
        data-anchor="diff-05ec04f9dc9cabd71a0d6907792b0c3b184520e17d87138f9a9956b37bcc5717"
        data-position="26"
        data-side="right"
        data-line="26"
        data-original-line="+1951-01,145"
        type="button"
        aria-label="Add line comment">
        <svg aria-hidden="true" height="16" viewBox="0 0 16 16" version="1.1" width="16" data-view-component="true" class="octicon octicon-plus">
    <path fill-rule="evenodd" d="M7.75 2a.75.75 0 01.75.75V7h4.25a.75.75 0 110 1.5H8.5v4.25a.75.75 0 11-1.5 0V8.5H2.75a.75.75 0 010-1.5H7V2.75A.75.75 0 017.75 2z"></path>
</svg>
      </button>
    <span class='blob-code-inner blob-code-marker' data-code-marker="+">1951-01,145</span></td>
</tr>



    <tr data-hunk="ef544bcaf162b7cec0c0c0a85cdbc97381121e64954f3f1a8a88d1f6b419dd31">
    <td class="blob-num blob-num-addition empty-cell"></td>

    <td id="diff-05ec04f9dc9cabd71a0d6907792b0c3b184520e17d87138f9a9956b37bcc5717R27" data-line-number="27"
        class="blob-num blob-num-addition js-linkable-line-number"></td>

  <td class="blob-code blob-code-addition">
      <button class="btn-link add-line-comment js-add-line-comment js-add-single-line-comment"
        data-path="AirPassengers.csv"
        data-anchor="diff-05ec04f9dc9cabd71a0d6907792b0c3b184520e17d87138f9a9956b37bcc5717"
        data-position="27"
        data-side="right"
        data-line="27"
        data-original-line="+1951-02,150"
        type="button"
        aria-label="Add line comment">
        <svg aria-hidden="true" height="16" viewBox="0 0 16 16" version="1.1" width="16" data-view-component="true" class="octicon octicon-plus">
    <path fill-rule="evenodd" d="M7.75 2a.75.75 0 01.75.75V7h4.25a.75.75 0 110 1.5H8.5v4.25a.75.75 0 11-1.5 0V8.5H2.75a.75.75 0 010-1.5H7V2.75A.75.75 0 017.75 2z"></path>
</svg>
      </button>
    <span class='blob-code-inner blob-code-marker' data-code-marker="+">1951-02,150</span></td>
</tr>



    <tr data-hunk="ef544bcaf162b7cec0c0c0a85cdbc97381121e64954f3f1a8a88d1f6b419dd31">
    <td class="blob-num blob-num-addition empty-cell"></td>

    <td id="diff-05ec04f9dc9cabd71a0d6907792b0c3b184520e17d87138f9a9956b37bcc5717R28" data-line-number="28"
        class="blob-num blob-num-addition js-linkable-line-number"></td>

  <td class="blob-code blob-code-addition">
      <button class="btn-link add-line-comment js-add-line-comment js-add-single-line-comment"
        data-path="AirPassengers.csv"
        data-anchor="diff-05ec04f9dc9cabd71a0d6907792b0c3b184520e17d87138f9a9956b37bcc5717"
        data-position="28"
        data-side="right"
        data-line="28"
        data-original-line="+1951-03,178"
        type="button"
        aria-label="Add line comment">
        <svg aria-hidden="true" height="16" viewBox="0 0 16 16" version="1.1" width="16" data-view-component="true" class="octicon octicon-plus">
    <path fill-rule="evenodd" d="M7.75 2a.75.75 0 01.75.75V7h4.25a.75.75 0 110 1.5H8.5v4.25a.75.75 0 11-1.5 0V8.5H2.75a.75.75 0 010-1.5H7V2.75A.75.75 0 017.75 2z"></path>
</svg>
      </button>
    <span class='blob-code-inner blob-code-marker' data-code-marker="+">1951-03,178</span></td>
</tr>



    <tr data-hunk="ef544bcaf162b7cec0c0c0a85cdbc97381121e64954f3f1a8a88d1f6b419dd31">
    <td class="blob-num blob-num-addition empty-cell"></td>

    <td id="diff-05ec04f9dc9cabd71a0d6907792b0c3b184520e17d87138f9a9956b37bcc5717R29" data-line-number="29"
        class="blob-num blob-num-addition js-linkable-line-number"></td>

  <td class="blob-code blob-code-addition">
      <button class="btn-link add-line-comment js-add-line-comment js-add-single-line-comment"
        data-path="AirPassengers.csv"
        data-anchor="diff-05ec04f9dc9cabd71a0d6907792b0c3b184520e17d87138f9a9956b37bcc5717"
        data-position="29"
        data-side="right"
        data-line="29"
        data-original-line="+1951-04,163"
        type="button"
        aria-label="Add line comment">
        <svg aria-hidden="true" height="16" viewBox="0 0 16 16" version="1.1" width="16" data-view-component="true" class="octicon octicon-plus">
    <path fill-rule="evenodd" d="M7.75 2a.75.75 0 01.75.75V7h4.25a.75.75 0 110 1.5H8.5v4.25a.75.75 0 11-1.5 0V8.5H2.75a.75.75 0 010-1.5H7V2.75A.75.75 0 017.75 2z"></path>
</svg>
      </button>
    <span class='blob-code-inner blob-code-marker' data-code-marker="+">1951-04,163</span></td>
</tr>



    <tr data-hunk="ef544bcaf162b7cec0c0c0a85cdbc97381121e64954f3f1a8a88d1f6b419dd31">
    <td class="blob-num blob-num-addition empty-cell"></td>

    <td id="diff-05ec04f9dc9cabd71a0d6907792b0c3b184520e17d87138f9a9956b37bcc5717R30" data-line-number="30"
        class="blob-num blob-num-addition js-linkable-line-number"></td>

  <td class="blob-code blob-code-addition">
      <button class="btn-link add-line-comment js-add-line-comment js-add-single-line-comment"
        data-path="AirPassengers.csv"
        data-anchor="diff-05ec04f9dc9cabd71a0d6907792b0c3b184520e17d87138f9a9956b37bcc5717"
        data-position="30"
        data-side="right"
        data-line="30"
        data-original-line="+1951-05,172"
        type="button"
        aria-label="Add line comment">
        <svg aria-hidden="true" height="16" viewBox="0 0 16 16" version="1.1" width="16" data-view-component="true" class="octicon octicon-plus">
    <path fill-rule="evenodd" d="M7.75 2a.75.75 0 01.75.75V7h4.25a.75.75 0 110 1.5H8.5v4.25a.75.75 0 11-1.5 0V8.5H2.75a.75.75 0 010-1.5H7V2.75A.75.75 0 017.75 2z"></path>
</svg>
      </button>
    <span class='blob-code-inner blob-code-marker' data-code-marker="+">1951-05,172</span></td>
</tr>



    <tr data-hunk="ef544bcaf162b7cec0c0c0a85cdbc97381121e64954f3f1a8a88d1f6b419dd31">
    <td class="blob-num blob-num-addition empty-cell"></td>

    <td id="diff-05ec04f9dc9cabd71a0d6907792b0c3b184520e17d87138f9a9956b37bcc5717R31" data-line-number="31"
        class="blob-num blob-num-addition js-linkable-line-number"></td>

  <td class="blob-code blob-code-addition">
      <button class="btn-link add-line-comment js-add-line-comment js-add-single-line-comment"
        data-path="AirPassengers.csv"
        data-anchor="diff-05ec04f9dc9cabd71a0d6907792b0c3b184520e17d87138f9a9956b37bcc5717"
        data-position="31"
        data-side="right"
        data-line="31"
        data-original-line="+1951-06,178"
        type="button"
        aria-label="Add line comment">
        <svg aria-hidden="true" height="16" viewBox="0 0 16 16" version="1.1" width="16" data-view-component="true" class="octicon octicon-plus">
    <path fill-rule="evenodd" d="M7.75 2a.75.75 0 01.75.75V7h4.25a.75.75 0 110 1.5H8.5v4.25a.75.75 0 11-1.5 0V8.5H2.75a.75.75 0 010-1.5H7V2.75A.75.75 0 017.75 2z"></path>
</svg>
      </button>
    <span class='blob-code-inner blob-code-marker' data-code-marker="+">1951-06,178</span></td>
</tr>



    <tr data-hunk="ef544bcaf162b7cec0c0c0a85cdbc97381121e64954f3f1a8a88d1f6b419dd31">
    <td class="blob-num blob-num-addition empty-cell"></td>

    <td id="diff-05ec04f9dc9cabd71a0d6907792b0c3b184520e17d87138f9a9956b37bcc5717R32" data-line-number="32"
        class="blob-num blob-num-addition js-linkable-line-number"></td>

  <td class="blob-code blob-code-addition">
      <button class="btn-link add-line-comment js-add-line-comment js-add-single-line-comment"
        data-path="AirPassengers.csv"
        data-anchor="diff-05ec04f9dc9cabd71a0d6907792b0c3b184520e17d87138f9a9956b37bcc5717"
        data-position="32"
        data-side="right"
        data-line="32"
        data-original-line="+1951-07,199"
        type="button"
        aria-label="Add line comment">
        <svg aria-hidden="true" height="16" viewBox="0 0 16 16" version="1.1" width="16" data-view-component="true" class="octicon octicon-plus">
    <path fill-rule="evenodd" d="M7.75 2a.75.75 0 01.75.75V7h4.25a.75.75 0 110 1.5H8.5v4.25a.75.75 0 11-1.5 0V8.5H2.75a.75.75 0 010-1.5H7V2.75A.75.75 0 017.75 2z"></path>
</svg>
      </button>
    <span class='blob-code-inner blob-code-marker' data-code-marker="+">1951-07,199</span></td>
</tr>



    <tr data-hunk="ef544bcaf162b7cec0c0c0a85cdbc97381121e64954f3f1a8a88d1f6b419dd31">
    <td class="blob-num blob-num-addition empty-cell"></td>

    <td id="diff-05ec04f9dc9cabd71a0d6907792b0c3b184520e17d87138f9a9956b37bcc5717R33" data-line-number="33"
        class="blob-num blob-num-addition js-linkable-line-number"></td>

  <td class="blob-code blob-code-addition">
      <button class="btn-link add-line-comment js-add-line-comment js-add-single-line-comment"
        data-path="AirPassengers.csv"
        data-anchor="diff-05ec04f9dc9cabd71a0d6907792b0c3b184520e17d87138f9a9956b37bcc5717"
        data-position="33"
        data-side="right"
        data-line="33"
        data-original-line="+1951-08,199"
        type="button"
        aria-label="Add line comment">
        <svg aria-hidden="true" height="16" viewBox="0 0 16 16" version="1.1" width="16" data-view-component="true" class="octicon octicon-plus">
    <path fill-rule="evenodd" d="M7.75 2a.75.75 0 01.75.75V7h4.25a.75.75 0 110 1.5H8.5v4.25a.75.75 0 11-1.5 0V8.5H2.75a.75.75 0 010-1.5H7V2.75A.75.75 0 017.75 2z"></path>
</svg>
      </button>
    <span class='blob-code-inner blob-code-marker' data-code-marker="+">1951-08,199</span></td>
</tr>



    <tr data-hunk="ef544bcaf162b7cec0c0c0a85cdbc97381121e64954f3f1a8a88d1f6b419dd31">
    <td class="blob-num blob-num-addition empty-cell"></td>

    <td id="diff-05ec04f9dc9cabd71a0d6907792b0c3b184520e17d87138f9a9956b37bcc5717R34" data-line-number="34"
        class="blob-num blob-num-addition js-linkable-line-number"></td>

  <td class="blob-code blob-code-addition">
      <button class="btn-link add-line-comment js-add-line-comment js-add-single-line-comment"
        data-path="AirPassengers.csv"
        data-anchor="diff-05ec04f9dc9cabd71a0d6907792b0c3b184520e17d87138f9a9956b37bcc5717"
        data-position="34"
        data-side="right"
        data-line="34"
        data-original-line="+1951-09,184"
        type="button"
        aria-label="Add line comment">
        <svg aria-hidden="true" height="16" viewBox="0 0 16 16" version="1.1" width="16" data-view-component="true" class="octicon octicon-plus">
    <path fill-rule="evenodd" d="M7.75 2a.75.75 0 01.75.75V7h4.25a.75.75 0 110 1.5H8.5v4.25a.75.75 0 11-1.5 0V8.5H2.75a.75.75 0 010-1.5H7V2.75A.75.75 0 017.75 2z"></path>
</svg>
      </button>
    <span class='blob-code-inner blob-code-marker' data-code-marker="+">1951-09,184</span></td>
</tr>



    <tr data-hunk="ef544bcaf162b7cec0c0c0a85cdbc97381121e64954f3f1a8a88d1f6b419dd31">
    <td class="blob-num blob-num-addition empty-cell"></td>

    <td id="diff-05ec04f9dc9cabd71a0d6907792b0c3b184520e17d87138f9a9956b37bcc5717R35" data-line-number="35"
        class="blob-num blob-num-addition js-linkable-line-number"></td>

  <td class="blob-code blob-code-addition">
      <button class="btn-link add-line-comment js-add-line-comment js-add-single-line-comment"
        data-path="AirPassengers.csv"
        data-anchor="diff-05ec04f9dc9cabd71a0d6907792b0c3b184520e17d87138f9a9956b37bcc5717"
        data-position="35"
        data-side="right"
        data-line="35"
        data-original-line="+1951-10,162"
        type="button"
        aria-label="Add line comment">
        <svg aria-hidden="true" height="16" viewBox="0 0 16 16" version="1.1" width="16" data-view-component="true" class="octicon octicon-plus">
    <path fill-rule="evenodd" d="M7.75 2a.75.75 0 01.75.75V7h4.25a.75.75 0 110 1.5H8.5v4.25a.75.75 0 11-1.5 0V8.5H2.75a.75.75 0 010-1.5H7V2.75A.75.75 0 017.75 2z"></path>
</svg>
      </button>
    <span class='blob-code-inner blob-code-marker' data-code-marker="+">1951-10,162</span></td>
</tr>



    <tr data-hunk="ef544bcaf162b7cec0c0c0a85cdbc97381121e64954f3f1a8a88d1f6b419dd31">
    <td class="blob-num blob-num-addition empty-cell"></td>

    <td id="diff-05ec04f9dc9cabd71a0d6907792b0c3b184520e17d87138f9a9956b37bcc5717R36" data-line-number="36"
        class="blob-num blob-num-addition js-linkable-line-number"></td>

  <td class="blob-code blob-code-addition">
      <button class="btn-link add-line-comment js-add-line-comment js-add-single-line-comment"
        data-path="AirPassengers.csv"
        data-anchor="diff-05ec04f9dc9cabd71a0d6907792b0c3b184520e17d87138f9a9956b37bcc5717"
        data-position="36"
        data-side="right"
        data-line="36"
        data-original-line="+1951-11,146"
        type="button"
        aria-label="Add line comment">
        <svg aria-hidden="true" height="16" viewBox="0 0 16 16" version="1.1" width="16" data-view-component="true" class="octicon octicon-plus">
    <path fill-rule="evenodd" d="M7.75 2a.75.75 0 01.75.75V7h4.25a.75.75 0 110 1.5H8.5v4.25a.75.75 0 11-1.5 0V8.5H2.75a.75.75 0 010-1.5H7V2.75A.75.75 0 017.75 2z"></path>
</svg>
      </button>
    <span class='blob-code-inner blob-code-marker' data-code-marker="+">1951-11,146</span></td>
</tr>



    <tr data-hunk="ef544bcaf162b7cec0c0c0a85cdbc97381121e64954f3f1a8a88d1f6b419dd31">
    <td class="blob-num blob-num-addition empty-cell"></td>

    <td id="diff-05ec04f9dc9cabd71a0d6907792b0c3b184520e17d87138f9a9956b37bcc5717R37" data-line-number="37"
        class="blob-num blob-num-addition js-linkable-line-number"></td>

  <td class="blob-code blob-code-addition">
      <button class="btn-link add-line-comment js-add-line-comment js-add-single-line-comment"
        data-path="AirPassengers.csv"
        data-anchor="diff-05ec04f9dc9cabd71a0d6907792b0c3b184520e17d87138f9a9956b37bcc5717"
        data-position="37"
        data-side="right"
        data-line="37"
        data-original-line="+1951-12,166"
        type="button"
        aria-label="Add line comment">
        <svg aria-hidden="true" height="16" viewBox="0 0 16 16" version="1.1" width="16" data-view-component="true" class="octicon octicon-plus">
    <path fill-rule="evenodd" d="M7.75 2a.75.75 0 01.75.75V7h4.25a.75.75 0 110 1.5H8.5v4.25a.75.75 0 11-1.5 0V8.5H2.75a.75.75 0 010-1.5H7V2.75A.75.75 0 017.75 2z"></path>
</svg>
      </button>
    <span class='blob-code-inner blob-code-marker' data-code-marker="+">1951-12,166</span></td>
</tr>



    <tr data-hunk="ef544bcaf162b7cec0c0c0a85cdbc97381121e64954f3f1a8a88d1f6b419dd31">
    <td class="blob-num blob-num-addition empty-cell"></td>

    <td id="diff-05ec04f9dc9cabd71a0d6907792b0c3b184520e17d87138f9a9956b37bcc5717R38" data-line-number="38"
        class="blob-num blob-num-addition js-linkable-line-number"></td>

  <td class="blob-code blob-code-addition">
      <button class="btn-link add-line-comment js-add-line-comment js-add-single-line-comment"
        data-path="AirPassengers.csv"
        data-anchor="diff-05ec04f9dc9cabd71a0d6907792b0c3b184520e17d87138f9a9956b37bcc5717"
        data-position="38"
        data-side="right"
        data-line="38"
        data-original-line="+1952-01,171"
        type="button"
        aria-label="Add line comment">
        <svg aria-hidden="true" height="16" viewBox="0 0 16 16" version="1.1" width="16" data-view-component="true" class="octicon octicon-plus">
    <path fill-rule="evenodd" d="M7.75 2a.75.75 0 01.75.75V7h4.25a.75.75 0 110 1.5H8.5v4.25a.75.75 0 11-1.5 0V8.5H2.75a.75.75 0 010-1.5H7V2.75A.75.75 0 017.75 2z"></path>
</svg>
      </button>
    <span class='blob-code-inner blob-code-marker' data-code-marker="+">1952-01,171</span></td>
</tr>



    <tr data-hunk="ef544bcaf162b7cec0c0c0a85cdbc97381121e64954f3f1a8a88d1f6b419dd31">
    <td class="blob-num blob-num-addition empty-cell"></td>

    <td id="diff-05ec04f9dc9cabd71a0d6907792b0c3b184520e17d87138f9a9956b37bcc5717R39" data-line-number="39"
        class="blob-num blob-num-addition js-linkable-line-number"></td>

  <td class="blob-code blob-code-addition">
      <button class="btn-link add-line-comment js-add-line-comment js-add-single-line-comment"
        data-path="AirPassengers.csv"
        data-anchor="diff-05ec04f9dc9cabd71a0d6907792b0c3b184520e17d87138f9a9956b37bcc5717"
        data-position="39"
        data-side="right"
        data-line="39"
        data-original-line="+1952-02,180"
        type="button"
        aria-label="Add line comment">
        <svg aria-hidden="true" height="16" viewBox="0 0 16 16" version="1.1" width="16" data-view-component="true" class="octicon octicon-plus">
    <path fill-rule="evenodd" d="M7.75 2a.75.75 0 01.75.75V7h4.25a.75.75 0 110 1.5H8.5v4.25a.75.75 0 11-1.5 0V8.5H2.75a.75.75 0 010-1.5H7V2.75A.75.75 0 017.75 2z"></path>
</svg>
      </button>
    <span class='blob-code-inner blob-code-marker' data-code-marker="+">1952-02,180</span></td>
</tr>



    <tr data-hunk="ef544bcaf162b7cec0c0c0a85cdbc97381121e64954f3f1a8a88d1f6b419dd31">
    <td class="blob-num blob-num-addition empty-cell"></td>

    <td id="diff-05ec04f9dc9cabd71a0d6907792b0c3b184520e17d87138f9a9956b37bcc5717R40" data-line-number="40"
        class="blob-num blob-num-addition js-linkable-line-number"></td>

  <td class="blob-code blob-code-addition">
      <button class="btn-link add-line-comment js-add-line-comment js-add-single-line-comment"
        data-path="AirPassengers.csv"
        data-anchor="diff-05ec04f9dc9cabd71a0d6907792b0c3b184520e17d87138f9a9956b37bcc5717"
        data-position="40"
        data-side="right"
        data-line="40"
        data-original-line="+1952-03,193"
        type="button"
        aria-label="Add line comment">
        <svg aria-hidden="true" height="16" viewBox="0 0 16 16" version="1.1" width="16" data-view-component="true" class="octicon octicon-plus">
    <path fill-rule="evenodd" d="M7.75 2a.75.75 0 01.75.75V7h4.25a.75.75 0 110 1.5H8.5v4.25a.75.75 0 11-1.5 0V8.5H2.75a.75.75 0 010-1.5H7V2.75A.75.75 0 017.75 2z"></path>
</svg>
      </button>
    <span class='blob-code-inner blob-code-marker' data-code-marker="+">1952-03,193</span></td>
</tr>



    <tr data-hunk="ef544bcaf162b7cec0c0c0a85cdbc97381121e64954f3f1a8a88d1f6b419dd31">
    <td class="blob-num blob-num-addition empty-cell"></td>

    <td id="diff-05ec04f9dc9cabd71a0d6907792b0c3b184520e17d87138f9a9956b37bcc5717R41" data-line-number="41"
        class="blob-num blob-num-addition js-linkable-line-number"></td>

  <td class="blob-code blob-code-addition">
      <button class="btn-link add-line-comment js-add-line-comment js-add-single-line-comment"
        data-path="AirPassengers.csv"
        data-anchor="diff-05ec04f9dc9cabd71a0d6907792b0c3b184520e17d87138f9a9956b37bcc5717"
        data-position="41"
        data-side="right"
        data-line="41"
        data-original-line="+1952-04,181"
        type="button"
        aria-label="Add line comment">
        <svg aria-hidden="true" height="16" viewBox="0 0 16 16" version="1.1" width="16" data-view-component="true" class="octicon octicon-plus">
    <path fill-rule="evenodd" d="M7.75 2a.75.75 0 01.75.75V7h4.25a.75.75 0 110 1.5H8.5v4.25a.75.75 0 11-1.5 0V8.5H2.75a.75.75 0 010-1.5H7V2.75A.75.75 0 017.75 2z"></path>
</svg>
      </button>
    <span class='blob-code-inner blob-code-marker' data-code-marker="+">1952-04,181</span></td>
</tr>



    <tr data-hunk="ef544bcaf162b7cec0c0c0a85cdbc97381121e64954f3f1a8a88d1f6b419dd31">
    <td class="blob-num blob-num-addition empty-cell"></td>

    <td id="diff-05ec04f9dc9cabd71a0d6907792b0c3b184520e17d87138f9a9956b37bcc5717R42" data-line-number="42"
        class="blob-num blob-num-addition js-linkable-line-number"></td>

  <td class="blob-code blob-code-addition">
      <button class="btn-link add-line-comment js-add-line-comment js-add-single-line-comment"
        data-path="AirPassengers.csv"
        data-anchor="diff-05ec04f9dc9cabd71a0d6907792b0c3b184520e17d87138f9a9956b37bcc5717"
        data-position="42"
        data-side="right"
        data-line="42"
        data-original-line="+1952-05,183"
        type="button"
        aria-label="Add line comment">
        <svg aria-hidden="true" height="16" viewBox="0 0 16 16" version="1.1" width="16" data-view-component="true" class="octicon octicon-plus">
    <path fill-rule="evenodd" d="M7.75 2a.75.75 0 01.75.75V7h4.25a.75.75 0 110 1.5H8.5v4.25a.75.75 0 11-1.5 0V8.5H2.75a.75.75 0 010-1.5H7V2.75A.75.75 0 017.75 2z"></path>
</svg>
      </button>
    <span class='blob-code-inner blob-code-marker' data-code-marker="+">1952-05,183</span></td>
</tr>



    <tr data-hunk="ef544bcaf162b7cec0c0c0a85cdbc97381121e64954f3f1a8a88d1f6b419dd31">
    <td class="blob-num blob-num-addition empty-cell"></td>

    <td id="diff-05ec04f9dc9cabd71a0d6907792b0c3b184520e17d87138f9a9956b37bcc5717R43" data-line-number="43"
        class="blob-num blob-num-addition js-linkable-line-number"></td>

  <td class="blob-code blob-code-addition">
      <button class="btn-link add-line-comment js-add-line-comment js-add-single-line-comment"
        data-path="AirPassengers.csv"
        data-anchor="diff-05ec04f9dc9cabd71a0d6907792b0c3b184520e17d87138f9a9956b37bcc5717"
        data-position="43"
        data-side="right"
        data-line="43"
        data-original-line="+1952-06,218"
        type="button"
        aria-label="Add line comment">
        <svg aria-hidden="true" height="16" viewBox="0 0 16 16" version="1.1" width="16" data-view-component="true" class="octicon octicon-plus">
    <path fill-rule="evenodd" d="M7.75 2a.75.75 0 01.75.75V7h4.25a.75.75 0 110 1.5H8.5v4.25a.75.75 0 11-1.5 0V8.5H2.75a.75.75 0 010-1.5H7V2.75A.75.75 0 017.75 2z"></path>
</svg>
      </button>
    <span class='blob-code-inner blob-code-marker' data-code-marker="+">1952-06,218</span></td>
</tr>



    <tr data-hunk="ef544bcaf162b7cec0c0c0a85cdbc97381121e64954f3f1a8a88d1f6b419dd31">
    <td class="blob-num blob-num-addition empty-cell"></td>

    <td id="diff-05ec04f9dc9cabd71a0d6907792b0c3b184520e17d87138f9a9956b37bcc5717R44" data-line-number="44"
        class="blob-num blob-num-addition js-linkable-line-number"></td>

  <td class="blob-code blob-code-addition">
      <button class="btn-link add-line-comment js-add-line-comment js-add-single-line-comment"
        data-path="AirPassengers.csv"
        data-anchor="diff-05ec04f9dc9cabd71a0d6907792b0c3b184520e17d87138f9a9956b37bcc5717"
        data-position="44"
        data-side="right"
        data-line="44"
        data-original-line="+1952-07,230"
        type="button"
        aria-label="Add line comment">
        <svg aria-hidden="true" height="16" viewBox="0 0 16 16" version="1.1" width="16" data-view-component="true" class="octicon octicon-plus">
    <path fill-rule="evenodd" d="M7.75 2a.75.75 0 01.75.75V7h4.25a.75.75 0 110 1.5H8.5v4.25a.75.75 0 11-1.5 0V8.5H2.75a.75.75 0 010-1.5H7V2.75A.75.75 0 017.75 2z"></path>
</svg>
      </button>
    <span class='blob-code-inner blob-code-marker' data-code-marker="+">1952-07,230</span></td>
</tr>



    <tr data-hunk="ef544bcaf162b7cec0c0c0a85cdbc97381121e64954f3f1a8a88d1f6b419dd31">
    <td class="blob-num blob-num-addition empty-cell"></td>

    <td id="diff-05ec04f9dc9cabd71a0d6907792b0c3b184520e17d87138f9a9956b37bcc5717R45" data-line-number="45"
        class="blob-num blob-num-addition js-linkable-line-number"></td>

  <td class="blob-code blob-code-addition">
      <button class="btn-link add-line-comment js-add-line-comment js-add-single-line-comment"
        data-path="AirPassengers.csv"
        data-anchor="diff-05ec04f9dc9cabd71a0d6907792b0c3b184520e17d87138f9a9956b37bcc5717"
        data-position="45"
        data-side="right"
        data-line="45"
        data-original-line="+1952-08,242"
        type="button"
        aria-label="Add line comment">
        <svg aria-hidden="true" height="16" viewBox="0 0 16 16" version="1.1" width="16" data-view-component="true" class="octicon octicon-plus">
    <path fill-rule="evenodd" d="M7.75 2a.75.75 0 01.75.75V7h4.25a.75.75 0 110 1.5H8.5v4.25a.75.75 0 11-1.5 0V8.5H2.75a.75.75 0 010-1.5H7V2.75A.75.75 0 017.75 2z"></path>
</svg>
      </button>
    <span class='blob-code-inner blob-code-marker' data-code-marker="+">1952-08,242</span></td>
</tr>



    <tr data-hunk="ef544bcaf162b7cec0c0c0a85cdbc97381121e64954f3f1a8a88d1f6b419dd31">
    <td class="blob-num blob-num-addition empty-cell"></td>

    <td id="diff-05ec04f9dc9cabd71a0d6907792b0c3b184520e17d87138f9a9956b37bcc5717R46" data-line-number="46"
        class="blob-num blob-num-addition js-linkable-line-number"></td>

  <td class="blob-code blob-code-addition">
      <button class="btn-link add-line-comment js-add-line-comment js-add-single-line-comment"
        data-path="AirPassengers.csv"
        data-anchor="diff-05ec04f9dc9cabd71a0d6907792b0c3b184520e17d87138f9a9956b37bcc5717"
        data-position="46"
        data-side="right"
        data-line="46"
        data-original-line="+1952-09,209"
        type="button"
        aria-label="Add line comment">
        <svg aria-hidden="true" height="16" viewBox="0 0 16 16" version="1.1" width="16" data-view-component="true" class="octicon octicon-plus">
    <path fill-rule="evenodd" d="M7.75 2a.75.75 0 01.75.75V7h4.25a.75.75 0 110 1.5H8.5v4.25a.75.75 0 11-1.5 0V8.5H2.75a.75.75 0 010-1.5H7V2.75A.75.75 0 017.75 2z"></path>
</svg>
      </button>
    <span class='blob-code-inner blob-code-marker' data-code-marker="+">1952-09,209</span></td>
</tr>



    <tr data-hunk="ef544bcaf162b7cec0c0c0a85cdbc97381121e64954f3f1a8a88d1f6b419dd31">
    <td class="blob-num blob-num-addition empty-cell"></td>

    <td id="diff-05ec04f9dc9cabd71a0d6907792b0c3b184520e17d87138f9a9956b37bcc5717R47" data-line-number="47"
        class="blob-num blob-num-addition js-linkable-line-number"></td>

  <td class="blob-code blob-code-addition">
      <button class="btn-link add-line-comment js-add-line-comment js-add-single-line-comment"
        data-path="AirPassengers.csv"
        data-anchor="diff-05ec04f9dc9cabd71a0d6907792b0c3b184520e17d87138f9a9956b37bcc5717"
        data-position="47"
        data-side="right"
        data-line="47"
        data-original-line="+1952-10,191"
        type="button"
        aria-label="Add line comment">
        <svg aria-hidden="true" height="16" viewBox="0 0 16 16" version="1.1" width="16" data-view-component="true" class="octicon octicon-plus">
    <path fill-rule="evenodd" d="M7.75 2a.75.75 0 01.75.75V7h4.25a.75.75 0 110 1.5H8.5v4.25a.75.75 0 11-1.5 0V8.5H2.75a.75.75 0 010-1.5H7V2.75A.75.75 0 017.75 2z"></path>
</svg>
      </button>
    <span class='blob-code-inner blob-code-marker' data-code-marker="+">1952-10,191</span></td>
</tr>



    <tr data-hunk="ef544bcaf162b7cec0c0c0a85cdbc97381121e64954f3f1a8a88d1f6b419dd31">
    <td class="blob-num blob-num-addition empty-cell"></td>

    <td id="diff-05ec04f9dc9cabd71a0d6907792b0c3b184520e17d87138f9a9956b37bcc5717R48" data-line-number="48"
        class="blob-num blob-num-addition js-linkable-line-number"></td>

  <td class="blob-code blob-code-addition">
      <button class="btn-link add-line-comment js-add-line-comment js-add-single-line-comment"
        data-path="AirPassengers.csv"
        data-anchor="diff-05ec04f9dc9cabd71a0d6907792b0c3b184520e17d87138f9a9956b37bcc5717"
        data-position="48"
        data-side="right"
        data-line="48"
        data-original-line="+1952-11,172"
        type="button"
        aria-label="Add line comment">
        <svg aria-hidden="true" height="16" viewBox="0 0 16 16" version="1.1" width="16" data-view-component="true" class="octicon octicon-plus">
    <path fill-rule="evenodd" d="M7.75 2a.75.75 0 01.75.75V7h4.25a.75.75 0 110 1.5H8.5v4.25a.75.75 0 11-1.5 0V8.5H2.75a.75.75 0 010-1.5H7V2.75A.75.75 0 017.75 2z"></path>
</svg>
      </button>
    <span class='blob-code-inner blob-code-marker' data-code-marker="+">1952-11,172</span></td>
</tr>



    <tr data-hunk="ef544bcaf162b7cec0c0c0a85cdbc97381121e64954f3f1a8a88d1f6b419dd31">
    <td class="blob-num blob-num-addition empty-cell"></td>

    <td id="diff-05ec04f9dc9cabd71a0d6907792b0c3b184520e17d87138f9a9956b37bcc5717R49" data-line-number="49"
        class="blob-num blob-num-addition js-linkable-line-number"></td>

  <td class="blob-code blob-code-addition">
      <button class="btn-link add-line-comment js-add-line-comment js-add-single-line-comment"
        data-path="AirPassengers.csv"
        data-anchor="diff-05ec04f9dc9cabd71a0d6907792b0c3b184520e17d87138f9a9956b37bcc5717"
        data-position="49"
        data-side="right"
        data-line="49"
        data-original-line="+1952-12,194"
        type="button"
        aria-label="Add line comment">
        <svg aria-hidden="true" height="16" viewBox="0 0 16 16" version="1.1" width="16" data-view-component="true" class="octicon octicon-plus">
    <path fill-rule="evenodd" d="M7.75 2a.75.75 0 01.75.75V7h4.25a.75.75 0 110 1.5H8.5v4.25a.75.75 0 11-1.5 0V8.5H2.75a.75.75 0 010-1.5H7V2.75A.75.75 0 017.75 2z"></path>
</svg>
      </button>
    <span class='blob-code-inner blob-code-marker' data-code-marker="+">1952-12,194</span></td>
</tr>



    <tr data-hunk="ef544bcaf162b7cec0c0c0a85cdbc97381121e64954f3f1a8a88d1f6b419dd31">
    <td class="blob-num blob-num-addition empty-cell"></td>

    <td id="diff-05ec04f9dc9cabd71a0d6907792b0c3b184520e17d87138f9a9956b37bcc5717R50" data-line-number="50"
        class="blob-num blob-num-addition js-linkable-line-number"></td>

  <td class="blob-code blob-code-addition">
      <button class="btn-link add-line-comment js-add-line-comment js-add-single-line-comment"
        data-path="AirPassengers.csv"
        data-anchor="diff-05ec04f9dc9cabd71a0d6907792b0c3b184520e17d87138f9a9956b37bcc5717"
        data-position="50"
        data-side="right"
        data-line="50"
        data-original-line="+1953-01,196"
        type="button"
        aria-label="Add line comment">
        <svg aria-hidden="true" height="16" viewBox="0 0 16 16" version="1.1" width="16" data-view-component="true" class="octicon octicon-plus">
    <path fill-rule="evenodd" d="M7.75 2a.75.75 0 01.75.75V7h4.25a.75.75 0 110 1.5H8.5v4.25a.75.75 0 11-1.5 0V8.5H2.75a.75.75 0 010-1.5H7V2.75A.75.75 0 017.75 2z"></path>
</svg>
      </button>
    <span class='blob-code-inner blob-code-marker' data-code-marker="+">1953-01,196</span></td>
</tr>



    <tr data-hunk="ef544bcaf162b7cec0c0c0a85cdbc97381121e64954f3f1a8a88d1f6b419dd31">
    <td class="blob-num blob-num-addition empty-cell"></td>

    <td id="diff-05ec04f9dc9cabd71a0d6907792b0c3b184520e17d87138f9a9956b37bcc5717R51" data-line-number="51"
        class="blob-num blob-num-addition js-linkable-line-number"></td>

  <td class="blob-code blob-code-addition">
      <button class="btn-link add-line-comment js-add-line-comment js-add-single-line-comment"
        data-path="AirPassengers.csv"
        data-anchor="diff-05ec04f9dc9cabd71a0d6907792b0c3b184520e17d87138f9a9956b37bcc5717"
        data-position="51"
        data-side="right"
        data-line="51"
        data-original-line="+1953-02,196"
        type="button"
        aria-label="Add line comment">
        <svg aria-hidden="true" height="16" viewBox="0 0 16 16" version="1.1" width="16" data-view-component="true" class="octicon octicon-plus">
    <path fill-rule="evenodd" d="M7.75 2a.75.75 0 01.75.75V7h4.25a.75.75 0 110 1.5H8.5v4.25a.75.75 0 11-1.5 0V8.5H2.75a.75.75 0 010-1.5H7V2.75A.75.75 0 017.75 2z"></path>
</svg>
      </button>
    <span class='blob-code-inner blob-code-marker' data-code-marker="+">1953-02,196</span></td>
</tr>



    <tr data-hunk="ef544bcaf162b7cec0c0c0a85cdbc97381121e64954f3f1a8a88d1f6b419dd31">
    <td class="blob-num blob-num-addition empty-cell"></td>

    <td id="diff-05ec04f9dc9cabd71a0d6907792b0c3b184520e17d87138f9a9956b37bcc5717R52" data-line-number="52"
        class="blob-num blob-num-addition js-linkable-line-number"></td>

  <td class="blob-code blob-code-addition">
      <button class="btn-link add-line-comment js-add-line-comment js-add-single-line-comment"
        data-path="AirPassengers.csv"
        data-anchor="diff-05ec04f9dc9cabd71a0d6907792b0c3b184520e17d87138f9a9956b37bcc5717"
        data-position="52"
        data-side="right"
        data-line="52"
        data-original-line="+1953-03,236"
        type="button"
        aria-label="Add line comment">
        <svg aria-hidden="true" height="16" viewBox="0 0 16 16" version="1.1" width="16" data-view-component="true" class="octicon octicon-plus">
    <path fill-rule="evenodd" d="M7.75 2a.75.75 0 01.75.75V7h4.25a.75.75 0 110 1.5H8.5v4.25a.75.75 0 11-1.5 0V8.5H2.75a.75.75 0 010-1.5H7V2.75A.75.75 0 017.75 2z"></path>
</svg>
      </button>
    <span class='blob-code-inner blob-code-marker' data-code-marker="+">1953-03,236</span></td>
</tr>



    <tr data-hunk="ef544bcaf162b7cec0c0c0a85cdbc97381121e64954f3f1a8a88d1f6b419dd31">
    <td class="blob-num blob-num-addition empty-cell"></td>

    <td id="diff-05ec04f9dc9cabd71a0d6907792b0c3b184520e17d87138f9a9956b37bcc5717R53" data-line-number="53"
        class="blob-num blob-num-addition js-linkable-line-number"></td>

  <td class="blob-code blob-code-addition">
      <button class="btn-link add-line-comment js-add-line-comment js-add-single-line-comment"
        data-path="AirPassengers.csv"
        data-anchor="diff-05ec04f9dc9cabd71a0d6907792b0c3b184520e17d87138f9a9956b37bcc5717"
        data-position="53"
        data-side="right"
        data-line="53"
        data-original-line="+1953-04,235"
        type="button"
        aria-label="Add line comment">
        <svg aria-hidden="true" height="16" viewBox="0 0 16 16" version="1.1" width="16" data-view-component="true" class="octicon octicon-plus">
    <path fill-rule="evenodd" d="M7.75 2a.75.75 0 01.75.75V7h4.25a.75.75 0 110 1.5H8.5v4.25a.75.75 0 11-1.5 0V8.5H2.75a.75.75 0 010-1.5H7V2.75A.75.75 0 017.75 2z"></path>
</svg>
      </button>
    <span class='blob-code-inner blob-code-marker' data-code-marker="+">1953-04,235</span></td>
</tr>



    <tr data-hunk="ef544bcaf162b7cec0c0c0a85cdbc97381121e64954f3f1a8a88d1f6b419dd31">
    <td class="blob-num blob-num-addition empty-cell"></td>

    <td id="diff-05ec04f9dc9cabd71a0d6907792b0c3b184520e17d87138f9a9956b37bcc5717R54" data-line-number="54"
        class="blob-num blob-num-addition js-linkable-line-number"></td>

  <td class="blob-code blob-code-addition">
      <button class="btn-link add-line-comment js-add-line-comment js-add-single-line-comment"
        data-path="AirPassengers.csv"
        data-anchor="diff-05ec04f9dc9cabd71a0d6907792b0c3b184520e17d87138f9a9956b37bcc5717"
        data-position="54"
        data-side="right"
        data-line="54"
        data-original-line="+1953-05,229"
        type="button"
        aria-label="Add line comment">
        <svg aria-hidden="true" height="16" viewBox="0 0 16 16" version="1.1" width="16" data-view-component="true" class="octicon octicon-plus">
    <path fill-rule="evenodd" d="M7.75 2a.75.75 0 01.75.75V7h4.25a.75.75 0 110 1.5H8.5v4.25a.75.75 0 11-1.5 0V8.5H2.75a.75.75 0 010-1.5H7V2.75A.75.75 0 017.75 2z"></path>
</svg>
      </button>
    <span class='blob-code-inner blob-code-marker' data-code-marker="+">1953-05,229</span></td>
</tr>



    <tr data-hunk="ef544bcaf162b7cec0c0c0a85cdbc97381121e64954f3f1a8a88d1f6b419dd31">
    <td class="blob-num blob-num-addition empty-cell"></td>

    <td id="diff-05ec04f9dc9cabd71a0d6907792b0c3b184520e17d87138f9a9956b37bcc5717R55" data-line-number="55"
        class="blob-num blob-num-addition js-linkable-line-number"></td>

  <td class="blob-code blob-code-addition">
      <button class="btn-link add-line-comment js-add-line-comment js-add-single-line-comment"
        data-path="AirPassengers.csv"
        data-anchor="diff-05ec04f9dc9cabd71a0d6907792b0c3b184520e17d87138f9a9956b37bcc5717"
        data-position="55"
        data-side="right"
        data-line="55"
        data-original-line="+1953-06,243"
        type="button"
        aria-label="Add line comment">
        <svg aria-hidden="true" height="16" viewBox="0 0 16 16" version="1.1" width="16" data-view-component="true" class="octicon octicon-plus">
    <path fill-rule="evenodd" d="M7.75 2a.75.75 0 01.75.75V7h4.25a.75.75 0 110 1.5H8.5v4.25a.75.75 0 11-1.5 0V8.5H2.75a.75.75 0 010-1.5H7V2.75A.75.75 0 017.75 2z"></path>
</svg>
      </button>
    <span class='blob-code-inner blob-code-marker' data-code-marker="+">1953-06,243</span></td>
</tr>



    <tr data-hunk="ef544bcaf162b7cec0c0c0a85cdbc97381121e64954f3f1a8a88d1f6b419dd31">
    <td class="blob-num blob-num-addition empty-cell"></td>

    <td id="diff-05ec04f9dc9cabd71a0d6907792b0c3b184520e17d87138f9a9956b37bcc5717R56" data-line-number="56"
        class="blob-num blob-num-addition js-linkable-line-number"></td>

  <td class="blob-code blob-code-addition">
      <button class="btn-link add-line-comment js-add-line-comment js-add-single-line-comment"
        data-path="AirPassengers.csv"
        data-anchor="diff-05ec04f9dc9cabd71a0d6907792b0c3b184520e17d87138f9a9956b37bcc5717"
        data-position="56"
        data-side="right"
        data-line="56"
        data-original-line="+1953-07,264"
        type="button"
        aria-label="Add line comment">
        <svg aria-hidden="true" height="16" viewBox="0 0 16 16" version="1.1" width="16" data-view-component="true" class="octicon octicon-plus">
    <path fill-rule="evenodd" d="M7.75 2a.75.75 0 01.75.75V7h4.25a.75.75 0 110 1.5H8.5v4.25a.75.75 0 11-1.5 0V8.5H2.75a.75.75 0 010-1.5H7V2.75A.75.75 0 017.75 2z"></path>
</svg>
      </button>
    <span class='blob-code-inner blob-code-marker' data-code-marker="+">1953-07,264</span></td>
</tr>



    <tr data-hunk="ef544bcaf162b7cec0c0c0a85cdbc97381121e64954f3f1a8a88d1f6b419dd31">
    <td class="blob-num blob-num-addition empty-cell"></td>

    <td id="diff-05ec04f9dc9cabd71a0d6907792b0c3b184520e17d87138f9a9956b37bcc5717R57" data-line-number="57"
        class="blob-num blob-num-addition js-linkable-line-number"></td>

  <td class="blob-code blob-code-addition">
      <button class="btn-link add-line-comment js-add-line-comment js-add-single-line-comment"
        data-path="AirPassengers.csv"
        data-anchor="diff-05ec04f9dc9cabd71a0d6907792b0c3b184520e17d87138f9a9956b37bcc5717"
        data-position="57"
        data-side="right"
        data-line="57"
        data-original-line="+1953-08,272"
        type="button"
        aria-label="Add line comment">
        <svg aria-hidden="true" height="16" viewBox="0 0 16 16" version="1.1" width="16" data-view-component="true" class="octicon octicon-plus">
    <path fill-rule="evenodd" d="M7.75 2a.75.75 0 01.75.75V7h4.25a.75.75 0 110 1.5H8.5v4.25a.75.75 0 11-1.5 0V8.5H2.75a.75.75 0 010-1.5H7V2.75A.75.75 0 017.75 2z"></path>
</svg>
      </button>
    <span class='blob-code-inner blob-code-marker' data-code-marker="+">1953-08,272</span></td>
</tr>



    <tr data-hunk="ef544bcaf162b7cec0c0c0a85cdbc97381121e64954f3f1a8a88d1f6b419dd31">
    <td class="blob-num blob-num-addition empty-cell"></td>

    <td id="diff-05ec04f9dc9cabd71a0d6907792b0c3b184520e17d87138f9a9956b37bcc5717R58" data-line-number="58"
        class="blob-num blob-num-addition js-linkable-line-number"></td>

  <td class="blob-code blob-code-addition">
      <button class="btn-link add-line-comment js-add-line-comment js-add-single-line-comment"
        data-path="AirPassengers.csv"
        data-anchor="diff-05ec04f9dc9cabd71a0d6907792b0c3b184520e17d87138f9a9956b37bcc5717"
        data-position="58"
        data-side="right"
        data-line="58"
        data-original-line="+1953-09,237"
        type="button"
        aria-label="Add line comment">
        <svg aria-hidden="true" height="16" viewBox="0 0 16 16" version="1.1" width="16" data-view-component="true" class="octicon octicon-plus">
    <path fill-rule="evenodd" d="M7.75 2a.75.75 0 01.75.75V7h4.25a.75.75 0 110 1.5H8.5v4.25a.75.75 0 11-1.5 0V8.5H2.75a.75.75 0 010-1.5H7V2.75A.75.75 0 017.75 2z"></path>
</svg>
      </button>
    <span class='blob-code-inner blob-code-marker' data-code-marker="+">1953-09,237</span></td>
</tr>



    <tr data-hunk="ef544bcaf162b7cec0c0c0a85cdbc97381121e64954f3f1a8a88d1f6b419dd31">
    <td class="blob-num blob-num-addition empty-cell"></td>

    <td id="diff-05ec04f9dc9cabd71a0d6907792b0c3b184520e17d87138f9a9956b37bcc5717R59" data-line-number="59"
        class="blob-num blob-num-addition js-linkable-line-number"></td>

  <td class="blob-code blob-code-addition">
      <button class="btn-link add-line-comment js-add-line-comment js-add-single-line-comment"
        data-path="AirPassengers.csv"
        data-anchor="diff-05ec04f9dc9cabd71a0d6907792b0c3b184520e17d87138f9a9956b37bcc5717"
        data-position="59"
        data-side="right"
        data-line="59"
        data-original-line="+1953-10,211"
        type="button"
        aria-label="Add line comment">
        <svg aria-hidden="true" height="16" viewBox="0 0 16 16" version="1.1" width="16" data-view-component="true" class="octicon octicon-plus">
    <path fill-rule="evenodd" d="M7.75 2a.75.75 0 01.75.75V7h4.25a.75.75 0 110 1.5H8.5v4.25a.75.75 0 11-1.5 0V8.5H2.75a.75.75 0 010-1.5H7V2.75A.75.75 0 017.75 2z"></path>
</svg>
      </button>
    <span class='blob-code-inner blob-code-marker' data-code-marker="+">1953-10,211</span></td>
</tr>



    <tr data-hunk="ef544bcaf162b7cec0c0c0a85cdbc97381121e64954f3f1a8a88d1f6b419dd31">
    <td class="blob-num blob-num-addition empty-cell"></td>

    <td id="diff-05ec04f9dc9cabd71a0d6907792b0c3b184520e17d87138f9a9956b37bcc5717R60" data-line-number="60"
        class="blob-num blob-num-addition js-linkable-line-number"></td>

  <td class="blob-code blob-code-addition">
      <button class="btn-link add-line-comment js-add-line-comment js-add-single-line-comment"
        data-path="AirPassengers.csv"
        data-anchor="diff-05ec04f9dc9cabd71a0d6907792b0c3b184520e17d87138f9a9956b37bcc5717"
        data-position="60"
        data-side="right"
        data-line="60"
        data-original-line="+1953-11,180"
        type="button"
        aria-label="Add line comment">
        <svg aria-hidden="true" height="16" viewBox="0 0 16 16" version="1.1" width="16" data-view-component="true" class="octicon octicon-plus">
    <path fill-rule="evenodd" d="M7.75 2a.75.75 0 01.75.75V7h4.25a.75.75 0 110 1.5H8.5v4.25a.75.75 0 11-1.5 0V8.5H2.75a.75.75 0 010-1.5H7V2.75A.75.75 0 017.75 2z"></path>
</svg>
      </button>
    <span class='blob-code-inner blob-code-marker' data-code-marker="+">1953-11,180</span></td>
</tr>



    <tr data-hunk="ef544bcaf162b7cec0c0c0a85cdbc97381121e64954f3f1a8a88d1f6b419dd31">
    <td class="blob-num blob-num-addition empty-cell"></td>

    <td id="diff-05ec04f9dc9cabd71a0d6907792b0c3b184520e17d87138f9a9956b37bcc5717R61" data-line-number="61"
        class="blob-num blob-num-addition js-linkable-line-number"></td>

  <td class="blob-code blob-code-addition">
      <button class="btn-link add-line-comment js-add-line-comment js-add-single-line-comment"
        data-path="AirPassengers.csv"
        data-anchor="diff-05ec04f9dc9cabd71a0d6907792b0c3b184520e17d87138f9a9956b37bcc5717"
        data-position="61"
        data-side="right"
        data-line="61"
        data-original-line="+1953-12,201"
        type="button"
        aria-label="Add line comment">
        <svg aria-hidden="true" height="16" viewBox="0 0 16 16" version="1.1" width="16" data-view-component="true" class="octicon octicon-plus">
    <path fill-rule="evenodd" d="M7.75 2a.75.75 0 01.75.75V7h4.25a.75.75 0 110 1.5H8.5v4.25a.75.75 0 11-1.5 0V8.5H2.75a.75.75 0 010-1.5H7V2.75A.75.75 0 017.75 2z"></path>
</svg>
      </button>
    <span class='blob-code-inner blob-code-marker' data-code-marker="+">1953-12,201</span></td>
</tr>



    <tr data-hunk="ef544bcaf162b7cec0c0c0a85cdbc97381121e64954f3f1a8a88d1f6b419dd31">
    <td class="blob-num blob-num-addition empty-cell"></td>

    <td id="diff-05ec04f9dc9cabd71a0d6907792b0c3b184520e17d87138f9a9956b37bcc5717R62" data-line-number="62"
        class="blob-num blob-num-addition js-linkable-line-number"></td>

  <td class="blob-code blob-code-addition">
      <button class="btn-link add-line-comment js-add-line-comment js-add-single-line-comment"
        data-path="AirPassengers.csv"
        data-anchor="diff-05ec04f9dc9cabd71a0d6907792b0c3b184520e17d87138f9a9956b37bcc5717"
        data-position="62"
        data-side="right"
        data-line="62"
        data-original-line="+1954-01,204"
        type="button"
        aria-label="Add line comment">
        <svg aria-hidden="true" height="16" viewBox="0 0 16 16" version="1.1" width="16" data-view-component="true" class="octicon octicon-plus">
    <path fill-rule="evenodd" d="M7.75 2a.75.75 0 01.75.75V7h4.25a.75.75 0 110 1.5H8.5v4.25a.75.75 0 11-1.5 0V8.5H2.75a.75.75 0 010-1.5H7V2.75A.75.75 0 017.75 2z"></path>
</svg>
      </button>
    <span class='blob-code-inner blob-code-marker' data-code-marker="+">1954-01,204</span></td>
</tr>



    <tr data-hunk="ef544bcaf162b7cec0c0c0a85cdbc97381121e64954f3f1a8a88d1f6b419dd31">
    <td class="blob-num blob-num-addition empty-cell"></td>

    <td id="diff-05ec04f9dc9cabd71a0d6907792b0c3b184520e17d87138f9a9956b37bcc5717R63" data-line-number="63"
        class="blob-num blob-num-addition js-linkable-line-number"></td>

  <td class="blob-code blob-code-addition">
      <button class="btn-link add-line-comment js-add-line-comment js-add-single-line-comment"
        data-path="AirPassengers.csv"
        data-anchor="diff-05ec04f9dc9cabd71a0d6907792b0c3b184520e17d87138f9a9956b37bcc5717"
        data-position="63"
        data-side="right"
        data-line="63"
        data-original-line="+1954-02,188"
        type="button"
        aria-label="Add line comment">
        <svg aria-hidden="true" height="16" viewBox="0 0 16 16" version="1.1" width="16" data-view-component="true" class="octicon octicon-plus">
    <path fill-rule="evenodd" d="M7.75 2a.75.75 0 01.75.75V7h4.25a.75.75 0 110 1.5H8.5v4.25a.75.75 0 11-1.5 0V8.5H2.75a.75.75 0 010-1.5H7V2.75A.75.75 0 017.75 2z"></path>
</svg>
      </button>
    <span class='blob-code-inner blob-code-marker' data-code-marker="+">1954-02,188</span></td>
</tr>



    <tr data-hunk="ef544bcaf162b7cec0c0c0a85cdbc97381121e64954f3f1a8a88d1f6b419dd31">
    <td class="blob-num blob-num-addition empty-cell"></td>

    <td id="diff-05ec04f9dc9cabd71a0d6907792b0c3b184520e17d87138f9a9956b37bcc5717R64" data-line-number="64"
        class="blob-num blob-num-addition js-linkable-line-number"></td>

  <td class="blob-code blob-code-addition">
      <button class="btn-link add-line-comment js-add-line-comment js-add-single-line-comment"
        data-path="AirPassengers.csv"
        data-anchor="diff-05ec04f9dc9cabd71a0d6907792b0c3b184520e17d87138f9a9956b37bcc5717"
        data-position="64"
        data-side="right"
        data-line="64"
        data-original-line="+1954-03,235"
        type="button"
        aria-label="Add line comment">
        <svg aria-hidden="true" height="16" viewBox="0 0 16 16" version="1.1" width="16" data-view-component="true" class="octicon octicon-plus">
    <path fill-rule="evenodd" d="M7.75 2a.75.75 0 01.75.75V7h4.25a.75.75 0 110 1.5H8.5v4.25a.75.75 0 11-1.5 0V8.5H2.75a.75.75 0 010-1.5H7V2.75A.75.75 0 017.75 2z"></path>
</svg>
      </button>
    <span class='blob-code-inner blob-code-marker' data-code-marker="+">1954-03,235</span></td>
</tr>



    <tr data-hunk="ef544bcaf162b7cec0c0c0a85cdbc97381121e64954f3f1a8a88d1f6b419dd31">
    <td class="blob-num blob-num-addition empty-cell"></td>

    <td id="diff-05ec04f9dc9cabd71a0d6907792b0c3b184520e17d87138f9a9956b37bcc5717R65" data-line-number="65"
        class="blob-num blob-num-addition js-linkable-line-number"></td>

  <td class="blob-code blob-code-addition">
      <button class="btn-link add-line-comment js-add-line-comment js-add-single-line-comment"
        data-path="AirPassengers.csv"
        data-anchor="diff-05ec04f9dc9cabd71a0d6907792b0c3b184520e17d87138f9a9956b37bcc5717"
        data-position="65"
        data-side="right"
        data-line="65"
        data-original-line="+1954-04,227"
        type="button"
        aria-label="Add line comment">
        <svg aria-hidden="true" height="16" viewBox="0 0 16 16" version="1.1" width="16" data-view-component="true" class="octicon octicon-plus">
    <path fill-rule="evenodd" d="M7.75 2a.75.75 0 01.75.75V7h4.25a.75.75 0 110 1.5H8.5v4.25a.75.75 0 11-1.5 0V8.5H2.75a.75.75 0 010-1.5H7V2.75A.75.75 0 017.75 2z"></path>
</svg>
      </button>
    <span class='blob-code-inner blob-code-marker' data-code-marker="+">1954-04,227</span></td>
</tr>



    <tr data-hunk="ef544bcaf162b7cec0c0c0a85cdbc97381121e64954f3f1a8a88d1f6b419dd31">
    <td class="blob-num blob-num-addition empty-cell"></td>

    <td id="diff-05ec04f9dc9cabd71a0d6907792b0c3b184520e17d87138f9a9956b37bcc5717R66" data-line-number="66"
        class="blob-num blob-num-addition js-linkable-line-number"></td>

  <td class="blob-code blob-code-addition">
      <button class="btn-link add-line-comment js-add-line-comment js-add-single-line-comment"
        data-path="AirPassengers.csv"
        data-anchor="diff-05ec04f9dc9cabd71a0d6907792b0c3b184520e17d87138f9a9956b37bcc5717"
        data-position="66"
        data-side="right"
        data-line="66"
        data-original-line="+1954-05,234"
        type="button"
        aria-label="Add line comment">
        <svg aria-hidden="true" height="16" viewBox="0 0 16 16" version="1.1" width="16" data-view-component="true" class="octicon octicon-plus">
    <path fill-rule="evenodd" d="M7.75 2a.75.75 0 01.75.75V7h4.25a.75.75 0 110 1.5H8.5v4.25a.75.75 0 11-1.5 0V8.5H2.75a.75.75 0 010-1.5H7V2.75A.75.75 0 017.75 2z"></path>
</svg>
      </button>
    <span class='blob-code-inner blob-code-marker' data-code-marker="+">1954-05,234</span></td>
</tr>



    <tr data-hunk="ef544bcaf162b7cec0c0c0a85cdbc97381121e64954f3f1a8a88d1f6b419dd31">
    <td class="blob-num blob-num-addition empty-cell"></td>

    <td id="diff-05ec04f9dc9cabd71a0d6907792b0c3b184520e17d87138f9a9956b37bcc5717R67" data-line-number="67"
        class="blob-num blob-num-addition js-linkable-line-number"></td>

  <td class="blob-code blob-code-addition">
      <button class="btn-link add-line-comment js-add-line-comment js-add-single-line-comment"
        data-path="AirPassengers.csv"
        data-anchor="diff-05ec04f9dc9cabd71a0d6907792b0c3b184520e17d87138f9a9956b37bcc5717"
        data-position="67"
        data-side="right"
        data-line="67"
        data-original-line="+1954-06,264"
        type="button"
        aria-label="Add line comment">
        <svg aria-hidden="true" height="16" viewBox="0 0 16 16" version="1.1" width="16" data-view-component="true" class="octicon octicon-plus">
    <path fill-rule="evenodd" d="M7.75 2a.75.75 0 01.75.75V7h4.25a.75.75 0 110 1.5H8.5v4.25a.75.75 0 11-1.5 0V8.5H2.75a.75.75 0 010-1.5H7V2.75A.75.75 0 017.75 2z"></path>
</svg>
      </button>
    <span class='blob-code-inner blob-code-marker' data-code-marker="+">1954-06,264</span></td>
</tr>



    <tr data-hunk="ef544bcaf162b7cec0c0c0a85cdbc97381121e64954f3f1a8a88d1f6b419dd31">
    <td class="blob-num blob-num-addition empty-cell"></td>

    <td id="diff-05ec04f9dc9cabd71a0d6907792b0c3b184520e17d87138f9a9956b37bcc5717R68" data-line-number="68"
        class="blob-num blob-num-addition js-linkable-line-number"></td>

  <td class="blob-code blob-code-addition">
      <button class="btn-link add-line-comment js-add-line-comment js-add-single-line-comment"
        data-path="AirPassengers.csv"
        data-anchor="diff-05ec04f9dc9cabd71a0d6907792b0c3b184520e17d87138f9a9956b37bcc5717"
        data-position="68"
        data-side="right"
        data-line="68"
        data-original-line="+1954-07,302"
        type="button"
        aria-label="Add line comment">
        <svg aria-hidden="true" height="16" viewBox="0 0 16 16" version="1.1" width="16" data-view-component="true" class="octicon octicon-plus">
    <path fill-rule="evenodd" d="M7.75 2a.75.75 0 01.75.75V7h4.25a.75.75 0 110 1.5H8.5v4.25a.75.75 0 11-1.5 0V8.5H2.75a.75.75 0 010-1.5H7V2.75A.75.75 0 017.75 2z"></path>
</svg>
      </button>
    <span class='blob-code-inner blob-code-marker' data-code-marker="+">1954-07,302</span></td>
</tr>



    <tr data-hunk="ef544bcaf162b7cec0c0c0a85cdbc97381121e64954f3f1a8a88d1f6b419dd31">
    <td class="blob-num blob-num-addition empty-cell"></td>

    <td id="diff-05ec04f9dc9cabd71a0d6907792b0c3b184520e17d87138f9a9956b37bcc5717R69" data-line-number="69"
        class="blob-num blob-num-addition js-linkable-line-number"></td>

  <td class="blob-code blob-code-addition">
      <button class="btn-link add-line-comment js-add-line-comment js-add-single-line-comment"
        data-path="AirPassengers.csv"
        data-anchor="diff-05ec04f9dc9cabd71a0d6907792b0c3b184520e17d87138f9a9956b37bcc5717"
        data-position="69"
        data-side="right"
        data-line="69"
        data-original-line="+1954-08,293"
        type="button"
        aria-label="Add line comment">
        <svg aria-hidden="true" height="16" viewBox="0 0 16 16" version="1.1" width="16" data-view-component="true" class="octicon octicon-plus">
    <path fill-rule="evenodd" d="M7.75 2a.75.75 0 01.75.75V7h4.25a.75.75 0 110 1.5H8.5v4.25a.75.75 0 11-1.5 0V8.5H2.75a.75.75 0 010-1.5H7V2.75A.75.75 0 017.75 2z"></path>
</svg>
      </button>
    <span class='blob-code-inner blob-code-marker' data-code-marker="+">1954-08,293</span></td>
</tr>



    <tr data-hunk="ef544bcaf162b7cec0c0c0a85cdbc97381121e64954f3f1a8a88d1f6b419dd31">
    <td class="blob-num blob-num-addition empty-cell"></td>

    <td id="diff-05ec04f9dc9cabd71a0d6907792b0c3b184520e17d87138f9a9956b37bcc5717R70" data-line-number="70"
        class="blob-num blob-num-addition js-linkable-line-number"></td>

  <td class="blob-code blob-code-addition">
      <button class="btn-link add-line-comment js-add-line-comment js-add-single-line-comment"
        data-path="AirPassengers.csv"
        data-anchor="diff-05ec04f9dc9cabd71a0d6907792b0c3b184520e17d87138f9a9956b37bcc5717"
        data-position="70"
        data-side="right"
        data-line="70"
        data-original-line="+1954-09,259"
        type="button"
        aria-label="Add line comment">
        <svg aria-hidden="true" height="16" viewBox="0 0 16 16" version="1.1" width="16" data-view-component="true" class="octicon octicon-plus">
    <path fill-rule="evenodd" d="M7.75 2a.75.75 0 01.75.75V7h4.25a.75.75 0 110 1.5H8.5v4.25a.75.75 0 11-1.5 0V8.5H2.75a.75.75 0 010-1.5H7V2.75A.75.75 0 017.75 2z"></path>
</svg>
      </button>
    <span class='blob-code-inner blob-code-marker' data-code-marker="+">1954-09,259</span></td>
</tr>



    <tr data-hunk="ef544bcaf162b7cec0c0c0a85cdbc97381121e64954f3f1a8a88d1f6b419dd31">
    <td class="blob-num blob-num-addition empty-cell"></td>

    <td id="diff-05ec04f9dc9cabd71a0d6907792b0c3b184520e17d87138f9a9956b37bcc5717R71" data-line-number="71"
        class="blob-num blob-num-addition js-linkable-line-number"></td>

  <td class="blob-code blob-code-addition">
      <button class="btn-link add-line-comment js-add-line-comment js-add-single-line-comment"
        data-path="AirPassengers.csv"
        data-anchor="diff-05ec04f9dc9cabd71a0d6907792b0c3b184520e17d87138f9a9956b37bcc5717"
        data-position="71"
        data-side="right"
        data-line="71"
        data-original-line="+1954-10,229"
        type="button"
        aria-label="Add line comment">
        <svg aria-hidden="true" height="16" viewBox="0 0 16 16" version="1.1" width="16" data-view-component="true" class="octicon octicon-plus">
    <path fill-rule="evenodd" d="M7.75 2a.75.75 0 01.75.75V7h4.25a.75.75 0 110 1.5H8.5v4.25a.75.75 0 11-1.5 0V8.5H2.75a.75.75 0 010-1.5H7V2.75A.75.75 0 017.75 2z"></path>
</svg>
      </button>
    <span class='blob-code-inner blob-code-marker' data-code-marker="+">1954-10,229</span></td>
</tr>



    <tr data-hunk="ef544bcaf162b7cec0c0c0a85cdbc97381121e64954f3f1a8a88d1f6b419dd31">
    <td class="blob-num blob-num-addition empty-cell"></td>

    <td id="diff-05ec04f9dc9cabd71a0d6907792b0c3b184520e17d87138f9a9956b37bcc5717R72" data-line-number="72"
        class="blob-num blob-num-addition js-linkable-line-number"></td>

  <td class="blob-code blob-code-addition">
      <button class="btn-link add-line-comment js-add-line-comment js-add-single-line-comment"
        data-path="AirPassengers.csv"
        data-anchor="diff-05ec04f9dc9cabd71a0d6907792b0c3b184520e17d87138f9a9956b37bcc5717"
        data-position="72"
        data-side="right"
        data-line="72"
        data-original-line="+1954-11,203"
        type="button"
        aria-label="Add line comment">
        <svg aria-hidden="true" height="16" viewBox="0 0 16 16" version="1.1" width="16" data-view-component="true" class="octicon octicon-plus">
    <path fill-rule="evenodd" d="M7.75 2a.75.75 0 01.75.75V7h4.25a.75.75 0 110 1.5H8.5v4.25a.75.75 0 11-1.5 0V8.5H2.75a.75.75 0 010-1.5H7V2.75A.75.75 0 017.75 2z"></path>
</svg>
      </button>
    <span class='blob-code-inner blob-code-marker' data-code-marker="+">1954-11,203</span></td>
</tr>



    <tr data-hunk="ef544bcaf162b7cec0c0c0a85cdbc97381121e64954f3f1a8a88d1f6b419dd31">
    <td class="blob-num blob-num-addition empty-cell"></td>

    <td id="diff-05ec04f9dc9cabd71a0d6907792b0c3b184520e17d87138f9a9956b37bcc5717R73" data-line-number="73"
        class="blob-num blob-num-addition js-linkable-line-number"></td>

  <td class="blob-code blob-code-addition">
      <button class="btn-link add-line-comment js-add-line-comment js-add-single-line-comment"
        data-path="AirPassengers.csv"
        data-anchor="diff-05ec04f9dc9cabd71a0d6907792b0c3b184520e17d87138f9a9956b37bcc5717"
        data-position="73"
        data-side="right"
        data-line="73"
        data-original-line="+1954-12,229"
        type="button"
        aria-label="Add line comment">
        <svg aria-hidden="true" height="16" viewBox="0 0 16 16" version="1.1" width="16" data-view-component="true" class="octicon octicon-plus">
    <path fill-rule="evenodd" d="M7.75 2a.75.75 0 01.75.75V7h4.25a.75.75 0 110 1.5H8.5v4.25a.75.75 0 11-1.5 0V8.5H2.75a.75.75 0 010-1.5H7V2.75A.75.75 0 017.75 2z"></path>
</svg>
      </button>
    <span class='blob-code-inner blob-code-marker' data-code-marker="+">1954-12,229</span></td>
</tr>



    <tr data-hunk="ef544bcaf162b7cec0c0c0a85cdbc97381121e64954f3f1a8a88d1f6b419dd31">
    <td class="blob-num blob-num-addition empty-cell"></td>

    <td id="diff-05ec04f9dc9cabd71a0d6907792b0c3b184520e17d87138f9a9956b37bcc5717R74" data-line-number="74"
        class="blob-num blob-num-addition js-linkable-line-number"></td>

  <td class="blob-code blob-code-addition">
      <button class="btn-link add-line-comment js-add-line-comment js-add-single-line-comment"
        data-path="AirPassengers.csv"
        data-anchor="diff-05ec04f9dc9cabd71a0d6907792b0c3b184520e17d87138f9a9956b37bcc5717"
        data-position="74"
        data-side="right"
        data-line="74"
        data-original-line="+1955-01,242"
        type="button"
        aria-label="Add line comment">
        <svg aria-hidden="true" height="16" viewBox="0 0 16 16" version="1.1" width="16" data-view-component="true" class="octicon octicon-plus">
    <path fill-rule="evenodd" d="M7.75 2a.75.75 0 01.75.75V7h4.25a.75.75 0 110 1.5H8.5v4.25a.75.75 0 11-1.5 0V8.5H2.75a.75.75 0 010-1.5H7V2.75A.75.75 0 017.75 2z"></path>
</svg>
      </button>
    <span class='blob-code-inner blob-code-marker' data-code-marker="+">1955-01,242</span></td>
</tr>



    <tr data-hunk="ef544bcaf162b7cec0c0c0a85cdbc97381121e64954f3f1a8a88d1f6b419dd31">
    <td class="blob-num blob-num-addition empty-cell"></td>

    <td id="diff-05ec04f9dc9cabd71a0d6907792b0c3b184520e17d87138f9a9956b37bcc5717R75" data-line-number="75"
        class="blob-num blob-num-addition js-linkable-line-number"></td>

  <td class="blob-code blob-code-addition">
      <button class="btn-link add-line-comment js-add-line-comment js-add-single-line-comment"
        data-path="AirPassengers.csv"
        data-anchor="diff-05ec04f9dc9cabd71a0d6907792b0c3b184520e17d87138f9a9956b37bcc5717"
        data-position="75"
        data-side="right"
        data-line="75"
        data-original-line="+1955-02,233"
        type="button"
        aria-label="Add line comment">
        <svg aria-hidden="true" height="16" viewBox="0 0 16 16" version="1.1" width="16" data-view-component="true" class="octicon octicon-plus">
    <path fill-rule="evenodd" d="M7.75 2a.75.75 0 01.75.75V7h4.25a.75.75 0 110 1.5H8.5v4.25a.75.75 0 11-1.5 0V8.5H2.75a.75.75 0 010-1.5H7V2.75A.75.75 0 017.75 2z"></path>
</svg>
      </button>
    <span class='blob-code-inner blob-code-marker' data-code-marker="+">1955-02,233</span></td>
</tr>



    <tr data-hunk="ef544bcaf162b7cec0c0c0a85cdbc97381121e64954f3f1a8a88d1f6b419dd31">
    <td class="blob-num blob-num-addition empty-cell"></td>

    <td id="diff-05ec04f9dc9cabd71a0d6907792b0c3b184520e17d87138f9a9956b37bcc5717R76" data-line-number="76"
        class="blob-num blob-num-addition js-linkable-line-number"></td>

  <td class="blob-code blob-code-addition">
      <button class="btn-link add-line-comment js-add-line-comment js-add-single-line-comment"
        data-path="AirPassengers.csv"
        data-anchor="diff-05ec04f9dc9cabd71a0d6907792b0c3b184520e17d87138f9a9956b37bcc5717"
        data-position="76"
        data-side="right"
        data-line="76"
        data-original-line="+1955-03,267"
        type="button"
        aria-label="Add line comment">
        <svg aria-hidden="true" height="16" viewBox="0 0 16 16" version="1.1" width="16" data-view-component="true" class="octicon octicon-plus">
    <path fill-rule="evenodd" d="M7.75 2a.75.75 0 01.75.75V7h4.25a.75.75 0 110 1.5H8.5v4.25a.75.75 0 11-1.5 0V8.5H2.75a.75.75 0 010-1.5H7V2.75A.75.75 0 017.75 2z"></path>
</svg>
      </button>
    <span class='blob-code-inner blob-code-marker' data-code-marker="+">1955-03,267</span></td>
</tr>



    <tr data-hunk="ef544bcaf162b7cec0c0c0a85cdbc97381121e64954f3f1a8a88d1f6b419dd31">
    <td class="blob-num blob-num-addition empty-cell"></td>

    <td id="diff-05ec04f9dc9cabd71a0d6907792b0c3b184520e17d87138f9a9956b37bcc5717R77" data-line-number="77"
        class="blob-num blob-num-addition js-linkable-line-number"></td>

  <td class="blob-code blob-code-addition">
      <button class="btn-link add-line-comment js-add-line-comment js-add-single-line-comment"
        data-path="AirPassengers.csv"
        data-anchor="diff-05ec04f9dc9cabd71a0d6907792b0c3b184520e17d87138f9a9956b37bcc5717"
        data-position="77"
        data-side="right"
        data-line="77"
        data-original-line="+1955-04,269"
        type="button"
        aria-label="Add line comment">
        <svg aria-hidden="true" height="16" viewBox="0 0 16 16" version="1.1" width="16" data-view-component="true" class="octicon octicon-plus">
    <path fill-rule="evenodd" d="M7.75 2a.75.75 0 01.75.75V7h4.25a.75.75 0 110 1.5H8.5v4.25a.75.75 0 11-1.5 0V8.5H2.75a.75.75 0 010-1.5H7V2.75A.75.75 0 017.75 2z"></path>
</svg>
      </button>
    <span class='blob-code-inner blob-code-marker' data-code-marker="+">1955-04,269</span></td>
</tr>



    <tr data-hunk="ef544bcaf162b7cec0c0c0a85cdbc97381121e64954f3f1a8a88d1f6b419dd31">
    <td class="blob-num blob-num-addition empty-cell"></td>

    <td id="diff-05ec04f9dc9cabd71a0d6907792b0c3b184520e17d87138f9a9956b37bcc5717R78" data-line-number="78"
        class="blob-num blob-num-addition js-linkable-line-number"></td>

  <td class="blob-code blob-code-addition">
      <button class="btn-link add-line-comment js-add-line-comment js-add-single-line-comment"
        data-path="AirPassengers.csv"
        data-anchor="diff-05ec04f9dc9cabd71a0d6907792b0c3b184520e17d87138f9a9956b37bcc5717"
        data-position="78"
        data-side="right"
        data-line="78"
        data-original-line="+1955-05,270"
        type="button"
        aria-label="Add line comment">
        <svg aria-hidden="true" height="16" viewBox="0 0 16 16" version="1.1" width="16" data-view-component="true" class="octicon octicon-plus">
    <path fill-rule="evenodd" d="M7.75 2a.75.75 0 01.75.75V7h4.25a.75.75 0 110 1.5H8.5v4.25a.75.75 0 11-1.5 0V8.5H2.75a.75.75 0 010-1.5H7V2.75A.75.75 0 017.75 2z"></path>
</svg>
      </button>
    <span class='blob-code-inner blob-code-marker' data-code-marker="+">1955-05,270</span></td>
</tr>



    <tr data-hunk="ef544bcaf162b7cec0c0c0a85cdbc97381121e64954f3f1a8a88d1f6b419dd31">
    <td class="blob-num blob-num-addition empty-cell"></td>

    <td id="diff-05ec04f9dc9cabd71a0d6907792b0c3b184520e17d87138f9a9956b37bcc5717R79" data-line-number="79"
        class="blob-num blob-num-addition js-linkable-line-number"></td>

  <td class="blob-code blob-code-addition">
      <button class="btn-link add-line-comment js-add-line-comment js-add-single-line-comment"
        data-path="AirPassengers.csv"
        data-anchor="diff-05ec04f9dc9cabd71a0d6907792b0c3b184520e17d87138f9a9956b37bcc5717"
        data-position="79"
        data-side="right"
        data-line="79"
        data-original-line="+1955-06,315"
        type="button"
        aria-label="Add line comment">
        <svg aria-hidden="true" height="16" viewBox="0 0 16 16" version="1.1" width="16" data-view-component="true" class="octicon octicon-plus">
    <path fill-rule="evenodd" d="M7.75 2a.75.75 0 01.75.75V7h4.25a.75.75 0 110 1.5H8.5v4.25a.75.75 0 11-1.5 0V8.5H2.75a.75.75 0 010-1.5H7V2.75A.75.75 0 017.75 2z"></path>
</svg>
      </button>
    <span class='blob-code-inner blob-code-marker' data-code-marker="+">1955-06,315</span></td>
</tr>



    <tr data-hunk="ef544bcaf162b7cec0c0c0a85cdbc97381121e64954f3f1a8a88d1f6b419dd31">
    <td class="blob-num blob-num-addition empty-cell"></td>

    <td id="diff-05ec04f9dc9cabd71a0d6907792b0c3b184520e17d87138f9a9956b37bcc5717R80" data-line-number="80"
        class="blob-num blob-num-addition js-linkable-line-number"></td>

  <td class="blob-code blob-code-addition">
      <button class="btn-link add-line-comment js-add-line-comment js-add-single-line-comment"
        data-path="AirPassengers.csv"
        data-anchor="diff-05ec04f9dc9cabd71a0d6907792b0c3b184520e17d87138f9a9956b37bcc5717"
        data-position="80"
        data-side="right"
        data-line="80"
        data-original-line="+1955-07,364"
        type="button"
        aria-label="Add line comment">
        <svg aria-hidden="true" height="16" viewBox="0 0 16 16" version="1.1" width="16" data-view-component="true" class="octicon octicon-plus">
    <path fill-rule="evenodd" d="M7.75 2a.75.75 0 01.75.75V7h4.25a.75.75 0 110 1.5H8.5v4.25a.75.75 0 11-1.5 0V8.5H2.75a.75.75 0 010-1.5H7V2.75A.75.75 0 017.75 2z"></path>
</svg>
      </button>
    <span class='blob-code-inner blob-code-marker' data-code-marker="+">1955-07,364</span></td>
</tr>



    <tr data-hunk="ef544bcaf162b7cec0c0c0a85cdbc97381121e64954f3f1a8a88d1f6b419dd31">
    <td class="blob-num blob-num-addition empty-cell"></td>

    <td id="diff-05ec04f9dc9cabd71a0d6907792b0c3b184520e17d87138f9a9956b37bcc5717R81" data-line-number="81"
        class="blob-num blob-num-addition js-linkable-line-number"></td>

  <td class="blob-code blob-code-addition">
      <button class="btn-link add-line-comment js-add-line-comment js-add-single-line-comment"
        data-path="AirPassengers.csv"
        data-anchor="diff-05ec04f9dc9cabd71a0d6907792b0c3b184520e17d87138f9a9956b37bcc5717"
        data-position="81"
        data-side="right"
        data-line="81"
        data-original-line="+1955-08,347"
        type="button"
        aria-label="Add line comment">
        <svg aria-hidden="true" height="16" viewBox="0 0 16 16" version="1.1" width="16" data-view-component="true" class="octicon octicon-plus">
    <path fill-rule="evenodd" d="M7.75 2a.75.75 0 01.75.75V7h4.25a.75.75 0 110 1.5H8.5v4.25a.75.75 0 11-1.5 0V8.5H2.75a.75.75 0 010-1.5H7V2.75A.75.75 0 017.75 2z"></path>
</svg>
      </button>
    <span class='blob-code-inner blob-code-marker' data-code-marker="+">1955-08,347</span></td>
</tr>



    <tr data-hunk="ef544bcaf162b7cec0c0c0a85cdbc97381121e64954f3f1a8a88d1f6b419dd31">
    <td class="blob-num blob-num-addition empty-cell"></td>

    <td id="diff-05ec04f9dc9cabd71a0d6907792b0c3b184520e17d87138f9a9956b37bcc5717R82" data-line-number="82"
        class="blob-num blob-num-addition js-linkable-line-number"></td>

  <td class="blob-code blob-code-addition">
      <button class="btn-link add-line-comment js-add-line-comment js-add-single-line-comment"
        data-path="AirPassengers.csv"
        data-anchor="diff-05ec04f9dc9cabd71a0d6907792b0c3b184520e17d87138f9a9956b37bcc5717"
        data-position="82"
        data-side="right"
        data-line="82"
        data-original-line="+1955-09,312"
        type="button"
        aria-label="Add line comment">
        <svg aria-hidden="true" height="16" viewBox="0 0 16 16" version="1.1" width="16" data-view-component="true" class="octicon octicon-plus">
    <path fill-rule="evenodd" d="M7.75 2a.75.75 0 01.75.75V7h4.25a.75.75 0 110 1.5H8.5v4.25a.75.75 0 11-1.5 0V8.5H2.75a.75.75 0 010-1.5H7V2.75A.75.75 0 017.75 2z"></path>
</svg>
      </button>
    <span class='blob-code-inner blob-code-marker' data-code-marker="+">1955-09,312</span></td>
</tr>



    <tr data-hunk="ef544bcaf162b7cec0c0c0a85cdbc97381121e64954f3f1a8a88d1f6b419dd31">
    <td class="blob-num blob-num-addition empty-cell"></td>

    <td id="diff-05ec04f9dc9cabd71a0d6907792b0c3b184520e17d87138f9a9956b37bcc5717R83" data-line-number="83"
        class="blob-num blob-num-addition js-linkable-line-number"></td>

  <td class="blob-code blob-code-addition">
      <button class="btn-link add-line-comment js-add-line-comment js-add-single-line-comment"
        data-path="AirPassengers.csv"
        data-anchor="diff-05ec04f9dc9cabd71a0d6907792b0c3b184520e17d87138f9a9956b37bcc5717"
        data-position="83"
        data-side="right"
        data-line="83"
        data-original-line="+1955-10,274"
        type="button"
        aria-label="Add line comment">
        <svg aria-hidden="true" height="16" viewBox="0 0 16 16" version="1.1" width="16" data-view-component="true" class="octicon octicon-plus">
    <path fill-rule="evenodd" d="M7.75 2a.75.75 0 01.75.75V7h4.25a.75.75 0 110 1.5H8.5v4.25a.75.75 0 11-1.5 0V8.5H2.75a.75.75 0 010-1.5H7V2.75A.75.75 0 017.75 2z"></path>
</svg>
      </button>
    <span class='blob-code-inner blob-code-marker' data-code-marker="+">1955-10,274</span></td>
</tr>



    <tr data-hunk="ef544bcaf162b7cec0c0c0a85cdbc97381121e64954f3f1a8a88d1f6b419dd31">
    <td class="blob-num blob-num-addition empty-cell"></td>

    <td id="diff-05ec04f9dc9cabd71a0d6907792b0c3b184520e17d87138f9a9956b37bcc5717R84" data-line-number="84"
        class="blob-num blob-num-addition js-linkable-line-number"></td>

  <td class="blob-code blob-code-addition">
      <button class="btn-link add-line-comment js-add-line-comment js-add-single-line-comment"
        data-path="AirPassengers.csv"
        data-anchor="diff-05ec04f9dc9cabd71a0d6907792b0c3b184520e17d87138f9a9956b37bcc5717"
        data-position="84"
        data-side="right"
        data-line="84"
        data-original-line="+1955-11,237"
        type="button"
        aria-label="Add line comment">
        <svg aria-hidden="true" height="16" viewBox="0 0 16 16" version="1.1" width="16" data-view-component="true" class="octicon octicon-plus">
    <path fill-rule="evenodd" d="M7.75 2a.75.75 0 01.75.75V7h4.25a.75.75 0 110 1.5H8.5v4.25a.75.75 0 11-1.5 0V8.5H2.75a.75.75 0 010-1.5H7V2.75A.75.75 0 017.75 2z"></path>
</svg>
      </button>
    <span class='blob-code-inner blob-code-marker' data-code-marker="+">1955-11,237</span></td>
</tr>



    <tr data-hunk="ef544bcaf162b7cec0c0c0a85cdbc97381121e64954f3f1a8a88d1f6b419dd31">
    <td class="blob-num blob-num-addition empty-cell"></td>

    <td id="diff-05ec04f9dc9cabd71a0d6907792b0c3b184520e17d87138f9a9956b37bcc5717R85" data-line-number="85"
        class="blob-num blob-num-addition js-linkable-line-number"></td>

  <td class="blob-code blob-code-addition">
      <button class="btn-link add-line-comment js-add-line-comment js-add-single-line-comment"
        data-path="AirPassengers.csv"
        data-anchor="diff-05ec04f9dc9cabd71a0d6907792b0c3b184520e17d87138f9a9956b37bcc5717"
        data-position="85"
        data-side="right"
        data-line="85"
        data-original-line="+1955-12,278"
        type="button"
        aria-label="Add line comment">
        <svg aria-hidden="true" height="16" viewBox="0 0 16 16" version="1.1" width="16" data-view-component="true" class="octicon octicon-plus">
    <path fill-rule="evenodd" d="M7.75 2a.75.75 0 01.75.75V7h4.25a.75.75 0 110 1.5H8.5v4.25a.75.75 0 11-1.5 0V8.5H2.75a.75.75 0 010-1.5H7V2.75A.75.75 0 017.75 2z"></path>
</svg>
      </button>
    <span class='blob-code-inner blob-code-marker' data-code-marker="+">1955-12,278</span></td>
</tr>



    <tr data-hunk="ef544bcaf162b7cec0c0c0a85cdbc97381121e64954f3f1a8a88d1f6b419dd31">
    <td class="blob-num blob-num-addition empty-cell"></td>

    <td id="diff-05ec04f9dc9cabd71a0d6907792b0c3b184520e17d87138f9a9956b37bcc5717R86" data-line-number="86"
        class="blob-num blob-num-addition js-linkable-line-number"></td>

  <td class="blob-code blob-code-addition">
      <button class="btn-link add-line-comment js-add-line-comment js-add-single-line-comment"
        data-path="AirPassengers.csv"
        data-anchor="diff-05ec04f9dc9cabd71a0d6907792b0c3b184520e17d87138f9a9956b37bcc5717"
        data-position="86"
        data-side="right"
        data-line="86"
        data-original-line="+1956-01,284"
        type="button"
        aria-label="Add line comment">
        <svg aria-hidden="true" height="16" viewBox="0 0 16 16" version="1.1" width="16" data-view-component="true" class="octicon octicon-plus">
    <path fill-rule="evenodd" d="M7.75 2a.75.75 0 01.75.75V7h4.25a.75.75 0 110 1.5H8.5v4.25a.75.75 0 11-1.5 0V8.5H2.75a.75.75 0 010-1.5H7V2.75A.75.75 0 017.75 2z"></path>
</svg>
      </button>
    <span class='blob-code-inner blob-code-marker' data-code-marker="+">1956-01,284</span></td>
</tr>



    <tr data-hunk="ef544bcaf162b7cec0c0c0a85cdbc97381121e64954f3f1a8a88d1f6b419dd31">
    <td class="blob-num blob-num-addition empty-cell"></td>

    <td id="diff-05ec04f9dc9cabd71a0d6907792b0c3b184520e17d87138f9a9956b37bcc5717R87" data-line-number="87"
        class="blob-num blob-num-addition js-linkable-line-number"></td>

  <td class="blob-code blob-code-addition">
      <button class="btn-link add-line-comment js-add-line-comment js-add-single-line-comment"
        data-path="AirPassengers.csv"
        data-anchor="diff-05ec04f9dc9cabd71a0d6907792b0c3b184520e17d87138f9a9956b37bcc5717"
        data-position="87"
        data-side="right"
        data-line="87"
        data-original-line="+1956-02,277"
        type="button"
        aria-label="Add line comment">
        <svg aria-hidden="true" height="16" viewBox="0 0 16 16" version="1.1" width="16" data-view-component="true" class="octicon octicon-plus">
    <path fill-rule="evenodd" d="M7.75 2a.75.75 0 01.75.75V7h4.25a.75.75 0 110 1.5H8.5v4.25a.75.75 0 11-1.5 0V8.5H2.75a.75.75 0 010-1.5H7V2.75A.75.75 0 017.75 2z"></path>
</svg>
      </button>
    <span class='blob-code-inner blob-code-marker' data-code-marker="+">1956-02,277</span></td>
</tr>



    <tr data-hunk="ef544bcaf162b7cec0c0c0a85cdbc97381121e64954f3f1a8a88d1f6b419dd31">
    <td class="blob-num blob-num-addition empty-cell"></td>

    <td id="diff-05ec04f9dc9cabd71a0d6907792b0c3b184520e17d87138f9a9956b37bcc5717R88" data-line-number="88"
        class="blob-num blob-num-addition js-linkable-line-number"></td>

  <td class="blob-code blob-code-addition">
      <button class="btn-link add-line-comment js-add-line-comment js-add-single-line-comment"
        data-path="AirPassengers.csv"
        data-anchor="diff-05ec04f9dc9cabd71a0d6907792b0c3b184520e17d87138f9a9956b37bcc5717"
        data-position="88"
        data-side="right"
        data-line="88"
        data-original-line="+1956-03,317"
        type="button"
        aria-label="Add line comment">
        <svg aria-hidden="true" height="16" viewBox="0 0 16 16" version="1.1" width="16" data-view-component="true" class="octicon octicon-plus">
    <path fill-rule="evenodd" d="M7.75 2a.75.75 0 01.75.75V7h4.25a.75.75 0 110 1.5H8.5v4.25a.75.75 0 11-1.5 0V8.5H2.75a.75.75 0 010-1.5H7V2.75A.75.75 0 017.75 2z"></path>
</svg>
      </button>
    <span class='blob-code-inner blob-code-marker' data-code-marker="+">1956-03,317</span></td>
</tr>



    <tr data-hunk="ef544bcaf162b7cec0c0c0a85cdbc97381121e64954f3f1a8a88d1f6b419dd31">
    <td class="blob-num blob-num-addition empty-cell"></td>

    <td id="diff-05ec04f9dc9cabd71a0d6907792b0c3b184520e17d87138f9a9956b37bcc5717R89" data-line-number="89"
        class="blob-num blob-num-addition js-linkable-line-number"></td>

  <td class="blob-code blob-code-addition">
      <button class="btn-link add-line-comment js-add-line-comment js-add-single-line-comment"
        data-path="AirPassengers.csv"
        data-anchor="diff-05ec04f9dc9cabd71a0d6907792b0c3b184520e17d87138f9a9956b37bcc5717"
        data-position="89"
        data-side="right"
        data-line="89"
        data-original-line="+1956-04,313"
        type="button"
        aria-label="Add line comment">
        <svg aria-hidden="true" height="16" viewBox="0 0 16 16" version="1.1" width="16" data-view-component="true" class="octicon octicon-plus">
    <path fill-rule="evenodd" d="M7.75 2a.75.75 0 01.75.75V7h4.25a.75.75 0 110 1.5H8.5v4.25a.75.75 0 11-1.5 0V8.5H2.75a.75.75 0 010-1.5H7V2.75A.75.75 0 017.75 2z"></path>
</svg>
      </button>
    <span class='blob-code-inner blob-code-marker' data-code-marker="+">1956-04,313</span></td>
</tr>



    <tr data-hunk="ef544bcaf162b7cec0c0c0a85cdbc97381121e64954f3f1a8a88d1f6b419dd31">
    <td class="blob-num blob-num-addition empty-cell"></td>

    <td id="diff-05ec04f9dc9cabd71a0d6907792b0c3b184520e17d87138f9a9956b37bcc5717R90" data-line-number="90"
        class="blob-num blob-num-addition js-linkable-line-number"></td>

  <td class="blob-code blob-code-addition">
      <button class="btn-link add-line-comment js-add-line-comment js-add-single-line-comment"
        data-path="AirPassengers.csv"
        data-anchor="diff-05ec04f9dc9cabd71a0d6907792b0c3b184520e17d87138f9a9956b37bcc5717"
        data-position="90"
        data-side="right"
        data-line="90"
        data-original-line="+1956-05,318"
        type="button"
        aria-label="Add line comment">
        <svg aria-hidden="true" height="16" viewBox="0 0 16 16" version="1.1" width="16" data-view-component="true" class="octicon octicon-plus">
    <path fill-rule="evenodd" d="M7.75 2a.75.75 0 01.75.75V7h4.25a.75.75 0 110 1.5H8.5v4.25a.75.75 0 11-1.5 0V8.5H2.75a.75.75 0 010-1.5H7V2.75A.75.75 0 017.75 2z"></path>
</svg>
      </button>
    <span class='blob-code-inner blob-code-marker' data-code-marker="+">1956-05,318</span></td>
</tr>



    <tr data-hunk="ef544bcaf162b7cec0c0c0a85cdbc97381121e64954f3f1a8a88d1f6b419dd31">
    <td class="blob-num blob-num-addition empty-cell"></td>

    <td id="diff-05ec04f9dc9cabd71a0d6907792b0c3b184520e17d87138f9a9956b37bcc5717R91" data-line-number="91"
        class="blob-num blob-num-addition js-linkable-line-number"></td>

  <td class="blob-code blob-code-addition">
      <button class="btn-link add-line-comment js-add-line-comment js-add-single-line-comment"
        data-path="AirPassengers.csv"
        data-anchor="diff-05ec04f9dc9cabd71a0d6907792b0c3b184520e17d87138f9a9956b37bcc5717"
        data-position="91"
        data-side="right"
        data-line="91"
        data-original-line="+1956-06,374"
        type="button"
        aria-label="Add line comment">
        <svg aria-hidden="true" height="16" viewBox="0 0 16 16" version="1.1" width="16" data-view-component="true" class="octicon octicon-plus">
    <path fill-rule="evenodd" d="M7.75 2a.75.75 0 01.75.75V7h4.25a.75.75 0 110 1.5H8.5v4.25a.75.75 0 11-1.5 0V8.5H2.75a.75.75 0 010-1.5H7V2.75A.75.75 0 017.75 2z"></path>
</svg>
      </button>
    <span class='blob-code-inner blob-code-marker' data-code-marker="+">1956-06,374</span></td>
</tr>



    <tr data-hunk="ef544bcaf162b7cec0c0c0a85cdbc97381121e64954f3f1a8a88d1f6b419dd31">
    <td class="blob-num blob-num-addition empty-cell"></td>

    <td id="diff-05ec04f9dc9cabd71a0d6907792b0c3b184520e17d87138f9a9956b37bcc5717R92" data-line-number="92"
        class="blob-num blob-num-addition js-linkable-line-number"></td>

  <td class="blob-code blob-code-addition">
      <button class="btn-link add-line-comment js-add-line-comment js-add-single-line-comment"
        data-path="AirPassengers.csv"
        data-anchor="diff-05ec04f9dc9cabd71a0d6907792b0c3b184520e17d87138f9a9956b37bcc5717"
        data-position="92"
        data-side="right"
        data-line="92"
        data-original-line="+1956-07,413"
        type="button"
        aria-label="Add line comment">
        <svg aria-hidden="true" height="16" viewBox="0 0 16 16" version="1.1" width="16" data-view-component="true" class="octicon octicon-plus">
    <path fill-rule="evenodd" d="M7.75 2a.75.75 0 01.75.75V7h4.25a.75.75 0 110 1.5H8.5v4.25a.75.75 0 11-1.5 0V8.5H2.75a.75.75 0 010-1.5H7V2.75A.75.75 0 017.75 2z"></path>
</svg>
      </button>
    <span class='blob-code-inner blob-code-marker' data-code-marker="+">1956-07,413</span></td>
</tr>



    <tr data-hunk="ef544bcaf162b7cec0c0c0a85cdbc97381121e64954f3f1a8a88d1f6b419dd31">
    <td class="blob-num blob-num-addition empty-cell"></td>

    <td id="diff-05ec04f9dc9cabd71a0d6907792b0c3b184520e17d87138f9a9956b37bcc5717R93" data-line-number="93"
        class="blob-num blob-num-addition js-linkable-line-number"></td>

  <td class="blob-code blob-code-addition">
      <button class="btn-link add-line-comment js-add-line-comment js-add-single-line-comment"
        data-path="AirPassengers.csv"
        data-anchor="diff-05ec04f9dc9cabd71a0d6907792b0c3b184520e17d87138f9a9956b37bcc5717"
        data-position="93"
        data-side="right"
        data-line="93"
        data-original-line="+1956-08,405"
        type="button"
        aria-label="Add line comment">
        <svg aria-hidden="true" height="16" viewBox="0 0 16 16" version="1.1" width="16" data-view-component="true" class="octicon octicon-plus">
    <path fill-rule="evenodd" d="M7.75 2a.75.75 0 01.75.75V7h4.25a.75.75 0 110 1.5H8.5v4.25a.75.75 0 11-1.5 0V8.5H2.75a.75.75 0 010-1.5H7V2.75A.75.75 0 017.75 2z"></path>
</svg>
      </button>
    <span class='blob-code-inner blob-code-marker' data-code-marker="+">1956-08,405</span></td>
</tr>



    <tr data-hunk="ef544bcaf162b7cec0c0c0a85cdbc97381121e64954f3f1a8a88d1f6b419dd31">
    <td class="blob-num blob-num-addition empty-cell"></td>

    <td id="diff-05ec04f9dc9cabd71a0d6907792b0c3b184520e17d87138f9a9956b37bcc5717R94" data-line-number="94"
        class="blob-num blob-num-addition js-linkable-line-number"></td>

  <td class="blob-code blob-code-addition">
      <button class="btn-link add-line-comment js-add-line-comment js-add-single-line-comment"
        data-path="AirPassengers.csv"
        data-anchor="diff-05ec04f9dc9cabd71a0d6907792b0c3b184520e17d87138f9a9956b37bcc5717"
        data-position="94"
        data-side="right"
        data-line="94"
        data-original-line="+1956-09,355"
        type="button"
        aria-label="Add line comment">
        <svg aria-hidden="true" height="16" viewBox="0 0 16 16" version="1.1" width="16" data-view-component="true" class="octicon octicon-plus">
    <path fill-rule="evenodd" d="M7.75 2a.75.75 0 01.75.75V7h4.25a.75.75 0 110 1.5H8.5v4.25a.75.75 0 11-1.5 0V8.5H2.75a.75.75 0 010-1.5H7V2.75A.75.75 0 017.75 2z"></path>
</svg>
      </button>
    <span class='blob-code-inner blob-code-marker' data-code-marker="+">1956-09,355</span></td>
</tr>



    <tr data-hunk="ef544bcaf162b7cec0c0c0a85cdbc97381121e64954f3f1a8a88d1f6b419dd31">
    <td class="blob-num blob-num-addition empty-cell"></td>

    <td id="diff-05ec04f9dc9cabd71a0d6907792b0c3b184520e17d87138f9a9956b37bcc5717R95" data-line-number="95"
        class="blob-num blob-num-addition js-linkable-line-number"></td>

  <td class="blob-code blob-code-addition">
      <button class="btn-link add-line-comment js-add-line-comment js-add-single-line-comment"
        data-path="AirPassengers.csv"
        data-anchor="diff-05ec04f9dc9cabd71a0d6907792b0c3b184520e17d87138f9a9956b37bcc5717"
        data-position="95"
        data-side="right"
        data-line="95"
        data-original-line="+1956-10,306"
        type="button"
        aria-label="Add line comment">
        <svg aria-hidden="true" height="16" viewBox="0 0 16 16" version="1.1" width="16" data-view-component="true" class="octicon octicon-plus">
    <path fill-rule="evenodd" d="M7.75 2a.75.75 0 01.75.75V7h4.25a.75.75 0 110 1.5H8.5v4.25a.75.75 0 11-1.5 0V8.5H2.75a.75.75 0 010-1.5H7V2.75A.75.75 0 017.75 2z"></path>
</svg>
      </button>
    <span class='blob-code-inner blob-code-marker' data-code-marker="+">1956-10,306</span></td>
</tr>



    <tr data-hunk="ef544bcaf162b7cec0c0c0a85cdbc97381121e64954f3f1a8a88d1f6b419dd31">
    <td class="blob-num blob-num-addition empty-cell"></td>

    <td id="diff-05ec04f9dc9cabd71a0d6907792b0c3b184520e17d87138f9a9956b37bcc5717R96" data-line-number="96"
        class="blob-num blob-num-addition js-linkable-line-number"></td>

  <td class="blob-code blob-code-addition">
      <button class="btn-link add-line-comment js-add-line-comment js-add-single-line-comment"
        data-path="AirPassengers.csv"
        data-anchor="diff-05ec04f9dc9cabd71a0d6907792b0c3b184520e17d87138f9a9956b37bcc5717"
        data-position="96"
        data-side="right"
        data-line="96"
        data-original-line="+1956-11,271"
        type="button"
        aria-label="Add line comment">
        <svg aria-hidden="true" height="16" viewBox="0 0 16 16" version="1.1" width="16" data-view-component="true" class="octicon octicon-plus">
    <path fill-rule="evenodd" d="M7.75 2a.75.75 0 01.75.75V7h4.25a.75.75 0 110 1.5H8.5v4.25a.75.75 0 11-1.5 0V8.5H2.75a.75.75 0 010-1.5H7V2.75A.75.75 0 017.75 2z"></path>
</svg>
      </button>
    <span class='blob-code-inner blob-code-marker' data-code-marker="+">1956-11,271</span></td>
</tr>



    <tr data-hunk="ef544bcaf162b7cec0c0c0a85cdbc97381121e64954f3f1a8a88d1f6b419dd31">
    <td class="blob-num blob-num-addition empty-cell"></td>

    <td id="diff-05ec04f9dc9cabd71a0d6907792b0c3b184520e17d87138f9a9956b37bcc5717R97" data-line-number="97"
        class="blob-num blob-num-addition js-linkable-line-number"></td>

  <td class="blob-code blob-code-addition">
      <button class="btn-link add-line-comment js-add-line-comment js-add-single-line-comment"
        data-path="AirPassengers.csv"
        data-anchor="diff-05ec04f9dc9cabd71a0d6907792b0c3b184520e17d87138f9a9956b37bcc5717"
        data-position="97"
        data-side="right"
        data-line="97"
        data-original-line="+1956-12,306"
        type="button"
        aria-label="Add line comment">
        <svg aria-hidden="true" height="16" viewBox="0 0 16 16" version="1.1" width="16" data-view-component="true" class="octicon octicon-plus">
    <path fill-rule="evenodd" d="M7.75 2a.75.75 0 01.75.75V7h4.25a.75.75 0 110 1.5H8.5v4.25a.75.75 0 11-1.5 0V8.5H2.75a.75.75 0 010-1.5H7V2.75A.75.75 0 017.75 2z"></path>
</svg>
      </button>
    <span class='blob-code-inner blob-code-marker' data-code-marker="+">1956-12,306</span></td>
</tr>



    <tr data-hunk="ef544bcaf162b7cec0c0c0a85cdbc97381121e64954f3f1a8a88d1f6b419dd31">
    <td class="blob-num blob-num-addition empty-cell"></td>

    <td id="diff-05ec04f9dc9cabd71a0d6907792b0c3b184520e17d87138f9a9956b37bcc5717R98" data-line-number="98"
        class="blob-num blob-num-addition js-linkable-line-number"></td>

  <td class="blob-code blob-code-addition">
      <button class="btn-link add-line-comment js-add-line-comment js-add-single-line-comment"
        data-path="AirPassengers.csv"
        data-anchor="diff-05ec04f9dc9cabd71a0d6907792b0c3b184520e17d87138f9a9956b37bcc5717"
        data-position="98"
        data-side="right"
        data-line="98"
        data-original-line="+1957-01,315"
        type="button"
        aria-label="Add line comment">
        <svg aria-hidden="true" height="16" viewBox="0 0 16 16" version="1.1" width="16" data-view-component="true" class="octicon octicon-plus">
    <path fill-rule="evenodd" d="M7.75 2a.75.75 0 01.75.75V7h4.25a.75.75 0 110 1.5H8.5v4.25a.75.75 0 11-1.5 0V8.5H2.75a.75.75 0 010-1.5H7V2.75A.75.75 0 017.75 2z"></path>
</svg>
      </button>
    <span class='blob-code-inner blob-code-marker' data-code-marker="+">1957-01,315</span></td>
</tr>



    <tr data-hunk="ef544bcaf162b7cec0c0c0a85cdbc97381121e64954f3f1a8a88d1f6b419dd31">
    <td class="blob-num blob-num-addition empty-cell"></td>

    <td id="diff-05ec04f9dc9cabd71a0d6907792b0c3b184520e17d87138f9a9956b37bcc5717R99" data-line-number="99"
        class="blob-num blob-num-addition js-linkable-line-number"></td>

  <td class="blob-code blob-code-addition">
      <button class="btn-link add-line-comment js-add-line-comment js-add-single-line-comment"
        data-path="AirPassengers.csv"
        data-anchor="diff-05ec04f9dc9cabd71a0d6907792b0c3b184520e17d87138f9a9956b37bcc5717"
        data-position="99"
        data-side="right"
        data-line="99"
        data-original-line="+1957-02,301"
        type="button"
        aria-label="Add line comment">
        <svg aria-hidden="true" height="16" viewBox="0 0 16 16" version="1.1" width="16" data-view-component="true" class="octicon octicon-plus">
    <path fill-rule="evenodd" d="M7.75 2a.75.75 0 01.75.75V7h4.25a.75.75 0 110 1.5H8.5v4.25a.75.75 0 11-1.5 0V8.5H2.75a.75.75 0 010-1.5H7V2.75A.75.75 0 017.75 2z"></path>
</svg>
      </button>
    <span class='blob-code-inner blob-code-marker' data-code-marker="+">1957-02,301</span></td>
</tr>



    <tr data-hunk="ef544bcaf162b7cec0c0c0a85cdbc97381121e64954f3f1a8a88d1f6b419dd31">
    <td class="blob-num blob-num-addition empty-cell"></td>

    <td id="diff-05ec04f9dc9cabd71a0d6907792b0c3b184520e17d87138f9a9956b37bcc5717R100" data-line-number="100"
        class="blob-num blob-num-addition js-linkable-line-number"></td>

  <td class="blob-code blob-code-addition">
      <button class="btn-link add-line-comment js-add-line-comment js-add-single-line-comment"
        data-path="AirPassengers.csv"
        data-anchor="diff-05ec04f9dc9cabd71a0d6907792b0c3b184520e17d87138f9a9956b37bcc5717"
        data-position="100"
        data-side="right"
        data-line="100"
        data-original-line="+1957-03,356"
        type="button"
        aria-label="Add line comment">
        <svg aria-hidden="true" height="16" viewBox="0 0 16 16" version="1.1" width="16" data-view-component="true" class="octicon octicon-plus">
    <path fill-rule="evenodd" d="M7.75 2a.75.75 0 01.75.75V7h4.25a.75.75 0 110 1.5H8.5v4.25a.75.75 0 11-1.5 0V8.5H2.75a.75.75 0 010-1.5H7V2.75A.75.75 0 017.75 2z"></path>
</svg>
      </button>
    <span class='blob-code-inner blob-code-marker' data-code-marker="+">1957-03,356</span></td>
</tr>



    <tr data-hunk="ef544bcaf162b7cec0c0c0a85cdbc97381121e64954f3f1a8a88d1f6b419dd31">
    <td class="blob-num blob-num-addition empty-cell"></td>

    <td id="diff-05ec04f9dc9cabd71a0d6907792b0c3b184520e17d87138f9a9956b37bcc5717R101" data-line-number="101"
        class="blob-num blob-num-addition js-linkable-line-number"></td>

  <td class="blob-code blob-code-addition">
      <button class="btn-link add-line-comment js-add-line-comment js-add-single-line-comment"
        data-path="AirPassengers.csv"
        data-anchor="diff-05ec04f9dc9cabd71a0d6907792b0c3b184520e17d87138f9a9956b37bcc5717"
        data-position="101"
        data-side="right"
        data-line="101"
        data-original-line="+1957-04,348"
        type="button"
        aria-label="Add line comment">
        <svg aria-hidden="true" height="16" viewBox="0 0 16 16" version="1.1" width="16" data-view-component="true" class="octicon octicon-plus">
    <path fill-rule="evenodd" d="M7.75 2a.75.75 0 01.75.75V7h4.25a.75.75 0 110 1.5H8.5v4.25a.75.75 0 11-1.5 0V8.5H2.75a.75.75 0 010-1.5H7V2.75A.75.75 0 017.75 2z"></path>
</svg>
      </button>
    <span class='blob-code-inner blob-code-marker' data-code-marker="+">1957-04,348</span></td>
</tr>



    <tr data-hunk="ef544bcaf162b7cec0c0c0a85cdbc97381121e64954f3f1a8a88d1f6b419dd31">
    <td class="blob-num blob-num-addition empty-cell"></td>

    <td id="diff-05ec04f9dc9cabd71a0d6907792b0c3b184520e17d87138f9a9956b37bcc5717R102" data-line-number="102"
        class="blob-num blob-num-addition js-linkable-line-number"></td>

  <td class="blob-code blob-code-addition">
      <button class="btn-link add-line-comment js-add-line-comment js-add-single-line-comment"
        data-path="AirPassengers.csv"
        data-anchor="diff-05ec04f9dc9cabd71a0d6907792b0c3b184520e17d87138f9a9956b37bcc5717"
        data-position="102"
        data-side="right"
        data-line="102"
        data-original-line="+1957-05,355"
        type="button"
        aria-label="Add line comment">
        <svg aria-hidden="true" height="16" viewBox="0 0 16 16" version="1.1" width="16" data-view-component="true" class="octicon octicon-plus">
    <path fill-rule="evenodd" d="M7.75 2a.75.75 0 01.75.75V7h4.25a.75.75 0 110 1.5H8.5v4.25a.75.75 0 11-1.5 0V8.5H2.75a.75.75 0 010-1.5H7V2.75A.75.75 0 017.75 2z"></path>
</svg>
      </button>
    <span class='blob-code-inner blob-code-marker' data-code-marker="+">1957-05,355</span></td>
</tr>



    <tr data-hunk="ef544bcaf162b7cec0c0c0a85cdbc97381121e64954f3f1a8a88d1f6b419dd31">
    <td class="blob-num blob-num-addition empty-cell"></td>

    <td id="diff-05ec04f9dc9cabd71a0d6907792b0c3b184520e17d87138f9a9956b37bcc5717R103" data-line-number="103"
        class="blob-num blob-num-addition js-linkable-line-number"></td>

  <td class="blob-code blob-code-addition">
      <button class="btn-link add-line-comment js-add-line-comment js-add-single-line-comment"
        data-path="AirPassengers.csv"
        data-anchor="diff-05ec04f9dc9cabd71a0d6907792b0c3b184520e17d87138f9a9956b37bcc5717"
        data-position="103"
        data-side="right"
        data-line="103"
        data-original-line="+1957-06,422"
        type="button"
        aria-label="Add line comment">
        <svg aria-hidden="true" height="16" viewBox="0 0 16 16" version="1.1" width="16" data-view-component="true" class="octicon octicon-plus">
    <path fill-rule="evenodd" d="M7.75 2a.75.75 0 01.75.75V7h4.25a.75.75 0 110 1.5H8.5v4.25a.75.75 0 11-1.5 0V8.5H2.75a.75.75 0 010-1.5H7V2.75A.75.75 0 017.75 2z"></path>
</svg>
      </button>
    <span class='blob-code-inner blob-code-marker' data-code-marker="+">1957-06,422</span></td>
</tr>



    <tr data-hunk="ef544bcaf162b7cec0c0c0a85cdbc97381121e64954f3f1a8a88d1f6b419dd31">
    <td class="blob-num blob-num-addition empty-cell"></td>

    <td id="diff-05ec04f9dc9cabd71a0d6907792b0c3b184520e17d87138f9a9956b37bcc5717R104" data-line-number="104"
        class="blob-num blob-num-addition js-linkable-line-number"></td>

  <td class="blob-code blob-code-addition">
      <button class="btn-link add-line-comment js-add-line-comment js-add-single-line-comment"
        data-path="AirPassengers.csv"
        data-anchor="diff-05ec04f9dc9cabd71a0d6907792b0c3b184520e17d87138f9a9956b37bcc5717"
        data-position="104"
        data-side="right"
        data-line="104"
        data-original-line="+1957-07,465"
        type="button"
        aria-label="Add line comment">
        <svg aria-hidden="true" height="16" viewBox="0 0 16 16" version="1.1" width="16" data-view-component="true" class="octicon octicon-plus">
    <path fill-rule="evenodd" d="M7.75 2a.75.75 0 01.75.75V7h4.25a.75.75 0 110 1.5H8.5v4.25a.75.75 0 11-1.5 0V8.5H2.75a.75.75 0 010-1.5H7V2.75A.75.75 0 017.75 2z"></path>
</svg>
      </button>
    <span class='blob-code-inner blob-code-marker' data-code-marker="+">1957-07,465</span></td>
</tr>



    <tr data-hunk="ef544bcaf162b7cec0c0c0a85cdbc97381121e64954f3f1a8a88d1f6b419dd31">
    <td class="blob-num blob-num-addition empty-cell"></td>

    <td id="diff-05ec04f9dc9cabd71a0d6907792b0c3b184520e17d87138f9a9956b37bcc5717R105" data-line-number="105"
        class="blob-num blob-num-addition js-linkable-line-number"></td>

  <td class="blob-code blob-code-addition">
      <button class="btn-link add-line-comment js-add-line-comment js-add-single-line-comment"
        data-path="AirPassengers.csv"
        data-anchor="diff-05ec04f9dc9cabd71a0d6907792b0c3b184520e17d87138f9a9956b37bcc5717"
        data-position="105"
        data-side="right"
        data-line="105"
        data-original-line="+1957-08,467"
        type="button"
        aria-label="Add line comment">
        <svg aria-hidden="true" height="16" viewBox="0 0 16 16" version="1.1" width="16" data-view-component="true" class="octicon octicon-plus">
    <path fill-rule="evenodd" d="M7.75 2a.75.75 0 01.75.75V7h4.25a.75.75 0 110 1.5H8.5v4.25a.75.75 0 11-1.5 0V8.5H2.75a.75.75 0 010-1.5H7V2.75A.75.75 0 017.75 2z"></path>
</svg>
      </button>
    <span class='blob-code-inner blob-code-marker' data-code-marker="+">1957-08,467</span></td>
</tr>



    <tr data-hunk="ef544bcaf162b7cec0c0c0a85cdbc97381121e64954f3f1a8a88d1f6b419dd31">
    <td class="blob-num blob-num-addition empty-cell"></td>

    <td id="diff-05ec04f9dc9cabd71a0d6907792b0c3b184520e17d87138f9a9956b37bcc5717R106" data-line-number="106"
        class="blob-num blob-num-addition js-linkable-line-number"></td>

  <td class="blob-code blob-code-addition">
      <button class="btn-link add-line-comment js-add-line-comment js-add-single-line-comment"
        data-path="AirPassengers.csv"
        data-anchor="diff-05ec04f9dc9cabd71a0d6907792b0c3b184520e17d87138f9a9956b37bcc5717"
        data-position="106"
        data-side="right"
        data-line="106"
        data-original-line="+1957-09,404"
        type="button"
        aria-label="Add line comment">
        <svg aria-hidden="true" height="16" viewBox="0 0 16 16" version="1.1" width="16" data-view-component="true" class="octicon octicon-plus">
    <path fill-rule="evenodd" d="M7.75 2a.75.75 0 01.75.75V7h4.25a.75.75 0 110 1.5H8.5v4.25a.75.75 0 11-1.5 0V8.5H2.75a.75.75 0 010-1.5H7V2.75A.75.75 0 017.75 2z"></path>
</svg>
      </button>
    <span class='blob-code-inner blob-code-marker' data-code-marker="+">1957-09,404</span></td>
</tr>



    <tr data-hunk="ef544bcaf162b7cec0c0c0a85cdbc97381121e64954f3f1a8a88d1f6b419dd31">
    <td class="blob-num blob-num-addition empty-cell"></td>

    <td id="diff-05ec04f9dc9cabd71a0d6907792b0c3b184520e17d87138f9a9956b37bcc5717R107" data-line-number="107"
        class="blob-num blob-num-addition js-linkable-line-number"></td>

  <td class="blob-code blob-code-addition">
      <button class="btn-link add-line-comment js-add-line-comment js-add-single-line-comment"
        data-path="AirPassengers.csv"
        data-anchor="diff-05ec04f9dc9cabd71a0d6907792b0c3b184520e17d87138f9a9956b37bcc5717"
        data-position="107"
        data-side="right"
        data-line="107"
        data-original-line="+1957-10,347"
        type="button"
        aria-label="Add line comment">
        <svg aria-hidden="true" height="16" viewBox="0 0 16 16" version="1.1" width="16" data-view-component="true" class="octicon octicon-plus">
    <path fill-rule="evenodd" d="M7.75 2a.75.75 0 01.75.75V7h4.25a.75.75 0 110 1.5H8.5v4.25a.75.75 0 11-1.5 0V8.5H2.75a.75.75 0 010-1.5H7V2.75A.75.75 0 017.75 2z"></path>
</svg>
      </button>
    <span class='blob-code-inner blob-code-marker' data-code-marker="+">1957-10,347</span></td>
</tr>



    <tr data-hunk="ef544bcaf162b7cec0c0c0a85cdbc97381121e64954f3f1a8a88d1f6b419dd31">
    <td class="blob-num blob-num-addition empty-cell"></td>

    <td id="diff-05ec04f9dc9cabd71a0d6907792b0c3b184520e17d87138f9a9956b37bcc5717R108" data-line-number="108"
        class="blob-num blob-num-addition js-linkable-line-number"></td>

  <td class="blob-code blob-code-addition">
      <button class="btn-link add-line-comment js-add-line-comment js-add-single-line-comment"
        data-path="AirPassengers.csv"
        data-anchor="diff-05ec04f9dc9cabd71a0d6907792b0c3b184520e17d87138f9a9956b37bcc5717"
        data-position="108"
        data-side="right"
        data-line="108"
        data-original-line="+1957-11,305"
        type="button"
        aria-label="Add line comment">
        <svg aria-hidden="true" height="16" viewBox="0 0 16 16" version="1.1" width="16" data-view-component="true" class="octicon octicon-plus">
    <path fill-rule="evenodd" d="M7.75 2a.75.75 0 01.75.75V7h4.25a.75.75 0 110 1.5H8.5v4.25a.75.75 0 11-1.5 0V8.5H2.75a.75.75 0 010-1.5H7V2.75A.75.75 0 017.75 2z"></path>
</svg>
      </button>
    <span class='blob-code-inner blob-code-marker' data-code-marker="+">1957-11,305</span></td>
</tr>



    <tr data-hunk="ef544bcaf162b7cec0c0c0a85cdbc97381121e64954f3f1a8a88d1f6b419dd31">
    <td class="blob-num blob-num-addition empty-cell"></td>

    <td id="diff-05ec04f9dc9cabd71a0d6907792b0c3b184520e17d87138f9a9956b37bcc5717R109" data-line-number="109"
        class="blob-num blob-num-addition js-linkable-line-number"></td>

  <td class="blob-code blob-code-addition">
      <button class="btn-link add-line-comment js-add-line-comment js-add-single-line-comment"
        data-path="AirPassengers.csv"
        data-anchor="diff-05ec04f9dc9cabd71a0d6907792b0c3b184520e17d87138f9a9956b37bcc5717"
        data-position="109"
        data-side="right"
        data-line="109"
        data-original-line="+1957-12,336"
        type="button"
        aria-label="Add line comment">
        <svg aria-hidden="true" height="16" viewBox="0 0 16 16" version="1.1" width="16" data-view-component="true" class="octicon octicon-plus">
    <path fill-rule="evenodd" d="M7.75 2a.75.75 0 01.75.75V7h4.25a.75.75 0 110 1.5H8.5v4.25a.75.75 0 11-1.5 0V8.5H2.75a.75.75 0 010-1.5H7V2.75A.75.75 0 017.75 2z"></path>
</svg>
      </button>
    <span class='blob-code-inner blob-code-marker' data-code-marker="+">1957-12,336</span></td>
</tr>



    <tr data-hunk="ef544bcaf162b7cec0c0c0a85cdbc97381121e64954f3f1a8a88d1f6b419dd31">
    <td class="blob-num blob-num-addition empty-cell"></td>

    <td id="diff-05ec04f9dc9cabd71a0d6907792b0c3b184520e17d87138f9a9956b37bcc5717R110" data-line-number="110"
        class="blob-num blob-num-addition js-linkable-line-number"></td>

  <td class="blob-code blob-code-addition">
      <button class="btn-link add-line-comment js-add-line-comment js-add-single-line-comment"
        data-path="AirPassengers.csv"
        data-anchor="diff-05ec04f9dc9cabd71a0d6907792b0c3b184520e17d87138f9a9956b37bcc5717"
        data-position="110"
        data-side="right"
        data-line="110"
        data-original-line="+1958-01,340"
        type="button"
        aria-label="Add line comment">
        <svg aria-hidden="true" height="16" viewBox="0 0 16 16" version="1.1" width="16" data-view-component="true" class="octicon octicon-plus">
    <path fill-rule="evenodd" d="M7.75 2a.75.75 0 01.75.75V7h4.25a.75.75 0 110 1.5H8.5v4.25a.75.75 0 11-1.5 0V8.5H2.75a.75.75 0 010-1.5H7V2.75A.75.75 0 017.75 2z"></path>
</svg>
      </button>
    <span class='blob-code-inner blob-code-marker' data-code-marker="+">1958-01,340</span></td>
</tr>



    <tr data-hunk="ef544bcaf162b7cec0c0c0a85cdbc97381121e64954f3f1a8a88d1f6b419dd31">
    <td class="blob-num blob-num-addition empty-cell"></td>

    <td id="diff-05ec04f9dc9cabd71a0d6907792b0c3b184520e17d87138f9a9956b37bcc5717R111" data-line-number="111"
        class="blob-num blob-num-addition js-linkable-line-number"></td>

  <td class="blob-code blob-code-addition">
      <button class="btn-link add-line-comment js-add-line-comment js-add-single-line-comment"
        data-path="AirPassengers.csv"
        data-anchor="diff-05ec04f9dc9cabd71a0d6907792b0c3b184520e17d87138f9a9956b37bcc5717"
        data-position="111"
        data-side="right"
        data-line="111"
        data-original-line="+1958-02,318"
        type="button"
        aria-label="Add line comment">
        <svg aria-hidden="true" height="16" viewBox="0 0 16 16" version="1.1" width="16" data-view-component="true" class="octicon octicon-plus">
    <path fill-rule="evenodd" d="M7.75 2a.75.75 0 01.75.75V7h4.25a.75.75 0 110 1.5H8.5v4.25a.75.75 0 11-1.5 0V8.5H2.75a.75.75 0 010-1.5H7V2.75A.75.75 0 017.75 2z"></path>
</svg>
      </button>
    <span class='blob-code-inner blob-code-marker' data-code-marker="+">1958-02,318</span></td>
</tr>



    <tr data-hunk="ef544bcaf162b7cec0c0c0a85cdbc97381121e64954f3f1a8a88d1f6b419dd31">
    <td class="blob-num blob-num-addition empty-cell"></td>

    <td id="diff-05ec04f9dc9cabd71a0d6907792b0c3b184520e17d87138f9a9956b37bcc5717R112" data-line-number="112"
        class="blob-num blob-num-addition js-linkable-line-number"></td>

  <td class="blob-code blob-code-addition">
      <button class="btn-link add-line-comment js-add-line-comment js-add-single-line-comment"
        data-path="AirPassengers.csv"
        data-anchor="diff-05ec04f9dc9cabd71a0d6907792b0c3b184520e17d87138f9a9956b37bcc5717"
        data-position="112"
        data-side="right"
        data-line="112"
        data-original-line="+1958-03,362"
        type="button"
        aria-label="Add line comment">
        <svg aria-hidden="true" height="16" viewBox="0 0 16 16" version="1.1" width="16" data-view-component="true" class="octicon octicon-plus">
    <path fill-rule="evenodd" d="M7.75 2a.75.75 0 01.75.75V7h4.25a.75.75 0 110 1.5H8.5v4.25a.75.75 0 11-1.5 0V8.5H2.75a.75.75 0 010-1.5H7V2.75A.75.75 0 017.75 2z"></path>
</svg>
      </button>
    <span class='blob-code-inner blob-code-marker' data-code-marker="+">1958-03,362</span></td>
</tr>



    <tr data-hunk="ef544bcaf162b7cec0c0c0a85cdbc97381121e64954f3f1a8a88d1f6b419dd31">
    <td class="blob-num blob-num-addition empty-cell"></td>

    <td id="diff-05ec04f9dc9cabd71a0d6907792b0c3b184520e17d87138f9a9956b37bcc5717R113" data-line-number="113"
        class="blob-num blob-num-addition js-linkable-line-number"></td>

  <td class="blob-code blob-code-addition">
      <button class="btn-link add-line-comment js-add-line-comment js-add-single-line-comment"
        data-path="AirPassengers.csv"
        data-anchor="diff-05ec04f9dc9cabd71a0d6907792b0c3b184520e17d87138f9a9956b37bcc5717"
        data-position="113"
        data-side="right"
        data-line="113"
        data-original-line="+1958-04,348"
        type="button"
        aria-label="Add line comment">
        <svg aria-hidden="true" height="16" viewBox="0 0 16 16" version="1.1" width="16" data-view-component="true" class="octicon octicon-plus">
    <path fill-rule="evenodd" d="M7.75 2a.75.75 0 01.75.75V7h4.25a.75.75 0 110 1.5H8.5v4.25a.75.75 0 11-1.5 0V8.5H2.75a.75.75 0 010-1.5H7V2.75A.75.75 0 017.75 2z"></path>
</svg>
      </button>
    <span class='blob-code-inner blob-code-marker' data-code-marker="+">1958-04,348</span></td>
</tr>



    <tr data-hunk="ef544bcaf162b7cec0c0c0a85cdbc97381121e64954f3f1a8a88d1f6b419dd31">
    <td class="blob-num blob-num-addition empty-cell"></td>

    <td id="diff-05ec04f9dc9cabd71a0d6907792b0c3b184520e17d87138f9a9956b37bcc5717R114" data-line-number="114"
        class="blob-num blob-num-addition js-linkable-line-number"></td>

  <td class="blob-code blob-code-addition">
      <button class="btn-link add-line-comment js-add-line-comment js-add-single-line-comment"
        data-path="AirPassengers.csv"
        data-anchor="diff-05ec04f9dc9cabd71a0d6907792b0c3b184520e17d87138f9a9956b37bcc5717"
        data-position="114"
        data-side="right"
        data-line="114"
        data-original-line="+1958-05,363"
        type="button"
        aria-label="Add line comment">
        <svg aria-hidden="true" height="16" viewBox="0 0 16 16" version="1.1" width="16" data-view-component="true" class="octicon octicon-plus">
    <path fill-rule="evenodd" d="M7.75 2a.75.75 0 01.75.75V7h4.25a.75.75 0 110 1.5H8.5v4.25a.75.75 0 11-1.5 0V8.5H2.75a.75.75 0 010-1.5H7V2.75A.75.75 0 017.75 2z"></path>
</svg>
      </button>
    <span class='blob-code-inner blob-code-marker' data-code-marker="+">1958-05,363</span></td>
</tr>



    <tr data-hunk="ef544bcaf162b7cec0c0c0a85cdbc97381121e64954f3f1a8a88d1f6b419dd31">
    <td class="blob-num blob-num-addition empty-cell"></td>

    <td id="diff-05ec04f9dc9cabd71a0d6907792b0c3b184520e17d87138f9a9956b37bcc5717R115" data-line-number="115"
        class="blob-num blob-num-addition js-linkable-line-number"></td>

  <td class="blob-code blob-code-addition">
      <button class="btn-link add-line-comment js-add-line-comment js-add-single-line-comment"
        data-path="AirPassengers.csv"
        data-anchor="diff-05ec04f9dc9cabd71a0d6907792b0c3b184520e17d87138f9a9956b37bcc5717"
        data-position="115"
        data-side="right"
        data-line="115"
        data-original-line="+1958-06,435"
        type="button"
        aria-label="Add line comment">
        <svg aria-hidden="true" height="16" viewBox="0 0 16 16" version="1.1" width="16" data-view-component="true" class="octicon octicon-plus">
    <path fill-rule="evenodd" d="M7.75 2a.75.75 0 01.75.75V7h4.25a.75.75 0 110 1.5H8.5v4.25a.75.75 0 11-1.5 0V8.5H2.75a.75.75 0 010-1.5H7V2.75A.75.75 0 017.75 2z"></path>
</svg>
      </button>
    <span class='blob-code-inner blob-code-marker' data-code-marker="+">1958-06,435</span></td>
</tr>



    <tr data-hunk="ef544bcaf162b7cec0c0c0a85cdbc97381121e64954f3f1a8a88d1f6b419dd31">
    <td class="blob-num blob-num-addition empty-cell"></td>

    <td id="diff-05ec04f9dc9cabd71a0d6907792b0c3b184520e17d87138f9a9956b37bcc5717R116" data-line-number="116"
        class="blob-num blob-num-addition js-linkable-line-number"></td>

  <td class="blob-code blob-code-addition">
      <button class="btn-link add-line-comment js-add-line-comment js-add-single-line-comment"
        data-path="AirPassengers.csv"
        data-anchor="diff-05ec04f9dc9cabd71a0d6907792b0c3b184520e17d87138f9a9956b37bcc5717"
        data-position="116"
        data-side="right"
        data-line="116"
        data-original-line="+1958-07,491"
        type="button"
        aria-label="Add line comment">
        <svg aria-hidden="true" height="16" viewBox="0 0 16 16" version="1.1" width="16" data-view-component="true" class="octicon octicon-plus">
    <path fill-rule="evenodd" d="M7.75 2a.75.75 0 01.75.75V7h4.25a.75.75 0 110 1.5H8.5v4.25a.75.75 0 11-1.5 0V8.5H2.75a.75.75 0 010-1.5H7V2.75A.75.75 0 017.75 2z"></path>
</svg>
      </button>
    <span class='blob-code-inner blob-code-marker' data-code-marker="+">1958-07,491</span></td>
</tr>



    <tr data-hunk="ef544bcaf162b7cec0c0c0a85cdbc97381121e64954f3f1a8a88d1f6b419dd31">
    <td class="blob-num blob-num-addition empty-cell"></td>

    <td id="diff-05ec04f9dc9cabd71a0d6907792b0c3b184520e17d87138f9a9956b37bcc5717R117" data-line-number="117"
        class="blob-num blob-num-addition js-linkable-line-number"></td>

  <td class="blob-code blob-code-addition">
      <button class="btn-link add-line-comment js-add-line-comment js-add-single-line-comment"
        data-path="AirPassengers.csv"
        data-anchor="diff-05ec04f9dc9cabd71a0d6907792b0c3b184520e17d87138f9a9956b37bcc5717"
        data-position="117"
        data-side="right"
        data-line="117"
        data-original-line="+1958-08,505"
        type="button"
        aria-label="Add line comment">
        <svg aria-hidden="true" height="16" viewBox="0 0 16 16" version="1.1" width="16" data-view-component="true" class="octicon octicon-plus">
    <path fill-rule="evenodd" d="M7.75 2a.75.75 0 01.75.75V7h4.25a.75.75 0 110 1.5H8.5v4.25a.75.75 0 11-1.5 0V8.5H2.75a.75.75 0 010-1.5H7V2.75A.75.75 0 017.75 2z"></path>
</svg>
      </button>
    <span class='blob-code-inner blob-code-marker' data-code-marker="+">1958-08,505</span></td>
</tr>



    <tr data-hunk="ef544bcaf162b7cec0c0c0a85cdbc97381121e64954f3f1a8a88d1f6b419dd31">
    <td class="blob-num blob-num-addition empty-cell"></td>

    <td id="diff-05ec04f9dc9cabd71a0d6907792b0c3b184520e17d87138f9a9956b37bcc5717R118" data-line-number="118"
        class="blob-num blob-num-addition js-linkable-line-number"></td>

  <td class="blob-code blob-code-addition">
      <button class="btn-link add-line-comment js-add-line-comment js-add-single-line-comment"
        data-path="AirPassengers.csv"
        data-anchor="diff-05ec04f9dc9cabd71a0d6907792b0c3b184520e17d87138f9a9956b37bcc5717"
        data-position="118"
        data-side="right"
        data-line="118"
        data-original-line="+1958-09,404"
        type="button"
        aria-label="Add line comment">
        <svg aria-hidden="true" height="16" viewBox="0 0 16 16" version="1.1" width="16" data-view-component="true" class="octicon octicon-plus">
    <path fill-rule="evenodd" d="M7.75 2a.75.75 0 01.75.75V7h4.25a.75.75 0 110 1.5H8.5v4.25a.75.75 0 11-1.5 0V8.5H2.75a.75.75 0 010-1.5H7V2.75A.75.75 0 017.75 2z"></path>
</svg>
      </button>
    <span class='blob-code-inner blob-code-marker' data-code-marker="+">1958-09,404</span></td>
</tr>



    <tr data-hunk="ef544bcaf162b7cec0c0c0a85cdbc97381121e64954f3f1a8a88d1f6b419dd31">
    <td class="blob-num blob-num-addition empty-cell"></td>

    <td id="diff-05ec04f9dc9cabd71a0d6907792b0c3b184520e17d87138f9a9956b37bcc5717R119" data-line-number="119"
        class="blob-num blob-num-addition js-linkable-line-number"></td>

  <td class="blob-code blob-code-addition">
      <button class="btn-link add-line-comment js-add-line-comment js-add-single-line-comment"
        data-path="AirPassengers.csv"
        data-anchor="diff-05ec04f9dc9cabd71a0d6907792b0c3b184520e17d87138f9a9956b37bcc5717"
        data-position="119"
        data-side="right"
        data-line="119"
        data-original-line="+1958-10,359"
        type="button"
        aria-label="Add line comment">
        <svg aria-hidden="true" height="16" viewBox="0 0 16 16" version="1.1" width="16" data-view-component="true" class="octicon octicon-plus">
    <path fill-rule="evenodd" d="M7.75 2a.75.75 0 01.75.75V7h4.25a.75.75 0 110 1.5H8.5v4.25a.75.75 0 11-1.5 0V8.5H2.75a.75.75 0 010-1.5H7V2.75A.75.75 0 017.75 2z"></path>
</svg>
      </button>
    <span class='blob-code-inner blob-code-marker' data-code-marker="+">1958-10,359</span></td>
</tr>



    <tr data-hunk="ef544bcaf162b7cec0c0c0a85cdbc97381121e64954f3f1a8a88d1f6b419dd31">
    <td class="blob-num blob-num-addition empty-cell"></td>

    <td id="diff-05ec04f9dc9cabd71a0d6907792b0c3b184520e17d87138f9a9956b37bcc5717R120" data-line-number="120"
        class="blob-num blob-num-addition js-linkable-line-number"></td>

  <td class="blob-code blob-code-addition">
      <button class="btn-link add-line-comment js-add-line-comment js-add-single-line-comment"
        data-path="AirPassengers.csv"
        data-anchor="diff-05ec04f9dc9cabd71a0d6907792b0c3b184520e17d87138f9a9956b37bcc5717"
        data-position="120"
        data-side="right"
        data-line="120"
        data-original-line="+1958-11,310"
        type="button"
        aria-label="Add line comment">
        <svg aria-hidden="true" height="16" viewBox="0 0 16 16" version="1.1" width="16" data-view-component="true" class="octicon octicon-plus">
    <path fill-rule="evenodd" d="M7.75 2a.75.75 0 01.75.75V7h4.25a.75.75 0 110 1.5H8.5v4.25a.75.75 0 11-1.5 0V8.5H2.75a.75.75 0 010-1.5H7V2.75A.75.75 0 017.75 2z"></path>
</svg>
      </button>
    <span class='blob-code-inner blob-code-marker' data-code-marker="+">1958-11,310</span></td>
</tr>



    <tr data-hunk="ef544bcaf162b7cec0c0c0a85cdbc97381121e64954f3f1a8a88d1f6b419dd31">
    <td class="blob-num blob-num-addition empty-cell"></td>

    <td id="diff-05ec04f9dc9cabd71a0d6907792b0c3b184520e17d87138f9a9956b37bcc5717R121" data-line-number="121"
        class="blob-num blob-num-addition js-linkable-line-number"></td>

  <td class="blob-code blob-code-addition">
      <button class="btn-link add-line-comment js-add-line-comment js-add-single-line-comment"
        data-path="AirPassengers.csv"
        data-anchor="diff-05ec04f9dc9cabd71a0d6907792b0c3b184520e17d87138f9a9956b37bcc5717"
        data-position="121"
        data-side="right"
        data-line="121"
        data-original-line="+1958-12,337"
        type="button"
        aria-label="Add line comment">
        <svg aria-hidden="true" height="16" viewBox="0 0 16 16" version="1.1" width="16" data-view-component="true" class="octicon octicon-plus">
    <path fill-rule="evenodd" d="M7.75 2a.75.75 0 01.75.75V7h4.25a.75.75 0 110 1.5H8.5v4.25a.75.75 0 11-1.5 0V8.5H2.75a.75.75 0 010-1.5H7V2.75A.75.75 0 017.75 2z"></path>
</svg>
      </button>
    <span class='blob-code-inner blob-code-marker' data-code-marker="+">1958-12,337</span></td>
</tr>



    <tr data-hunk="ef544bcaf162b7cec0c0c0a85cdbc97381121e64954f3f1a8a88d1f6b419dd31">
    <td class="blob-num blob-num-addition empty-cell"></td>

    <td id="diff-05ec04f9dc9cabd71a0d6907792b0c3b184520e17d87138f9a9956b37bcc5717R122" data-line-number="122"
        class="blob-num blob-num-addition js-linkable-line-number"></td>

  <td class="blob-code blob-code-addition">
      <button class="btn-link add-line-comment js-add-line-comment js-add-single-line-comment"
        data-path="AirPassengers.csv"
        data-anchor="diff-05ec04f9dc9cabd71a0d6907792b0c3b184520e17d87138f9a9956b37bcc5717"
        data-position="122"
        data-side="right"
        data-line="122"
        data-original-line="+1959-01,360"
        type="button"
        aria-label="Add line comment">
        <svg aria-hidden="true" height="16" viewBox="0 0 16 16" version="1.1" width="16" data-view-component="true" class="octicon octicon-plus">
    <path fill-rule="evenodd" d="M7.75 2a.75.75 0 01.75.75V7h4.25a.75.75 0 110 1.5H8.5v4.25a.75.75 0 11-1.5 0V8.5H2.75a.75.75 0 010-1.5H7V2.75A.75.75 0 017.75 2z"></path>
</svg>
      </button>
    <span class='blob-code-inner blob-code-marker' data-code-marker="+">1959-01,360</span></td>
</tr>



    <tr data-hunk="ef544bcaf162b7cec0c0c0a85cdbc97381121e64954f3f1a8a88d1f6b419dd31">
    <td class="blob-num blob-num-addition empty-cell"></td>

    <td id="diff-05ec04f9dc9cabd71a0d6907792b0c3b184520e17d87138f9a9956b37bcc5717R123" data-line-number="123"
        class="blob-num blob-num-addition js-linkable-line-number"></td>

  <td class="blob-code blob-code-addition">
      <button class="btn-link add-line-comment js-add-line-comment js-add-single-line-comment"
        data-path="AirPassengers.csv"
        data-anchor="diff-05ec04f9dc9cabd71a0d6907792b0c3b184520e17d87138f9a9956b37bcc5717"
        data-position="123"
        data-side="right"
        data-line="123"
        data-original-line="+1959-02,342"
        type="button"
        aria-label="Add line comment">
        <svg aria-hidden="true" height="16" viewBox="0 0 16 16" version="1.1" width="16" data-view-component="true" class="octicon octicon-plus">
    <path fill-rule="evenodd" d="M7.75 2a.75.75 0 01.75.75V7h4.25a.75.75 0 110 1.5H8.5v4.25a.75.75 0 11-1.5 0V8.5H2.75a.75.75 0 010-1.5H7V2.75A.75.75 0 017.75 2z"></path>
</svg>
      </button>
    <span class='blob-code-inner blob-code-marker' data-code-marker="+">1959-02,342</span></td>
</tr>



    <tr data-hunk="ef544bcaf162b7cec0c0c0a85cdbc97381121e64954f3f1a8a88d1f6b419dd31">
    <td class="blob-num blob-num-addition empty-cell"></td>

    <td id="diff-05ec04f9dc9cabd71a0d6907792b0c3b184520e17d87138f9a9956b37bcc5717R124" data-line-number="124"
        class="blob-num blob-num-addition js-linkable-line-number"></td>

  <td class="blob-code blob-code-addition">
      <button class="btn-link add-line-comment js-add-line-comment js-add-single-line-comment"
        data-path="AirPassengers.csv"
        data-anchor="diff-05ec04f9dc9cabd71a0d6907792b0c3b184520e17d87138f9a9956b37bcc5717"
        data-position="124"
        data-side="right"
        data-line="124"
        data-original-line="+1959-03,406"
        type="button"
        aria-label="Add line comment">
        <svg aria-hidden="true" height="16" viewBox="0 0 16 16" version="1.1" width="16" data-view-component="true" class="octicon octicon-plus">
    <path fill-rule="evenodd" d="M7.75 2a.75.75 0 01.75.75V7h4.25a.75.75 0 110 1.5H8.5v4.25a.75.75 0 11-1.5 0V8.5H2.75a.75.75 0 010-1.5H7V2.75A.75.75 0 017.75 2z"></path>
</svg>
      </button>
    <span class='blob-code-inner blob-code-marker' data-code-marker="+">1959-03,406</span></td>
</tr>



    <tr data-hunk="ef544bcaf162b7cec0c0c0a85cdbc97381121e64954f3f1a8a88d1f6b419dd31">
    <td class="blob-num blob-num-addition empty-cell"></td>

    <td id="diff-05ec04f9dc9cabd71a0d6907792b0c3b184520e17d87138f9a9956b37bcc5717R125" data-line-number="125"
        class="blob-num blob-num-addition js-linkable-line-number"></td>

  <td class="blob-code blob-code-addition">
      <button class="btn-link add-line-comment js-add-line-comment js-add-single-line-comment"
        data-path="AirPassengers.csv"
        data-anchor="diff-05ec04f9dc9cabd71a0d6907792b0c3b184520e17d87138f9a9956b37bcc5717"
        data-position="125"
        data-side="right"
        data-line="125"
        data-original-line="+1959-04,396"
        type="button"
        aria-label="Add line comment">
        <svg aria-hidden="true" height="16" viewBox="0 0 16 16" version="1.1" width="16" data-view-component="true" class="octicon octicon-plus">
    <path fill-rule="evenodd" d="M7.75 2a.75.75 0 01.75.75V7h4.25a.75.75 0 110 1.5H8.5v4.25a.75.75 0 11-1.5 0V8.5H2.75a.75.75 0 010-1.5H7V2.75A.75.75 0 017.75 2z"></path>
</svg>
      </button>
    <span class='blob-code-inner blob-code-marker' data-code-marker="+">1959-04,396</span></td>
</tr>



    <tr data-hunk="ef544bcaf162b7cec0c0c0a85cdbc97381121e64954f3f1a8a88d1f6b419dd31">
    <td class="blob-num blob-num-addition empty-cell"></td>

    <td id="diff-05ec04f9dc9cabd71a0d6907792b0c3b184520e17d87138f9a9956b37bcc5717R126" data-line-number="126"
        class="blob-num blob-num-addition js-linkable-line-number"></td>

  <td class="blob-code blob-code-addition">
      <button class="btn-link add-line-comment js-add-line-comment js-add-single-line-comment"
        data-path="AirPassengers.csv"
        data-anchor="diff-05ec04f9dc9cabd71a0d6907792b0c3b184520e17d87138f9a9956b37bcc5717"
        data-position="126"
        data-side="right"
        data-line="126"
        data-original-line="+1959-05,420"
        type="button"
        aria-label="Add line comment">
        <svg aria-hidden="true" height="16" viewBox="0 0 16 16" version="1.1" width="16" data-view-component="true" class="octicon octicon-plus">
    <path fill-rule="evenodd" d="M7.75 2a.75.75 0 01.75.75V7h4.25a.75.75 0 110 1.5H8.5v4.25a.75.75 0 11-1.5 0V8.5H2.75a.75.75 0 010-1.5H7V2.75A.75.75 0 017.75 2z"></path>
</svg>
      </button>
    <span class='blob-code-inner blob-code-marker' data-code-marker="+">1959-05,420</span></td>
</tr>



    <tr data-hunk="ef544bcaf162b7cec0c0c0a85cdbc97381121e64954f3f1a8a88d1f6b419dd31">
    <td class="blob-num blob-num-addition empty-cell"></td>

    <td id="diff-05ec04f9dc9cabd71a0d6907792b0c3b184520e17d87138f9a9956b37bcc5717R127" data-line-number="127"
        class="blob-num blob-num-addition js-linkable-line-number"></td>

  <td class="blob-code blob-code-addition">
      <button class="btn-link add-line-comment js-add-line-comment js-add-single-line-comment"
        data-path="AirPassengers.csv"
        data-anchor="diff-05ec04f9dc9cabd71a0d6907792b0c3b184520e17d87138f9a9956b37bcc5717"
        data-position="127"
        data-side="right"
        data-line="127"
        data-original-line="+1959-06,472"
        type="button"
        aria-label="Add line comment">
        <svg aria-hidden="true" height="16" viewBox="0 0 16 16" version="1.1" width="16" data-view-component="true" class="octicon octicon-plus">
    <path fill-rule="evenodd" d="M7.75 2a.75.75 0 01.75.75V7h4.25a.75.75 0 110 1.5H8.5v4.25a.75.75 0 11-1.5 0V8.5H2.75a.75.75 0 010-1.5H7V2.75A.75.75 0 017.75 2z"></path>
</svg>
      </button>
    <span class='blob-code-inner blob-code-marker' data-code-marker="+">1959-06,472</span></td>
</tr>



    <tr data-hunk="ef544bcaf162b7cec0c0c0a85cdbc97381121e64954f3f1a8a88d1f6b419dd31">
    <td class="blob-num blob-num-addition empty-cell"></td>

    <td id="diff-05ec04f9dc9cabd71a0d6907792b0c3b184520e17d87138f9a9956b37bcc5717R128" data-line-number="128"
        class="blob-num blob-num-addition js-linkable-line-number"></td>

  <td class="blob-code blob-code-addition">
      <button class="btn-link add-line-comment js-add-line-comment js-add-single-line-comment"
        data-path="AirPassengers.csv"
        data-anchor="diff-05ec04f9dc9cabd71a0d6907792b0c3b184520e17d87138f9a9956b37bcc5717"
        data-position="128"
        data-side="right"
        data-line="128"
        data-original-line="+1959-07,548"
        type="button"
        aria-label="Add line comment">
        <svg aria-hidden="true" height="16" viewBox="0 0 16 16" version="1.1" width="16" data-view-component="true" class="octicon octicon-plus">
    <path fill-rule="evenodd" d="M7.75 2a.75.75 0 01.75.75V7h4.25a.75.75 0 110 1.5H8.5v4.25a.75.75 0 11-1.5 0V8.5H2.75a.75.75 0 010-1.5H7V2.75A.75.75 0 017.75 2z"></path>
</svg>
      </button>
    <span class='blob-code-inner blob-code-marker' data-code-marker="+">1959-07,548</span></td>
</tr>



    <tr data-hunk="ef544bcaf162b7cec0c0c0a85cdbc97381121e64954f3f1a8a88d1f6b419dd31">
    <td class="blob-num blob-num-addition empty-cell"></td>

    <td id="diff-05ec04f9dc9cabd71a0d6907792b0c3b184520e17d87138f9a9956b37bcc5717R129" data-line-number="129"
        class="blob-num blob-num-addition js-linkable-line-number"></td>

  <td class="blob-code blob-code-addition">
      <button class="btn-link add-line-comment js-add-line-comment js-add-single-line-comment"
        data-path="AirPassengers.csv"
        data-anchor="diff-05ec04f9dc9cabd71a0d6907792b0c3b184520e17d87138f9a9956b37bcc5717"
        data-position="129"
        data-side="right"
        data-line="129"
        data-original-line="+1959-08,559"
        type="button"
        aria-label="Add line comment">
        <svg aria-hidden="true" height="16" viewBox="0 0 16 16" version="1.1" width="16" data-view-component="true" class="octicon octicon-plus">
    <path fill-rule="evenodd" d="M7.75 2a.75.75 0 01.75.75V7h4.25a.75.75 0 110 1.5H8.5v4.25a.75.75 0 11-1.5 0V8.5H2.75a.75.75 0 010-1.5H7V2.75A.75.75 0 017.75 2z"></path>
</svg>
      </button>
    <span class='blob-code-inner blob-code-marker' data-code-marker="+">1959-08,559</span></td>
</tr>



    <tr data-hunk="ef544bcaf162b7cec0c0c0a85cdbc97381121e64954f3f1a8a88d1f6b419dd31">
    <td class="blob-num blob-num-addition empty-cell"></td>

    <td id="diff-05ec04f9dc9cabd71a0d6907792b0c3b184520e17d87138f9a9956b37bcc5717R130" data-line-number="130"
        class="blob-num blob-num-addition js-linkable-line-number"></td>

  <td class="blob-code blob-code-addition">
      <button class="btn-link add-line-comment js-add-line-comment js-add-single-line-comment"
        data-path="AirPassengers.csv"
        data-anchor="diff-05ec04f9dc9cabd71a0d6907792b0c3b184520e17d87138f9a9956b37bcc5717"
        data-position="130"
        data-side="right"
        data-line="130"
        data-original-line="+1959-09,463"
        type="button"
        aria-label="Add line comment">
        <svg aria-hidden="true" height="16" viewBox="0 0 16 16" version="1.1" width="16" data-view-component="true" class="octicon octicon-plus">
    <path fill-rule="evenodd" d="M7.75 2a.75.75 0 01.75.75V7h4.25a.75.75 0 110 1.5H8.5v4.25a.75.75 0 11-1.5 0V8.5H2.75a.75.75 0 010-1.5H7V2.75A.75.75 0 017.75 2z"></path>
</svg>
      </button>
    <span class='blob-code-inner blob-code-marker' data-code-marker="+">1959-09,463</span></td>
</tr>



    <tr data-hunk="ef544bcaf162b7cec0c0c0a85cdbc97381121e64954f3f1a8a88d1f6b419dd31">
    <td class="blob-num blob-num-addition empty-cell"></td>

    <td id="diff-05ec04f9dc9cabd71a0d6907792b0c3b184520e17d87138f9a9956b37bcc5717R131" data-line-number="131"
        class="blob-num blob-num-addition js-linkable-line-number"></td>

  <td class="blob-code blob-code-addition">
      <button class="btn-link add-line-comment js-add-line-comment js-add-single-line-comment"
        data-path="AirPassengers.csv"
        data-anchor="diff-05ec04f9dc9cabd71a0d6907792b0c3b184520e17d87138f9a9956b37bcc5717"
        data-position="131"
        data-side="right"
        data-line="131"
        data-original-line="+1959-10,407"
        type="button"
        aria-label="Add line comment">
        <svg aria-hidden="true" height="16" viewBox="0 0 16 16" version="1.1" width="16" data-view-component="true" class="octicon octicon-plus">
    <path fill-rule="evenodd" d="M7.75 2a.75.75 0 01.75.75V7h4.25a.75.75 0 110 1.5H8.5v4.25a.75.75 0 11-1.5 0V8.5H2.75a.75.75 0 010-1.5H7V2.75A.75.75 0 017.75 2z"></path>
</svg>
      </button>
    <span class='blob-code-inner blob-code-marker' data-code-marker="+">1959-10,407</span></td>
</tr>



    <tr data-hunk="ef544bcaf162b7cec0c0c0a85cdbc97381121e64954f3f1a8a88d1f6b419dd31">
    <td class="blob-num blob-num-addition empty-cell"></td>

    <td id="diff-05ec04f9dc9cabd71a0d6907792b0c3b184520e17d87138f9a9956b37bcc5717R132" data-line-number="132"
        class="blob-num blob-num-addition js-linkable-line-number"></td>

  <td class="blob-code blob-code-addition">
      <button class="btn-link add-line-comment js-add-line-comment js-add-single-line-comment"
        data-path="AirPassengers.csv"
        data-anchor="diff-05ec04f9dc9cabd71a0d6907792b0c3b184520e17d87138f9a9956b37bcc5717"
        data-position="132"
        data-side="right"
        data-line="132"
        data-original-line="+1959-11,362"
        type="button"
        aria-label="Add line comment">
        <svg aria-hidden="true" height="16" viewBox="0 0 16 16" version="1.1" width="16" data-view-component="true" class="octicon octicon-plus">
    <path fill-rule="evenodd" d="M7.75 2a.75.75 0 01.75.75V7h4.25a.75.75 0 110 1.5H8.5v4.25a.75.75 0 11-1.5 0V8.5H2.75a.75.75 0 010-1.5H7V2.75A.75.75 0 017.75 2z"></path>
</svg>
      </button>
    <span class='blob-code-inner blob-code-marker' data-code-marker="+">1959-11,362</span></td>
</tr>



    <tr data-hunk="ef544bcaf162b7cec0c0c0a85cdbc97381121e64954f3f1a8a88d1f6b419dd31">
    <td class="blob-num blob-num-addition empty-cell"></td>

    <td id="diff-05ec04f9dc9cabd71a0d6907792b0c3b184520e17d87138f9a9956b37bcc5717R133" data-line-number="133"
        class="blob-num blob-num-addition js-linkable-line-number"></td>

  <td class="blob-code blob-code-addition">
      <button class="btn-link add-line-comment js-add-line-comment js-add-single-line-comment"
        data-path="AirPassengers.csv"
        data-anchor="diff-05ec04f9dc9cabd71a0d6907792b0c3b184520e17d87138f9a9956b37bcc5717"
        data-position="133"
        data-side="right"
        data-line="133"
        data-original-line="+1959-12,405"
        type="button"
        aria-label="Add line comment">
        <svg aria-hidden="true" height="16" viewBox="0 0 16 16" version="1.1" width="16" data-view-component="true" class="octicon octicon-plus">
    <path fill-rule="evenodd" d="M7.75 2a.75.75 0 01.75.75V7h4.25a.75.75 0 110 1.5H8.5v4.25a.75.75 0 11-1.5 0V8.5H2.75a.75.75 0 010-1.5H7V2.75A.75.75 0 017.75 2z"></path>
</svg>
      </button>
    <span class='blob-code-inner blob-code-marker' data-code-marker="+">1959-12,405</span></td>
</tr>



    <tr data-hunk="ef544bcaf162b7cec0c0c0a85cdbc97381121e64954f3f1a8a88d1f6b419dd31">
    <td class="blob-num blob-num-addition empty-cell"></td>

    <td id="diff-05ec04f9dc9cabd71a0d6907792b0c3b184520e17d87138f9a9956b37bcc5717R134" data-line-number="134"
        class="blob-num blob-num-addition js-linkable-line-number"></td>

  <td class="blob-code blob-code-addition">
      <button class="btn-link add-line-comment js-add-line-comment js-add-single-line-comment"
        data-path="AirPassengers.csv"
        data-anchor="diff-05ec04f9dc9cabd71a0d6907792b0c3b184520e17d87138f9a9956b37bcc5717"
        data-position="134"
        data-side="right"
        data-line="134"
        data-original-line="+1960-01,417"
        type="button"
        aria-label="Add line comment">
        <svg aria-hidden="true" height="16" viewBox="0 0 16 16" version="1.1" width="16" data-view-component="true" class="octicon octicon-plus">
    <path fill-rule="evenodd" d="M7.75 2a.75.75 0 01.75.75V7h4.25a.75.75 0 110 1.5H8.5v4.25a.75.75 0 11-1.5 0V8.5H2.75a.75.75 0 010-1.5H7V2.75A.75.75 0 017.75 2z"></path>
</svg>
      </button>
    <span class='blob-code-inner blob-code-marker' data-code-marker="+">1960-01,417</span></td>
</tr>



    <tr data-hunk="ef544bcaf162b7cec0c0c0a85cdbc97381121e64954f3f1a8a88d1f6b419dd31">
    <td class="blob-num blob-num-addition empty-cell"></td>

    <td id="diff-05ec04f9dc9cabd71a0d6907792b0c3b184520e17d87138f9a9956b37bcc5717R135" data-line-number="135"
        class="blob-num blob-num-addition js-linkable-line-number"></td>

  <td class="blob-code blob-code-addition">
      <button class="btn-link add-line-comment js-add-line-comment js-add-single-line-comment"
        data-path="AirPassengers.csv"
        data-anchor="diff-05ec04f9dc9cabd71a0d6907792b0c3b184520e17d87138f9a9956b37bcc5717"
        data-position="135"
        data-side="right"
        data-line="135"
        data-original-line="+1960-02,391"
        type="button"
        aria-label="Add line comment">
        <svg aria-hidden="true" height="16" viewBox="0 0 16 16" version="1.1" width="16" data-view-component="true" class="octicon octicon-plus">
    <path fill-rule="evenodd" d="M7.75 2a.75.75 0 01.75.75V7h4.25a.75.75 0 110 1.5H8.5v4.25a.75.75 0 11-1.5 0V8.5H2.75a.75.75 0 010-1.5H7V2.75A.75.75 0 017.75 2z"></path>
</svg>
      </button>
    <span class='blob-code-inner blob-code-marker' data-code-marker="+">1960-02,391</span></td>
</tr>



    <tr data-hunk="ef544bcaf162b7cec0c0c0a85cdbc97381121e64954f3f1a8a88d1f6b419dd31">
    <td class="blob-num blob-num-addition empty-cell"></td>

    <td id="diff-05ec04f9dc9cabd71a0d6907792b0c3b184520e17d87138f9a9956b37bcc5717R136" data-line-number="136"
        class="blob-num blob-num-addition js-linkable-line-number"></td>

  <td class="blob-code blob-code-addition">
      <button class="btn-link add-line-comment js-add-line-comment js-add-single-line-comment"
        data-path="AirPassengers.csv"
        data-anchor="diff-05ec04f9dc9cabd71a0d6907792b0c3b184520e17d87138f9a9956b37bcc5717"
        data-position="136"
        data-side="right"
        data-line="136"
        data-original-line="+1960-03,419"
        type="button"
        aria-label="Add line comment">
        <svg aria-hidden="true" height="16" viewBox="0 0 16 16" version="1.1" width="16" data-view-component="true" class="octicon octicon-plus">
    <path fill-rule="evenodd" d="M7.75 2a.75.75 0 01.75.75V7h4.25a.75.75 0 110 1.5H8.5v4.25a.75.75 0 11-1.5 0V8.5H2.75a.75.75 0 010-1.5H7V2.75A.75.75 0 017.75 2z"></path>
</svg>
      </button>
    <span class='blob-code-inner blob-code-marker' data-code-marker="+">1960-03,419</span></td>
</tr>



    <tr data-hunk="ef544bcaf162b7cec0c0c0a85cdbc97381121e64954f3f1a8a88d1f6b419dd31">
    <td class="blob-num blob-num-addition empty-cell"></td>

    <td id="diff-05ec04f9dc9cabd71a0d6907792b0c3b184520e17d87138f9a9956b37bcc5717R137" data-line-number="137"
        class="blob-num blob-num-addition js-linkable-line-number"></td>

  <td class="blob-code blob-code-addition">
      <button class="btn-link add-line-comment js-add-line-comment js-add-single-line-comment"
        data-path="AirPassengers.csv"
        data-anchor="diff-05ec04f9dc9cabd71a0d6907792b0c3b184520e17d87138f9a9956b37bcc5717"
        data-position="137"
        data-side="right"
        data-line="137"
        data-original-line="+1960-04,461"
        type="button"
        aria-label="Add line comment">
        <svg aria-hidden="true" height="16" viewBox="0 0 16 16" version="1.1" width="16" data-view-component="true" class="octicon octicon-plus">
    <path fill-rule="evenodd" d="M7.75 2a.75.75 0 01.75.75V7h4.25a.75.75 0 110 1.5H8.5v4.25a.75.75 0 11-1.5 0V8.5H2.75a.75.75 0 010-1.5H7V2.75A.75.75 0 017.75 2z"></path>
</svg>
      </button>
    <span class='blob-code-inner blob-code-marker' data-code-marker="+">1960-04,461</span></td>
</tr>



    <tr data-hunk="ef544bcaf162b7cec0c0c0a85cdbc97381121e64954f3f1a8a88d1f6b419dd31">
    <td class="blob-num blob-num-addition empty-cell"></td>

    <td id="diff-05ec04f9dc9cabd71a0d6907792b0c3b184520e17d87138f9a9956b37bcc5717R138" data-line-number="138"
        class="blob-num blob-num-addition js-linkable-line-number"></td>

  <td class="blob-code blob-code-addition">
      <button class="btn-link add-line-comment js-add-line-comment js-add-single-line-comment"
        data-path="AirPassengers.csv"
        data-anchor="diff-05ec04f9dc9cabd71a0d6907792b0c3b184520e17d87138f9a9956b37bcc5717"
        data-position="138"
        data-side="right"
        data-line="138"
        data-original-line="+1960-05,472"
        type="button"
        aria-label="Add line comment">
        <svg aria-hidden="true" height="16" viewBox="0 0 16 16" version="1.1" width="16" data-view-component="true" class="octicon octicon-plus">
    <path fill-rule="evenodd" d="M7.75 2a.75.75 0 01.75.75V7h4.25a.75.75 0 110 1.5H8.5v4.25a.75.75 0 11-1.5 0V8.5H2.75a.75.75 0 010-1.5H7V2.75A.75.75 0 017.75 2z"></path>
</svg>
      </button>
    <span class='blob-code-inner blob-code-marker' data-code-marker="+">1960-05,472</span></td>
</tr>



    <tr data-hunk="ef544bcaf162b7cec0c0c0a85cdbc97381121e64954f3f1a8a88d1f6b419dd31">
    <td class="blob-num blob-num-addition empty-cell"></td>

    <td id="diff-05ec04f9dc9cabd71a0d6907792b0c3b184520e17d87138f9a9956b37bcc5717R139" data-line-number="139"
        class="blob-num blob-num-addition js-linkable-line-number"></td>

  <td class="blob-code blob-code-addition">
      <button class="btn-link add-line-comment js-add-line-comment js-add-single-line-comment"
        data-path="AirPassengers.csv"
        data-anchor="diff-05ec04f9dc9cabd71a0d6907792b0c3b184520e17d87138f9a9956b37bcc5717"
        data-position="139"
        data-side="right"
        data-line="139"
        data-original-line="+1960-06,535"
        type="button"
        aria-label="Add line comment">
        <svg aria-hidden="true" height="16" viewBox="0 0 16 16" version="1.1" width="16" data-view-component="true" class="octicon octicon-plus">
    <path fill-rule="evenodd" d="M7.75 2a.75.75 0 01.75.75V7h4.25a.75.75 0 110 1.5H8.5v4.25a.75.75 0 11-1.5 0V8.5H2.75a.75.75 0 010-1.5H7V2.75A.75.75 0 017.75 2z"></path>
</svg>
      </button>
    <span class='blob-code-inner blob-code-marker' data-code-marker="+">1960-06,535</span></td>
</tr>



    <tr data-hunk="ef544bcaf162b7cec0c0c0a85cdbc97381121e64954f3f1a8a88d1f6b419dd31">
    <td class="blob-num blob-num-addition empty-cell"></td>

    <td id="diff-05ec04f9dc9cabd71a0d6907792b0c3b184520e17d87138f9a9956b37bcc5717R140" data-line-number="140"
        class="blob-num blob-num-addition js-linkable-line-number"></td>

  <td class="blob-code blob-code-addition">
      <button class="btn-link add-line-comment js-add-line-comment js-add-single-line-comment"
        data-path="AirPassengers.csv"
        data-anchor="diff-05ec04f9dc9cabd71a0d6907792b0c3b184520e17d87138f9a9956b37bcc5717"
        data-position="140"
        data-side="right"
        data-line="140"
        data-original-line="+1960-07,622"
        type="button"
        aria-label="Add line comment">
        <svg aria-hidden="true" height="16" viewBox="0 0 16 16" version="1.1" width="16" data-view-component="true" class="octicon octicon-plus">
    <path fill-rule="evenodd" d="M7.75 2a.75.75 0 01.75.75V7h4.25a.75.75 0 110 1.5H8.5v4.25a.75.75 0 11-1.5 0V8.5H2.75a.75.75 0 010-1.5H7V2.75A.75.75 0 017.75 2z"></path>
</svg>
      </button>
    <span class='blob-code-inner blob-code-marker' data-code-marker="+">1960-07,622</span></td>
</tr>



    <tr data-hunk="ef544bcaf162b7cec0c0c0a85cdbc97381121e64954f3f1a8a88d1f6b419dd31">
    <td class="blob-num blob-num-addition empty-cell"></td>

    <td id="diff-05ec04f9dc9cabd71a0d6907792b0c3b184520e17d87138f9a9956b37bcc5717R141" data-line-number="141"
        class="blob-num blob-num-addition js-linkable-line-number"></td>

  <td class="blob-code blob-code-addition">
      <button class="btn-link add-line-comment js-add-line-comment js-add-single-line-comment"
        data-path="AirPassengers.csv"
        data-anchor="diff-05ec04f9dc9cabd71a0d6907792b0c3b184520e17d87138f9a9956b37bcc5717"
        data-position="141"
        data-side="right"
        data-line="141"
        data-original-line="+1960-08,606"
        type="button"
        aria-label="Add line comment">
        <svg aria-hidden="true" height="16" viewBox="0 0 16 16" version="1.1" width="16" data-view-component="true" class="octicon octicon-plus">
    <path fill-rule="evenodd" d="M7.75 2a.75.75 0 01.75.75V7h4.25a.75.75 0 110 1.5H8.5v4.25a.75.75 0 11-1.5 0V8.5H2.75a.75.75 0 010-1.5H7V2.75A.75.75 0 017.75 2z"></path>
</svg>
      </button>
    <span class='blob-code-inner blob-code-marker' data-code-marker="+">1960-08,606</span></td>
</tr>



    <tr data-hunk="ef544bcaf162b7cec0c0c0a85cdbc97381121e64954f3f1a8a88d1f6b419dd31">
    <td class="blob-num blob-num-addition empty-cell"></td>

    <td id="diff-05ec04f9dc9cabd71a0d6907792b0c3b184520e17d87138f9a9956b37bcc5717R142" data-line-number="142"
        class="blob-num blob-num-addition js-linkable-line-number"></td>

  <td class="blob-code blob-code-addition">
      <button class="btn-link add-line-comment js-add-line-comment js-add-single-line-comment"
        data-path="AirPassengers.csv"
        data-anchor="diff-05ec04f9dc9cabd71a0d6907792b0c3b184520e17d87138f9a9956b37bcc5717"
        data-position="142"
        data-side="right"
        data-line="142"
        data-original-line="+1960-09,508"
        type="button"
        aria-label="Add line comment">
        <svg aria-hidden="true" height="16" viewBox="0 0 16 16" version="1.1" width="16" data-view-component="true" class="octicon octicon-plus">
    <path fill-rule="evenodd" d="M7.75 2a.75.75 0 01.75.75V7h4.25a.75.75 0 110 1.5H8.5v4.25a.75.75 0 11-1.5 0V8.5H2.75a.75.75 0 010-1.5H7V2.75A.75.75 0 017.75 2z"></path>
</svg>
      </button>
    <span class='blob-code-inner blob-code-marker' data-code-marker="+">1960-09,508</span></td>
</tr>



    <tr data-hunk="ef544bcaf162b7cec0c0c0a85cdbc97381121e64954f3f1a8a88d1f6b419dd31">
    <td class="blob-num blob-num-addition empty-cell"></td>

    <td id="diff-05ec04f9dc9cabd71a0d6907792b0c3b184520e17d87138f9a9956b37bcc5717R143" data-line-number="143"
        class="blob-num blob-num-addition js-linkable-line-number"></td>

  <td class="blob-code blob-code-addition">
      <button class="btn-link add-line-comment js-add-line-comment js-add-single-line-comment"
        data-path="AirPassengers.csv"
        data-anchor="diff-05ec04f9dc9cabd71a0d6907792b0c3b184520e17d87138f9a9956b37bcc5717"
        data-position="143"
        data-side="right"
        data-line="143"
        data-original-line="+1960-10,461"
        type="button"
        aria-label="Add line comment">
        <svg aria-hidden="true" height="16" viewBox="0 0 16 16" version="1.1" width="16" data-view-component="true" class="octicon octicon-plus">
    <path fill-rule="evenodd" d="M7.75 2a.75.75 0 01.75.75V7h4.25a.75.75 0 110 1.5H8.5v4.25a.75.75 0 11-1.5 0V8.5H2.75a.75.75 0 010-1.5H7V2.75A.75.75 0 017.75 2z"></path>
</svg>
      </button>
    <span class='blob-code-inner blob-code-marker' data-code-marker="+">1960-10,461</span></td>
</tr>



    <tr data-hunk="ef544bcaf162b7cec0c0c0a85cdbc97381121e64954f3f1a8a88d1f6b419dd31">
    <td class="blob-num blob-num-addition empty-cell"></td>

    <td id="diff-05ec04f9dc9cabd71a0d6907792b0c3b184520e17d87138f9a9956b37bcc5717R144" data-line-number="144"
        class="blob-num blob-num-addition js-linkable-line-number"></td>

  <td class="blob-code blob-code-addition">
      <button class="btn-link add-line-comment js-add-line-comment js-add-single-line-comment"
        data-path="AirPassengers.csv"
        data-anchor="diff-05ec04f9dc9cabd71a0d6907792b0c3b184520e17d87138f9a9956b37bcc5717"
        data-position="144"
        data-side="right"
        data-line="144"
        data-original-line="+1960-11,390"
        type="button"
        aria-label="Add line comment">
        <svg aria-hidden="true" height="16" viewBox="0 0 16 16" version="1.1" width="16" data-view-component="true" class="octicon octicon-plus">
    <path fill-rule="evenodd" d="M7.75 2a.75.75 0 01.75.75V7h4.25a.75.75 0 110 1.5H8.5v4.25a.75.75 0 11-1.5 0V8.5H2.75a.75.75 0 010-1.5H7V2.75A.75.75 0 017.75 2z"></path>
</svg>
      </button>
    <span class='blob-code-inner blob-code-marker' data-code-marker="+">1960-11,390</span></td>
</tr>



    <tr data-hunk="ef544bcaf162b7cec0c0c0a85cdbc97381121e64954f3f1a8a88d1f6b419dd31">
    <td class="blob-num blob-num-addition empty-cell"></td>

    <td id="diff-05ec04f9dc9cabd71a0d6907792b0c3b184520e17d87138f9a9956b37bcc5717R145" data-line-number="145"
        class="blob-num blob-num-addition js-linkable-line-number"></td>

  <td class="blob-code blob-code-addition">
      <button class="btn-link add-line-comment js-add-line-comment js-add-single-line-comment"
        data-path="AirPassengers.csv"
        data-anchor="diff-05ec04f9dc9cabd71a0d6907792b0c3b184520e17d87138f9a9956b37bcc5717"
        data-position="145"
        data-side="right"
        data-line="145"
        data-original-line="+1960-12,432"
        type="button"
        aria-label="Add line comment">
        <svg aria-hidden="true" height="16" viewBox="0 0 16 16" version="1.1" width="16" data-view-component="true" class="octicon octicon-plus">
    <path fill-rule="evenodd" d="M7.75 2a.75.75 0 01.75.75V7h4.25a.75.75 0 110 1.5H8.5v4.25a.75.75 0 11-1.5 0V8.5H2.75a.75.75 0 010-1.5H7V2.75A.75.75 0 017.75 2z"></path>
</svg>
      </button>
    <span class='blob-code-inner blob-code-marker' data-code-marker="+">1960-12,432</span></td>
</tr>





          </table>
        </div>

  </div>
</div>

    
<div id="diff-580e5f9310d2727f0b3b081caf02de46e22c9f047f54a3f5efa5ccbe55ba37c6"
     data-details-container-group="file"
     class="file js-file js-details-container js-targetable-element Details
              Details--on open
             
             
             
             
             
              show-inline-notes
           "
          data-file-type=".mp4"
          data-file-deleted="false"
      >
  <div class="file-header d-flex flex-md-row flex-column flex-md-items-center file-header--expandable js-file-header "
    data-path="Demonstration.mp4"
    data-short-path="580e5f9"
    data-anchor="diff-580e5f9310d2727f0b3b081caf02de46e22c9f047f54a3f5efa5ccbe55ba37c6"
    data-file-type=".mp4"
    data-file-deleted="false"
    >
    <div class="file-info flex-auto min-width-0 mb-md-0 mb-2">
      <button type="button" class="btn-octicon js-details-target" aria-label="Toggle diff contents" aria-expanded="true" style="width: 22px;">
  <svg aria-hidden="true" height="16" viewBox="0 0 16 16" version="1.1" width="16" data-view-component="true" class="octicon octicon-chevron-down Details-content--hidden">
    <path fill-rule="evenodd" d="M12.78 6.22a.75.75 0 010 1.06l-4.25 4.25a.75.75 0 01-1.06 0L3.22 7.28a.75.75 0 011.06-1.06L8 9.94l3.72-3.72a.75.75 0 011.06 0z"></path>
</svg>
  <svg aria-hidden="true" height="16" viewBox="0 0 16 16" version="1.1" width="16" data-view-component="true" class="octicon octicon-chevron-right Details-content--shown">
    <path fill-rule="evenodd" d="M6.22 3.22a.75.75 0 011.06 0l4.25 4.25a.75.75 0 010 1.06l-4.25 4.25a.75.75 0 01-1.06-1.06L9.94 8 6.22 4.28a.75.75 0 010-1.06z"></path>
</svg>
</button>




        <span class="diffstat tooltipped tooltipped-e" aria-label="Binary file added">
          BIN
            <span class="color-text-success">
              +11.7 MB

            </span>
        </span>

      
<a title="Demonstration.mp4" class="Link--primary" href="#diff-580e5f9310d2727f0b3b081caf02de46e22c9f047f54a3f5efa5ccbe55ba37c6">Demonstration.mp4</a>

<clipboard-copy
  value="Demonstration.mp4"
  data-copy-feedback="Copied!"
  aria-label="Copy"
  class="js-clipboard-copy zeroclipboard-link color-text-secondary Link--onHover"
  >
  <svg aria-hidden="true" height="16" viewBox="0 0 16 16" version="1.1" width="16" data-view-component="true" class="octicon octicon-paste js-clipboard-clippy-icon d-inline-block mx-1">
    <path fill-rule="evenodd" d="M5.75 1a.75.75 0 00-.75.75v3c0 .414.336.75.75.75h4.5a.75.75 0 00.75-.75v-3a.75.75 0 00-.75-.75h-4.5zm.75 3V2.5h3V4h-3zm-2.874-.467a.75.75 0 00-.752-1.298A1.75 1.75 0 002 3.75v9.5c0 .966.784 1.75 1.75 1.75h8.5A1.75 1.75 0 0014 13.25v-9.5a1.75 1.75 0 00-.874-1.515.75.75 0 10-.752 1.298.25.25 0 01.126.217v9.5a.25.25 0 01-.25.25h-8.5a.25.25 0 01-.25-.25v-9.5a.25.25 0 01.126-.217z"></path>
</svg>
  <svg class="octicon octicon-check js-clipboard-check-icon mx-1 d-inline-block d-none color-text-success" viewBox="0 0 16 16" version="1.1" width="16" height="16" aria-hidden="true"><path fill-rule="evenodd" d="M13.78 4.22a.75.75 0 010 1.06l-7.25 7.25a.75.75 0 01-1.06 0L2.22 9.28a.75.75 0 011.06-1.06L6 10.94l6.72-6.72a.75.75 0 011.06 0z"></path></svg>
</clipboard-copy>


      
    </div>

    <div class="file-actions pt-0 mb-md-0 mb-2 ml-md-2 flex-shrink-0 flex-md-justify-end">
      <div class="d-flex flex-justify-end">










        <details class="js-file-header-dropdown dropdown details-overlay details-reset pr-2 pl-2">
          <summary class="height-full">
            <div class="height-full d-flex flex-items-center Link--secondary">
              <svg aria-label="Show options" role="img" height="16" viewBox="0 0 16 16" version="1.1" width="16" data-view-component="true" class="octicon octicon-kebab-horizontal">
    <path d="M8 9a1.5 1.5 0 100-3 1.5 1.5 0 000 3zM1.5 9a1.5 1.5 0 100-3 1.5 1.5 0 000 3zm13 0a1.5 1.5 0 100-3 1.5 1.5 0 000 3z"></path>
</svg>
            </div>
          </summary>
          <details-menu class="dropdown-menu dropdown-menu-sw show-more-popover color-text-primary position-absolute f5" style="width:185px; z-index:99; right: -4px;">
                          <label role="menuitemradio" class="dropdown-item btn-link text-normal d-block pl-5" tabindex="0" aria-checked="true">
              <span class="position-absolute ml-n4"><svg aria-hidden="true" height="16" viewBox="0 0 16 16" version="1.1" width="16" data-view-component="true" class="octicon octicon-check">
    <path fill-rule="evenodd" d="M13.78 4.22a.75.75 0 010 1.06l-7.25 7.25a.75.75 0 01-1.06 0L2.22 9.28a.75.75 0 011.06-1.06L6 10.94l6.72-6.72a.75.75 0 011.06 0z"></path>
</svg></span>
              <input type="checkbox" checked class="d-none js-toggle-file-notes">
              Show comments
            </label>

                        <div role="none" class="dropdown-divider"></div>

                                <button type="button" disabled role="menuitem" class="pl-5 dropdown-item btn-link" aria-label="You must be signed in and have push access to make changes.">
      Edit file
    </button>


                              <button type="button" disabled role="menuitem" class="pl-5 dropdown-item btn-link" aria-label="You must be signed in and have push access to delete this file.">
    Delete file
  </button>


                        <div role="none" class="dropdown-divider"></div>

              

              
          </details-menu>
        </details>
      </div>
    </div>
  </div>
  <div class="js-file-content Details-content--hidden"
    data-hydro-view="{&quot;event_type&quot;:&quot;pull_request.select_diff_range&quot;,&quot;payload&quot;:{&quot;actor_id&quot;:75787429,&quot;pull_request_id&quot;:null,&quot;repository_id&quot;:null,&quot;diff_type&quot;:&quot;UNIFIED&quot;,&quot;whitespace_ignored&quot;:false,&quot;originating_url&quot;:&quot;https://github.com/smartinternz02/SI-GuidedProject-4420-1626416812/commit/3f3aa00e1cb7c24d92154106977a766106c2adc7&quot;,&quot;user_id&quot;:75787429}}" data-hydro-view-hmac="a28b376e56956f3c13c4d452c558991237c7506dc7115a7558edfecfb4e66dea">
        <div class="data highlight empty">
          Binary file not shown.
        </div>

  </div>
</div>

    
<div id="diff-d90c32369ca7df6fd634f19820ae4e8e61214cda92d76b0584c015049259e737"
     data-details-container-group="file"
     class="file js-file js-details-container js-targetable-element Details
              Details--on open
             
             
             
             
             
              show-inline-notes
           "
          data-file-type=".mp4"
          data-file-deleted="false"
      >
  <div class="file-header d-flex flex-md-row flex-column flex-md-items-center file-header--expandable js-file-header "
    data-path="Feedback.mp4"
    data-short-path="d90c323"
    data-anchor="diff-d90c32369ca7df6fd634f19820ae4e8e61214cda92d76b0584c015049259e737"
    data-file-type=".mp4"
    data-file-deleted="false"
    >
    <div class="file-info flex-auto min-width-0 mb-md-0 mb-2">
      <button type="button" class="btn-octicon js-details-target" aria-label="Toggle diff contents" aria-expanded="true" style="width: 22px;">
  <svg aria-hidden="true" height="16" viewBox="0 0 16 16" version="1.1" width="16" data-view-component="true" class="octicon octicon-chevron-down Details-content--hidden">
    <path fill-rule="evenodd" d="M12.78 6.22a.75.75 0 010 1.06l-4.25 4.25a.75.75 0 01-1.06 0L3.22 7.28a.75.75 0 011.06-1.06L8 9.94l3.72-3.72a.75.75 0 011.06 0z"></path>
</svg>
  <svg aria-hidden="true" height="16" viewBox="0 0 16 16" version="1.1" width="16" data-view-component="true" class="octicon octicon-chevron-right Details-content--shown">
    <path fill-rule="evenodd" d="M6.22 3.22a.75.75 0 011.06 0l4.25 4.25a.75.75 0 010 1.06l-4.25 4.25a.75.75 0 01-1.06-1.06L9.94 8 6.22 4.28a.75.75 0 010-1.06z"></path>
</svg>
</button>




        <span class="diffstat tooltipped tooltipped-e" aria-label="Binary file added">
          BIN
            <span class="color-text-success">
              +1.09 MB

            </span>
        </span>

      
<a title="Feedback.mp4" class="Link--primary" href="#diff-d90c32369ca7df6fd634f19820ae4e8e61214cda92d76b0584c015049259e737">Feedback.mp4</a>

<clipboard-copy
  value="Feedback.mp4"
  data-copy-feedback="Copied!"
  aria-label="Copy"
  class="js-clipboard-copy zeroclipboard-link color-text-secondary Link--onHover"
  >
  <svg aria-hidden="true" height="16" viewBox="0 0 16 16" version="1.1" width="16" data-view-component="true" class="octicon octicon-paste js-clipboard-clippy-icon d-inline-block mx-1">
    <path fill-rule="evenodd" d="M5.75 1a.75.75 0 00-.75.75v3c0 .414.336.75.75.75h4.5a.75.75 0 00.75-.75v-3a.75.75 0 00-.75-.75h-4.5zm.75 3V2.5h3V4h-3zm-2.874-.467a.75.75 0 00-.752-1.298A1.75 1.75 0 002 3.75v9.5c0 .966.784 1.75 1.75 1.75h8.5A1.75 1.75 0 0014 13.25v-9.5a1.75 1.75 0 00-.874-1.515.75.75 0 10-.752 1.298.25.25 0 01.126.217v9.5a.25.25 0 01-.25.25h-8.5a.25.25 0 01-.25-.25v-9.5a.25.25 0 01.126-.217z"></path>
</svg>
  <svg class="octicon octicon-check js-clipboard-check-icon mx-1 d-inline-block d-none color-text-success" viewBox="0 0 16 16" version="1.1" width="16" height="16" aria-hidden="true"><path fill-rule="evenodd" d="M13.78 4.22a.75.75 0 010 1.06l-7.25 7.25a.75.75 0 01-1.06 0L2.22 9.28a.75.75 0 011.06-1.06L6 10.94l6.72-6.72a.75.75 0 011.06 0z"></path></svg>
</clipboard-copy>


      
    </div>

    <div class="file-actions pt-0 mb-md-0 mb-2 ml-md-2 flex-shrink-0 flex-md-justify-end">
      <div class="d-flex flex-justify-end">










        <details class="js-file-header-dropdown dropdown details-overlay details-reset pr-2 pl-2">
          <summary class="height-full">
            <div class="height-full d-flex flex-items-center Link--secondary">
              <svg aria-label="Show options" role="img" height="16" viewBox="0 0 16 16" version="1.1" width="16" data-view-component="true" class="octicon octicon-kebab-horizontal">
    <path d="M8 9a1.5 1.5 0 100-3 1.5 1.5 0 000 3zM1.5 9a1.5 1.5 0 100-3 1.5 1.5 0 000 3zm13 0a1.5 1.5 0 100-3 1.5 1.5 0 000 3z"></path>
</svg>
            </div>
          </summary>
          <details-menu class="dropdown-menu dropdown-menu-sw show-more-popover color-text-primary position-absolute f5" style="width:185px; z-index:99; right: -4px;">
                          <label role="menuitemradio" class="dropdown-item btn-link text-normal d-block pl-5" tabindex="0" aria-checked="true">
              <span class="position-absolute ml-n4"><svg aria-hidden="true" height="16" viewBox="0 0 16 16" version="1.1" width="16" data-view-component="true" class="octicon octicon-check">
    <path fill-rule="evenodd" d="M13.78 4.22a.75.75 0 010 1.06l-7.25 7.25a.75.75 0 01-1.06 0L2.22 9.28a.75.75 0 011.06-1.06L6 10.94l6.72-6.72a.75.75 0 011.06 0z"></path>
</svg></span>
              <input type="checkbox" checked class="d-none js-toggle-file-notes">
              Show comments
            </label>

                        <div role="none" class="dropdown-divider"></div>

                                <button type="button" disabled role="menuitem" class="pl-5 dropdown-item btn-link" aria-label="You must be signed in and have push access to make changes.">
      Edit file
    </button>


                              <button type="button" disabled role="menuitem" class="pl-5 dropdown-item btn-link" aria-label="You must be signed in and have push access to delete this file.">
    Delete file
  </button>


                        <div role="none" class="dropdown-divider"></div>

              

              
          </details-menu>
        </details>
      </div>
    </div>
  </div>
  <div class="js-file-content Details-content--hidden"
    data-hydro-view="{&quot;event_type&quot;:&quot;pull_request.select_diff_range&quot;,&quot;payload&quot;:{&quot;actor_id&quot;:75787429,&quot;pull_request_id&quot;:null,&quot;repository_id&quot;:null,&quot;diff_type&quot;:&quot;UNIFIED&quot;,&quot;whitespace_ignored&quot;:false,&quot;originating_url&quot;:&quot;https://github.com/smartinternz02/SI-GuidedProject-4420-1626416812/commit/3f3aa00e1cb7c24d92154106977a766106c2adc7&quot;,&quot;user_id&quot;:75787429}}" data-hydro-view-hmac="a28b376e56956f3c13c4d452c558991237c7506dc7115a7558edfecfb4e66dea">
        <div class="data highlight empty">
          Binary file not shown.
        </div>

  </div>
</div>

  </div>

    <div class="js-diff-progressive-container">
  <include-fragment src="/smartinternz02/SI-GuidedProject-4420-1626416812/diffs?bytes=1908&amp;commentable=true&amp;commit=3f3aa00e1cb7c24d92154106977a766106c2adc7&amp;lines=146&amp;responsive=true&amp;sha2=3f3aa00e1cb7c24d92154106977a766106c2adc7&amp;start_entry=3&amp;sticky=false" class="diff-progressive-loader js-diff-progressive-loader mb-4 d-flex flex-items-center flex-justify-center">
    <svg data-hide-on-error="true" style="box-sizing: content-box; color: var(--color-icon-primary);" width="32" height="32" viewBox="0 0 16 16" fill="none" data-view-component="true" class="anim-rotate">
  <circle cx="8" cy="8" r="7" stroke="currentColor" stroke-opacity="0.25" stroke-width="2" vector-effect="non-scaling-stroke" />
  <path d="M15 8a7.002 7.002 0 00-7-7" stroke="currentColor" stroke-width="2" stroke-linecap="round" vector-effect="non-scaling-stroke" />
</svg>

    <div data-show-on-error hidden>
      <svg class="octicon octicon-alert color-text-danger mr-1" viewBox="0 0 16 16" version="1.1" width="16" height="16" aria-hidden="true"><path fill-rule="evenodd" d="M8.22 1.754a.25.25 0 00-.44 0L1.698 13.132a.25.25 0 00.22.368h12.164a.25.25 0 00.22-.368L8.22 1.754zm-1.763-.707c.659-1.234 2.427-1.234 3.086 0l6.082 11.378A1.75 1.75 0 0114.082 15H1.918a1.75 1.75 0 01-1.543-2.575L6.457 1.047zM9 11a1 1 0 11-2 0 1 1 0 012 0zm-.25-5.25a.75.75 0 00-1.5 0v2.5a.75.75 0 001.5 0v-2.5z"></path></svg>
      Oops, something went wrong.
      <button data-retry-button="" type="button" data-view-component="true" class="btn-link">
  
  Retry
  

</button>
    </div>
  </include-fragment>
</div>


</div>

<button type="button" class="js-toggle-all-file-notes" data-hotkey="i" style="display:none">Toggle all file notes</button>

<button type="button" class="js-toggle-all-file-annotations" data-hotkey="a" style="display:none">Toggle all file annotations</button>

<svg aria-hidden="true" width="320px" height="84px" viewBox="0 0 340 84" version="1.1"
  xmlns="http://www.w3.org/2000/svg"
  xmlns:xlink="http://www.w3.org/1999/xlink"
  class="diff-placeholder-svg position-absolute bottom-0">
  <defs>
    <clippath id="diff-placeholder">
      <rect x="0" y="0" width="67.0175439" height="11.9298746" rx="2"></rect>
      <rect x="18.9473684" y="47.7194983" width="100.701754" height="11.9298746" rx="2"></rect>
      <rect x="0" y="71.930126" width="37.8947368" height="11.9298746" rx="2"></rect>
      <rect x="127.017544" y="48.0703769" width="53.3333333" height="11.9298746" rx="2"></rect>
      <rect x="187.719298" y="48.0703769" width="72.9824561" height="11.9298746" rx="2"></rect>
      <rect x="76.8421053" y="0" width="140.350877" height="11.9298746" rx="2"></rect>
      <rect x="17.8947368" y="23.8597491" width="140.350877" height="11.9298746" rx="2"></rect>
      <rect x="166.315789" y="23.8597491" width="173.684211" height="11.9298746" rx="2"></rect>
    </clippath>

    <linearGradient id="animated-diff-gradient" x1="0" x2="0" y1="0" y2="1" spreadMethod="reflect">
      <stop offset="0" stop-color="#eee"></stop>
      <stop offset="0.2" stop-color="#eee"></stop>
      <stop offset="0.5" stop-color="#ddd"></stop>
      <stop offset="0.8" stop-color="#eee"></stop>
      <stop offset="1" stop-color="#eee"></stop>
      <animateTransform attributeName="y1" values="0%; 100%; 0" dur="1s" repeatCount="3"></animateTransform>
      <animateTransform attributeName="y2" values="100%; 200%; 0" dur="1s" repeatCount="3"></animateTransform>
    </linearGradient>
  </defs>
</svg>



<div id="all_commit_comments" class="js-quote-selection-container" data-quote-markdown=".js-comment-body">

  <div class="mb-1 mb-md-3">
    
<div id="partial-visible-comments-header" class="d-flex flex-items-center flex-column-reverse flex-md-row">
  <h4 class="flex-auto text-md-left text-center">
    0 comments
    on commit <code class="commit-sha">3f3aa00</code>
  </h4>

  <div class="flex-shrink-0 mb-2 mb-md-0">
    
  </div>
</div>

  </div>

  <div id="comments" class="comment-holder ml-0 pl-0 ml-md-6 pl-md-3">
    


  <!-- Rendered timeline since 2021-08-13 08:11:22 -->
  <div id="partial-timeline-marker"
        class="js-timeline-marker js-socket-channel js-updatable-content"
        data-channel="eyJjIjoicmVwbzozODY1MzMzNzA6Y29tbWl0OjNmM2FhMDBlMWNiN2MyNGQ5MjE1NDEwNjk3N2E3NjYxMDZjMmFkYzciLCJ0IjoxNjI5Mjk5MzMyfQ==--16b6d02ca8743b49f465859034ad1be1aa6a9da23f6bf3403cd255f6ff4322b1"
        data-url="/smartinternz02/SI-GuidedProject-4420-1626416812/commit/3f3aa00e1cb7c24d92154106977a766106c2adc7/show_partial?partial=commit%2Ftimeline_marker&amp;since=1628867482"
        data-last-modified="Fri, 13 Aug 2021 15:11:22 GMT">

  </div>

  </div>

  

  
  <div class="timeline-comment-wrapper timeline-new-comment js-comment-container ml-0 pl-0 ml-md-6 pl-md-3 ">
    <div class="d-none d-md-block">
      <span class="timeline-comment-avatar "><a class="d-inline-block" data-hovercard-type="user" data-hovercard-url="/users/KRP000921/hovercard" data-octo-click="hovercard-link-click" data-octo-dimensions="link_type:self" href="/KRP000921"><img class="avatar avatar-user" src="https://avatars.githubusercontent.com/u/75787429?s=80&amp;v=4" width="40" height="40" alt="@KRP000921" /></a></span>
    </div>

    <!-- '"` --><!-- </textarea></xmp> --></option></form><form class="js-new-comment-form js-needs-timeline-marker-header" action="/smartinternz02/SI-GuidedProject-4420-1626416812/commit_comment/create" accept-charset="UTF-8" method="post"><input type="hidden" name="authenticity_token" value="eyrWYdmPnBd2QgRWYqqWl0DyWnL8/L8i+LOjI1NqCAYgsIG3jqxYnZBBZcrYMI8iu/HVU0vaQVln2bIEFuucng==" />
      <input type="text" name="required_field_3ab8" hidden="hidden" class="form-control" /><input type="hidden" name="timestamp" value="1629299332177" class="form-control" /><input type="hidden" name="timestamp_secret" value="806aa6e63356d54a6c26a00c17b9a31d1c895cdd64ad81847221bdc38f6618d1" class="form-control" />
      <div class="border-0 border-md timeline-comment">
          <input type='hidden' name='commit_id' value='3f3aa00e1cb7c24d92154106977a766106c2adc7'>
          <input type='hidden' name='path' value=''>
            <tab-container class="js-previewable-comment-form previewable-comment-form write-selected" data-preview-url="/preview?markdown_unsupported=false&amp;repository=386533370&amp;subject=3f3aa00e1cb7c24d92154106977a766106c2adc7&amp;subject_type=Commit">
  <input type="hidden" value="dNhIWuFJqoIh+q5sWCgCEepkNcNwPYLkpAfoZFfQB28Ce+I/S3TMszT5/jeNgB2n6fVPId3t4Xf0w/b6ArIQRg==" data-csrf="true" class="js-data-preview-url-csrf" />
  <div
    class="comment-form-head tabnav d-flex flex-justify-between mb-2 p-0 tabnav--responsive flex-column border-bottom-0 mb-0 mb-lg-2 flex-items-stretch border-lg-bottom color-border-primary flex-lg-items-center flex-lg-row"
  >
      <div
        class="tabnav-tabs mx-0 mx-md-2 mt-0 mt-md-2 no-wrap d-flex flex-auto d-md-block"
        role="tablist"
      >
        <button
          type="button"
          class="btn-link tabnav-tab write-tab js-write-tab px-3 px-sm-6 px-md-3 flex-1 flex-md-auto"
          role="tab"
          aria-selected="true"
        >
          Write
        </button>
        <button
          type="button"
          class="btn-link tabnav-tab preview-tab js-preview-tab flex-1 flex-md-auto"
          role="tab"
        >
          Preview
        </button>
      </div>
    <markdown-toolbar role="toolbar" aria-label="Composition" for="new_commit_comment_field" data-view-component="true" class="js-details-container Details toolbar-commenting no-wrap border-md-top border-lg-top-0 d-flex px-2 pt-2 pt-lg-0 flex-items-start flex-wrap">
    <div class="d-block d-md-none flex-auto">
      <button data-md-button tabindex="-1" type="button" aria-label="Toggle text tools" aria-expanded="false" class="js-details-target btn-link toolbar-item no-underline py-2 mr-1">
        <svg aria-hidden="true" height="16" viewBox="0 0 16 16" version="1.1" width="16" data-view-component="true" class="octicon octicon-typography">
    <path fill-rule="evenodd" d="M6.21 8.5L4.574 3.594 2.857 8.5H6.21zm.5 1.5l.829 2.487a.75.75 0 001.423-.474L5.735 2.332a1.216 1.216 0 00-2.302-.018l-3.39 9.688a.75.75 0 001.415.496L2.332 10H6.71zm3.13-4.358C10.53 4.374 11.87 4 13 4c1.5 0 3 .939 3 2.601v5.649a.75.75 0 01-1.448.275C13.995 12.82 13.3 13 12.5 13c-.77 0-1.514-.231-2.078-.709-.577-.488-.922-1.199-.922-2.041 0-.694.265-1.411.887-1.944C11 7.78 11.88 7.5 13 7.5h1.5v-.899c0-.54-.5-1.101-1.5-1.101-.869 0-1.528.282-1.84.858a.75.75 0 11-1.32-.716zM14.5 9H13c-.881 0-1.375.22-1.637.444-.253.217-.363.5-.363.806 0 .408.155.697.39.896.249.21.63.354 1.11.354.732 0 1.26-.209 1.588-.449.35-.257.412-.495.412-.551V9z"></path>
</svg>
        <svg aria-hidden="true" height="16" viewBox="0 0 16 16" version="1.1" width="16" data-view-component="true" class="octicon octicon-chevron-up Details-content--shown">
    <path fill-rule="evenodd" d="M3.22 9.78a.75.75 0 010-1.06l4.25-4.25a.75.75 0 011.06 0l4.25 4.25a.75.75 0 01-1.06 1.06L8 6.06 4.28 9.78a.75.75 0 01-1.06 0z"></path>
</svg>
        <svg aria-hidden="true" height="16" viewBox="0 0 16 16" version="1.1" width="16" data-view-component="true" class="octicon octicon-chevron-down Details-content--hidden">
    <path fill-rule="evenodd" d="M12.78 6.22a.75.75 0 010 1.06l-4.25 4.25a.75.75 0 01-1.06 0L3.22 7.28a.75.75 0 011.06-1.06L8 9.94l3.72-3.72a.75.75 0 011.06 0z"></path>
</svg>
      </button>
    </div>

  
    <div class="flex-nowrap d-none d-md-inline-block mr-3">
      <md-header tabindex="-1" class="toolbar-item tooltipped tooltipped-sw mx-1" aria-label="Add header text" data-ga-click="Markdown Toolbar, click, header">
        <!-- BEGIN vendor/gems/2.7.1/ruby/2.7.0/gems/primer_view_components-0.0.51/app/components/primer/octicon_component.rb --><svg aria-hidden="true" height="16" viewBox="0 0 16 16" version="1.1" width="16" data-view-component="true" class="octicon octicon-heading">
    <path fill-rule="evenodd" d="M3.75 2a.75.75 0 01.75.75V7h7V2.75a.75.75 0 011.5 0v10.5a.75.75 0 01-1.5 0V8.5h-7v4.75a.75.75 0 01-1.5 0V2.75A.75.75 0 013.75 2z"></path>
</svg><!-- END vendor/gems/2.7.1/ruby/2.7.0/gems/primer_view_components-0.0.51/app/components/primer/octicon_component.rb -->
      </md-header>

      <md-bold tabindex="-1" class="toolbar-item tooltipped tooltipped-sw mx-1 js-modifier-label-key" aria-label="Add bold text <ctrl+b>" data-ga-click="Markdown Toolbar, click, bold">
        <!-- BEGIN vendor/gems/2.7.1/ruby/2.7.0/gems/primer_view_components-0.0.51/app/components/primer/octicon_component.rb --><svg aria-hidden="true" height="16" viewBox="0 0 16 16" version="1.1" width="16" data-view-component="true" class="octicon octicon-bold">
    <path fill-rule="evenodd" d="M4 2a1 1 0 00-1 1v10a1 1 0 001 1h5.5a3.5 3.5 0 001.852-6.47A3.5 3.5 0 008.5 2H4zm4.5 5a1.5 1.5 0 100-3H5v3h3.5zM5 9v3h4.5a1.5 1.5 0 000-3H5z"></path>
</svg><!-- END vendor/gems/2.7.1/ruby/2.7.0/gems/primer_view_components-0.0.51/app/components/primer/octicon_component.rb -->
      </md-bold>

      <md-italic tabindex="-1" class="toolbar-item tooltipped tooltipped-sw mx-1 js-modifier-label-key" aria-label="Add italic text <ctrl+i>" data-ga-click="Markdown Toolbar, click, italic">
        <!-- BEGIN vendor/gems/2.7.1/ruby/2.7.0/gems/primer_view_components-0.0.51/app/components/primer/octicon_component.rb --><svg aria-hidden="true" height="16" viewBox="0 0 16 16" version="1.1" width="16" data-view-component="true" class="octicon octicon-italic">
    <path fill-rule="evenodd" d="M6 2.75A.75.75 0 016.75 2h6.5a.75.75 0 010 1.5h-2.505l-3.858 9H9.25a.75.75 0 010 1.5h-6.5a.75.75 0 010-1.5h2.505l3.858-9H6.75A.75.75 0 016 2.75z"></path>
</svg><!-- END vendor/gems/2.7.1/ruby/2.7.0/gems/primer_view_components-0.0.51/app/components/primer/octicon_component.rb -->
      </md-italic>
    </div>

    <div class="d-flex d-md-inline-block mr-0 mr-md-3">
      <md-quote tabindex="-1" class="toolbar-item tooltipped tooltipped-sw p-2 p-md-1 mx-1" aria-label="Insert a quote" data-ga-click="Markdown Toolbar, click, quote">
        <!-- BEGIN vendor/gems/2.7.1/ruby/2.7.0/gems/primer_view_components-0.0.51/app/components/primer/octicon_component.rb --><svg aria-hidden="true" height="16" viewBox="0 0 16 16" version="1.1" width="16" data-view-component="true" class="octicon octicon-quote">
    <path fill-rule="evenodd" d="M1.75 2.5a.75.75 0 000 1.5h10.5a.75.75 0 000-1.5H1.75zm4 5a.75.75 0 000 1.5h8.5a.75.75 0 000-1.5h-8.5zm0 5a.75.75 0 000 1.5h8.5a.75.75 0 000-1.5h-8.5zM2.5 7.75a.75.75 0 00-1.5 0v6a.75.75 0 001.5 0v-6z"></path>
</svg><!-- END vendor/gems/2.7.1/ruby/2.7.0/gems/primer_view_components-0.0.51/app/components/primer/octicon_component.rb -->
      </md-quote>

      <md-code tabindex="-1" class="toolbar-item tooltipped tooltipped-sw js-modifier-label-key p-2 p-md-1 mx-1" aria-label="Insert code <ctrl+e>" data-ga-click="Markdown Toolbar, click, code">
        <!-- BEGIN vendor/gems/2.7.1/ruby/2.7.0/gems/primer_view_components-0.0.51/app/components/primer/octicon_component.rb --><svg aria-hidden="true" height="16" viewBox="0 0 16 16" version="1.1" width="16" data-view-component="true" class="octicon octicon-code">
    <path fill-rule="evenodd" d="M4.72 3.22a.75.75 0 011.06 1.06L2.06 8l3.72 3.72a.75.75 0 11-1.06 1.06L.47 8.53a.75.75 0 010-1.06l4.25-4.25zm6.56 0a.75.75 0 10-1.06 1.06L13.94 8l-3.72 3.72a.75.75 0 101.06 1.06l4.25-4.25a.75.75 0 000-1.06l-4.25-4.25z"></path>
</svg><!-- END vendor/gems/2.7.1/ruby/2.7.0/gems/primer_view_components-0.0.51/app/components/primer/octicon_component.rb -->
      </md-code>

        <button type="button" data-md-button tabindex="-1" class="toolbar-item text-center menu-target p-2 mx-1 d-md-none js-markdown-link-button" aria-label="Add a link" data-ga-click="Markdown Toolbar, click, saved reply">
          <!-- BEGIN vendor/gems/2.7.1/ruby/2.7.0/gems/primer_view_components-0.0.51/app/components/primer/octicon_component.rb --><svg aria-hidden="true" height="16" viewBox="0 0 16 16" version="1.1" width="16" data-view-component="true" class="octicon octicon-link">
    <path fill-rule="evenodd" d="M7.775 3.275a.75.75 0 001.06 1.06l1.25-1.25a2 2 0 112.83 2.83l-2.5 2.5a2 2 0 01-2.83 0 .75.75 0 00-1.06 1.06 3.5 3.5 0 004.95 0l2.5-2.5a3.5 3.5 0 00-4.95-4.95l-1.25 1.25zm-4.69 9.64a2 2 0 010-2.83l2.5-2.5a2 2 0 012.83 0 .75.75 0 001.06-1.06 3.5 3.5 0 00-4.95 0l-2.5 2.5a3.5 3.5 0 004.95 4.95l1.25-1.25a.75.75 0 00-1.06-1.06l-1.25 1.25a2 2 0 01-2.83 0z"></path>
</svg><!-- END vendor/gems/2.7.1/ruby/2.7.0/gems/primer_view_components-0.0.51/app/components/primer/octicon_component.rb -->
        </button>
    <template class="js-markdown-link-dialog">
      <div class="Box-header">
        <h3 class="Box-title">Insert Link</h3>
      </div>
      <div class="Box-body overflow-auto">
        <div>
          <label class="d-block mb-1" for="js-dialog-link-text">Link Text</label>
          <input type="text" class="mb-3 form-control input-block" id="js-dialog-link-text" autofocus>
        </div>
        <div>
          <label class="d-block mb-1" for="js-dialog-link-href">URL</label>
          <input type="url" class="mb-3 form-control input-block" id="js-dialog-link-href">
        </div>
        <div class="pt-3 border-top">
          <button
            type="button"
            class="btn btn-primary btn-block js-markdown-link-insert"
            data-close-dialog
            data-for-textarea="new_commit_comment_field"
          >
            Add
          </button>
        </div>
      </div>
    </template>

    <md-link tabindex="-1" class="toolbar-item tooltipped tooltipped-sw p-2 p-md-1 d-none d-md-block mx-1 js-modifier-label-key" aria-label="Add a link <ctrl+k>" data-ga-click="Markdown Toolbar, click, link">
      <!-- BEGIN vendor/gems/2.7.1/ruby/2.7.0/gems/primer_view_components-0.0.51/app/components/primer/octicon_component.rb --><svg aria-hidden="true" height="16" viewBox="0 0 16 16" version="1.1" width="16" data-view-component="true" class="octicon octicon-link">
    <path fill-rule="evenodd" d="M7.775 3.275a.75.75 0 001.06 1.06l1.25-1.25a2 2 0 112.83 2.83l-2.5 2.5a2 2 0 01-2.83 0 .75.75 0 00-1.06 1.06 3.5 3.5 0 004.95 0l2.5-2.5a3.5 3.5 0 00-4.95-4.95l-1.25 1.25zm-4.69 9.64a2 2 0 010-2.83l2.5-2.5a2 2 0 012.83 0 .75.75 0 001.06-1.06 3.5 3.5 0 00-4.95 0l-2.5 2.5a3.5 3.5 0 004.95 4.95l1.25-1.25a.75.75 0 00-1.06-1.06l-1.25 1.25a2 2 0 01-2.83 0z"></path>
</svg><!-- END vendor/gems/2.7.1/ruby/2.7.0/gems/primer_view_components-0.0.51/app/components/primer/octicon_component.rb -->
    </md-link>
    </div>

  <div class="d-none d-md-inline-block mr-3">
      <md-unordered-list tabindex="-1" class="toolbar-item tooltipped tooltipped-sw mx-1" aria-label="Add a bulleted list" data-ga-click="Markdown Toolbar, click, unordered list">
        <!-- BEGIN vendor/gems/2.7.1/ruby/2.7.0/gems/primer_view_components-0.0.51/app/components/primer/octicon_component.rb --><svg aria-hidden="true" height="16" viewBox="0 0 16 16" version="1.1" width="16" data-view-component="true" class="octicon octicon-list-unordered">
    <path fill-rule="evenodd" d="M2 4a1 1 0 100-2 1 1 0 000 2zm3.75-1.5a.75.75 0 000 1.5h8.5a.75.75 0 000-1.5h-8.5zm0 5a.75.75 0 000 1.5h8.5a.75.75 0 000-1.5h-8.5zm0 5a.75.75 0 000 1.5h8.5a.75.75 0 000-1.5h-8.5zM3 8a1 1 0 11-2 0 1 1 0 012 0zm-1 6a1 1 0 100-2 1 1 0 000 2z"></path>
</svg><!-- END vendor/gems/2.7.1/ruby/2.7.0/gems/primer_view_components-0.0.51/app/components/primer/octicon_component.rb -->
      </md-unordered-list>

      <md-ordered-list tabindex="-1" class="toolbar-item tooltipped tooltipped-sw mx-1" aria-label="Add a numbered list" data-ga-click="Markdown Toolbar, click, ordered list">
        <!-- BEGIN vendor/gems/2.7.1/ruby/2.7.0/gems/primer_view_components-0.0.51/app/components/primer/octicon_component.rb --><svg aria-hidden="true" height="16" viewBox="0 0 16 16" version="1.1" width="16" data-view-component="true" class="octicon octicon-list-ordered">
    <path fill-rule="evenodd" d="M2.003 2.5a.5.5 0 00-.723-.447l-1.003.5a.5.5 0 00.446.895l.28-.14V6H.5a.5.5 0 000 1h2.006a.5.5 0 100-1h-.503V2.5zM5 3.25a.75.75 0 01.75-.75h8.5a.75.75 0 010 1.5h-8.5A.75.75 0 015 3.25zm0 5a.75.75 0 01.75-.75h8.5a.75.75 0 010 1.5h-8.5A.75.75 0 015 8.25zm0 5a.75.75 0 01.75-.75h8.5a.75.75 0 010 1.5h-8.5a.75.75 0 01-.75-.75zM.924 10.32l.003-.004a.851.851 0 01.144-.153A.66.66 0 011.5 10c.195 0 .306.068.374.146a.57.57 0 01.128.376c0 .453-.269.682-.8 1.078l-.035.025C.692 11.98 0 12.495 0 13.5a.5.5 0 00.5.5h2.003a.5.5 0 000-1H1.146c.132-.197.351-.372.654-.597l.047-.035c.47-.35 1.156-.858 1.156-1.845 0-.365-.118-.744-.377-1.038-.268-.303-.658-.484-1.126-.484-.48 0-.84.202-1.068.392a1.858 1.858 0 00-.348.384l-.007.011-.002.004-.001.002-.001.001a.5.5 0 00.851.525zM.5 10.055l-.427-.26.427.26z"></path>
</svg><!-- END vendor/gems/2.7.1/ruby/2.7.0/gems/primer_view_components-0.0.51/app/components/primer/octicon_component.rb -->
      </md-ordered-list>

      <md-task-list tabindex="-1" class="toolbar-item tooltipped tooltipped-sw mx-1" aria-label="Add a task list" data-ga-click="Markdown Toolbar, click, task list">
        <!-- BEGIN vendor/gems/2.7.1/ruby/2.7.0/gems/primer_view_components-0.0.51/app/components/primer/octicon_component.rb --><svg aria-hidden="true" height="16" viewBox="0 0 16 16" version="1.1" width="16" data-view-component="true" class="octicon octicon-tasklist">
    <path fill-rule="evenodd" d="M2.5 2.75a.25.25 0 01.25-.25h10.5a.25.25 0 01.25.25v10.5a.25.25 0 01-.25.25H2.75a.25.25 0 01-.25-.25V2.75zM2.75 1A1.75 1.75 0 001 2.75v10.5c0 .966.784 1.75 1.75 1.75h10.5A1.75 1.75 0 0015 13.25V2.75A1.75 1.75 0 0013.25 1H2.75zm9.03 5.28a.75.75 0 00-1.06-1.06L6.75 9.19 5.28 7.72a.75.75 0 00-1.06 1.06l2 2a.75.75 0 001.06 0l4.5-4.5z"></path>
</svg><!-- END vendor/gems/2.7.1/ruby/2.7.0/gems/primer_view_components-0.0.51/app/components/primer/octicon_component.rb -->
      </md-task-list>
      </div>

          <div  class="d-flex d-xs-inline-block">
          <md-mention tabindex="-1" class="flex-auto text-center toolbar-item tooltipped tooltipped-sw p-2 p-md-1 mx-1" aria-label="Directly mention a user or team" data-ga-click="Markdown Toolbar, click, mention">
            <svg aria-hidden="true" height="16" viewBox="0 0 16 16" version="1.1" width="16" data-view-component="true" class="octicon octicon-mention">
    <path fill-rule="evenodd" d="M4.75 2.37a6.5 6.5 0 006.5 11.26.75.75 0 01.75 1.298 8 8 0 113.994-7.273.754.754 0 01.006.095v1.5a2.75 2.75 0 01-5.072 1.475A4 4 0 1112 8v1.25a1.25 1.25 0 002.5 0V7.867a6.5 6.5 0 00-9.75-5.496V2.37zM10.5 8a2.5 2.5 0 10-5 0 2.5 2.5 0 005 0z"></path>
</svg>
          </md-mention>

          <label for="fc-new_commit_comment_field" data-md-button tabindex="-1"  class="d-block d-md-none btn-link flex-auto text-center toolbar-item tooltipped tooltipped-sw p-2 mx-1" aria-label="Attach an image or video">
            <svg aria-hidden="true" height="16" viewBox="0 0 16 16" version="1.1" width="16" data-view-component="true" class="octicon octicon-image">
    <path fill-rule="evenodd" d="M1.75 2.5a.25.25 0 00-.25.25v10.5c0 .138.112.25.25.25h.94a.76.76 0 01.03-.03l6.077-6.078a1.75 1.75 0 012.412-.06L14.5 10.31V2.75a.25.25 0 00-.25-.25H1.75zm12.5 11H4.81l5.048-5.047a.25.25 0 01.344-.009l4.298 3.889v.917a.25.25 0 01-.25.25zm1.75-.25V2.75A1.75 1.75 0 0014.25 1H1.75A1.75 1.75 0 000 2.75v10.5C0 14.216.784 15 1.75 15h12.5A1.75 1.75 0 0016 13.25zM5.5 6a.5.5 0 11-1 0 .5.5 0 011 0zM7 6a2 2 0 11-4 0 2 2 0 014 0z"></path>
</svg>
          </label>

          <md-ref tabindex="-1" class="flex-auto text-center toolbar-item tooltipped tooltipped-sw p-2 p-md-1 mx-1" aria-label="Reference an issue, pull request, or discussion" data-ga-click="Markdown Toolbar, click, reference">
            <svg aria-hidden="true" height="16" viewBox="0 0 16 16" version="1.1" width="16" data-view-component="true" class="octicon octicon-cross-reference">
    <path fill-rule="evenodd" d="M16 1.25v4.146a.25.25 0 01-.427.177L14.03 4.03l-3.75 3.75a.75.75 0 11-1.06-1.06l3.75-3.75-1.543-1.543A.25.25 0 0111.604 1h4.146a.25.25 0 01.25.25zM2.75 3.5a.25.25 0 00-.25.25v7.5c0 .138.112.25.25.25h2a.75.75 0 01.75.75v2.19l2.72-2.72a.75.75 0 01.53-.22h4.5a.25.25 0 00.25-.25v-2.5a.75.75 0 111.5 0v2.5A1.75 1.75 0 0113.25 13H9.06l-2.573 2.573A1.457 1.457 0 014 14.543V13H2.75A1.75 1.75 0 011 11.25v-7.5C1 2.784 1.784 2 2.75 2h5.5a.75.75 0 010 1.5h-5.5z"></path>
</svg>
          </md-ref>

          <details class="details-reset details-overlay flex-auto toolbar-item select-menu select-menu-modal-right js-saved-reply-container hx_rsm" tabindex="-1">
  <summary data-md-button tabindex="-1" class="text-center tooltipped tooltipped-sw menu-target py-2 p-md-1 hx_rsm-trigger ml-1" aria-label="Insert a reply" data-ga-click="Markdown Toolbar, click, saved reply">
    <svg aria-hidden="true" height="16" viewBox="0 0 16 16" version="1.1" width="16" data-view-component="true" class="octicon octicon-reply">
    <path fill-rule="evenodd" d="M6.78 1.97a.75.75 0 010 1.06L3.81 6h6.44A4.75 4.75 0 0115 10.75v2.5a.75.75 0 01-1.5 0v-2.5a3.25 3.25 0 00-3.25-3.25H3.81l2.97 2.97a.75.75 0 11-1.06 1.06L1.47 7.28a.75.75 0 010-1.06l4.25-4.25a.75.75 0 011.06 0z"></path>
</svg>
    <span class="dropdown-caret hide-sm"></span>
  </summary>

  <details-menu
    style="z-index: 99;"
    class="select-menu-modal position-absolute right-0 js-saved-reply-menu hx_rsm-modal"
    data-menu-input="new_commit_comment_field_saved_reply_id"
    src="/settings/replies?context=none" preload>
    <div class="select-menu-header d-flex">
      <span class="select-menu-title flex-auto">Select a reply</span>
      <code><span class="border rounded p-1 mr-2">ctrl .</span></code>
    </div>

    <include-fragment role="menuitem" aria-label="Loading">
      <svg style="box-sizing: content-box; color: var(--color-icon-primary);" width="32" height="32" viewBox="0 0 16 16" fill="none" data-view-component="true" class="my-6 mx-auto d-block anim-rotate">
  <circle cx="8" cy="8" r="7" stroke="currentColor" stroke-opacity="0.25" stroke-width="2" vector-effect="non-scaling-stroke" />
  <path d="M15 8a7.002 7.002 0 00-7-7" stroke="currentColor" stroke-width="2" stroke-linecap="round" vector-effect="non-scaling-stroke" />
</svg>
    </include-fragment>

  </details-menu>
</details>


      </div>


        <div class="Details-content--hidden d-block d-md-none width-full">
          <md-header tabindex="-1" class="toolbar-item tooltipped tooltipped-sw py-2 pr-2 pl-1 mr-1" aria-label="Add header text" data-ga-click="Markdown Toolbar, click, header">
            <!-- BEGIN vendor/gems/2.7.1/ruby/2.7.0/gems/primer_view_components-0.0.51/app/components/primer/octicon_component.rb --><svg aria-hidden="true" height="16" viewBox="0 0 16 16" version="1.1" width="16" data-view-component="true" class="octicon octicon-heading">
    <path fill-rule="evenodd" d="M3.75 2a.75.75 0 01.75.75V7h7V2.75a.75.75 0 011.5 0v10.5a.75.75 0 01-1.5 0V8.5h-7v4.75a.75.75 0 01-1.5 0V2.75A.75.75 0 013.75 2z"></path>
</svg><!-- END vendor/gems/2.7.1/ruby/2.7.0/gems/primer_view_components-0.0.51/app/components/primer/octicon_component.rb -->
          </md-header>

          <md-bold tabindex="-1" class="toolbar-item tooltipped tooltipped-sw p-2 mx-1 js-modifier-label-key" aria-label="Add bold text <ctrl+b>" data-ga-click="Markdown Toolbar, click, bold">
            <!-- BEGIN vendor/gems/2.7.1/ruby/2.7.0/gems/primer_view_components-0.0.51/app/components/primer/octicon_component.rb --><svg aria-hidden="true" height="16" viewBox="0 0 16 16" version="1.1" width="16" data-view-component="true" class="octicon octicon-bold">
    <path fill-rule="evenodd" d="M4 2a1 1 0 00-1 1v10a1 1 0 001 1h5.5a3.5 3.5 0 001.852-6.47A3.5 3.5 0 008.5 2H4zm4.5 5a1.5 1.5 0 100-3H5v3h3.5zM5 9v3h4.5a1.5 1.5 0 000-3H5z"></path>
</svg><!-- END vendor/gems/2.7.1/ruby/2.7.0/gems/primer_view_components-0.0.51/app/components/primer/octicon_component.rb -->
          </md-bold>

          <md-italic tabindex="-1" class="toolbar-item tooltipped tooltipped-sw p-2 mx-1 js-modifier-label-key" aria-label="Add italic text <ctrl+i>" data-ga-click="Markdown Toolbar, click, italic">
            <!-- BEGIN vendor/gems/2.7.1/ruby/2.7.0/gems/primer_view_components-0.0.51/app/components/primer/octicon_component.rb --><svg aria-hidden="true" height="16" viewBox="0 0 16 16" version="1.1" width="16" data-view-component="true" class="octicon octicon-italic">
    <path fill-rule="evenodd" d="M6 2.75A.75.75 0 016.75 2h6.5a.75.75 0 010 1.5h-2.505l-3.858 9H9.25a.75.75 0 010 1.5h-6.5a.75.75 0 010-1.5h2.505l3.858-9H6.75A.75.75 0 016 2.75z"></path>
</svg><!-- END vendor/gems/2.7.1/ruby/2.7.0/gems/primer_view_components-0.0.51/app/components/primer/octicon_component.rb -->
          </md-italic>

          <md-unordered-list tabindex="-1" class="toolbar-item tooltipped tooltipped-sw p-2 mx-1" aria-label="Add a bulleted list" data-ga-click="Markdown Toolbar, click, unordered list">
            <!-- BEGIN vendor/gems/2.7.1/ruby/2.7.0/gems/primer_view_components-0.0.51/app/components/primer/octicon_component.rb --><svg aria-hidden="true" height="16" viewBox="0 0 16 16" version="1.1" width="16" data-view-component="true" class="octicon octicon-list-unordered">
    <path fill-rule="evenodd" d="M2 4a1 1 0 100-2 1 1 0 000 2zm3.75-1.5a.75.75 0 000 1.5h8.5a.75.75 0 000-1.5h-8.5zm0 5a.75.75 0 000 1.5h8.5a.75.75 0 000-1.5h-8.5zm0 5a.75.75 0 000 1.5h8.5a.75.75 0 000-1.5h-8.5zM3 8a1 1 0 11-2 0 1 1 0 012 0zm-1 6a1 1 0 100-2 1 1 0 000 2z"></path>
</svg><!-- END vendor/gems/2.7.1/ruby/2.7.0/gems/primer_view_components-0.0.51/app/components/primer/octicon_component.rb -->
          </md-unordered-list>

          <md-ordered-list tabindex="-1" class="toolbar-item tooltipped tooltipped-sw p-2 mx-1" aria-label="Add a numbered list" data-ga-click="Markdown Toolbar, click, ordered list">
            <!-- BEGIN vendor/gems/2.7.1/ruby/2.7.0/gems/primer_view_components-0.0.51/app/components/primer/octicon_component.rb --><svg aria-hidden="true" height="16" viewBox="0 0 16 16" version="1.1" width="16" data-view-component="true" class="octicon octicon-list-ordered">
    <path fill-rule="evenodd" d="M2.003 2.5a.5.5 0 00-.723-.447l-1.003.5a.5.5 0 00.446.895l.28-.14V6H.5a.5.5 0 000 1h2.006a.5.5 0 100-1h-.503V2.5zM5 3.25a.75.75 0 01.75-.75h8.5a.75.75 0 010 1.5h-8.5A.75.75 0 015 3.25zm0 5a.75.75 0 01.75-.75h8.5a.75.75 0 010 1.5h-8.5A.75.75 0 015 8.25zm0 5a.75.75 0 01.75-.75h8.5a.75.75 0 010 1.5h-8.5a.75.75 0 01-.75-.75zM.924 10.32l.003-.004a.851.851 0 01.144-.153A.66.66 0 011.5 10c.195 0 .306.068.374.146a.57.57 0 01.128.376c0 .453-.269.682-.8 1.078l-.035.025C.692 11.98 0 12.495 0 13.5a.5.5 0 00.5.5h2.003a.5.5 0 000-1H1.146c.132-.197.351-.372.654-.597l.047-.035c.47-.35 1.156-.858 1.156-1.845 0-.365-.118-.744-.377-1.038-.268-.303-.658-.484-1.126-.484-.48 0-.84.202-1.068.392a1.858 1.858 0 00-.348.384l-.007.011-.002.004-.001.002-.001.001a.5.5 0 00.851.525zM.5 10.055l-.427-.26.427.26z"></path>
</svg><!-- END vendor/gems/2.7.1/ruby/2.7.0/gems/primer_view_components-0.0.51/app/components/primer/octicon_component.rb -->
          </md-ordered-list>

          <md-task-list tabindex="-1" class="toolbar-item tooltipped tooltipped-sw p-2 mx-1" aria-label="Add a task list" data-ga-click="Markdown Toolbar, click, task list">
            <!-- BEGIN vendor/gems/2.7.1/ruby/2.7.0/gems/primer_view_components-0.0.51/app/components/primer/octicon_component.rb --><svg aria-hidden="true" height="16" viewBox="0 0 16 16" version="1.1" width="16" data-view-component="true" class="octicon octicon-tasklist">
    <path fill-rule="evenodd" d="M2.5 2.75a.25.25 0 01.25-.25h10.5a.25.25 0 01.25.25v10.5a.25.25 0 01-.25.25H2.75a.25.25 0 01-.25-.25V2.75zM2.75 1A1.75 1.75 0 001 2.75v10.5c0 .966.784 1.75 1.75 1.75h10.5A1.75 1.75 0 0015 13.25V2.75A1.75 1.75 0 0013.25 1H2.75zm9.03 5.28a.75.75 0 00-1.06-1.06L6.75 9.19 5.28 7.72a.75.75 0 00-1.06 1.06l2 2a.75.75 0 001.06 0l4.5-4.5z"></path>
</svg><!-- END vendor/gems/2.7.1/ruby/2.7.0/gems/primer_view_components-0.0.51/app/components/primer/octicon_component.rb -->
          </md-task-list>
        </div>
</markdown-toolbar>
  </div>

  <div class="comment-form-error js-comment-form-error" role="alert" hidden>
    There was an error creating your Commit.
  </div>


  <file-attachment class="js-upload-markdown-image is-default" input="fc-new_commit_comment_field" role="tabpanel" data-tab-container-no-tabstop="true" data-upload-repository-id="386533370" data-upload-policy-url="/upload/policies/assets"><input type="hidden" value="A8SO8gKHNq6KPUrS9furgD2aL05ogmYjWUr8vBzW8xqEmj5ByPzDPztToeMgnU/lDn3mcBOJ47AqfspZi+nmtw==" data-csrf="true" class="js-data-upload-policy-url-csrf" />
    <div class="write-content js-write-bucket tooltipped tooltipped-ne tooltipped-no-delay tooltipped-align-left-1 hide-reaction-suggestion upload-enabled mx-0 mt-2 mb-2 mx-md-2 hx_sm-hide-drag-drop js-reaction-suggestion" data-reaction-markup="Would you like to leave a reaction instead?">
        <input
          type="hidden"
          name="saved_reply_id"
          id="new_commit_comment_field_saved_reply_id"
          class="js-resettable-field"
          value=""
          data-reset-value=""
        >

      <text-expander
        keys=": @ #"
          data-issue-url="/suggestions/commit/3f3aa00e1cb7c24d92154106977a766106c2adc7?issue_suggester=1&amp;repository=SI-GuidedProject-4420-1626416812&amp;user_id=smartinternz02"
          data-mention-url="/suggestions/commit/3f3aa00e1cb7c24d92154106977a766106c2adc7?mention_suggester=1&amp;repository=SI-GuidedProject-4420-1626416812&amp;user_id=smartinternz02"
          multiword="#"
        data-emoji-url="/autocomplete/emoji"
      >
          
          <textarea name="comment[body]"
                    id="new_commit_comment_field"
                    
                    placeholder="Leave a comment"
                      aria-label="Comment body"
                    data-required-trimmed="Text field is empty"
                    class="form-control input-contrast comment-form-textarea js-comment-field js-paste-markdown js-task-list-field js-quick-submit js-size-to-fit js-session-resumable js-saved-reply-shortcut-comment-field"
                    required></textarea>

      </text-expander>
        
  <label class="text-normal drag-and-drop hx_drag-and-drop position-relative d-flex flex-justify-between">
    <input accept=".gif,.jpeg,.jpg,.mov,.mp4,.png,.csv,.docx,.fodg,.fodp,.fods,.fodt,.gz,.log,.md,.odf,.odg,.odp,.ods,.odt,.pdf,.pptx,.txt,.xls,.xlsx,.zip" type="file"
      multiple
      class="manual-file-chooser manual-file-chooser-transparent top-0 right-0 bottom-0 left-0 width-full ml-0 form-control rounded-top-0"
        id="fc-new_commit_comment_field"
      >
    <span class="color-bg-secondary position-absolute top-0 left-0 rounded-bottom-2 width-full height-full" style="pointer-events: none;"></span>
    <span class="position-relative pr-2" style="pointer-events: none;">
      <span class="default">
        Attach files by dragging &amp; dropping, selecting or pasting them.
      </span>
      <span class="loading">
        <svg style="box-sizing: content-box; color: var(--color-icon-primary);" width="16" height="16" viewBox="0 0 16 16" fill="none" data-view-component="true" class="v-align-text-bottom mr-1 anim-rotate">
  <circle cx="8" cy="8" r="7" stroke="currentColor" stroke-opacity="0.25" stroke-width="2" vector-effect="non-scaling-stroke" />
  <path d="M15 8a7.002 7.002 0 00-7-7" stroke="currentColor" stroke-width="2" stroke-linecap="round" vector-effect="non-scaling-stroke" />
</svg>
            <span class="js-file-upload-loading-text" data-file-upload-message="Uploading your files…">
              Uploading your files…
            </span>
      </span>
      <span class="error bad-file">
        We don’t support that file type.
        <span class="drag-and-drop-error-info">
          <span class="btn-link">Try again</span> with a
          GIF, JPEG, JPG, MOV, MP4, PNG, CSV, DOCX, FODG, FODP, FODS, FODT, GZ, LOG, MD, ODF, ODG, ODP, ODS, ODT, PDF, PPTX, TXT, XLS, XLSX or ZIP.
        </span>
      </span>
      <span class="error bad-permissions">
        Attaching documents requires write permission to this repository.
        <span class="drag-and-drop-error-info">
          <span class="btn-link">Try again</span> with a GIF, JPEG, JPG, MOV, MP4, PNG, CSV, DOCX, FODG, FODP, FODS, FODT, GZ, LOG, MD, ODF, ODG, ODP, ODS, ODT, PDF, PPTX, TXT, XLS, XLSX or ZIP.
        </span>
      </span>
      <span class="error repository-required">
        We don’t support that file type.
        <span class="drag-and-drop-error-info">
          <span class="btn-link">Try again</span> with a GIF, JPEG, JPG, MOV, MP4, PNG, CSV, DOCX, FODG, FODP, FODS, FODT, GZ, LOG, MD, ODF, ODG, ODP, ODS, ODT, PDF, PPTX, TXT, XLS, XLSX or ZIP.
        </span>
      </span>
      <span class="error too-big js-upload-too-big">
      </span>
      <span class="error empty">
        This file is empty.
        <span class="drag-and-drop-error-info">
          <span class="btn-link">Try again</span> with a file that’s not empty.
        </span>
      </span>
      <span class="error hidden-file">
        This file is hidden.
        <span class="drag-and-drop-error-info">
          <span class="btn-link">Try again</span> with another file.
        </span>
      </span>
      <span class="error failed-request">
        Something went really wrong, and we can’t process that file.
        <span class="drag-and-drop-error-info">
          <span class="btn-link">Try again.</span>
        </span>
      </span>
    </span>
    <span class="tooltipped tooltipped-nw" aria-label="Styling with Markdown is supported">
      <a
        class="Link--muted position-relative d-inline"
        href="https://guides.github.com/features/mastering-markdown/"
        target="_blank"
        data-ga-click="Markdown Toolbar, click, help"
        aria-label="Learn about styling with Markdown"
        
      >
        <svg aria-hidden="true" height="16" viewBox="0 0 16 16" version="1.1" width="16" data-view-component="true" class="octicon octicon-markdown v-align-bottom">
    <path fill-rule="evenodd" d="M14.85 3H1.15C.52 3 0 3.52 0 4.15v7.69C0 12.48.52 13 1.15 13h13.69c.64 0 1.15-.52 1.15-1.15v-7.7C16 3.52 15.48 3 14.85 3zM9 11H7V8L5.5 9.92 4 8v3H2V5h2l1.5 2L7 5h2v6zm2.99.5L9.5 8H11V5h2v3h1.5l-2.51 3.5z"></path>
</svg>
      </a>
    </span>
  </label>

    </div>
</file-attachment>
  <div
    role="tabpanel"
    class="js-preview-panel overflow-auto border-bottom mx-0 my-3 mx-md-2 mb-md-2"
    hidden
  >
    <input type="hidden" name="path" value="" class="js-path">
    <input type="hidden" name="line" value="" class="js-line-number">
    <input type="hidden" name="start_line" value="" class="js-start-line-number">
    <input type="hidden" name="preview_side" value="" class="js-side">
    <input type="hidden" name="preview_start_side" value="" class="js-start-side">
    <input type="hidden" name="start_commit_oid" value="" class="js-start-commit-oid">
    <input type="hidden" name="end_commit_oid" value="" class="js-end-commit-oid">
    <input type="hidden" name="base_commit_oid" value="" class="js-base-commit-oid">
    <input type="hidden" name="comment_id" value="" class="js-comment-id">
    <div class="comment js-suggested-changes-container" data-thread-side="">
  <div class="comment-body markdown-body js-preview-body" >
    <p>Nothing to preview</p>
  </div>
</div>

  </div>


  <div class="comment-form-error mb-2 js-comment-update-error" hidden></div>
</tab-container>


            <div class="form-actions pr-0 pr-md-2">
              <button data-disable-invalid="" data-disable-with="" type="submit" data-view-component="true" class="btn-primary btn">
  
  Comment on this commit
  

</button>
            </div>
      </div>
</form>
  </div>

</div>

  <div
  class="thread-subscription-status js-socket-channel js-updatable-content"
  data-replace-remote-form-target
  data-channel="eyJjIjoibGlzdC1zdWJzY3JpcHRpb246cmVwb3NpdG9yeTozODY1MzMzNzA6NzU3ODc0MjkiLCJ0IjoxNjI5Mjk5MzMyfQ==--c2cf296a9fcbe557d0afe6cd840b1e175caf1269d24834a7bb3b89244ea5e10c eyJjIjoidGhyZWFkLXN1YnNjcmlwdGlvbjozZjNhYTAwZTFjYjdjMjRkOTIxNTQxMDY5NzdhNzY2MTA2YzJhZGM3Ojc1Nzg3NDI5IiwidCI6MTYyOTI5OTMzMn0=--d665fbb70dbe3ded157c20c736453f954c14c89919372d1791e20f6f32afab49"
  data-url="/notifications/thread_subscription?repository_id=386533370&amp;thread_class=Commit&amp;thread_id=3f3aa00e1cb7c24d92154106977a766106c2adc7"
>
    <form data-replace-remote-form="true" class="thread-subscribe-form" action="/notifications/thread" accept-charset="UTF-8" method="post"><input type="hidden" name="authenticity_token" value="ZnHwSvH/omCKh7LLYjpDtXE/08ZCEqkWNqnWfFqcqbf6XACaVIzKIhqUHb3sOsP/c7ivqEFu1P8aT0NuT3DUYw==" />      <input type="hidden" name="repository_id" value="386533370">
      <input type="hidden" name="thread_id" value="3f3aa00e1cb7c24d92154106977a766106c2adc7">
      <input type="hidden" name="thread_class" value="Commit">
      <input type="hidden" name="id" value="subscribe">
      <button
        type="submit"
        class="btn btn-block btn-sm thread-subscribe-button"
        data-disable-with
      >
          <svg aria-hidden="true" height="16" viewBox="0 0 16 16" version="1.1" width="16" data-view-component="true" class="octicon octicon-bell">
    <path d="M8 16a2 2 0 001.985-1.75c.017-.137-.097-.25-.235-.25h-3.5c-.138 0-.252.113-.235.25A2 2 0 008 16z"></path><path fill-rule="evenodd" d="M8 1.5A3.5 3.5 0 004.5 5v2.947c0 .346-.102.683-.294.97l-1.703 2.556a.018.018 0 00-.003.01l.001.006c0 .002.002.004.004.006a.017.017 0 00.006.004l.007.001h10.964l.007-.001a.016.016 0 00.006-.004.016.016 0 00.004-.006l.001-.007a.017.017 0 00-.003-.01l-1.703-2.554a1.75 1.75 0 01-.294-.97V5A3.5 3.5 0 008 1.5zM3 5a5 5 0 0110 0v2.947c0 .05.015.098.042.139l1.703 2.555A1.518 1.518 0 0113.482 13H2.518a1.518 1.518 0 01-1.263-2.36l1.703-2.554A.25.25 0 003 7.947V5z"></path>
</svg> Subscribe
      </button>
</form>    <p class="reason text-small color-text-secondary">You’re not receiving notifications from this thread.</p>
</div>




  </div>
</div>

    </main>
  </div>

  </div>

          
<div class="footer container-xl width-full p-responsive" role="contentinfo">
  <div class="position-relative d-flex flex-row-reverse flex-lg-row flex-wrap flex-lg-nowrap flex-justify-center flex-lg-justify-between pt-6 pb-2 mt-6 f6 color-text-secondary border-top color-border-secondary ">
    <ul class="list-style-none d-flex flex-wrap col-12 col-lg-5 flex-justify-center flex-lg-justify-between mb-2 mb-lg-0">
      <li class="mr-3 mr-lg-0">&copy; 2021 GitHub, Inc.</li>
        <li class="mr-3 mr-lg-0"><a href="https://docs.github.com/en/github/site-policy/github-terms-of-service" data-hydro-click="{&quot;event_type&quot;:&quot;analytics.event&quot;,&quot;payload&quot;:{&quot;category&quot;:&quot;Footer&quot;,&quot;action&quot;:&quot;go to terms&quot;,&quot;label&quot;:&quot;text:terms&quot;,&quot;originating_url&quot;:&quot;https://github.com/smartinternz02/SI-GuidedProject-4420-1626416812/commit/3f3aa00e1cb7c24d92154106977a766106c2adc7&quot;,&quot;user_id&quot;:75787429}}" data-hydro-click-hmac="ce1ae58d1629b70393922e72102e856bb8d765feab05b62c2818c8b6162b20d3">Terms</a></li>
        <li class="mr-3 mr-lg-0"><a href="https://docs.github.com/en/github/site-policy/github-privacy-statement" data-hydro-click="{&quot;event_type&quot;:&quot;analytics.event&quot;,&quot;payload&quot;:{&quot;category&quot;:&quot;Footer&quot;,&quot;action&quot;:&quot;go to privacy&quot;,&quot;label&quot;:&quot;text:privacy&quot;,&quot;originating_url&quot;:&quot;https://github.com/smartinternz02/SI-GuidedProject-4420-1626416812/commit/3f3aa00e1cb7c24d92154106977a766106c2adc7&quot;,&quot;user_id&quot;:75787429}}" data-hydro-click-hmac="0c54e657603ba5dec48c492afc623c25b7e31fa0fe9b8d80b7bef740b2b915f5">Privacy</a></li>
        <li class="mr-3 mr-lg-0"><a data-hydro-click="{&quot;event_type&quot;:&quot;analytics.event&quot;,&quot;payload&quot;:{&quot;category&quot;:&quot;Footer&quot;,&quot;action&quot;:&quot;go to security&quot;,&quot;label&quot;:&quot;text:security&quot;,&quot;originating_url&quot;:&quot;https://github.com/smartinternz02/SI-GuidedProject-4420-1626416812/commit/3f3aa00e1cb7c24d92154106977a766106c2adc7&quot;,&quot;user_id&quot;:75787429}}" data-hydro-click-hmac="3fa30218a276c6508679c3361a07547617291f93eb3c8bea2bcad1a8f4711137" href="https://github.com/security">Security</a></li>
        <li class="mr-3 mr-lg-0"><a href="https://www.githubstatus.com/" data-hydro-click="{&quot;event_type&quot;:&quot;analytics.event&quot;,&quot;payload&quot;:{&quot;category&quot;:&quot;Footer&quot;,&quot;action&quot;:&quot;go to status&quot;,&quot;label&quot;:&quot;text:status&quot;,&quot;originating_url&quot;:&quot;https://github.com/smartinternz02/SI-GuidedProject-4420-1626416812/commit/3f3aa00e1cb7c24d92154106977a766106c2adc7&quot;,&quot;user_id&quot;:75787429}}" data-hydro-click-hmac="1ec7a92b06a4829d41009527f59acba2f5188083fcbb6329751d0236121f26a6">Status</a></li>
        <li><a data-ga-click="Footer, go to help, text:Docs" href="https://docs.github.com">Docs</a></li>
    </ul>

    <a aria-label="Homepage" title="GitHub" class="footer-octicon d-none d-lg-block mx-lg-4" href="https://github.com">
      <svg aria-hidden="true" height="24" viewBox="0 0 16 16" version="1.1" width="24" data-view-component="true" class="octicon octicon-mark-github">
    <path fill-rule="evenodd" d="M8 0C3.58 0 0 3.58 0 8c0 3.54 2.29 6.53 5.47 7.59.4.07.55-.17.55-.38 0-.19-.01-.82-.01-1.49-2.01.37-2.53-.49-2.69-.94-.09-.23-.48-.94-.82-1.13-.28-.15-.68-.52-.01-.53.63-.01 1.08.58 1.23.82.72 1.21 1.87.87 2.33.66.07-.52.28-.87.51-1.07-1.78-.2-3.64-.89-3.64-3.95 0-.87.31-1.59.82-2.15-.08-.2-.36-1.02.08-2.12 0 0 .67-.21 2.2.82.64-.18 1.32-.27 2-.27.68 0 1.36.09 2 .27 1.53-1.04 2.2-.82 2.2-.82.44 1.1.16 1.92.08 2.12.51.56.82 1.27.82 2.15 0 3.07-1.87 3.75-3.65 3.95.29.25.54.73.54 1.48 0 1.07-.01 1.93-.01 2.2 0 .21.15.46.55.38A8.013 8.013 0 0016 8c0-4.42-3.58-8-8-8z"></path>
</svg>
</a>
    <ul class="list-style-none d-flex flex-wrap col-12 col-lg-5 flex-justify-center flex-lg-justify-between mb-2 mb-lg-0">
        <li class="mr-3 mr-lg-0"><a href="https://support.github.com" data-hydro-click="{&quot;event_type&quot;:&quot;analytics.event&quot;,&quot;payload&quot;:{&quot;category&quot;:&quot;Footer&quot;,&quot;action&quot;:&quot;go to contact&quot;,&quot;label&quot;:&quot;text:contact&quot;,&quot;originating_url&quot;:&quot;https://github.com/smartinternz02/SI-GuidedProject-4420-1626416812/commit/3f3aa00e1cb7c24d92154106977a766106c2adc7&quot;,&quot;user_id&quot;:75787429}}" data-hydro-click-hmac="d322d69d039c99ce016d425b266beb875978d7da552e80ce83d3698d96a8aae6">Contact GitHub</a></li>
        <li class="mr-3 mr-lg-0"><a href="https://github.com/pricing" data-hydro-click="{&quot;event_type&quot;:&quot;analytics.event&quot;,&quot;payload&quot;:{&quot;category&quot;:&quot;Footer&quot;,&quot;action&quot;:&quot;go to Pricing&quot;,&quot;label&quot;:&quot;text:Pricing&quot;,&quot;originating_url&quot;:&quot;https://github.com/smartinternz02/SI-GuidedProject-4420-1626416812/commit/3f3aa00e1cb7c24d92154106977a766106c2adc7&quot;,&quot;user_id&quot;:75787429}}" data-hydro-click-hmac="fa63b70e843b6b99e95d6824df5b0697df564a244a5710e82467e909f6a24c4b">Pricing</a></li>
      <li class="mr-3 mr-lg-0"><a href="https://docs.github.com" data-hydro-click="{&quot;event_type&quot;:&quot;analytics.event&quot;,&quot;payload&quot;:{&quot;category&quot;:&quot;Footer&quot;,&quot;action&quot;:&quot;go to api&quot;,&quot;label&quot;:&quot;text:api&quot;,&quot;originating_url&quot;:&quot;https://github.com/smartinternz02/SI-GuidedProject-4420-1626416812/commit/3f3aa00e1cb7c24d92154106977a766106c2adc7&quot;,&quot;user_id&quot;:75787429}}" data-hydro-click-hmac="903023d684693d470bc4162902af41bcbb4c39bb6e00b1f012376fbebfcb2ab8">API</a></li>
      <li class="mr-3 mr-lg-0"><a href="https://services.github.com" data-hydro-click="{&quot;event_type&quot;:&quot;analytics.event&quot;,&quot;payload&quot;:{&quot;category&quot;:&quot;Footer&quot;,&quot;action&quot;:&quot;go to training&quot;,&quot;label&quot;:&quot;text:training&quot;,&quot;originating_url&quot;:&quot;https://github.com/smartinternz02/SI-GuidedProject-4420-1626416812/commit/3f3aa00e1cb7c24d92154106977a766106c2adc7&quot;,&quot;user_id&quot;:75787429}}" data-hydro-click-hmac="aa38c5de955a6da7cded85aad150cafb4d02dc6db4b309041a26a8cbc6533726">Training</a></li>
        <li class="mr-3 mr-lg-0"><a href="https://github.blog" data-hydro-click="{&quot;event_type&quot;:&quot;analytics.event&quot;,&quot;payload&quot;:{&quot;category&quot;:&quot;Footer&quot;,&quot;action&quot;:&quot;go to blog&quot;,&quot;label&quot;:&quot;text:blog&quot;,&quot;originating_url&quot;:&quot;https://github.com/smartinternz02/SI-GuidedProject-4420-1626416812/commit/3f3aa00e1cb7c24d92154106977a766106c2adc7&quot;,&quot;user_id&quot;:75787429}}" data-hydro-click-hmac="c6096c19d50e161d988a686c33e745c3511c858b72082b3fd63ad0a2badca5e3">Blog</a></li>
        <li><a data-ga-click="Footer, go to about, text:about" href="https://github.com/about">About</a></li>
    </ul>
  </div>
  <div class="d-flex flex-justify-center pb-6">
    <span class="f6 color-text-tertiary"></span>
  </div>

  
</div>



  <div id="ajax-error-message" class="ajax-error-message flash flash-error" hidden>
    <svg aria-hidden="true" height="16" viewBox="0 0 16 16" version="1.1" width="16" data-view-component="true" class="octicon octicon-alert">
    <path fill-rule="evenodd" d="M8.22 1.754a.25.25 0 00-.44 0L1.698 13.132a.25.25 0 00.22.368h12.164a.25.25 0 00.22-.368L8.22 1.754zm-1.763-.707c.659-1.234 2.427-1.234 3.086 0l6.082 11.378A1.75 1.75 0 0114.082 15H1.918a1.75 1.75 0 01-1.543-2.575L6.457 1.047zM9 11a1 1 0 11-2 0 1 1 0 012 0zm-.25-5.25a.75.75 0 00-1.5 0v2.5a.75.75 0 001.5 0v-2.5z"></path>
</svg>
    <button type="button" class="flash-close js-ajax-error-dismiss" aria-label="Dismiss error">
      <svg aria-hidden="true" height="16" viewBox="0 0 16 16" version="1.1" width="16" data-view-component="true" class="octicon octicon-x">
    <path fill-rule="evenodd" d="M3.72 3.72a.75.75 0 011.06 0L8 6.94l3.22-3.22a.75.75 0 111.06 1.06L9.06 8l3.22 3.22a.75.75 0 11-1.06 1.06L8 9.06l-3.22 3.22a.75.75 0 01-1.06-1.06L6.94 8 3.72 4.78a.75.75 0 010-1.06z"></path>
</svg>
    </button>
    You can’t perform that action at this time.
  </div>

  <div class="js-stale-session-flash flash flash-warn flash-banner" hidden
    >
    <svg aria-hidden="true" height="16" viewBox="0 0 16 16" version="1.1" width="16" data-view-component="true" class="octicon octicon-alert">
    <path fill-rule="evenodd" d="M8.22 1.754a.25.25 0 00-.44 0L1.698 13.132a.25.25 0 00.22.368h12.164a.25.25 0 00.22-.368L8.22 1.754zm-1.763-.707c.659-1.234 2.427-1.234 3.086 0l6.082 11.378A1.75 1.75 0 0114.082 15H1.918a1.75 1.75 0 01-1.543-2.575L6.457 1.047zM9 11a1 1 0 11-2 0 1 1 0 012 0zm-.25-5.25a.75.75 0 00-1.5 0v2.5a.75.75 0 001.5 0v-2.5z"></path>
</svg>
    <span class="js-stale-session-flash-signed-in" hidden>You signed in with another tab or window. <a href="">Reload</a> to refresh your session.</span>
    <span class="js-stale-session-flash-signed-out" hidden>You signed out in another tab or window. <a href="">Reload</a> to refresh your session.</span>
  </div>
    <template id="site-details-dialog">
  <details class="details-reset details-overlay details-overlay-dark lh-default color-text-primary hx_rsm" open>
    <summary role="button" aria-label="Close dialog"></summary>
    <details-dialog class="Box Box--overlay d-flex flex-column anim-fade-in fast hx_rsm-dialog hx_rsm-modal">
      <button class="Box-btn-octicon m-0 btn-octicon position-absolute right-0 top-0" type="button" aria-label="Close dialog" data-close-dialog>
        <svg aria-hidden="true" height="16" viewBox="0 0 16 16" version="1.1" width="16" data-view-component="true" class="octicon octicon-x">
    <path fill-rule="evenodd" d="M3.72 3.72a.75.75 0 011.06 0L8 6.94l3.22-3.22a.75.75 0 111.06 1.06L9.06 8l3.22 3.22a.75.75 0 11-1.06 1.06L8 9.06l-3.22 3.22a.75.75 0 01-1.06-1.06L6.94 8 3.72 4.78a.75.75 0 010-1.06z"></path>
</svg>
      </button>
      <div class="octocat-spinner my-6 js-details-dialog-spinner"></div>
    </details-dialog>
  </details>
</template>

    <div class="Popover js-hovercard-content position-absolute" style="display: none; outline: none;" tabindex="0">
  <div class="Popover-message Popover-message--bottom-left Popover-message--large Box color-shadow-large" style="width:360px;">
  </div>
</div>

    <template id="snippet-clipboard-copy-button">
  <div class="zeroclipboard-container position-absolute right-0 top-0">
    <clipboard-copy aria-label="Copy" class="ClipboardButton btn js-clipboard-copy m-2 p-0 tooltipped-no-delay" data-copy-feedback="Copied!" data-tooltip-direction="w">
      <svg aria-hidden="true" height="16" viewBox="0 0 16 16" version="1.1" width="16" data-view-component="true" class="octicon octicon-paste js-clipboard-clippy-icon m-2">
    <path fill-rule="evenodd" d="M5.75 1a.75.75 0 00-.75.75v3c0 .414.336.75.75.75h4.5a.75.75 0 00.75-.75v-3a.75.75 0 00-.75-.75h-4.5zm.75 3V2.5h3V4h-3zm-2.874-.467a.75.75 0 00-.752-1.298A1.75 1.75 0 002 3.75v9.5c0 .966.784 1.75 1.75 1.75h8.5A1.75 1.75 0 0014 13.25v-9.5a1.75 1.75 0 00-.874-1.515.75.75 0 10-.752 1.298.25.25 0 01.126.217v9.5a.25.25 0 01-.25.25h-8.5a.25.25 0 01-.25-.25v-9.5a.25.25 0 01.126-.217z"></path>
</svg>
      <svg aria-hidden="true" height="16" viewBox="0 0 16 16" version="1.1" width="16" data-view-component="true" class="octicon octicon-check js-clipboard-check-icon color-text-success d-none m-2">
    <path fill-rule="evenodd" d="M13.78 4.22a.75.75 0 010 1.06l-7.25 7.25a.75.75 0 01-1.06 0L2.22 9.28a.75.75 0 011.06-1.06L6 10.94l6.72-6.72a.75.75 0 011.06 0z"></path>
</svg>
    </clipboard-copy>
  </div>
</template>



  

  </body>
</html>

